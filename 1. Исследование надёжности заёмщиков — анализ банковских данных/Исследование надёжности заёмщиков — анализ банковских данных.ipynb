{
 "cells": [
  {
   "cell_type": "markdown",
   "metadata": {},
   "source": [
    "# Исследование надёжности заёмщиков\n",
    "\n",
    "Заказчик — кредитный отдел банка. Разберемся, влияет ли семейное положение и количество детей клиента на факт погашения кредита в срок. Входные данные от банка — статистика о платёжеспособности клиентов.\n",
    "\n",
    "Результаты исследования будут учтены при построении модели **кредитного скоринга** — специальной системы, которая оценивает способность потенциального заёмщика вернуть кредит банку.\n",
    "\n",
    "**Цель исследования** — ответить на четыре вопроса:\n",
    "1. Есть ли зависимость между наличием детей и возвратом кредита в срок?\n",
    "2. Есть ли зависимость между семейным положением и возвратом кредита в срок?\n",
    "3. Есть ли зависимость между уровнем дохода и возвратом кредита в срок?\n",
    "4. Как разные цели кредита влияют на его возврат в срок?\n",
    "\n",
    "**Ход исследования**\n",
    "\n",
    "Данные о платежеспособности клиентов получим из файла `data.csv`. Нам понадобится обзор данных перед проверкой гипотез, так как об их качестве сейчас нет информации. Мы проверим данные на наличие ошибок и не только, а на этапе предобработки поищем возможность все исправить. Затем сделаем вывод по исследованию. \n",
    " \n",
    "Таким образом, исследование пройдёт в четыре шага:\n",
    " 1. Обзор данных.\n",
    " 2. Предобработка данных.\n",
    " 3. Ответы на вопросы.\n",
    " 4. Общий вывод."
   ]
  },
  {
   "cell_type": "markdown",
   "metadata": {},
   "source": [
    "## Шаг 1. Обзор данных"
   ]
  },
  {
   "cell_type": "markdown",
   "metadata": {},
   "source": [
    "Импортируем библиотеку `pandas` и сохраним ее в сокращенном варианте `pd`. Затем прочитаем файл `data.csv` из папки `/datasets`, сохранив его в переменной `customers`:"
   ]
  },
  {
   "cell_type": "code",
   "execution_count": 1,
   "metadata": {},
   "outputs": [],
   "source": [
    "import pandas as pd\n",
    "customers = pd.read_csv('/datasets/data.csv')"
   ]
  },
  {
   "cell_type": "markdown",
   "metadata": {},
   "source": [
    "Выведем на экран первые пятнадцать строк таблицы:"
   ]
  },
  {
   "cell_type": "code",
   "execution_count": 2,
   "metadata": {
    "scrolled": false
   },
   "outputs": [
    {
     "data": {
      "text/html": [
       "<div>\n",
       "<style scoped>\n",
       "    .dataframe tbody tr th:only-of-type {\n",
       "        vertical-align: middle;\n",
       "    }\n",
       "\n",
       "    .dataframe tbody tr th {\n",
       "        vertical-align: top;\n",
       "    }\n",
       "\n",
       "    .dataframe thead th {\n",
       "        text-align: right;\n",
       "    }\n",
       "</style>\n",
       "<table border=\"1\" class=\"dataframe\">\n",
       "  <thead>\n",
       "    <tr style=\"text-align: right;\">\n",
       "      <th></th>\n",
       "      <th>children</th>\n",
       "      <th>days_employed</th>\n",
       "      <th>dob_years</th>\n",
       "      <th>education</th>\n",
       "      <th>education_id</th>\n",
       "      <th>family_status</th>\n",
       "      <th>family_status_id</th>\n",
       "      <th>gender</th>\n",
       "      <th>income_type</th>\n",
       "      <th>debt</th>\n",
       "      <th>total_income</th>\n",
       "      <th>purpose</th>\n",
       "    </tr>\n",
       "  </thead>\n",
       "  <tbody>\n",
       "    <tr>\n",
       "      <td>0</td>\n",
       "      <td>1</td>\n",
       "      <td>-8437.673028</td>\n",
       "      <td>42</td>\n",
       "      <td>высшее</td>\n",
       "      <td>0</td>\n",
       "      <td>женат / замужем</td>\n",
       "      <td>0</td>\n",
       "      <td>F</td>\n",
       "      <td>сотрудник</td>\n",
       "      <td>0</td>\n",
       "      <td>253875.639453</td>\n",
       "      <td>покупка жилья</td>\n",
       "    </tr>\n",
       "    <tr>\n",
       "      <td>1</td>\n",
       "      <td>1</td>\n",
       "      <td>-4024.803754</td>\n",
       "      <td>36</td>\n",
       "      <td>среднее</td>\n",
       "      <td>1</td>\n",
       "      <td>женат / замужем</td>\n",
       "      <td>0</td>\n",
       "      <td>F</td>\n",
       "      <td>сотрудник</td>\n",
       "      <td>0</td>\n",
       "      <td>112080.014102</td>\n",
       "      <td>приобретение автомобиля</td>\n",
       "    </tr>\n",
       "    <tr>\n",
       "      <td>2</td>\n",
       "      <td>0</td>\n",
       "      <td>-5623.422610</td>\n",
       "      <td>33</td>\n",
       "      <td>Среднее</td>\n",
       "      <td>1</td>\n",
       "      <td>женат / замужем</td>\n",
       "      <td>0</td>\n",
       "      <td>M</td>\n",
       "      <td>сотрудник</td>\n",
       "      <td>0</td>\n",
       "      <td>145885.952297</td>\n",
       "      <td>покупка жилья</td>\n",
       "    </tr>\n",
       "    <tr>\n",
       "      <td>3</td>\n",
       "      <td>3</td>\n",
       "      <td>-4124.747207</td>\n",
       "      <td>32</td>\n",
       "      <td>среднее</td>\n",
       "      <td>1</td>\n",
       "      <td>женат / замужем</td>\n",
       "      <td>0</td>\n",
       "      <td>M</td>\n",
       "      <td>сотрудник</td>\n",
       "      <td>0</td>\n",
       "      <td>267628.550329</td>\n",
       "      <td>дополнительное образование</td>\n",
       "    </tr>\n",
       "    <tr>\n",
       "      <td>4</td>\n",
       "      <td>0</td>\n",
       "      <td>340266.072047</td>\n",
       "      <td>53</td>\n",
       "      <td>среднее</td>\n",
       "      <td>1</td>\n",
       "      <td>гражданский брак</td>\n",
       "      <td>1</td>\n",
       "      <td>F</td>\n",
       "      <td>пенсионер</td>\n",
       "      <td>0</td>\n",
       "      <td>158616.077870</td>\n",
       "      <td>сыграть свадьбу</td>\n",
       "    </tr>\n",
       "    <tr>\n",
       "      <td>5</td>\n",
       "      <td>0</td>\n",
       "      <td>-926.185831</td>\n",
       "      <td>27</td>\n",
       "      <td>высшее</td>\n",
       "      <td>0</td>\n",
       "      <td>гражданский брак</td>\n",
       "      <td>1</td>\n",
       "      <td>M</td>\n",
       "      <td>компаньон</td>\n",
       "      <td>0</td>\n",
       "      <td>255763.565419</td>\n",
       "      <td>покупка жилья</td>\n",
       "    </tr>\n",
       "    <tr>\n",
       "      <td>6</td>\n",
       "      <td>0</td>\n",
       "      <td>-2879.202052</td>\n",
       "      <td>43</td>\n",
       "      <td>высшее</td>\n",
       "      <td>0</td>\n",
       "      <td>женат / замужем</td>\n",
       "      <td>0</td>\n",
       "      <td>F</td>\n",
       "      <td>компаньон</td>\n",
       "      <td>0</td>\n",
       "      <td>240525.971920</td>\n",
       "      <td>операции с жильем</td>\n",
       "    </tr>\n",
       "    <tr>\n",
       "      <td>7</td>\n",
       "      <td>0</td>\n",
       "      <td>-152.779569</td>\n",
       "      <td>50</td>\n",
       "      <td>СРЕДНЕЕ</td>\n",
       "      <td>1</td>\n",
       "      <td>женат / замужем</td>\n",
       "      <td>0</td>\n",
       "      <td>M</td>\n",
       "      <td>сотрудник</td>\n",
       "      <td>0</td>\n",
       "      <td>135823.934197</td>\n",
       "      <td>образование</td>\n",
       "    </tr>\n",
       "    <tr>\n",
       "      <td>8</td>\n",
       "      <td>2</td>\n",
       "      <td>-6929.865299</td>\n",
       "      <td>35</td>\n",
       "      <td>ВЫСШЕЕ</td>\n",
       "      <td>0</td>\n",
       "      <td>гражданский брак</td>\n",
       "      <td>1</td>\n",
       "      <td>F</td>\n",
       "      <td>сотрудник</td>\n",
       "      <td>0</td>\n",
       "      <td>95856.832424</td>\n",
       "      <td>на проведение свадьбы</td>\n",
       "    </tr>\n",
       "    <tr>\n",
       "      <td>9</td>\n",
       "      <td>0</td>\n",
       "      <td>-2188.756445</td>\n",
       "      <td>41</td>\n",
       "      <td>среднее</td>\n",
       "      <td>1</td>\n",
       "      <td>женат / замужем</td>\n",
       "      <td>0</td>\n",
       "      <td>M</td>\n",
       "      <td>сотрудник</td>\n",
       "      <td>0</td>\n",
       "      <td>144425.938277</td>\n",
       "      <td>покупка жилья для семьи</td>\n",
       "    </tr>\n",
       "    <tr>\n",
       "      <td>10</td>\n",
       "      <td>2</td>\n",
       "      <td>-4171.483647</td>\n",
       "      <td>36</td>\n",
       "      <td>высшее</td>\n",
       "      <td>0</td>\n",
       "      <td>женат / замужем</td>\n",
       "      <td>0</td>\n",
       "      <td>M</td>\n",
       "      <td>компаньон</td>\n",
       "      <td>0</td>\n",
       "      <td>113943.491460</td>\n",
       "      <td>покупка недвижимости</td>\n",
       "    </tr>\n",
       "    <tr>\n",
       "      <td>11</td>\n",
       "      <td>0</td>\n",
       "      <td>-792.701887</td>\n",
       "      <td>40</td>\n",
       "      <td>среднее</td>\n",
       "      <td>1</td>\n",
       "      <td>женат / замужем</td>\n",
       "      <td>0</td>\n",
       "      <td>F</td>\n",
       "      <td>сотрудник</td>\n",
       "      <td>0</td>\n",
       "      <td>77069.234271</td>\n",
       "      <td>покупка коммерческой недвижимости</td>\n",
       "    </tr>\n",
       "    <tr>\n",
       "      <td>12</td>\n",
       "      <td>0</td>\n",
       "      <td>NaN</td>\n",
       "      <td>65</td>\n",
       "      <td>среднее</td>\n",
       "      <td>1</td>\n",
       "      <td>гражданский брак</td>\n",
       "      <td>1</td>\n",
       "      <td>M</td>\n",
       "      <td>пенсионер</td>\n",
       "      <td>0</td>\n",
       "      <td>NaN</td>\n",
       "      <td>сыграть свадьбу</td>\n",
       "    </tr>\n",
       "    <tr>\n",
       "      <td>13</td>\n",
       "      <td>0</td>\n",
       "      <td>-1846.641941</td>\n",
       "      <td>54</td>\n",
       "      <td>неоконченное высшее</td>\n",
       "      <td>2</td>\n",
       "      <td>женат / замужем</td>\n",
       "      <td>0</td>\n",
       "      <td>F</td>\n",
       "      <td>сотрудник</td>\n",
       "      <td>0</td>\n",
       "      <td>130458.228857</td>\n",
       "      <td>приобретение автомобиля</td>\n",
       "    </tr>\n",
       "    <tr>\n",
       "      <td>14</td>\n",
       "      <td>0</td>\n",
       "      <td>-1844.956182</td>\n",
       "      <td>56</td>\n",
       "      <td>высшее</td>\n",
       "      <td>0</td>\n",
       "      <td>гражданский брак</td>\n",
       "      <td>1</td>\n",
       "      <td>F</td>\n",
       "      <td>компаньон</td>\n",
       "      <td>1</td>\n",
       "      <td>165127.911772</td>\n",
       "      <td>покупка жилой недвижимости</td>\n",
       "    </tr>\n",
       "  </tbody>\n",
       "</table>\n",
       "</div>"
      ],
      "text/plain": [
       "    children  days_employed  dob_years            education  education_id  \\\n",
       "0          1   -8437.673028         42               высшее             0   \n",
       "1          1   -4024.803754         36              среднее             1   \n",
       "2          0   -5623.422610         33              Среднее             1   \n",
       "3          3   -4124.747207         32              среднее             1   \n",
       "4          0  340266.072047         53              среднее             1   \n",
       "5          0    -926.185831         27               высшее             0   \n",
       "6          0   -2879.202052         43               высшее             0   \n",
       "7          0    -152.779569         50              СРЕДНЕЕ             1   \n",
       "8          2   -6929.865299         35               ВЫСШЕЕ             0   \n",
       "9          0   -2188.756445         41              среднее             1   \n",
       "10         2   -4171.483647         36               высшее             0   \n",
       "11         0    -792.701887         40              среднее             1   \n",
       "12         0            NaN         65              среднее             1   \n",
       "13         0   -1846.641941         54  неоконченное высшее             2   \n",
       "14         0   -1844.956182         56               высшее             0   \n",
       "\n",
       "       family_status  family_status_id gender income_type  debt  \\\n",
       "0    женат / замужем                 0      F   сотрудник     0   \n",
       "1    женат / замужем                 0      F   сотрудник     0   \n",
       "2    женат / замужем                 0      M   сотрудник     0   \n",
       "3    женат / замужем                 0      M   сотрудник     0   \n",
       "4   гражданский брак                 1      F   пенсионер     0   \n",
       "5   гражданский брак                 1      M   компаньон     0   \n",
       "6    женат / замужем                 0      F   компаньон     0   \n",
       "7    женат / замужем                 0      M   сотрудник     0   \n",
       "8   гражданский брак                 1      F   сотрудник     0   \n",
       "9    женат / замужем                 0      M   сотрудник     0   \n",
       "10   женат / замужем                 0      M   компаньон     0   \n",
       "11   женат / замужем                 0      F   сотрудник     0   \n",
       "12  гражданский брак                 1      M   пенсионер     0   \n",
       "13   женат / замужем                 0      F   сотрудник     0   \n",
       "14  гражданский брак                 1      F   компаньон     1   \n",
       "\n",
       "     total_income                            purpose  \n",
       "0   253875.639453                      покупка жилья  \n",
       "1   112080.014102            приобретение автомобиля  \n",
       "2   145885.952297                      покупка жилья  \n",
       "3   267628.550329         дополнительное образование  \n",
       "4   158616.077870                    сыграть свадьбу  \n",
       "5   255763.565419                      покупка жилья  \n",
       "6   240525.971920                  операции с жильем  \n",
       "7   135823.934197                        образование  \n",
       "8    95856.832424              на проведение свадьбы  \n",
       "9   144425.938277            покупка жилья для семьи  \n",
       "10  113943.491460               покупка недвижимости  \n",
       "11   77069.234271  покупка коммерческой недвижимости  \n",
       "12            NaN                    сыграть свадьбу  \n",
       "13  130458.228857            приобретение автомобиля  \n",
       "14  165127.911772         покупка жилой недвижимости  "
      ]
     },
     "metadata": {},
     "output_type": "display_data"
    }
   ],
   "source": [
    "display(customers.head(15))"
   ]
  },
  {
   "cell_type": "markdown",
   "metadata": {},
   "source": [
    "И дополнительно познакомимся с данными таблицы при помощи вызова `info()`:"
   ]
  },
  {
   "cell_type": "code",
   "execution_count": 3,
   "metadata": {
    "scrolled": true
   },
   "outputs": [
    {
     "name": "stdout",
     "output_type": "stream",
     "text": [
      "<class 'pandas.core.frame.DataFrame'>\n",
      "RangeIndex: 21525 entries, 0 to 21524\n",
      "Data columns (total 12 columns):\n",
      "children            21525 non-null int64\n",
      "days_employed       19351 non-null float64\n",
      "dob_years           21525 non-null int64\n",
      "education           21525 non-null object\n",
      "education_id        21525 non-null int64\n",
      "family_status       21525 non-null object\n",
      "family_status_id    21525 non-null int64\n",
      "gender              21525 non-null object\n",
      "income_type         21525 non-null object\n",
      "debt                21525 non-null int64\n",
      "total_income        19351 non-null float64\n",
      "purpose             21525 non-null object\n",
      "dtypes: float64(2), int64(5), object(5)\n",
      "memory usage: 2.0+ MB\n"
     ]
    }
   ],
   "source": [
    "customers.info()"
   ]
  },
  {
   "cell_type": "markdown",
   "metadata": {},
   "source": [
    "Всего в таблице 12 столбцов. Тип данных при этом различается. Есть `float`, `int` и `object`. Согласно документации к данным:\n",
    "- `children` — количество детей в семье\n",
    "- `days_employed` — общий трудовой стаж в днях\n",
    "- `dob_years` — возраст клиента в годах\n",
    "- `education` — уровень образования клиента\n",
    "- `education_id` — идентификатор уровня образования\n",
    "- `family_status` — семейное положение\n",
    "- `family_status_id` — идентификатор семейного положения\n",
    "- `gender` — пол клиента\n",
    "- `income_type` — тип занятости\n",
    "- `debt` — имел ли задолженность по возврату кредитов\n",
    "- `total_income` — ежемесячный доход\n",
    "- `purpose` — цель получения кредита\n",
    "\n",
    "В названиях колонок не видно нарушений стиля, поэтому что-либо корректировать в них не будем. Везде соблюден «змеиный_регистр». Однако количество значений в столбцах различается. Значит, в данных есть пропущенные значения. В столбце `education` категории нужно свести к нижнему регистру, чтобы результаты анализа не искажались. Еще в столбце `days_employed` какие-то аномальные значения с отрицательным количеством дней трудового стажа. Необходимо будет привести эти данные к должному виду. "
   ]
  },
  {
   "cell_type": "markdown",
   "metadata": {},
   "source": [
    "**Вывод**\n",
    "\n",
    "В каждой строке таблицы — данные о потенциальном заёмщике. Большинство колонок описывает именно самого заёмщика, лишь в последнем речь о цели получения кредита. \n",
    "\n",
    "Предварительно можем утверждать, что данных достаточно для ответов на вопросы, однако есть пропуски в данных и нужно проверить соответстсвие типа данных с данными в столбце. Устраним эти недочеты, попробуем применить другие фишки для предобработки данных и потом будем двигаться дальше. "
   ]
  },
  {
   "cell_type": "markdown",
   "metadata": {},
   "source": [
    "## Шаг 2. Предобработка данных\n",
    "\n",
    "Исключим пропущенные значения, заменим тип данных в столбцах и обработаем дубликаты. Затем применим категоризацию данных. "
   ]
  },
  {
   "cell_type": "markdown",
   "metadata": {},
   "source": [
    "### 2.1 Обработка пропусков"
   ]
  },
  {
   "cell_type": "markdown",
   "metadata": {},
   "source": [
    "Посчитаем, сколько в таблице пропущенных значений:"
   ]
  },
  {
   "cell_type": "code",
   "execution_count": 4,
   "metadata": {
    "scrolled": false
   },
   "outputs": [
    {
     "data": {
      "text/plain": [
       "children               0\n",
       "days_employed       2174\n",
       "dob_years              0\n",
       "education              0\n",
       "education_id           0\n",
       "family_status          0\n",
       "family_status_id       0\n",
       "gender                 0\n",
       "income_type            0\n",
       "debt                   0\n",
       "total_income        2174\n",
       "purpose                0\n",
       "dtype: int64"
      ]
     },
     "execution_count": 4,
     "metadata": {},
     "output_type": "execute_result"
    }
   ],
   "source": [
    "# подсчёт пропусков\n",
    "customers.isna().sum()"
   ]
  },
  {
   "cell_type": "markdown",
   "metadata": {},
   "source": [
    "Не все пропуски повлияют на исследование. В `days_employed` общий трудовой стаж в днях, который не важен для нашей работы, поэтому достаточно заменить эти пропуски на явные обозначения. Однако пропуски в `total_income` повлияют, так как для ответа на один из вопросов нужны данные по доходу заёмщика. Придется заполнить эти пропуски. Если в пропущенных значениях `days_employed` позволительно указать явные обозначения, то в случае с `total_income` придется указывать медиану дохода с группировкой по типу занятости. "
   ]
  },
  {
   "cell_type": "markdown",
   "metadata": {},
   "source": [
    "Сначала сразу приведем столбец `days_employed` в нормальный вид, так как сейчас там наблюдаются отрицательные и аномальные значения. Учитывая, что есть и нормальные значения, скорее всего речь идет о получении данных из разных источников, где значения были приведены в разных величинах. Приведем данные к положительным значениям и поделим их на 24, так как предположительно они указаны в часах. "
   ]
  },
  {
   "cell_type": "code",
   "execution_count": 5,
   "metadata": {},
   "outputs": [],
   "source": [
    "#метод apply возьмет значения по модулю\n",
    "customers['days_employed'] = customers['days_employed'].apply(abs)\n",
    "#определим предположительную границу того, что переводим в часы, а что нет, и затем нужное делим на 24\n",
    "customers.loc[customers['days_employed'] >\n",
    "              30000, 'days_employed'] = customers.loc[customers['days_employed'] >\n",
    "                                                      30000, 'days_employed'] / 24"
   ]
  },
  {
   "cell_type": "markdown",
   "metadata": {},
   "source": [
    "Выясним, в одинаковых ли строках пропущены значения по обоим столбцам:"
   ]
  },
  {
   "cell_type": "code",
   "execution_count": 6,
   "metadata": {
    "scrolled": false
   },
   "outputs": [
    {
     "data": {
      "text/plain": [
       "children            2174\n",
       "days_employed          0\n",
       "dob_years           2174\n",
       "education           2174\n",
       "education_id        2174\n",
       "family_status       2174\n",
       "family_status_id    2174\n",
       "gender              2174\n",
       "income_type         2174\n",
       "debt                2174\n",
       "total_income           0\n",
       "purpose             2174\n",
       "dtype: int64"
      ]
     },
     "execution_count": 6,
     "metadata": {},
     "output_type": "execute_result"
    }
   ],
   "source": [
    "customers[(customers['total_income'].isnull() == True) & (customers['days_employed'].isnull() == True)].count()"
   ]
  },
  {
   "cell_type": "markdown",
   "metadata": {},
   "source": [
    "Получается, что в обоих столбцах пропущены значения только в одинаковых строках. Для начала найдем среднее значение стажа и заполним им пропуски в столбце `days_employed`:\n"
   ]
  },
  {
   "cell_type": "code",
   "execution_count": 7,
   "metadata": {},
   "outputs": [],
   "source": [
    "days_employed_mean = customers['days_employed'].mean()\n",
    "customers['days_employed'] = customers['days_employed'].fillna(days_employed_mean)"
   ]
  },
  {
   "cell_type": "markdown",
   "metadata": {},
   "source": [
    "В случае с доходами простой медианы будет недостаточно, так как доходы скорее всего зависят от уровня образования клиентов. Возьмем зависимость доходов от уровня образования по столбцу `education_id` и заполним пропуски с группировкой:"
   ]
  },
  {
   "cell_type": "code",
   "execution_count": 8,
   "metadata": {},
   "outputs": [],
   "source": [
    "for education_id in customers['education_id'].unique():\n",
    "    median = customers.loc[customers['education_id'] == education_id, 'total_income'].median()\n",
    "    customers.loc[(customers['total_income'].isna()) &\n",
    "                  (customers['education_id'] == education_id), 'total_income'] = median"
   ]
  },
  {
   "cell_type": "markdown",
   "metadata": {},
   "source": [
    "Убедимся, что в данных отсутствуют пропуски:"
   ]
  },
  {
   "cell_type": "code",
   "execution_count": 9,
   "metadata": {
    "scrolled": false
   },
   "outputs": [
    {
     "data": {
      "text/plain": [
       "children            0\n",
       "days_employed       0\n",
       "dob_years           0\n",
       "education           0\n",
       "education_id        0\n",
       "family_status       0\n",
       "family_status_id    0\n",
       "gender              0\n",
       "income_type         0\n",
       "debt                0\n",
       "total_income        0\n",
       "purpose             0\n",
       "dtype: int64"
      ]
     },
     "execution_count": 9,
     "metadata": {},
     "output_type": "execute_result"
    }
   ],
   "source": [
    "customers.isna().sum()"
   ]
  },
  {
   "cell_type": "markdown",
   "metadata": {},
   "source": [
    "**Вывод**\n",
    "\n",
    "В стаже отрицательные значения привели к положительным и поделили на 24, приведя их к нормальному виду. Пропуски заменили на среднее и медианное значение, где это требовалось. Возможно, что пропущенные значения образовались в результате какого-то сбоя при выгрузке данных, либо из-за человеческого фактора. "
   ]
  },
  {
   "cell_type": "markdown",
   "metadata": {},
   "source": [
    "### 2.2 Замена типа данных"
   ]
  },
  {
   "cell_type": "markdown",
   "metadata": {},
   "source": [
    "В столбцах `days_employed` и `total_income` тип данных `float`, заменим его на `int`, чтобы получить целые числа:"
   ]
  },
  {
   "cell_type": "code",
   "execution_count": 10,
   "metadata": {},
   "outputs": [],
   "source": [
    "customers['days_employed'] = customers['days_employed'].astype('int')\n",
    "customers['total_income'] = customers['total_income'].astype('int')"
   ]
  },
  {
   "cell_type": "markdown",
   "metadata": {},
   "source": [
    "И убедимся в том, что тип данных успешно изменен:"
   ]
  },
  {
   "cell_type": "code",
   "execution_count": 11,
   "metadata": {
    "scrolled": false
   },
   "outputs": [
    {
     "data": {
      "text/plain": [
       "children             int64\n",
       "days_employed        int64\n",
       "dob_years            int64\n",
       "education           object\n",
       "education_id         int64\n",
       "family_status       object\n",
       "family_status_id     int64\n",
       "gender              object\n",
       "income_type         object\n",
       "debt                 int64\n",
       "total_income         int64\n",
       "purpose             object\n",
       "dtype: object"
      ]
     },
     "execution_count": 11,
     "metadata": {},
     "output_type": "execute_result"
    }
   ],
   "source": [
    "customers.dtypes"
   ]
  },
  {
   "cell_type": "markdown",
   "metadata": {},
   "source": [
    "**Вывод**\n",
    "\n",
    "Метод `to_numeric()` в этом случае не сработает, так как значения в столбцах уже в числовом формате, поэтому для изменения типа данных используем метод `astype()` с аргументом `int`."
   ]
  },
  {
   "cell_type": "markdown",
   "metadata": {},
   "source": [
    "### 2.3 Обработка дубликатов"
   ]
  },
  {
   "cell_type": "markdown",
   "metadata": {},
   "source": [
    "Для начала избавимся от неявных дубликатов в колонке `education`. Значение образования указано разными регистрами. Это может повлиять на результаты исследования в том случае, если начать другое исследование, с вопросом о том, влияет ли уровень образования на возврат кредита в срок. Сейчас мы просто приведем значения в нормальный вид. Поиск неявных дубликатов всегда начинают с метода `unique()`, на нем и остановимся. "
   ]
  },
  {
   "cell_type": "code",
   "execution_count": 12,
   "metadata": {
    "scrolled": true
   },
   "outputs": [
    {
     "data": {
      "text/plain": [
       "['ВЫСШЕЕ',\n",
       " 'Высшее',\n",
       " 'НАЧАЛЬНОЕ',\n",
       " 'НЕОКОНЧЕННОЕ ВЫСШЕЕ',\n",
       " 'Начальное',\n",
       " 'Неоконченное высшее',\n",
       " 'СРЕДНЕЕ',\n",
       " 'Среднее',\n",
       " 'УЧЕНАЯ СТЕПЕНЬ',\n",
       " 'Ученая степень',\n",
       " 'высшее',\n",
       " 'начальное',\n",
       " 'неоконченное высшее',\n",
       " 'среднее',\n",
       " 'ученая степень']"
      ]
     },
     "execution_count": 12,
     "metadata": {},
     "output_type": "execute_result"
    }
   ],
   "source": [
    "# просмотр уникальных названий уровня образования\n",
    "sorted(customers['education'].unique())"
   ]
  },
  {
   "cell_type": "markdown",
   "metadata": {},
   "source": [
    "Все неявные дубликаты можно исправить одним методом `lower()`, так как лишних пробелов или ошибок в самих названиях нет, соответственно достаточно установить единый регистр для всех значений:"
   ]
  },
  {
   "cell_type": "code",
   "execution_count": 13,
   "metadata": {},
   "outputs": [],
   "source": [
    "customers['education'] = customers['education'].str.lower()"
   ]
  },
  {
   "cell_type": "markdown",
   "metadata": {},
   "source": [
    "Еще раз проверим уникальные названия, чтобы убедиться в отсутствии неявных дубликатов столбца `education`:"
   ]
  },
  {
   "cell_type": "code",
   "execution_count": 14,
   "metadata": {},
   "outputs": [
    {
     "data": {
      "text/plain": [
       "['высшее', 'начальное', 'неоконченное высшее', 'среднее', 'ученая степень']"
      ]
     },
     "execution_count": 14,
     "metadata": {},
     "output_type": "execute_result"
    }
   ],
   "source": [
    "sorted(customers['education'].unique())"
   ]
  },
  {
   "cell_type": "markdown",
   "metadata": {},
   "source": [
    "Теперь посчитаем количество явных дубликатов. В этом нам поможет специальный метод `duplicated()`. Он возвращает Series со значением True для строк-дубликатов, а чтобы посчитать такие строки, результат метода передают функции `sum()`. "
   ]
  },
  {
   "cell_type": "code",
   "execution_count": 15,
   "metadata": {},
   "outputs": [
    {
     "data": {
      "text/plain": [
       "71"
      ]
     },
     "execution_count": 15,
     "metadata": {},
     "output_type": "execute_result"
    }
   ],
   "source": [
    "# подсчёт явных дубликатов\n",
    "customers.duplicated().sum()"
   ]
  },
  {
   "cell_type": "markdown",
   "metadata": {},
   "source": [
    "Вызовем специальный метод `pandas`, чтобы удалить явные дубликаты. Речь о `drop_duplicates()`, только он сможет нам сейчас помочь:"
   ]
  },
  {
   "cell_type": "code",
   "execution_count": 16,
   "metadata": {},
   "outputs": [],
   "source": [
    "# удаление явных дубликатов (с удалением старых индексов и формированием новых)\n",
    "customers = customers.drop_duplicates().reset_index(drop = True)"
   ]
  },
  {
   "cell_type": "markdown",
   "metadata": {},
   "source": [
    "Еще раз посчитаем явные дубликаты в таблице — убедимся, что полностью от них избавились:"
   ]
  },
  {
   "cell_type": "code",
   "execution_count": 17,
   "metadata": {},
   "outputs": [
    {
     "data": {
      "text/plain": [
       "0"
      ]
     },
     "execution_count": 17,
     "metadata": {},
     "output_type": "execute_result"
    }
   ],
   "source": [
    "# проверка на отсутствие дубликатов\n",
    "customers.duplicated().sum()"
   ]
  },
  {
   "cell_type": "markdown",
   "metadata": {},
   "source": [
    "**Вывод**\n",
    "\n",
    "Похоже на то, что в анкете банка нет фиксированного формата ввода информации по образованию, а также нет какого-то фильтра этой информации перед попаданием в базу данных. Клиенты сами пишут уровень образования разным регистром, поэтому появляются такие неявные дубликаты. Было бы полезно передать ответственным информацию о том, чтобы при заполнении анкеты регистр автоматически менялся на нужный, тогда можно будет избежать такой ситуации.\n",
    "\n",
    "Учитывая, что явных дубликатов было немного, возможно, что речь о человеческом факторе, либо небольшом задвоении данных при выгрузке. "
   ]
  },
  {
   "cell_type": "markdown",
   "metadata": {},
   "source": [
    "### 2.4 Лемматизация"
   ]
  },
  {
   "cell_type": "markdown",
   "metadata": {},
   "source": [
    "В таблице есть столбец `purpose` с данными о цели получения кредита. Можно заметить, что есть похожие друг на друга цели, просто выраженные разными словами. Найдем количество уникальных лемм и добавим еще один столбец с категорией о цели получения кредита. Сначала импортируем библиотеку `pymystem3`:"
   ]
  },
  {
   "cell_type": "code",
   "execution_count": 18,
   "metadata": {},
   "outputs": [],
   "source": [
    "from pymystem3 import Mystem\n",
    "m = Mystem()"
   ]
  },
  {
   "cell_type": "markdown",
   "metadata": {},
   "source": [
    "Выведем список уникальных целей и их количество:"
   ]
  },
  {
   "cell_type": "code",
   "execution_count": 19,
   "metadata": {
    "scrolled": false
   },
   "outputs": [
    {
     "name": "stdout",
     "output_type": "stream",
     "text": [
      "свадьба                                   791\n",
      "на проведение свадьбы                     768\n",
      "сыграть свадьбу                           765\n",
      "операции с недвижимостью                  675\n",
      "покупка коммерческой недвижимости         661\n",
      "операции с жильем                         652\n",
      "покупка жилья для сдачи                   651\n",
      "операции с коммерческой недвижимостью     650\n",
      "покупка жилья                             646\n",
      "жилье                                     646\n",
      "покупка жилья для семьи                   638\n",
      "строительство собственной недвижимости    635\n",
      "недвижимость                              633\n",
      "операции со своей недвижимостью           627\n",
      "строительство жилой недвижимости          624\n",
      "покупка недвижимости                      621\n",
      "покупка своего жилья                      620\n",
      "строительство недвижимости                619\n",
      "ремонт жилью                              607\n",
      "покупка жилой недвижимости                606\n",
      "на покупку своего автомобиля              505\n",
      "заняться высшим образованием              496\n",
      "автомобиль                                494\n",
      "сделка с подержанным автомобилем          486\n",
      "автомобили                                478\n",
      "свой автомобиль                           478\n",
      "на покупку подержанного автомобиля        478\n",
      "на покупку автомобиля                     471\n",
      "приобретение автомобиля                   461\n",
      "дополнительное образование                460\n",
      "сделка с автомобилем                      455\n",
      "высшее образование                        452\n",
      "образование                               447\n",
      "получение дополнительного образования     446\n",
      "получение образования                     442\n",
      "профильное образование                    436\n",
      "получение высшего образования             426\n",
      "заняться образованием                     408\n",
      "Name: purpose, dtype: int64\n"
     ]
    }
   ],
   "source": [
    "print(customers['purpose'].value_counts())"
   ]
  },
  {
   "cell_type": "markdown",
   "metadata": {},
   "source": [
    "Лемматизируем полученный выше список, чтобы получить список уникальных лемм и отобразим их количество:"
   ]
  },
  {
   "cell_type": "code",
   "execution_count": 20,
   "metadata": {
    "scrolled": false
   },
   "outputs": [
    {
     "name": "stdout",
     "output_type": "stream",
     "text": [
      "Counter({' ': 59, ',': 37, 'покупка': 10, 'недвижимость': 10, 'автомобиль': 9, 'образование': 9, 'жилье': 7, 'с': 5, 'операция': 4, 'на': 4, 'свой': 4, 'свадьба': 3, 'строительство': 3, 'получение': 3, 'высокий': 3, 'дополнительный': 2, 'для': 2, 'коммерческий': 2, 'жилой': 2, 'подержать': 2, 'заниматься': 2, 'сделка': 2, 'приобретение': 1, 'сыграть': 1, 'проведение': 1, 'семья': 1, 'собственный': 1, 'со': 1, 'профильный': 1, 'сдача': 1, 'ремонт': 1, '\\n': 1})\n"
     ]
    }
   ],
   "source": [
    "list_unique = customers['purpose'].unique()\n",
    "list_unique = ','.join(list_unique)\n",
    "lemmas = m.lemmatize(list_unique)\n",
    "from collections import Counter\n",
    "print(Counter(lemmas)) "
   ]
  },
  {
   "cell_type": "markdown",
   "metadata": {},
   "source": [
    "Выделим вручную основные ключевые слова и заключим их в список:"
   ]
  },
  {
   "cell_type": "code",
   "execution_count": 21,
   "metadata": {},
   "outputs": [],
   "source": [
    "purpose_categories = [\"образование\", \"свадьба\", \"недвижимость\", \"автомобиль\", \"жилье\"]"
   ]
  },
  {
   "cell_type": "markdown",
   "metadata": {},
   "source": [
    "Создадим функцию для проведения лемматизации и одновременно заменим полученный список лемм в каждой строке на ключевое слово из списка категорий:"
   ]
  },
  {
   "cell_type": "code",
   "execution_count": 22,
   "metadata": {
    "scrolled": false
   },
   "outputs": [],
   "source": [
    "def lemmatize(text):\n",
    "    lemma = m.lemmatize(text)\n",
    "    for word in purpose_categories:\n",
    "        if word in lemma:\n",
    "            lemma = word\n",
    "    return lemma\n",
    "\n",
    "customers['purpose_categories'] = customers['purpose'].apply(lemmatize)"
   ]
  },
  {
   "cell_type": "markdown",
   "metadata": {},
   "source": [
    "Теперь убедимся, что категрий стало меньше и они более точечны, а также в отсутствии лишних категорий:"
   ]
  },
  {
   "cell_type": "code",
   "execution_count": 23,
   "metadata": {},
   "outputs": [
    {
     "name": "stdout",
     "output_type": "stream",
     "text": [
      "недвижимость    6351\n",
      "жилье           4460\n",
      "автомобиль      4306\n",
      "образование     4013\n",
      "свадьба         2324\n",
      "Name: purpose_categories, dtype: int64\n"
     ]
    },
    {
     "data": {
      "text/html": [
       "<div>\n",
       "<style scoped>\n",
       "    .dataframe tbody tr th:only-of-type {\n",
       "        vertical-align: middle;\n",
       "    }\n",
       "\n",
       "    .dataframe tbody tr th {\n",
       "        vertical-align: top;\n",
       "    }\n",
       "\n",
       "    .dataframe thead th {\n",
       "        text-align: right;\n",
       "    }\n",
       "</style>\n",
       "<table border=\"1\" class=\"dataframe\">\n",
       "  <thead>\n",
       "    <tr style=\"text-align: right;\">\n",
       "      <th></th>\n",
       "      <th>children</th>\n",
       "      <th>days_employed</th>\n",
       "      <th>dob_years</th>\n",
       "      <th>education</th>\n",
       "      <th>education_id</th>\n",
       "      <th>family_status</th>\n",
       "      <th>family_status_id</th>\n",
       "      <th>gender</th>\n",
       "      <th>income_type</th>\n",
       "      <th>debt</th>\n",
       "      <th>total_income</th>\n",
       "      <th>purpose</th>\n",
       "      <th>purpose_categories</th>\n",
       "    </tr>\n",
       "  </thead>\n",
       "  <tbody>\n",
       "    <tr>\n",
       "      <td>0</td>\n",
       "      <td>1</td>\n",
       "      <td>8437</td>\n",
       "      <td>42</td>\n",
       "      <td>высшее</td>\n",
       "      <td>0</td>\n",
       "      <td>женат / замужем</td>\n",
       "      <td>0</td>\n",
       "      <td>F</td>\n",
       "      <td>сотрудник</td>\n",
       "      <td>0</td>\n",
       "      <td>253875</td>\n",
       "      <td>покупка жилья</td>\n",
       "      <td>жилье</td>\n",
       "    </tr>\n",
       "    <tr>\n",
       "      <td>1</td>\n",
       "      <td>1</td>\n",
       "      <td>4024</td>\n",
       "      <td>36</td>\n",
       "      <td>среднее</td>\n",
       "      <td>1</td>\n",
       "      <td>женат / замужем</td>\n",
       "      <td>0</td>\n",
       "      <td>F</td>\n",
       "      <td>сотрудник</td>\n",
       "      <td>0</td>\n",
       "      <td>112080</td>\n",
       "      <td>приобретение автомобиля</td>\n",
       "      <td>автомобиль</td>\n",
       "    </tr>\n",
       "    <tr>\n",
       "      <td>2</td>\n",
       "      <td>0</td>\n",
       "      <td>5623</td>\n",
       "      <td>33</td>\n",
       "      <td>среднее</td>\n",
       "      <td>1</td>\n",
       "      <td>женат / замужем</td>\n",
       "      <td>0</td>\n",
       "      <td>M</td>\n",
       "      <td>сотрудник</td>\n",
       "      <td>0</td>\n",
       "      <td>145885</td>\n",
       "      <td>покупка жилья</td>\n",
       "      <td>жилье</td>\n",
       "    </tr>\n",
       "    <tr>\n",
       "      <td>3</td>\n",
       "      <td>3</td>\n",
       "      <td>4124</td>\n",
       "      <td>32</td>\n",
       "      <td>среднее</td>\n",
       "      <td>1</td>\n",
       "      <td>женат / замужем</td>\n",
       "      <td>0</td>\n",
       "      <td>M</td>\n",
       "      <td>сотрудник</td>\n",
       "      <td>0</td>\n",
       "      <td>267628</td>\n",
       "      <td>дополнительное образование</td>\n",
       "      <td>образование</td>\n",
       "    </tr>\n",
       "    <tr>\n",
       "      <td>4</td>\n",
       "      <td>0</td>\n",
       "      <td>14177</td>\n",
       "      <td>53</td>\n",
       "      <td>среднее</td>\n",
       "      <td>1</td>\n",
       "      <td>гражданский брак</td>\n",
       "      <td>1</td>\n",
       "      <td>F</td>\n",
       "      <td>пенсионер</td>\n",
       "      <td>0</td>\n",
       "      <td>158616</td>\n",
       "      <td>сыграть свадьбу</td>\n",
       "      <td>свадьба</td>\n",
       "    </tr>\n",
       "  </tbody>\n",
       "</table>\n",
       "</div>"
      ],
      "text/plain": [
       "   children  days_employed  dob_years education  education_id  \\\n",
       "0         1           8437         42    высшее             0   \n",
       "1         1           4024         36   среднее             1   \n",
       "2         0           5623         33   среднее             1   \n",
       "3         3           4124         32   среднее             1   \n",
       "4         0          14177         53   среднее             1   \n",
       "\n",
       "      family_status  family_status_id gender income_type  debt  total_income  \\\n",
       "0   женат / замужем                 0      F   сотрудник     0        253875   \n",
       "1   женат / замужем                 0      F   сотрудник     0        112080   \n",
       "2   женат / замужем                 0      M   сотрудник     0        145885   \n",
       "3   женат / замужем                 0      M   сотрудник     0        267628   \n",
       "4  гражданский брак                 1      F   пенсионер     0        158616   \n",
       "\n",
       "                      purpose purpose_categories  \n",
       "0               покупка жилья              жилье  \n",
       "1     приобретение автомобиля         автомобиль  \n",
       "2               покупка жилья              жилье  \n",
       "3  дополнительное образование        образование  \n",
       "4             сыграть свадьбу            свадьба  "
      ]
     },
     "execution_count": 23,
     "metadata": {},
     "output_type": "execute_result"
    }
   ],
   "source": [
    "print(customers['purpose_categories'].value_counts())\n",
    "customers.head(5)"
   ]
  },
  {
   "cell_type": "markdown",
   "metadata": {},
   "source": [
    "**Вывод**\n",
    "\n",
    "В целях получения кредита снова были данные, заполненные клиентами самостоятельно в анкете, поэтому они различались по виду, но не по смыслу. Внедрение выпадающего списка в анкете помогло бы избежать этой работы вообще. Но сейчас это не так, поэтому мы лемматизировали данные, чтобы получить 5 точечных категорий и добавили отдельный столбец в таблицу. Для исследования это не нужно было, но помогло бы для других задач или если бы за работу с этими данными взялся другой аналитик.  Дополнительно убедились в том, что все категории добавились правильно. "
   ]
  },
  {
   "cell_type": "markdown",
   "metadata": {},
   "source": [
    "### 2.5 Категоризация данных"
   ]
  },
  {
   "cell_type": "markdown",
   "metadata": {},
   "source": [
    "Создадим функцию для категоризации уровня дохода, показатели категорий доходов установим сами:"
   ]
  },
  {
   "cell_type": "code",
   "execution_count": 24,
   "metadata": {},
   "outputs": [],
   "source": [
    "def replace_income(total_income):\n",
    "    if total_income >= 0 and total_income <= 50000:\n",
    "        return 'низкий'\n",
    "    if total_income > 50000 and total_income <= 100000:\n",
    "        return 'средний'\n",
    "    if total_income > 100000 and total_income <= 150000:\n",
    "        return 'выше среднего'\n",
    "    if total_income > 150000:\n",
    "        return 'высокий'\n",
    "\n",
    "customers['total_income_id'] = customers['total_income'].apply(replace_income)"
   ]
  },
  {
   "cell_type": "markdown",
   "metadata": {},
   "source": [
    "И убедимся, что функция работает:"
   ]
  },
  {
   "cell_type": "code",
   "execution_count": 25,
   "metadata": {
    "scrolled": true
   },
   "outputs": [
    {
     "data": {
      "text/html": [
       "<div>\n",
       "<style scoped>\n",
       "    .dataframe tbody tr th:only-of-type {\n",
       "        vertical-align: middle;\n",
       "    }\n",
       "\n",
       "    .dataframe tbody tr th {\n",
       "        vertical-align: top;\n",
       "    }\n",
       "\n",
       "    .dataframe thead th {\n",
       "        text-align: right;\n",
       "    }\n",
       "</style>\n",
       "<table border=\"1\" class=\"dataframe\">\n",
       "  <thead>\n",
       "    <tr style=\"text-align: right;\">\n",
       "      <th></th>\n",
       "      <th>children</th>\n",
       "      <th>days_employed</th>\n",
       "      <th>dob_years</th>\n",
       "      <th>education</th>\n",
       "      <th>education_id</th>\n",
       "      <th>family_status</th>\n",
       "      <th>family_status_id</th>\n",
       "      <th>gender</th>\n",
       "      <th>income_type</th>\n",
       "      <th>debt</th>\n",
       "      <th>total_income</th>\n",
       "      <th>purpose</th>\n",
       "      <th>purpose_categories</th>\n",
       "      <th>total_income_id</th>\n",
       "    </tr>\n",
       "  </thead>\n",
       "  <tbody>\n",
       "    <tr>\n",
       "      <td>0</td>\n",
       "      <td>1</td>\n",
       "      <td>8437</td>\n",
       "      <td>42</td>\n",
       "      <td>высшее</td>\n",
       "      <td>0</td>\n",
       "      <td>женат / замужем</td>\n",
       "      <td>0</td>\n",
       "      <td>F</td>\n",
       "      <td>сотрудник</td>\n",
       "      <td>0</td>\n",
       "      <td>253875</td>\n",
       "      <td>покупка жилья</td>\n",
       "      <td>жилье</td>\n",
       "      <td>высокий</td>\n",
       "    </tr>\n",
       "    <tr>\n",
       "      <td>1</td>\n",
       "      <td>1</td>\n",
       "      <td>4024</td>\n",
       "      <td>36</td>\n",
       "      <td>среднее</td>\n",
       "      <td>1</td>\n",
       "      <td>женат / замужем</td>\n",
       "      <td>0</td>\n",
       "      <td>F</td>\n",
       "      <td>сотрудник</td>\n",
       "      <td>0</td>\n",
       "      <td>112080</td>\n",
       "      <td>приобретение автомобиля</td>\n",
       "      <td>автомобиль</td>\n",
       "      <td>выше среднего</td>\n",
       "    </tr>\n",
       "    <tr>\n",
       "      <td>2</td>\n",
       "      <td>0</td>\n",
       "      <td>5623</td>\n",
       "      <td>33</td>\n",
       "      <td>среднее</td>\n",
       "      <td>1</td>\n",
       "      <td>женат / замужем</td>\n",
       "      <td>0</td>\n",
       "      <td>M</td>\n",
       "      <td>сотрудник</td>\n",
       "      <td>0</td>\n",
       "      <td>145885</td>\n",
       "      <td>покупка жилья</td>\n",
       "      <td>жилье</td>\n",
       "      <td>выше среднего</td>\n",
       "    </tr>\n",
       "    <tr>\n",
       "      <td>3</td>\n",
       "      <td>3</td>\n",
       "      <td>4124</td>\n",
       "      <td>32</td>\n",
       "      <td>среднее</td>\n",
       "      <td>1</td>\n",
       "      <td>женат / замужем</td>\n",
       "      <td>0</td>\n",
       "      <td>M</td>\n",
       "      <td>сотрудник</td>\n",
       "      <td>0</td>\n",
       "      <td>267628</td>\n",
       "      <td>дополнительное образование</td>\n",
       "      <td>образование</td>\n",
       "      <td>высокий</td>\n",
       "    </tr>\n",
       "    <tr>\n",
       "      <td>4</td>\n",
       "      <td>0</td>\n",
       "      <td>14177</td>\n",
       "      <td>53</td>\n",
       "      <td>среднее</td>\n",
       "      <td>1</td>\n",
       "      <td>гражданский брак</td>\n",
       "      <td>1</td>\n",
       "      <td>F</td>\n",
       "      <td>пенсионер</td>\n",
       "      <td>0</td>\n",
       "      <td>158616</td>\n",
       "      <td>сыграть свадьбу</td>\n",
       "      <td>свадьба</td>\n",
       "      <td>высокий</td>\n",
       "    </tr>\n",
       "  </tbody>\n",
       "</table>\n",
       "</div>"
      ],
      "text/plain": [
       "   children  days_employed  dob_years education  education_id  \\\n",
       "0         1           8437         42    высшее             0   \n",
       "1         1           4024         36   среднее             1   \n",
       "2         0           5623         33   среднее             1   \n",
       "3         3           4124         32   среднее             1   \n",
       "4         0          14177         53   среднее             1   \n",
       "\n",
       "      family_status  family_status_id gender income_type  debt  total_income  \\\n",
       "0   женат / замужем                 0      F   сотрудник     0        253875   \n",
       "1   женат / замужем                 0      F   сотрудник     0        112080   \n",
       "2   женат / замужем                 0      M   сотрудник     0        145885   \n",
       "3   женат / замужем                 0      M   сотрудник     0        267628   \n",
       "4  гражданский брак                 1      F   пенсионер     0        158616   \n",
       "\n",
       "                      purpose purpose_categories total_income_id  \n",
       "0               покупка жилья              жилье         высокий  \n",
       "1     приобретение автомобиля         автомобиль   выше среднего  \n",
       "2               покупка жилья              жилье   выше среднего  \n",
       "3  дополнительное образование        образование         высокий  \n",
       "4             сыграть свадьбу            свадьба         высокий  "
      ]
     },
     "execution_count": 25,
     "metadata": {},
     "output_type": "execute_result"
    }
   ],
   "source": [
    "customers.head(5)"
   ]
  },
  {
   "cell_type": "code",
   "execution_count": 26,
   "metadata": {},
   "outputs": [
    {
     "data": {
      "text/plain": [
       "высокий          9787\n",
       "выше среднего    7204\n",
       "средний          4091\n",
       "низкий            372\n",
       "Name: total_income_id, dtype: int64"
      ]
     },
     "execution_count": 26,
     "metadata": {},
     "output_type": "execute_result"
    }
   ],
   "source": [
    "customers['total_income_id'].value_counts()"
   ]
  },
  {
   "cell_type": "markdown",
   "metadata": {},
   "source": [
    "Теперь создадим функцию для категоризации по возрасту. Здесь пороги показателей для определенной категории также установим самостоятельно:"
   ]
  },
  {
   "cell_type": "code",
   "execution_count": 27,
   "metadata": {},
   "outputs": [],
   "source": [
    "def replace_age(dob_years):\n",
    "    if dob_years <= 30:\n",
    "        return 'до 30 лет'\n",
    "    if dob_years >= 31 and dob_years <= 54:\n",
    "        return 'от 31 до 54 лет'\n",
    "    if dob_years >= 55:\n",
    "        return 'старше 55 лет'\n",
    "customers['age_id'] = customers['dob_years'].apply(replace_age)"
   ]
  },
  {
   "cell_type": "markdown",
   "metadata": {},
   "source": [
    "И также убедимся в том, что она работает и показывает правильные категории:"
   ]
  },
  {
   "cell_type": "code",
   "execution_count": 28,
   "metadata": {
    "scrolled": false
   },
   "outputs": [
    {
     "data": {
      "text/html": [
       "<div>\n",
       "<style scoped>\n",
       "    .dataframe tbody tr th:only-of-type {\n",
       "        vertical-align: middle;\n",
       "    }\n",
       "\n",
       "    .dataframe tbody tr th {\n",
       "        vertical-align: top;\n",
       "    }\n",
       "\n",
       "    .dataframe thead th {\n",
       "        text-align: right;\n",
       "    }\n",
       "</style>\n",
       "<table border=\"1\" class=\"dataframe\">\n",
       "  <thead>\n",
       "    <tr style=\"text-align: right;\">\n",
       "      <th></th>\n",
       "      <th>children</th>\n",
       "      <th>days_employed</th>\n",
       "      <th>dob_years</th>\n",
       "      <th>education</th>\n",
       "      <th>education_id</th>\n",
       "      <th>family_status</th>\n",
       "      <th>family_status_id</th>\n",
       "      <th>gender</th>\n",
       "      <th>income_type</th>\n",
       "      <th>debt</th>\n",
       "      <th>total_income</th>\n",
       "      <th>purpose</th>\n",
       "      <th>purpose_categories</th>\n",
       "      <th>total_income_id</th>\n",
       "      <th>age_id</th>\n",
       "    </tr>\n",
       "  </thead>\n",
       "  <tbody>\n",
       "    <tr>\n",
       "      <td>0</td>\n",
       "      <td>1</td>\n",
       "      <td>8437</td>\n",
       "      <td>42</td>\n",
       "      <td>высшее</td>\n",
       "      <td>0</td>\n",
       "      <td>женат / замужем</td>\n",
       "      <td>0</td>\n",
       "      <td>F</td>\n",
       "      <td>сотрудник</td>\n",
       "      <td>0</td>\n",
       "      <td>253875</td>\n",
       "      <td>покупка жилья</td>\n",
       "      <td>жилье</td>\n",
       "      <td>высокий</td>\n",
       "      <td>от 31 до 54 лет</td>\n",
       "    </tr>\n",
       "    <tr>\n",
       "      <td>1</td>\n",
       "      <td>1</td>\n",
       "      <td>4024</td>\n",
       "      <td>36</td>\n",
       "      <td>среднее</td>\n",
       "      <td>1</td>\n",
       "      <td>женат / замужем</td>\n",
       "      <td>0</td>\n",
       "      <td>F</td>\n",
       "      <td>сотрудник</td>\n",
       "      <td>0</td>\n",
       "      <td>112080</td>\n",
       "      <td>приобретение автомобиля</td>\n",
       "      <td>автомобиль</td>\n",
       "      <td>выше среднего</td>\n",
       "      <td>от 31 до 54 лет</td>\n",
       "    </tr>\n",
       "    <tr>\n",
       "      <td>2</td>\n",
       "      <td>0</td>\n",
       "      <td>5623</td>\n",
       "      <td>33</td>\n",
       "      <td>среднее</td>\n",
       "      <td>1</td>\n",
       "      <td>женат / замужем</td>\n",
       "      <td>0</td>\n",
       "      <td>M</td>\n",
       "      <td>сотрудник</td>\n",
       "      <td>0</td>\n",
       "      <td>145885</td>\n",
       "      <td>покупка жилья</td>\n",
       "      <td>жилье</td>\n",
       "      <td>выше среднего</td>\n",
       "      <td>от 31 до 54 лет</td>\n",
       "    </tr>\n",
       "    <tr>\n",
       "      <td>3</td>\n",
       "      <td>3</td>\n",
       "      <td>4124</td>\n",
       "      <td>32</td>\n",
       "      <td>среднее</td>\n",
       "      <td>1</td>\n",
       "      <td>женат / замужем</td>\n",
       "      <td>0</td>\n",
       "      <td>M</td>\n",
       "      <td>сотрудник</td>\n",
       "      <td>0</td>\n",
       "      <td>267628</td>\n",
       "      <td>дополнительное образование</td>\n",
       "      <td>образование</td>\n",
       "      <td>высокий</td>\n",
       "      <td>от 31 до 54 лет</td>\n",
       "    </tr>\n",
       "    <tr>\n",
       "      <td>4</td>\n",
       "      <td>0</td>\n",
       "      <td>14177</td>\n",
       "      <td>53</td>\n",
       "      <td>среднее</td>\n",
       "      <td>1</td>\n",
       "      <td>гражданский брак</td>\n",
       "      <td>1</td>\n",
       "      <td>F</td>\n",
       "      <td>пенсионер</td>\n",
       "      <td>0</td>\n",
       "      <td>158616</td>\n",
       "      <td>сыграть свадьбу</td>\n",
       "      <td>свадьба</td>\n",
       "      <td>высокий</td>\n",
       "      <td>от 31 до 54 лет</td>\n",
       "    </tr>\n",
       "  </tbody>\n",
       "</table>\n",
       "</div>"
      ],
      "text/plain": [
       "   children  days_employed  dob_years education  education_id  \\\n",
       "0         1           8437         42    высшее             0   \n",
       "1         1           4024         36   среднее             1   \n",
       "2         0           5623         33   среднее             1   \n",
       "3         3           4124         32   среднее             1   \n",
       "4         0          14177         53   среднее             1   \n",
       "\n",
       "      family_status  family_status_id gender income_type  debt  total_income  \\\n",
       "0   женат / замужем                 0      F   сотрудник     0        253875   \n",
       "1   женат / замужем                 0      F   сотрудник     0        112080   \n",
       "2   женат / замужем                 0      M   сотрудник     0        145885   \n",
       "3   женат / замужем                 0      M   сотрудник     0        267628   \n",
       "4  гражданский брак                 1      F   пенсионер     0        158616   \n",
       "\n",
       "                      purpose purpose_categories total_income_id  \\\n",
       "0               покупка жилья              жилье         высокий   \n",
       "1     приобретение автомобиля         автомобиль   выше среднего   \n",
       "2               покупка жилья              жилье   выше среднего   \n",
       "3  дополнительное образование        образование         высокий   \n",
       "4             сыграть свадьбу            свадьба         высокий   \n",
       "\n",
       "            age_id  \n",
       "0  от 31 до 54 лет  \n",
       "1  от 31 до 54 лет  \n",
       "2  от 31 до 54 лет  \n",
       "3  от 31 до 54 лет  \n",
       "4  от 31 до 54 лет  "
      ]
     },
     "execution_count": 28,
     "metadata": {},
     "output_type": "execute_result"
    }
   ],
   "source": [
    "customers.head(5)"
   ]
  },
  {
   "cell_type": "markdown",
   "metadata": {},
   "source": [
    "**Вывод**\n",
    "\n",
    "Пороги для категорий в всех случаях установили самостоятельно, так как они могут различаться из официальных источников как по регионам, так и по другим факторам. Сейчас главное отобразить общую картину, затем при необходимости их можно будет скорректировать в зависимости от того, где именно будут использовать данные. \n",
    "\n"
   ]
  },
  {
   "cell_type": "markdown",
   "metadata": {},
   "source": [
    "Отдельно обнаружим и выделим словари, которые есть в данных. При необходимости будем работать с ними:"
   ]
  },
  {
   "cell_type": "code",
   "execution_count": 29,
   "metadata": {},
   "outputs": [
    {
     "data": {
      "text/html": [
       "<div>\n",
       "<style scoped>\n",
       "    .dataframe tbody tr th:only-of-type {\n",
       "        vertical-align: middle;\n",
       "    }\n",
       "\n",
       "    .dataframe tbody tr th {\n",
       "        vertical-align: top;\n",
       "    }\n",
       "\n",
       "    .dataframe thead th {\n",
       "        text-align: right;\n",
       "    }\n",
       "</style>\n",
       "<table border=\"1\" class=\"dataframe\">\n",
       "  <thead>\n",
       "    <tr style=\"text-align: right;\">\n",
       "      <th></th>\n",
       "      <th>education</th>\n",
       "      <th>education_id</th>\n",
       "      <th>family_status</th>\n",
       "      <th>family_status_id</th>\n",
       "    </tr>\n",
       "  </thead>\n",
       "  <tbody>\n",
       "    <tr>\n",
       "      <td>0</td>\n",
       "      <td>высшее</td>\n",
       "      <td>0</td>\n",
       "      <td>женат / замужем</td>\n",
       "      <td>0</td>\n",
       "    </tr>\n",
       "    <tr>\n",
       "      <td>1</td>\n",
       "      <td>среднее</td>\n",
       "      <td>1</td>\n",
       "      <td>женат / замужем</td>\n",
       "      <td>0</td>\n",
       "    </tr>\n",
       "    <tr>\n",
       "      <td>2</td>\n",
       "      <td>среднее</td>\n",
       "      <td>1</td>\n",
       "      <td>женат / замужем</td>\n",
       "      <td>0</td>\n",
       "    </tr>\n",
       "    <tr>\n",
       "      <td>3</td>\n",
       "      <td>среднее</td>\n",
       "      <td>1</td>\n",
       "      <td>женат / замужем</td>\n",
       "      <td>0</td>\n",
       "    </tr>\n",
       "    <tr>\n",
       "      <td>4</td>\n",
       "      <td>среднее</td>\n",
       "      <td>1</td>\n",
       "      <td>гражданский брак</td>\n",
       "      <td>1</td>\n",
       "    </tr>\n",
       "    <tr>\n",
       "      <td>5</td>\n",
       "      <td>высшее</td>\n",
       "      <td>0</td>\n",
       "      <td>гражданский брак</td>\n",
       "      <td>1</td>\n",
       "    </tr>\n",
       "    <tr>\n",
       "      <td>6</td>\n",
       "      <td>высшее</td>\n",
       "      <td>0</td>\n",
       "      <td>женат / замужем</td>\n",
       "      <td>0</td>\n",
       "    </tr>\n",
       "    <tr>\n",
       "      <td>7</td>\n",
       "      <td>среднее</td>\n",
       "      <td>1</td>\n",
       "      <td>женат / замужем</td>\n",
       "      <td>0</td>\n",
       "    </tr>\n",
       "    <tr>\n",
       "      <td>8</td>\n",
       "      <td>высшее</td>\n",
       "      <td>0</td>\n",
       "      <td>гражданский брак</td>\n",
       "      <td>1</td>\n",
       "    </tr>\n",
       "    <tr>\n",
       "      <td>9</td>\n",
       "      <td>среднее</td>\n",
       "      <td>1</td>\n",
       "      <td>женат / замужем</td>\n",
       "      <td>0</td>\n",
       "    </tr>\n",
       "  </tbody>\n",
       "</table>\n",
       "</div>"
      ],
      "text/plain": [
       "  education  education_id     family_status  family_status_id\n",
       "0    высшее             0   женат / замужем                 0\n",
       "1   среднее             1   женат / замужем                 0\n",
       "2   среднее             1   женат / замужем                 0\n",
       "3   среднее             1   женат / замужем                 0\n",
       "4   среднее             1  гражданский брак                 1\n",
       "5    высшее             0  гражданский брак                 1\n",
       "6    высшее             0   женат / замужем                 0\n",
       "7   среднее             1   женат / замужем                 0\n",
       "8    высшее             0  гражданский брак                 1\n",
       "9   среднее             1   женат / замужем                 0"
      ]
     },
     "metadata": {},
     "output_type": "display_data"
    }
   ],
   "source": [
    "dictionaries = customers[['education', 'education_id', 'family_status', 'family_status_id']]\n",
    "display(dictionaries.head(10))"
   ]
  },
  {
   "cell_type": "code",
   "execution_count": 30,
   "metadata": {
    "scrolled": true
   },
   "outputs": [
    {
     "data": {
      "text/html": [
       "<div>\n",
       "<style scoped>\n",
       "    .dataframe tbody tr th:only-of-type {\n",
       "        vertical-align: middle;\n",
       "    }\n",
       "\n",
       "    .dataframe tbody tr th {\n",
       "        vertical-align: top;\n",
       "    }\n",
       "\n",
       "    .dataframe thead th {\n",
       "        text-align: right;\n",
       "    }\n",
       "</style>\n",
       "<table border=\"1\" class=\"dataframe\">\n",
       "  <thead>\n",
       "    <tr style=\"text-align: right;\">\n",
       "      <th></th>\n",
       "      <th>education</th>\n",
       "      <th>education_id</th>\n",
       "    </tr>\n",
       "  </thead>\n",
       "  <tbody>\n",
       "    <tr>\n",
       "      <td>0</td>\n",
       "      <td>высшее</td>\n",
       "      <td>0</td>\n",
       "    </tr>\n",
       "    <tr>\n",
       "      <td>1</td>\n",
       "      <td>среднее</td>\n",
       "      <td>1</td>\n",
       "    </tr>\n",
       "    <tr>\n",
       "      <td>13</td>\n",
       "      <td>неоконченное высшее</td>\n",
       "      <td>2</td>\n",
       "    </tr>\n",
       "    <tr>\n",
       "      <td>31</td>\n",
       "      <td>начальное</td>\n",
       "      <td>3</td>\n",
       "    </tr>\n",
       "    <tr>\n",
       "      <td>2962</td>\n",
       "      <td>ученая степень</td>\n",
       "      <td>4</td>\n",
       "    </tr>\n",
       "  </tbody>\n",
       "</table>\n",
       "</div>"
      ],
      "text/plain": [
       "                education  education_id\n",
       "0                  высшее             0\n",
       "1                 среднее             1\n",
       "13    неоконченное высшее             2\n",
       "31              начальное             3\n",
       "2962       ученая степень             4"
      ]
     },
     "execution_count": 30,
     "metadata": {},
     "output_type": "execute_result"
    }
   ],
   "source": [
    "customers[['education', 'education_id']].drop_duplicates()"
   ]
  },
  {
   "cell_type": "code",
   "execution_count": 31,
   "metadata": {},
   "outputs": [
    {
     "data": {
      "text/html": [
       "<div>\n",
       "<style scoped>\n",
       "    .dataframe tbody tr th:only-of-type {\n",
       "        vertical-align: middle;\n",
       "    }\n",
       "\n",
       "    .dataframe tbody tr th {\n",
       "        vertical-align: top;\n",
       "    }\n",
       "\n",
       "    .dataframe thead th {\n",
       "        text-align: right;\n",
       "    }\n",
       "</style>\n",
       "<table border=\"1\" class=\"dataframe\">\n",
       "  <thead>\n",
       "    <tr style=\"text-align: right;\">\n",
       "      <th></th>\n",
       "      <th>family_status</th>\n",
       "      <th>family_status_id</th>\n",
       "    </tr>\n",
       "  </thead>\n",
       "  <tbody>\n",
       "    <tr>\n",
       "      <td>0</td>\n",
       "      <td>женат / замужем</td>\n",
       "      <td>0</td>\n",
       "    </tr>\n",
       "    <tr>\n",
       "      <td>4</td>\n",
       "      <td>гражданский брак</td>\n",
       "      <td>1</td>\n",
       "    </tr>\n",
       "    <tr>\n",
       "      <td>18</td>\n",
       "      <td>вдовец / вдова</td>\n",
       "      <td>2</td>\n",
       "    </tr>\n",
       "    <tr>\n",
       "      <td>19</td>\n",
       "      <td>в разводе</td>\n",
       "      <td>3</td>\n",
       "    </tr>\n",
       "    <tr>\n",
       "      <td>24</td>\n",
       "      <td>Не женат / не замужем</td>\n",
       "      <td>4</td>\n",
       "    </tr>\n",
       "  </tbody>\n",
       "</table>\n",
       "</div>"
      ],
      "text/plain": [
       "            family_status  family_status_id\n",
       "0         женат / замужем                 0\n",
       "4        гражданский брак                 1\n",
       "18         вдовец / вдова                 2\n",
       "19              в разводе                 3\n",
       "24  Не женат / не замужем                 4"
      ]
     },
     "execution_count": 31,
     "metadata": {},
     "output_type": "execute_result"
    }
   ],
   "source": [
    "customers[['family_status', 'family_status_id']].drop_duplicates()"
   ]
  },
  {
   "cell_type": "markdown",
   "metadata": {},
   "source": [
    "## Шаг 3. Ответы на вопросы"
   ]
  },
  {
   "cell_type": "markdown",
   "metadata": {},
   "source": [
    "- Есть ли зависимость между наличием детей и возвратом кредита в срок?"
   ]
  },
  {
   "cell_type": "markdown",
   "metadata": {},
   "source": [
    "Составим функцию, которая поможет нам определить соотношение категории наличия детей и уровнем дохода к возврату кредита в срок:"
   ]
  },
  {
   "cell_type": "code",
   "execution_count": 32,
   "metadata": {},
   "outputs": [
    {
     "data": {
      "text/html": [
       "<div>\n",
       "<style scoped>\n",
       "    .dataframe tbody tr th:only-of-type {\n",
       "        vertical-align: middle;\n",
       "    }\n",
       "\n",
       "    .dataframe tbody tr th {\n",
       "        vertical-align: top;\n",
       "    }\n",
       "\n",
       "    .dataframe thead th {\n",
       "        text-align: right;\n",
       "    }\n",
       "</style>\n",
       "<table border=\"1\" class=\"dataframe\">\n",
       "  <thead>\n",
       "    <tr style=\"text-align: right;\">\n",
       "      <th></th>\n",
       "      <th>debt</th>\n",
       "    </tr>\n",
       "    <tr>\n",
       "      <th>children</th>\n",
       "      <th></th>\n",
       "    </tr>\n",
       "  </thead>\n",
       "  <tbody>\n",
       "    <tr>\n",
       "      <td>5</td>\n",
       "      <td>0.000000</td>\n",
       "    </tr>\n",
       "    <tr>\n",
       "      <td>-1</td>\n",
       "      <td>0.021277</td>\n",
       "    </tr>\n",
       "    <tr>\n",
       "      <td>0</td>\n",
       "      <td>0.075438</td>\n",
       "    </tr>\n",
       "    <tr>\n",
       "      <td>3</td>\n",
       "      <td>0.081818</td>\n",
       "    </tr>\n",
       "    <tr>\n",
       "      <td>1</td>\n",
       "      <td>0.092346</td>\n",
       "    </tr>\n",
       "    <tr>\n",
       "      <td>2</td>\n",
       "      <td>0.094542</td>\n",
       "    </tr>\n",
       "    <tr>\n",
       "      <td>4</td>\n",
       "      <td>0.097561</td>\n",
       "    </tr>\n",
       "    <tr>\n",
       "      <td>20</td>\n",
       "      <td>0.105263</td>\n",
       "    </tr>\n",
       "  </tbody>\n",
       "</table>\n",
       "</div>"
      ],
      "text/plain": [
       "              debt\n",
       "children          \n",
       " 5        0.000000\n",
       "-1        0.021277\n",
       " 0        0.075438\n",
       " 3        0.081818\n",
       " 1        0.092346\n",
       " 2        0.094542\n",
       " 4        0.097561\n",
       " 20       0.105263"
      ]
     },
     "execution_count": 32,
     "metadata": {},
     "output_type": "execute_result"
    }
   ],
   "source": [
    "def relation(category):\n",
    "    return customers.groupby(category)['debt'].mean().to_frame().sort_values(by='debt')\n",
    "\n",
    "relation('children')"
   ]
  },
  {
   "cell_type": "markdown",
   "metadata": {},
   "source": [
    "**Вывод**\n",
    "\n",
    "Зависимость есть. Как видно из результата, заемщики без детей имеют меньше всего проблем с возвратом кредита в срок, а вот наоборот состоит ситуация у заемщиков, у которых есть 1-2 ребенка. Можно предположить, что при наличии финансовых проблем клиент скорее предпочтет в первую очередь обеспечить своего ребенка, чем решить вопрос с банком. При этом именно с 3-мя детьми заемщики имеют меньше проблем с возвратом кредита в срок, чем у тех, кто имеет 1-2 ребенка. \n",
    "\n",
    "В данных есть отрицательное значение, скорее оно появилось в результате какой-то технической проблемы при переносе данных и речь идет об отсутствии детей. "
   ]
  },
  {
   "cell_type": "markdown",
   "metadata": {},
   "source": [
    "- Есть ли зависимость между семейным положением и возвратом кредита в срок?"
   ]
  },
  {
   "cell_type": "markdown",
   "metadata": {},
   "source": [
    "Применим метод `.agg` к столбцу `family_status` для подсчета числа должников, общего числа клиентов в группах и нахождения доли должников в каждой из групп:"
   ]
  },
  {
   "cell_type": "code",
   "execution_count": 33,
   "metadata": {
    "scrolled": true
   },
   "outputs": [
    {
     "data": {
      "text/html": [
       "<div>\n",
       "<style scoped>\n",
       "    .dataframe tbody tr th:only-of-type {\n",
       "        vertical-align: middle;\n",
       "    }\n",
       "\n",
       "    .dataframe tbody tr th {\n",
       "        vertical-align: top;\n",
       "    }\n",
       "\n",
       "    .dataframe thead tr th {\n",
       "        text-align: left;\n",
       "    }\n",
       "\n",
       "    .dataframe thead tr:last-of-type th {\n",
       "        text-align: right;\n",
       "    }\n",
       "</style>\n",
       "<table border=\"1\" class=\"dataframe\">\n",
       "  <thead>\n",
       "    <tr>\n",
       "      <th></th>\n",
       "      <th colspan=\"3\" halign=\"left\">debt</th>\n",
       "    </tr>\n",
       "    <tr>\n",
       "      <th></th>\n",
       "      <th>count</th>\n",
       "      <th>sum</th>\n",
       "      <th>mean</th>\n",
       "    </tr>\n",
       "    <tr>\n",
       "      <th>family_status</th>\n",
       "      <th></th>\n",
       "      <th></th>\n",
       "      <th></th>\n",
       "    </tr>\n",
       "  </thead>\n",
       "  <tbody>\n",
       "    <tr>\n",
       "      <td>Не женат / не замужем</td>\n",
       "      <td>2810</td>\n",
       "      <td>274</td>\n",
       "      <td>0.097509</td>\n",
       "    </tr>\n",
       "    <tr>\n",
       "      <td>в разводе</td>\n",
       "      <td>1195</td>\n",
       "      <td>85</td>\n",
       "      <td>0.071130</td>\n",
       "    </tr>\n",
       "    <tr>\n",
       "      <td>вдовец / вдова</td>\n",
       "      <td>959</td>\n",
       "      <td>63</td>\n",
       "      <td>0.065693</td>\n",
       "    </tr>\n",
       "    <tr>\n",
       "      <td>гражданский брак</td>\n",
       "      <td>4151</td>\n",
       "      <td>388</td>\n",
       "      <td>0.093471</td>\n",
       "    </tr>\n",
       "    <tr>\n",
       "      <td>женат / замужем</td>\n",
       "      <td>12339</td>\n",
       "      <td>931</td>\n",
       "      <td>0.075452</td>\n",
       "    </tr>\n",
       "  </tbody>\n",
       "</table>\n",
       "</div>"
      ],
      "text/plain": [
       "                        debt               \n",
       "                       count  sum      mean\n",
       "family_status                              \n",
       "Не женат / не замужем   2810  274  0.097509\n",
       "в разводе               1195   85  0.071130\n",
       "вдовец / вдова           959   63  0.065693\n",
       "гражданский брак        4151  388  0.093471\n",
       "женат / замужем        12339  931  0.075452"
      ]
     },
     "metadata": {},
     "output_type": "display_data"
    }
   ],
   "source": [
    "family_agg = customers.groupby('family_status').agg({'debt':['count', 'sum', 'mean']})\n",
    "display(family_agg)"
   ]
  },
  {
   "cell_type": "markdown",
   "metadata": {},
   "source": [
    "**Вывод**\n",
    "\n",
    "Зависимость есть. Удивительно, но именно вдовцы/вдовы и люди в разводе более ответственно подходят к возврату кредита в срок. Возможно, что это как-то связано с предыдущим опытом, так как именно не женатые/не замужние люди чаще всего себе позволяют просрочки. В том числе это касается пар, которые еще не узаконили свои отношения. "
   ]
  },
  {
   "cell_type": "markdown",
   "metadata": {},
   "source": [
    "- Есть ли зависимость между уровнем дохода и возвратом кредита в срок?"
   ]
  },
  {
   "cell_type": "markdown",
   "metadata": {},
   "source": [
    "Теперь вызовем функцию к столбцу `total_income_id`, в котором мы создали категории уровня доходов:"
   ]
  },
  {
   "cell_type": "code",
   "execution_count": 34,
   "metadata": {},
   "outputs": [
    {
     "data": {
      "text/html": [
       "<div>\n",
       "<style scoped>\n",
       "    .dataframe tbody tr th:only-of-type {\n",
       "        vertical-align: middle;\n",
       "    }\n",
       "\n",
       "    .dataframe tbody tr th {\n",
       "        vertical-align: top;\n",
       "    }\n",
       "\n",
       "    .dataframe thead th {\n",
       "        text-align: right;\n",
       "    }\n",
       "</style>\n",
       "<table border=\"1\" class=\"dataframe\">\n",
       "  <thead>\n",
       "    <tr style=\"text-align: right;\">\n",
       "      <th></th>\n",
       "      <th>debt</th>\n",
       "    </tr>\n",
       "    <tr>\n",
       "      <th>total_income_id</th>\n",
       "      <th></th>\n",
       "    </tr>\n",
       "  </thead>\n",
       "  <tbody>\n",
       "    <tr>\n",
       "      <td>низкий</td>\n",
       "      <td>0.061828</td>\n",
       "    </tr>\n",
       "    <tr>\n",
       "      <td>высокий</td>\n",
       "      <td>0.077143</td>\n",
       "    </tr>\n",
       "    <tr>\n",
       "      <td>средний</td>\n",
       "      <td>0.080909</td>\n",
       "    </tr>\n",
       "    <tr>\n",
       "      <td>выше среднего</td>\n",
       "      <td>0.087729</td>\n",
       "    </tr>\n",
       "  </tbody>\n",
       "</table>\n",
       "</div>"
      ],
      "text/plain": [
       "                     debt\n",
       "total_income_id          \n",
       "низкий           0.061828\n",
       "высокий          0.077143\n",
       "средний          0.080909\n",
       "выше среднего    0.087729"
      ]
     },
     "execution_count": 34,
     "metadata": {},
     "output_type": "execute_result"
    }
   ],
   "source": [
    "relation('total_income_id')"
   ]
  },
  {
   "cell_type": "markdown",
   "metadata": {},
   "source": [
    "**Вывод**\n",
    "\n",
    "Клиенты с наименьшим доходом менее склонны к просрочкам, при этом по остальным категориям разброс небольшой и вряд ли можно сказать, что есть прямая зависимость уровня дохода и возвратом кредита в срок. Возможно, это связано с тем, что люди с наименьшим уровнем дохода ответственнее относятся к распределению своих денег, больше боятся за свой бюджет и как следствие внимательнее следят за возвратом кредита в срок."
   ]
  },
  {
   "cell_type": "markdown",
   "metadata": {},
   "source": [
    "- Как разные цели кредита влияют на его возврат в срок?"
   ]
  },
  {
   "cell_type": "markdown",
   "metadata": {},
   "source": [
    "И в заключении создадим сводную таблицу, которая поможет ответить на последний вопрос:"
   ]
  },
  {
   "cell_type": "code",
   "execution_count": 35,
   "metadata": {},
   "outputs": [
    {
     "data": {
      "text/html": [
       "<div>\n",
       "<style scoped>\n",
       "    .dataframe tbody tr th:only-of-type {\n",
       "        vertical-align: middle;\n",
       "    }\n",
       "\n",
       "    .dataframe tbody tr th {\n",
       "        vertical-align: top;\n",
       "    }\n",
       "\n",
       "    .dataframe thead th {\n",
       "        text-align: right;\n",
       "    }\n",
       "</style>\n",
       "<table border=\"1\" class=\"dataframe\">\n",
       "  <thead>\n",
       "    <tr style=\"text-align: right;\">\n",
       "      <th></th>\n",
       "      <th>debt</th>\n",
       "      <th>total</th>\n",
       "      <th>%</th>\n",
       "    </tr>\n",
       "    <tr>\n",
       "      <th>purpose_categories</th>\n",
       "      <th></th>\n",
       "      <th></th>\n",
       "      <th></th>\n",
       "    </tr>\n",
       "  </thead>\n",
       "  <tbody>\n",
       "    <tr>\n",
       "      <td>недвижимость</td>\n",
       "      <td>474</td>\n",
       "      <td>6351</td>\n",
       "      <td>0.074634</td>\n",
       "    </tr>\n",
       "    <tr>\n",
       "      <td>жилье</td>\n",
       "      <td>308</td>\n",
       "      <td>4460</td>\n",
       "      <td>0.069058</td>\n",
       "    </tr>\n",
       "    <tr>\n",
       "      <td>автомобиль</td>\n",
       "      <td>403</td>\n",
       "      <td>4306</td>\n",
       "      <td>0.093590</td>\n",
       "    </tr>\n",
       "    <tr>\n",
       "      <td>образование</td>\n",
       "      <td>370</td>\n",
       "      <td>4013</td>\n",
       "      <td>0.092200</td>\n",
       "    </tr>\n",
       "    <tr>\n",
       "      <td>свадьба</td>\n",
       "      <td>186</td>\n",
       "      <td>2324</td>\n",
       "      <td>0.080034</td>\n",
       "    </tr>\n",
       "  </tbody>\n",
       "</table>\n",
       "</div>"
      ],
      "text/plain": [
       "                    debt  total         %\n",
       "purpose_categories                       \n",
       "недвижимость         474   6351  0.074634\n",
       "жилье                308   4460  0.069058\n",
       "автомобиль           403   4306  0.093590\n",
       "образование          370   4013  0.092200\n",
       "свадьба              186   2324  0.080034"
      ]
     },
     "metadata": {},
     "output_type": "display_data"
    }
   ],
   "source": [
    "purpose_pivot = customers.pivot_table(index = 'purpose_categories', values = 'debt', aggfunc = ['sum', 'count', 'mean'])\n",
    "purpose_pivot.columns = ['debt', 'total', '%']\n",
    "purpose_pivot = purpose_pivot.sort_values(by = ['total'], ascending = False)\n",
    "display(purpose_pivot)"
   ]
  },
  {
   "cell_type": "markdown",
   "metadata": {},
   "source": [
    "**Вывод**\n",
    "\n",
    "Разница есть и заметная. Заемщики, которые берут кредит на недвижимость, более ответственны. Скорее всего это связано с тем, что в случае проблем с выплатой и затягиванияем решения вопроса, банк может через суд отобрать это имущество на реализацию. Странно, что с автомобилями такая гипотеза не работает, но и недвижимость, как правило, стоит в разы больше автомобиля. "
   ]
  },
  {
   "cell_type": "markdown",
   "metadata": {},
   "source": [
    "## Шаг 4. Общий вывод"
   ]
  },
  {
   "cell_type": "markdown",
   "metadata": {},
   "source": [
    "**Вывод**\n",
    "\n",
    "В общем и целом можно утверждать - наличие/отсутствие детей, семейное положение и уровень дохода определенно влияют на возврат кредита в срок. Мы ознакомились с имеющимися данными, провели тщательную предобработку, заполнив пропуски и категоризировав нужные группы, что позволило ответить на интересующие вопросы исследования. То есть, ответ на первые три вопроса - да, зависимость есть. Разные цели кредита также по разному влияют на возврат кредита в срок. \n",
    "\n",
    "Идеального клиента не существует, но если смотреть на результаты исследования, то наиболее ответственными являются клиенты, которые соответствуют этим параметрам:\n",
    "- нет детей;\n",
    "- вдовец/вдова;\n",
    "- низкий доход;\n",
    "- цель кредита - недвижимость. \n",
    "\n",
    "На основе этой информации скоринговую модель можно доработать, чтобы она более лояльно относилась к заемщикам с такими параметрами при проверке заявки, так как это в итоге снизит количество просрочек, как следствие снизит убытки банка из-за меньшего количества невозвратов и из-за меньших расходов на методы возврата долга."
   ]
  }
 ],
 "metadata": {
  "ExecuteTimeLog": [
   {
    "duration": 772,
    "start_time": "2021-12-09T16:15:08.909Z"
   },
   {
    "duration": 63,
    "start_time": "2021-12-09T16:16:07.436Z"
   },
   {
    "duration": 72,
    "start_time": "2021-12-09T16:16:25.045Z"
   },
   {
    "duration": 59,
    "start_time": "2021-12-09T19:35:34.413Z"
   },
   {
    "duration": 388,
    "start_time": "2021-12-09T19:35:50.013Z"
   },
   {
    "duration": 56,
    "start_time": "2021-12-09T19:37:47.815Z"
   },
   {
    "duration": 288,
    "start_time": "2021-12-10T17:03:12.709Z"
   },
   {
    "duration": 677,
    "start_time": "2021-12-10T17:03:18.886Z"
   },
   {
    "duration": 22,
    "start_time": "2021-12-10T17:03:19.566Z"
   },
   {
    "duration": 11,
    "start_time": "2021-12-10T17:06:33.081Z"
   },
   {
    "duration": 10,
    "start_time": "2021-12-10T17:07:16.600Z"
   },
   {
    "duration": 271,
    "start_time": "2021-12-10T17:36:22.904Z"
   },
   {
    "duration": 3,
    "start_time": "2021-12-10T17:36:32.464Z"
   },
   {
    "duration": 45,
    "start_time": "2021-12-10T17:37:18.178Z"
   },
   {
    "duration": 12,
    "start_time": "2021-12-10T17:37:20.672Z"
   },
   {
    "duration": 11,
    "start_time": "2021-12-10T17:37:25.807Z"
   },
   {
    "duration": 4,
    "start_time": "2021-12-10T17:37:34.895Z"
   },
   {
    "duration": 285,
    "start_time": "2021-12-10T17:38:11.952Z"
   },
   {
    "duration": 10,
    "start_time": "2021-12-10T17:38:19.248Z"
   },
   {
    "duration": 8,
    "start_time": "2021-12-10T17:47:05.605Z"
   },
   {
    "duration": 9,
    "start_time": "2021-12-10T17:47:09.756Z"
   },
   {
    "duration": 9,
    "start_time": "2021-12-10T17:47:32.453Z"
   },
   {
    "duration": 279,
    "start_time": "2021-12-12T13:08:09.331Z"
   },
   {
    "duration": 318,
    "start_time": "2021-12-12T13:08:15.444Z"
   },
   {
    "duration": 680,
    "start_time": "2021-12-12T13:08:24.560Z"
   },
   {
    "duration": 18,
    "start_time": "2021-12-12T13:08:25.242Z"
   },
   {
    "duration": 12,
    "start_time": "2021-12-12T13:08:25.262Z"
   },
   {
    "duration": 9,
    "start_time": "2021-12-12T13:08:25.276Z"
   },
   {
    "duration": 11,
    "start_time": "2021-12-12T13:08:25.287Z"
   },
   {
    "duration": 10,
    "start_time": "2021-12-12T13:08:29.363Z"
   },
   {
    "duration": 9,
    "start_time": "2021-12-12T13:08:36.206Z"
   },
   {
    "duration": 10,
    "start_time": "2021-12-12T13:08:40.454Z"
   },
   {
    "duration": 19,
    "start_time": "2021-12-12T13:08:53.538Z"
   },
   {
    "duration": 11,
    "start_time": "2021-12-12T13:15:00.558Z"
   },
   {
    "duration": 14,
    "start_time": "2021-12-12T13:34:25.882Z"
   },
   {
    "duration": 76,
    "start_time": "2021-12-12T13:40:24.008Z"
   },
   {
    "duration": 124,
    "start_time": "2021-12-12T13:40:54.559Z"
   },
   {
    "duration": 10,
    "start_time": "2021-12-12T13:41:20.353Z"
   },
   {
    "duration": 11,
    "start_time": "2021-12-12T13:41:25.679Z"
   },
   {
    "duration": 82,
    "start_time": "2021-12-12T13:42:31.795Z"
   },
   {
    "duration": 15,
    "start_time": "2021-12-12T13:44:01.868Z"
   },
   {
    "duration": 10,
    "start_time": "2021-12-12T13:44:37.099Z"
   },
   {
    "duration": 21,
    "start_time": "2021-12-12T13:44:49.589Z"
   },
   {
    "duration": 10,
    "start_time": "2021-12-12T13:44:55.582Z"
   },
   {
    "duration": 474,
    "start_time": "2021-12-12T13:48:53.359Z"
   },
   {
    "duration": 8,
    "start_time": "2021-12-12T13:50:07.568Z"
   },
   {
    "duration": 14,
    "start_time": "2021-12-12T13:54:31.402Z"
   },
   {
    "duration": 13,
    "start_time": "2021-12-12T13:54:43.978Z"
   },
   {
    "duration": 15,
    "start_time": "2021-12-12T13:55:19.321Z"
   },
   {
    "duration": 14,
    "start_time": "2021-12-12T13:55:33.729Z"
   },
   {
    "duration": 444,
    "start_time": "2021-12-12T14:03:23.737Z"
   },
   {
    "duration": 4,
    "start_time": "2021-12-12T14:03:34.554Z"
   },
   {
    "duration": 251,
    "start_time": "2021-12-12T14:07:18.954Z"
   },
   {
    "duration": 7,
    "start_time": "2021-12-12T14:07:30.618Z"
   },
   {
    "duration": 10,
    "start_time": "2021-12-12T14:07:38.909Z"
   },
   {
    "duration": 35,
    "start_time": "2021-12-12T14:07:45.918Z"
   },
   {
    "duration": 6,
    "start_time": "2021-12-12T14:08:43.928Z"
   },
   {
    "duration": 14,
    "start_time": "2021-12-12T14:08:55.505Z"
   },
   {
    "duration": 6,
    "start_time": "2021-12-12T14:09:00.008Z"
   },
   {
    "duration": 11,
    "start_time": "2021-12-12T15:09:22.371Z"
   },
   {
    "duration": 9,
    "start_time": "2021-12-12T15:09:33.506Z"
   },
   {
    "duration": 6,
    "start_time": "2021-12-12T15:11:02.489Z"
   },
   {
    "duration": 235,
    "start_time": "2021-12-12T15:13:34.470Z"
   },
   {
    "duration": 3,
    "start_time": "2021-12-12T15:13:40.846Z"
   },
   {
    "duration": 4,
    "start_time": "2021-12-12T15:13:54.117Z"
   },
   {
    "duration": 274,
    "start_time": "2021-12-12T15:14:05.482Z"
   },
   {
    "duration": 5,
    "start_time": "2021-12-12T15:14:11.763Z"
   },
   {
    "duration": 76,
    "start_time": "2021-12-12T15:15:32.399Z"
   },
   {
    "duration": 5,
    "start_time": "2021-12-12T15:15:39.238Z"
   },
   {
    "duration": 6,
    "start_time": "2021-12-12T15:15:41.299Z"
   },
   {
    "duration": 77,
    "start_time": "2021-12-12T15:16:07.940Z"
   },
   {
    "duration": 230,
    "start_time": "2021-12-12T15:21:45.791Z"
   },
   {
    "duration": 246,
    "start_time": "2021-12-12T15:21:53.360Z"
   },
   {
    "duration": 268,
    "start_time": "2021-12-12T15:22:00.199Z"
   },
   {
    "duration": 13,
    "start_time": "2021-12-12T15:22:15.870Z"
   },
   {
    "duration": 5,
    "start_time": "2021-12-12T15:22:22.831Z"
   },
   {
    "duration": 16,
    "start_time": "2021-12-12T15:26:26.191Z"
   },
   {
    "duration": 258,
    "start_time": "2021-12-12T15:26:48.081Z"
   },
   {
    "duration": 16,
    "start_time": "2021-12-12T15:26:53.477Z"
   },
   {
    "duration": 32,
    "start_time": "2021-12-12T15:28:10.888Z"
   },
   {
    "duration": 18,
    "start_time": "2021-12-12T15:29:52.630Z"
   },
   {
    "duration": 233,
    "start_time": "2021-12-12T15:30:29.630Z"
   },
   {
    "duration": 16,
    "start_time": "2021-12-12T15:30:35.360Z"
   },
   {
    "duration": 5,
    "start_time": "2021-12-12T15:36:03.911Z"
   },
   {
    "duration": 12,
    "start_time": "2021-12-12T15:39:27.839Z"
   },
   {
    "duration": 7,
    "start_time": "2021-12-12T15:39:35.930Z"
   },
   {
    "duration": 16,
    "start_time": "2021-12-12T15:39:49.459Z"
   },
   {
    "duration": 14,
    "start_time": "2021-12-12T15:40:55.233Z"
   },
   {
    "duration": 17,
    "start_time": "2021-12-12T15:41:26.571Z"
   },
   {
    "duration": 649,
    "start_time": "2021-12-12T15:42:02.345Z"
   },
   {
    "duration": 18,
    "start_time": "2021-12-12T15:42:02.996Z"
   },
   {
    "duration": 12,
    "start_time": "2021-12-12T15:42:03.016Z"
   },
   {
    "duration": 8,
    "start_time": "2021-12-12T15:42:03.030Z"
   },
   {
    "duration": 28,
    "start_time": "2021-12-12T15:42:03.039Z"
   },
   {
    "duration": 8,
    "start_time": "2021-12-12T15:42:03.069Z"
   },
   {
    "duration": 6,
    "start_time": "2021-12-12T15:42:03.079Z"
   },
   {
    "duration": 9,
    "start_time": "2021-12-12T15:42:03.087Z"
   },
   {
    "duration": 7,
    "start_time": "2021-12-12T15:42:03.097Z"
   },
   {
    "duration": 7,
    "start_time": "2021-12-12T15:42:03.106Z"
   },
   {
    "duration": 9,
    "start_time": "2021-12-12T15:42:03.115Z"
   },
   {
    "duration": 38,
    "start_time": "2021-12-12T15:42:03.125Z"
   },
   {
    "duration": 18,
    "start_time": "2021-12-12T15:42:03.165Z"
   },
   {
    "duration": 17,
    "start_time": "2021-12-12T15:42:03.184Z"
   },
   {
    "duration": 14,
    "start_time": "2021-12-12T15:42:03.203Z"
   },
   {
    "duration": 6,
    "start_time": "2021-12-12T16:05:29.148Z"
   },
   {
    "duration": 7,
    "start_time": "2021-12-12T17:04:53.608Z"
   },
   {
    "duration": 3,
    "start_time": "2021-12-12T17:06:38.108Z"
   },
   {
    "duration": 10,
    "start_time": "2021-12-12T17:08:17.729Z"
   },
   {
    "duration": 294,
    "start_time": "2021-12-12T17:09:02.300Z"
   },
   {
    "duration": 234,
    "start_time": "2021-12-12T17:09:22.637Z"
   },
   {
    "duration": 233,
    "start_time": "2021-12-12T17:10:42.546Z"
   },
   {
    "duration": 11,
    "start_time": "2021-12-12T17:10:49.572Z"
   },
   {
    "duration": 10,
    "start_time": "2021-12-12T17:10:55.249Z"
   },
   {
    "duration": 10,
    "start_time": "2021-12-12T17:10:59.118Z"
   },
   {
    "duration": 91,
    "start_time": "2021-12-12T17:11:03.489Z"
   },
   {
    "duration": 9,
    "start_time": "2021-12-12T17:11:21.729Z"
   },
   {
    "duration": 7,
    "start_time": "2021-12-12T17:15:48.333Z"
   },
   {
    "duration": 6,
    "start_time": "2021-12-12T17:15:50.720Z"
   },
   {
    "duration": 646,
    "start_time": "2021-12-12T17:18:11.057Z"
   },
   {
    "duration": 8,
    "start_time": "2021-12-12T17:19:18.201Z"
   },
   {
    "duration": 11,
    "start_time": "2021-12-12T17:23:11.246Z"
   },
   {
    "duration": 292,
    "start_time": "2021-12-12T17:24:12.428Z"
   },
   {
    "duration": 10,
    "start_time": "2021-12-12T17:24:16.078Z"
   },
   {
    "duration": 235,
    "start_time": "2021-12-12T17:26:10.508Z"
   },
   {
    "duration": 9,
    "start_time": "2021-12-12T17:26:16.460Z"
   },
   {
    "duration": 10,
    "start_time": "2021-12-12T17:28:19.997Z"
   },
   {
    "duration": 643,
    "start_time": "2021-12-12T17:34:24.370Z"
   },
   {
    "duration": 20,
    "start_time": "2021-12-12T17:34:25.015Z"
   },
   {
    "duration": 11,
    "start_time": "2021-12-12T17:34:25.037Z"
   },
   {
    "duration": 14,
    "start_time": "2021-12-12T17:34:25.050Z"
   },
   {
    "duration": 18,
    "start_time": "2021-12-12T17:34:25.065Z"
   },
   {
    "duration": 10,
    "start_time": "2021-12-12T17:34:25.084Z"
   },
   {
    "duration": 6,
    "start_time": "2021-12-12T17:34:25.095Z"
   },
   {
    "duration": 9,
    "start_time": "2021-12-12T17:34:25.102Z"
   },
   {
    "duration": 4,
    "start_time": "2021-12-12T17:34:25.113Z"
   },
   {
    "duration": 14,
    "start_time": "2021-12-12T17:34:25.119Z"
   },
   {
    "duration": 29,
    "start_time": "2021-12-12T17:34:25.135Z"
   },
   {
    "duration": 12,
    "start_time": "2021-12-12T17:34:25.166Z"
   },
   {
    "duration": 15,
    "start_time": "2021-12-12T17:34:25.180Z"
   },
   {
    "duration": 20,
    "start_time": "2021-12-12T17:34:25.197Z"
   },
   {
    "duration": 19,
    "start_time": "2021-12-12T17:34:25.219Z"
   },
   {
    "duration": 33,
    "start_time": "2021-12-12T17:34:25.239Z"
   },
   {
    "duration": 5,
    "start_time": "2021-12-12T17:34:25.274Z"
   },
   {
    "duration": 10,
    "start_time": "2021-12-12T17:34:25.281Z"
   },
   {
    "duration": 776,
    "start_time": "2021-12-12T17:34:25.293Z"
   },
   {
    "duration": 3,
    "start_time": "2021-12-13T08:13:57.148Z"
   },
   {
    "duration": 285,
    "start_time": "2021-12-13T08:15:32.347Z"
   },
   {
    "duration": 613,
    "start_time": "2021-12-13T08:15:40.705Z"
   },
   {
    "duration": 18,
    "start_time": "2021-12-13T08:15:41.320Z"
   },
   {
    "duration": 11,
    "start_time": "2021-12-13T08:15:41.340Z"
   },
   {
    "duration": 9,
    "start_time": "2021-12-13T08:15:41.353Z"
   },
   {
    "duration": 21,
    "start_time": "2021-12-13T08:15:41.363Z"
   },
   {
    "duration": 9,
    "start_time": "2021-12-13T08:15:41.386Z"
   },
   {
    "duration": 11,
    "start_time": "2021-12-13T08:15:41.397Z"
   },
   {
    "duration": 21,
    "start_time": "2021-12-13T08:15:41.410Z"
   },
   {
    "duration": 10,
    "start_time": "2021-12-13T08:15:41.434Z"
   },
   {
    "duration": 9,
    "start_time": "2021-12-13T08:15:41.446Z"
   },
   {
    "duration": 5,
    "start_time": "2021-12-13T08:15:41.457Z"
   },
   {
    "duration": 24,
    "start_time": "2021-12-13T08:15:41.464Z"
   },
   {
    "duration": 12,
    "start_time": "2021-12-13T08:15:41.489Z"
   },
   {
    "duration": 19,
    "start_time": "2021-12-13T08:15:41.502Z"
   },
   {
    "duration": 22,
    "start_time": "2021-12-13T08:15:41.523Z"
   },
   {
    "duration": 15,
    "start_time": "2021-12-13T08:15:41.549Z"
   },
   {
    "duration": 4,
    "start_time": "2021-12-13T08:15:41.566Z"
   },
   {
    "duration": 27,
    "start_time": "2021-12-13T08:15:41.571Z"
   },
   {
    "duration": 622,
    "start_time": "2021-12-13T08:15:41.600Z"
   },
   {
    "duration": 3,
    "start_time": "2021-12-13T08:15:42.224Z"
   },
   {
    "duration": 2689,
    "start_time": "2021-12-13T08:15:42.229Z"
   },
   {
    "duration": 2649,
    "start_time": "2021-12-13T08:15:58.191Z"
   },
   {
    "duration": 3,
    "start_time": "2021-12-13T08:16:47.685Z"
   },
   {
    "duration": 2536,
    "start_time": "2021-12-13T08:16:50.033Z"
   },
   {
    "duration": 2811,
    "start_time": "2021-12-13T08:17:30.477Z"
   },
   {
    "duration": 7,
    "start_time": "2021-12-13T08:18:11.482Z"
   },
   {
    "duration": 6,
    "start_time": "2021-12-13T08:23:34.988Z"
   },
   {
    "duration": 7036,
    "start_time": "2021-12-13T08:25:06.953Z"
   },
   {
    "duration": 5932,
    "start_time": "2021-12-13T08:25:37.303Z"
   },
   {
    "duration": 2890,
    "start_time": "2021-12-13T08:26:15.070Z"
   },
   {
    "duration": 2849,
    "start_time": "2021-12-13T08:26:24.652Z"
   },
   {
    "duration": 3,
    "start_time": "2021-12-13T08:28:51.652Z"
   },
   {
    "duration": 2931,
    "start_time": "2021-12-13T08:28:53.213Z"
   },
   {
    "duration": 16,
    "start_time": "2021-12-13T08:29:02.002Z"
   },
   {
    "duration": 15,
    "start_time": "2021-12-13T08:29:31.553Z"
   },
   {
    "duration": 81,
    "start_time": "2021-12-13T08:29:38.799Z"
   },
   {
    "duration": 6711,
    "start_time": "2021-12-13T10:24:05.777Z"
   },
   {
    "duration": 34,
    "start_time": "2021-12-13T10:25:00.307Z"
   },
   {
    "duration": 66,
    "start_time": "2021-12-13T10:25:18.853Z"
   },
   {
    "duration": 16,
    "start_time": "2021-12-13T10:29:08.857Z"
   },
   {
    "duration": 577,
    "start_time": "2021-12-13T10:29:24.630Z"
   },
   {
    "duration": 19,
    "start_time": "2021-12-13T10:29:25.208Z"
   },
   {
    "duration": 12,
    "start_time": "2021-12-13T10:29:25.229Z"
   },
   {
    "duration": 8,
    "start_time": "2021-12-13T10:29:25.243Z"
   },
   {
    "duration": 35,
    "start_time": "2021-12-13T10:29:25.253Z"
   },
   {
    "duration": 9,
    "start_time": "2021-12-13T10:29:25.290Z"
   },
   {
    "duration": 7,
    "start_time": "2021-12-13T10:29:25.300Z"
   },
   {
    "duration": 12,
    "start_time": "2021-12-13T10:29:25.309Z"
   },
   {
    "duration": 9,
    "start_time": "2021-12-13T10:29:25.323Z"
   },
   {
    "duration": 10,
    "start_time": "2021-12-13T10:29:25.334Z"
   },
   {
    "duration": 7,
    "start_time": "2021-12-13T10:29:25.346Z"
   },
   {
    "duration": 11,
    "start_time": "2021-12-13T10:29:25.355Z"
   },
   {
    "duration": 20,
    "start_time": "2021-12-13T10:29:25.368Z"
   },
   {
    "duration": 15,
    "start_time": "2021-12-13T10:29:25.390Z"
   },
   {
    "duration": 17,
    "start_time": "2021-12-13T10:29:25.407Z"
   },
   {
    "duration": 15,
    "start_time": "2021-12-13T10:29:25.426Z"
   },
   {
    "duration": 3,
    "start_time": "2021-12-13T10:29:25.443Z"
   },
   {
    "duration": 7,
    "start_time": "2021-12-13T10:29:25.448Z"
   },
   {
    "duration": 634,
    "start_time": "2021-12-13T10:29:25.489Z"
   },
   {
    "duration": 4,
    "start_time": "2021-12-13T10:29:26.125Z"
   },
   {
    "duration": 2999,
    "start_time": "2021-12-13T10:29:26.131Z"
   },
   {
    "duration": 54,
    "start_time": "2021-12-13T10:29:29.148Z"
   },
   {
    "duration": 21,
    "start_time": "2021-12-13T10:29:29.846Z"
   },
   {
    "duration": 9,
    "start_time": "2021-12-13T10:36:29.779Z"
   },
   {
    "duration": 26,
    "start_time": "2021-12-13T10:36:43.371Z"
   },
   {
    "duration": 9,
    "start_time": "2021-12-13T10:37:12.238Z"
   },
   {
    "duration": 13,
    "start_time": "2021-12-13T10:37:31.049Z"
   },
   {
    "duration": 28,
    "start_time": "2021-12-13T10:40:26.537Z"
   },
   {
    "duration": 27,
    "start_time": "2021-12-13T10:40:36.081Z"
   },
   {
    "duration": 17,
    "start_time": "2021-12-13T10:40:48.682Z"
   },
   {
    "duration": 89,
    "start_time": "2021-12-13T10:40:55.101Z"
   },
   {
    "duration": 13,
    "start_time": "2021-12-13T10:41:27.078Z"
   },
   {
    "duration": 3,
    "start_time": "2021-12-13T12:53:25.266Z"
   },
   {
    "duration": 15,
    "start_time": "2021-12-13T12:54:03.095Z"
   },
   {
    "duration": 27,
    "start_time": "2021-12-13T12:57:04.245Z"
   },
   {
    "duration": 615,
    "start_time": "2021-12-13T12:57:30.325Z"
   },
   {
    "duration": 19,
    "start_time": "2021-12-13T12:57:30.942Z"
   },
   {
    "duration": 21,
    "start_time": "2021-12-13T12:57:30.963Z"
   },
   {
    "duration": 18,
    "start_time": "2021-12-13T12:57:30.986Z"
   },
   {
    "duration": 16,
    "start_time": "2021-12-13T12:57:31.006Z"
   },
   {
    "duration": 11,
    "start_time": "2021-12-13T12:57:31.024Z"
   },
   {
    "duration": 7,
    "start_time": "2021-12-13T12:57:31.037Z"
   },
   {
    "duration": 23,
    "start_time": "2021-12-13T12:57:31.046Z"
   },
   {
    "duration": 17,
    "start_time": "2021-12-13T12:57:31.073Z"
   },
   {
    "duration": 6,
    "start_time": "2021-12-13T12:57:31.093Z"
   },
   {
    "duration": 12,
    "start_time": "2021-12-13T12:57:31.101Z"
   },
   {
    "duration": 17,
    "start_time": "2021-12-13T12:57:31.115Z"
   },
   {
    "duration": 12,
    "start_time": "2021-12-13T12:57:31.134Z"
   },
   {
    "duration": 40,
    "start_time": "2021-12-13T12:57:31.148Z"
   },
   {
    "duration": 18,
    "start_time": "2021-12-13T12:57:31.189Z"
   },
   {
    "duration": 15,
    "start_time": "2021-12-13T12:57:31.209Z"
   },
   {
    "duration": 5,
    "start_time": "2021-12-13T12:57:31.226Z"
   },
   {
    "duration": 10,
    "start_time": "2021-12-13T12:57:31.233Z"
   },
   {
    "duration": 675,
    "start_time": "2021-12-13T12:57:31.245Z"
   },
   {
    "duration": 4,
    "start_time": "2021-12-13T12:57:31.922Z"
   },
   {
    "duration": 3280,
    "start_time": "2021-12-13T12:57:31.927Z"
   },
   {
    "duration": 35,
    "start_time": "2021-12-13T12:57:35.224Z"
   },
   {
    "duration": 26,
    "start_time": "2021-12-13T12:57:35.261Z"
   },
   {
    "duration": 26,
    "start_time": "2021-12-13T12:57:35.289Z"
   },
   {
    "duration": 74,
    "start_time": "2021-12-13T12:57:35.317Z"
   },
   {
    "duration": 25,
    "start_time": "2021-12-13T12:57:35.393Z"
   },
   {
    "duration": 34,
    "start_time": "2021-12-13T12:57:35.429Z"
   },
   {
    "duration": 14,
    "start_time": "2021-12-13T12:57:35.465Z"
   },
   {
    "duration": 17,
    "start_time": "2021-12-13T12:58:05.687Z"
   },
   {
    "duration": 7,
    "start_time": "2021-12-13T12:58:28.592Z"
   },
   {
    "duration": 637,
    "start_time": "2021-12-13T12:58:34.769Z"
   },
   {
    "duration": 20,
    "start_time": "2021-12-13T12:58:35.408Z"
   },
   {
    "duration": 12,
    "start_time": "2021-12-13T12:58:35.430Z"
   },
   {
    "duration": 9,
    "start_time": "2021-12-13T12:58:35.444Z"
   },
   {
    "duration": 39,
    "start_time": "2021-12-13T12:58:35.455Z"
   },
   {
    "duration": 8,
    "start_time": "2021-12-13T12:58:35.496Z"
   },
   {
    "duration": 5,
    "start_time": "2021-12-13T12:58:35.506Z"
   },
   {
    "duration": 9,
    "start_time": "2021-12-13T12:58:35.513Z"
   },
   {
    "duration": 4,
    "start_time": "2021-12-13T12:58:35.524Z"
   },
   {
    "duration": 7,
    "start_time": "2021-12-13T12:58:35.529Z"
   },
   {
    "duration": 9,
    "start_time": "2021-12-13T12:58:35.538Z"
   },
   {
    "duration": 47,
    "start_time": "2021-12-13T12:58:35.549Z"
   },
   {
    "duration": 6,
    "start_time": "2021-12-13T12:58:35.598Z"
   },
   {
    "duration": 24,
    "start_time": "2021-12-13T12:58:35.605Z"
   },
   {
    "duration": 20,
    "start_time": "2021-12-13T12:58:35.631Z"
   },
   {
    "duration": 36,
    "start_time": "2021-12-13T12:58:35.653Z"
   },
   {
    "duration": 4,
    "start_time": "2021-12-13T12:58:35.691Z"
   },
   {
    "duration": 8,
    "start_time": "2021-12-13T12:58:35.697Z"
   },
   {
    "duration": 665,
    "start_time": "2021-12-13T12:58:35.707Z"
   },
   {
    "duration": 3,
    "start_time": "2021-12-13T12:58:36.374Z"
   },
   {
    "duration": 3227,
    "start_time": "2021-12-13T12:58:36.387Z"
   },
   {
    "duration": 24,
    "start_time": "2021-12-13T12:58:39.616Z"
   },
   {
    "duration": 13,
    "start_time": "2021-12-13T12:58:39.644Z"
   },
   {
    "duration": 33,
    "start_time": "2021-12-13T12:58:39.660Z"
   },
   {
    "duration": 19,
    "start_time": "2021-12-13T12:58:39.695Z"
   },
   {
    "duration": 11,
    "start_time": "2021-12-13T12:58:39.716Z"
   },
   {
    "duration": 9,
    "start_time": "2021-12-13T12:58:39.729Z"
   },
   {
    "duration": 49,
    "start_time": "2021-12-13T12:58:39.740Z"
   },
   {
    "duration": 19,
    "start_time": "2021-12-13T12:58:39.791Z"
   },
   {
    "duration": 12,
    "start_time": "2021-12-13T12:58:57.748Z"
   },
   {
    "duration": 17,
    "start_time": "2021-12-13T12:58:59.657Z"
   },
   {
    "duration": 81,
    "start_time": "2021-12-13T12:59:44.979Z"
   },
   {
    "duration": 10,
    "start_time": "2021-12-13T13:01:26.741Z"
   },
   {
    "duration": 420,
    "start_time": "2021-12-13T13:05:09.579Z"
   },
   {
    "duration": 252,
    "start_time": "2021-12-13T13:05:34.287Z"
   },
   {
    "duration": 11,
    "start_time": "2021-12-13T13:05:44.346Z"
   },
   {
    "duration": 8,
    "start_time": "2021-12-13T13:05:58.029Z"
   },
   {
    "duration": 11,
    "start_time": "2021-12-13T13:07:50.007Z"
   },
   {
    "duration": 10,
    "start_time": "2021-12-13T13:09:29.643Z"
   },
   {
    "duration": 11,
    "start_time": "2021-12-13T13:10:33.108Z"
   },
   {
    "duration": 9,
    "start_time": "2021-12-13T13:16:58.328Z"
   },
   {
    "duration": 80,
    "start_time": "2021-12-13T13:18:18.822Z"
   },
   {
    "duration": 9,
    "start_time": "2021-12-13T13:18:25.895Z"
   },
   {
    "duration": 10,
    "start_time": "2021-12-13T13:21:13.043Z"
   },
   {
    "duration": 10,
    "start_time": "2021-12-13T13:22:35.685Z"
   },
   {
    "duration": -2046,
    "start_time": "2021-12-14T07:26:30.982Z"
   },
   {
    "duration": -2054,
    "start_time": "2021-12-14T07:26:30.991Z"
   },
   {
    "duration": -2057,
    "start_time": "2021-12-14T07:26:30.995Z"
   },
   {
    "duration": -2066,
    "start_time": "2021-12-14T07:26:31.005Z"
   },
   {
    "duration": -2067,
    "start_time": "2021-12-14T07:26:31.008Z"
   },
   {
    "duration": -2068,
    "start_time": "2021-12-14T07:26:31.010Z"
   },
   {
    "duration": -2070,
    "start_time": "2021-12-14T07:26:31.014Z"
   },
   {
    "duration": -2071,
    "start_time": "2021-12-14T07:26:31.016Z"
   },
   {
    "duration": -2073,
    "start_time": "2021-12-14T07:26:31.019Z"
   },
   {
    "duration": -2075,
    "start_time": "2021-12-14T07:26:31.022Z"
   },
   {
    "duration": -2077,
    "start_time": "2021-12-14T07:26:31.025Z"
   },
   {
    "duration": -2078,
    "start_time": "2021-12-14T07:26:31.027Z"
   },
   {
    "duration": -2078,
    "start_time": "2021-12-14T07:26:31.029Z"
   },
   {
    "duration": -2079,
    "start_time": "2021-12-14T07:26:31.031Z"
   },
   {
    "duration": -2081,
    "start_time": "2021-12-14T07:26:31.034Z"
   },
   {
    "duration": -2082,
    "start_time": "2021-12-14T07:26:31.036Z"
   },
   {
    "duration": -2084,
    "start_time": "2021-12-14T07:26:31.039Z"
   },
   {
    "duration": -2084,
    "start_time": "2021-12-14T07:26:31.041Z"
   },
   {
    "duration": -2085,
    "start_time": "2021-12-14T07:26:31.043Z"
   },
   {
    "duration": -2086,
    "start_time": "2021-12-14T07:26:31.045Z"
   },
   {
    "duration": -2087,
    "start_time": "2021-12-14T07:26:31.047Z"
   },
   {
    "duration": -2089,
    "start_time": "2021-12-14T07:26:31.050Z"
   },
   {
    "duration": -2089,
    "start_time": "2021-12-14T07:26:31.052Z"
   },
   {
    "duration": -2090,
    "start_time": "2021-12-14T07:26:31.054Z"
   },
   {
    "duration": -2099,
    "start_time": "2021-12-14T07:26:31.064Z"
   },
   {
    "duration": -2101,
    "start_time": "2021-12-14T07:26:31.067Z"
   },
   {
    "duration": -2101,
    "start_time": "2021-12-14T07:26:31.069Z"
   },
   {
    "duration": -2103,
    "start_time": "2021-12-14T07:26:31.072Z"
   },
   {
    "duration": -2105,
    "start_time": "2021-12-14T07:26:31.075Z"
   },
   {
    "duration": -2106,
    "start_time": "2021-12-14T07:26:31.077Z"
   },
   {
    "duration": -2106,
    "start_time": "2021-12-14T07:26:31.079Z"
   },
   {
    "duration": -2107,
    "start_time": "2021-12-14T07:26:31.081Z"
   },
   {
    "duration": 908,
    "start_time": "2021-12-14T07:27:33.985Z"
   },
   {
    "duration": 31,
    "start_time": "2021-12-14T07:27:34.896Z"
   },
   {
    "duration": 40,
    "start_time": "2021-12-14T07:27:34.931Z"
   },
   {
    "duration": 34,
    "start_time": "2021-12-14T07:27:34.974Z"
   },
   {
    "duration": 46,
    "start_time": "2021-12-14T07:27:35.010Z"
   },
   {
    "duration": 32,
    "start_time": "2021-12-14T07:27:35.058Z"
   },
   {
    "duration": 29,
    "start_time": "2021-12-14T07:27:35.093Z"
   },
   {
    "duration": 25,
    "start_time": "2021-12-14T07:27:35.124Z"
   },
   {
    "duration": 23,
    "start_time": "2021-12-14T07:27:35.153Z"
   },
   {
    "duration": 29,
    "start_time": "2021-12-14T07:27:35.179Z"
   },
   {
    "duration": 22,
    "start_time": "2021-12-14T07:27:35.210Z"
   },
   {
    "duration": 24,
    "start_time": "2021-12-14T07:27:35.234Z"
   },
   {
    "duration": 36,
    "start_time": "2021-12-14T07:27:35.260Z"
   },
   {
    "duration": 41,
    "start_time": "2021-12-14T07:27:35.299Z"
   },
   {
    "duration": 28,
    "start_time": "2021-12-14T07:27:35.343Z"
   },
   {
    "duration": 25,
    "start_time": "2021-12-14T07:27:35.373Z"
   },
   {
    "duration": 15,
    "start_time": "2021-12-14T07:27:35.401Z"
   },
   {
    "duration": 28,
    "start_time": "2021-12-14T07:27:35.418Z"
   },
   {
    "duration": 994,
    "start_time": "2021-12-14T07:27:35.448Z"
   },
   {
    "duration": 3,
    "start_time": "2021-12-14T07:27:36.445Z"
   },
   {
    "duration": 3659,
    "start_time": "2021-12-14T07:27:36.451Z"
   },
   {
    "duration": 25,
    "start_time": "2021-12-14T07:27:40.112Z"
   },
   {
    "duration": 41,
    "start_time": "2021-12-14T07:27:40.141Z"
   },
   {
    "duration": 22,
    "start_time": "2021-12-14T07:27:40.185Z"
   },
   {
    "duration": 66,
    "start_time": "2021-12-14T07:27:40.210Z"
   },
   {
    "duration": 21,
    "start_time": "2021-12-14T07:27:40.279Z"
   },
   {
    "duration": 12,
    "start_time": "2021-12-14T07:27:40.306Z"
   },
   {
    "duration": 54,
    "start_time": "2021-12-14T07:27:40.321Z"
   },
   {
    "duration": 23,
    "start_time": "2021-12-14T07:27:40.378Z"
   },
   {
    "duration": 13,
    "start_time": "2021-12-14T07:27:40.404Z"
   },
   {
    "duration": 48,
    "start_time": "2021-12-14T07:27:40.420Z"
   },
   {
    "duration": 14,
    "start_time": "2021-12-14T07:27:40.470Z"
   },
   {
    "duration": 11,
    "start_time": "2021-12-14T07:39:28.515Z"
   },
   {
    "duration": 451,
    "start_time": "2021-12-14T18:40:25.627Z"
   },
   {
    "duration": 819,
    "start_time": "2021-12-14T18:40:33.703Z"
   },
   {
    "duration": 32,
    "start_time": "2021-12-14T18:40:34.525Z"
   },
   {
    "duration": 18,
    "start_time": "2021-12-14T18:40:34.560Z"
   },
   {
    "duration": 13,
    "start_time": "2021-12-14T18:40:34.581Z"
   },
   {
    "duration": 21,
    "start_time": "2021-12-14T18:40:34.597Z"
   },
   {
    "duration": 41,
    "start_time": "2021-12-14T18:40:34.621Z"
   },
   {
    "duration": 10,
    "start_time": "2021-12-14T18:40:34.664Z"
   },
   {
    "duration": 19,
    "start_time": "2021-12-14T18:40:34.678Z"
   },
   {
    "duration": 5,
    "start_time": "2021-12-14T18:40:34.700Z"
   },
   {
    "duration": 11,
    "start_time": "2021-12-14T18:40:34.708Z"
   },
   {
    "duration": 39,
    "start_time": "2021-12-14T18:40:34.722Z"
   },
   {
    "duration": 17,
    "start_time": "2021-12-14T18:40:34.764Z"
   },
   {
    "duration": 15,
    "start_time": "2021-12-14T18:40:34.784Z"
   },
   {
    "duration": 67,
    "start_time": "2021-12-14T18:40:34.802Z"
   },
   {
    "duration": 28,
    "start_time": "2021-12-14T18:40:34.872Z"
   },
   {
    "duration": 23,
    "start_time": "2021-12-14T18:40:34.903Z"
   },
   {
    "duration": 31,
    "start_time": "2021-12-14T18:40:34.929Z"
   },
   {
    "duration": 12,
    "start_time": "2021-12-14T18:40:34.963Z"
   },
   {
    "duration": 997,
    "start_time": "2021-12-14T18:40:34.978Z"
   },
   {
    "duration": 4,
    "start_time": "2021-12-14T18:40:35.978Z"
   },
   {
    "duration": 3756,
    "start_time": "2021-12-14T18:40:35.984Z"
   },
   {
    "duration": 37,
    "start_time": "2021-12-14T18:40:39.742Z"
   },
   {
    "duration": 18,
    "start_time": "2021-12-14T18:40:39.785Z"
   },
   {
    "duration": 19,
    "start_time": "2021-12-14T18:40:39.806Z"
   },
   {
    "duration": 40,
    "start_time": "2021-12-14T18:40:39.827Z"
   },
   {
    "duration": 31,
    "start_time": "2021-12-14T18:40:39.869Z"
   },
   {
    "duration": 20,
    "start_time": "2021-12-14T18:40:39.902Z"
   },
   {
    "duration": 45,
    "start_time": "2021-12-14T18:40:39.924Z"
   },
   {
    "duration": 23,
    "start_time": "2021-12-14T18:40:39.972Z"
   },
   {
    "duration": 23,
    "start_time": "2021-12-14T18:40:39.997Z"
   },
   {
    "duration": 46,
    "start_time": "2021-12-14T18:40:40.022Z"
   },
   {
    "duration": 13,
    "start_time": "2021-12-14T18:40:40.070Z"
   },
   {
    "duration": 13,
    "start_time": "2021-12-14T18:40:40.085Z"
   },
   {
    "duration": 6,
    "start_time": "2021-12-14T19:24:09.404Z"
   },
   {
    "duration": 138,
    "start_time": "2021-12-14T19:26:34.198Z"
   },
   {
    "duration": 15,
    "start_time": "2021-12-14T19:32:23.655Z"
   },
   {
    "duration": 16,
    "start_time": "2021-12-14T19:32:50.448Z"
   },
   {
    "duration": 26,
    "start_time": "2021-12-14T19:36:00.898Z"
   },
   {
    "duration": 522,
    "start_time": "2021-12-14T19:36:44.074Z"
   },
   {
    "duration": 27,
    "start_time": "2021-12-14T19:36:55.395Z"
   },
   {
    "duration": 26,
    "start_time": "2021-12-14T19:37:08.402Z"
   },
   {
    "duration": 18,
    "start_time": "2021-12-14T19:37:12.770Z"
   },
   {
    "duration": 20,
    "start_time": "2021-12-14T19:39:38.260Z"
   },
   {
    "duration": 23,
    "start_time": "2021-12-14T19:39:44.683Z"
   },
   {
    "duration": 22,
    "start_time": "2021-12-14T19:39:47.284Z"
   },
   {
    "duration": 864,
    "start_time": "2021-12-14T19:40:59.364Z"
   },
   {
    "duration": 33,
    "start_time": "2021-12-14T19:41:00.231Z"
   },
   {
    "duration": 22,
    "start_time": "2021-12-14T19:41:00.268Z"
   },
   {
    "duration": 14,
    "start_time": "2021-12-14T19:41:00.293Z"
   },
   {
    "duration": 26,
    "start_time": "2021-12-14T19:41:00.310Z"
   },
   {
    "duration": 31,
    "start_time": "2021-12-14T19:41:00.338Z"
   },
   {
    "duration": 7,
    "start_time": "2021-12-14T19:41:00.372Z"
   },
   {
    "duration": 24,
    "start_time": "2021-12-14T19:41:00.384Z"
   },
   {
    "duration": 56,
    "start_time": "2021-12-14T19:41:00.411Z"
   },
   {
    "duration": 551,
    "start_time": "2021-12-14T19:41:00.470Z"
   },
   {
    "duration": -435,
    "start_time": "2021-12-14T19:41:01.460Z"
   },
   {
    "duration": -436,
    "start_time": "2021-12-14T19:41:01.463Z"
   },
   {
    "duration": -437,
    "start_time": "2021-12-14T19:41:01.466Z"
   },
   {
    "duration": -440,
    "start_time": "2021-12-14T19:41:01.470Z"
   },
   {
    "duration": -442,
    "start_time": "2021-12-14T19:41:01.474Z"
   },
   {
    "duration": -444,
    "start_time": "2021-12-14T19:41:01.477Z"
   },
   {
    "duration": -445,
    "start_time": "2021-12-14T19:41:01.479Z"
   },
   {
    "duration": -447,
    "start_time": "2021-12-14T19:41:01.482Z"
   },
   {
    "duration": -449,
    "start_time": "2021-12-14T19:41:01.485Z"
   },
   {
    "duration": -452,
    "start_time": "2021-12-14T19:41:01.489Z"
   },
   {
    "duration": -459,
    "start_time": "2021-12-14T19:41:01.497Z"
   },
   {
    "duration": -460,
    "start_time": "2021-12-14T19:41:01.499Z"
   },
   {
    "duration": -462,
    "start_time": "2021-12-14T19:41:01.502Z"
   },
   {
    "duration": -464,
    "start_time": "2021-12-14T19:41:01.505Z"
   },
   {
    "duration": -467,
    "start_time": "2021-12-14T19:41:01.509Z"
   },
   {
    "duration": -469,
    "start_time": "2021-12-14T19:41:01.512Z"
   },
   {
    "duration": -470,
    "start_time": "2021-12-14T19:41:01.514Z"
   },
   {
    "duration": -471,
    "start_time": "2021-12-14T19:41:01.516Z"
   },
   {
    "duration": -473,
    "start_time": "2021-12-14T19:41:01.519Z"
   },
   {
    "duration": -475,
    "start_time": "2021-12-14T19:41:01.522Z"
   },
   {
    "duration": -478,
    "start_time": "2021-12-14T19:41:01.526Z"
   },
   {
    "duration": -479,
    "start_time": "2021-12-14T19:41:01.529Z"
   },
   {
    "duration": -481,
    "start_time": "2021-12-14T19:41:01.532Z"
   },
   {
    "duration": -481,
    "start_time": "2021-12-14T19:41:01.534Z"
   },
   {
    "duration": 22,
    "start_time": "2021-12-14T19:42:37.645Z"
   },
   {
    "duration": 23,
    "start_time": "2021-12-14T19:42:49.725Z"
   },
   {
    "duration": 22,
    "start_time": "2021-12-14T19:42:51.205Z"
   },
   {
    "duration": 22,
    "start_time": "2021-12-14T19:42:57.918Z"
   },
   {
    "duration": 37,
    "start_time": "2021-12-14T19:44:06.390Z"
   },
   {
    "duration": 28,
    "start_time": "2021-12-14T19:44:10.838Z"
   },
   {
    "duration": 836,
    "start_time": "2021-12-14T19:44:16.411Z"
   },
   {
    "duration": 32,
    "start_time": "2021-12-14T19:44:17.250Z"
   },
   {
    "duration": 15,
    "start_time": "2021-12-14T19:44:17.289Z"
   },
   {
    "duration": 12,
    "start_time": "2021-12-14T19:44:17.306Z"
   },
   {
    "duration": 68,
    "start_time": "2021-12-14T19:44:17.321Z"
   },
   {
    "duration": 12,
    "start_time": "2021-12-14T19:44:17.391Z"
   },
   {
    "duration": 6,
    "start_time": "2021-12-14T19:44:17.407Z"
   },
   {
    "duration": 48,
    "start_time": "2021-12-14T19:44:17.416Z"
   },
   {
    "duration": 13,
    "start_time": "2021-12-14T19:44:17.466Z"
   },
   {
    "duration": 6,
    "start_time": "2021-12-14T19:44:17.482Z"
   },
   {
    "duration": 7,
    "start_time": "2021-12-14T19:44:17.490Z"
   },
   {
    "duration": 8,
    "start_time": "2021-12-14T19:44:17.500Z"
   },
   {
    "duration": 63,
    "start_time": "2021-12-14T19:44:17.511Z"
   },
   {
    "duration": 14,
    "start_time": "2021-12-14T19:44:17.577Z"
   },
   {
    "duration": 24,
    "start_time": "2021-12-14T19:44:17.594Z"
   },
   {
    "duration": 58,
    "start_time": "2021-12-14T19:44:17.620Z"
   },
   {
    "duration": 21,
    "start_time": "2021-12-14T19:44:17.681Z"
   },
   {
    "duration": 5,
    "start_time": "2021-12-14T19:44:17.705Z"
   },
   {
    "duration": 15,
    "start_time": "2021-12-14T19:44:17.713Z"
   },
   {
    "duration": 983,
    "start_time": "2021-12-14T19:44:17.731Z"
   },
   {
    "duration": 4,
    "start_time": "2021-12-14T19:44:18.716Z"
   },
   {
    "duration": 4304,
    "start_time": "2021-12-14T19:44:18.726Z"
   },
   {
    "duration": 37,
    "start_time": "2021-12-14T19:44:23.033Z"
   },
   {
    "duration": 17,
    "start_time": "2021-12-14T19:44:23.073Z"
   },
   {
    "duration": 19,
    "start_time": "2021-12-14T19:44:23.092Z"
   },
   {
    "duration": 49,
    "start_time": "2021-12-14T19:44:23.113Z"
   },
   {
    "duration": 30,
    "start_time": "2021-12-14T19:44:23.165Z"
   },
   {
    "duration": 18,
    "start_time": "2021-12-14T19:44:23.198Z"
   },
   {
    "duration": 40,
    "start_time": "2021-12-14T19:44:23.219Z"
   },
   {
    "duration": 22,
    "start_time": "2021-12-14T19:44:23.261Z"
   },
   {
    "duration": 24,
    "start_time": "2021-12-14T19:44:23.285Z"
   },
   {
    "duration": 12,
    "start_time": "2021-12-14T19:44:23.311Z"
   },
   {
    "duration": 40,
    "start_time": "2021-12-14T19:44:23.325Z"
   },
   {
    "duration": 12,
    "start_time": "2021-12-14T19:44:23.367Z"
   },
   {
    "duration": 29,
    "start_time": "2021-12-14T19:44:29.551Z"
   },
   {
    "duration": 17,
    "start_time": "2021-12-14T19:44:32.870Z"
   },
   {
    "duration": 12,
    "start_time": "2021-12-14T19:57:38.332Z"
   },
   {
    "duration": 880,
    "start_time": "2021-12-14T19:59:41.157Z"
   },
   {
    "duration": 31,
    "start_time": "2021-12-14T19:59:42.039Z"
   },
   {
    "duration": 18,
    "start_time": "2021-12-14T19:59:42.073Z"
   },
   {
    "duration": 13,
    "start_time": "2021-12-14T19:59:42.094Z"
   },
   {
    "duration": 23,
    "start_time": "2021-12-14T19:59:42.109Z"
   },
   {
    "duration": 12,
    "start_time": "2021-12-14T19:59:42.160Z"
   },
   {
    "duration": 6,
    "start_time": "2021-12-14T19:59:42.175Z"
   },
   {
    "duration": 29,
    "start_time": "2021-12-14T19:59:42.187Z"
   },
   {
    "duration": 46,
    "start_time": "2021-12-14T19:59:42.220Z"
   },
   {
    "duration": 7,
    "start_time": "2021-12-14T19:59:42.272Z"
   },
   {
    "duration": 22,
    "start_time": "2021-12-14T19:59:42.281Z"
   },
   {
    "duration": 8,
    "start_time": "2021-12-14T19:59:42.306Z"
   },
   {
    "duration": 51,
    "start_time": "2021-12-14T19:59:42.317Z"
   },
   {
    "duration": 13,
    "start_time": "2021-12-14T19:59:42.371Z"
   },
   {
    "duration": 27,
    "start_time": "2021-12-14T19:59:42.386Z"
   },
   {
    "duration": 65,
    "start_time": "2021-12-14T19:59:42.416Z"
   },
   {
    "duration": 30,
    "start_time": "2021-12-14T19:59:42.484Z"
   },
   {
    "duration": 8,
    "start_time": "2021-12-14T19:59:42.517Z"
   },
   {
    "duration": 41,
    "start_time": "2021-12-14T19:59:42.527Z"
   },
   {
    "duration": 992,
    "start_time": "2021-12-14T19:59:42.571Z"
   },
   {
    "duration": 5,
    "start_time": "2021-12-14T19:59:43.566Z"
   },
   {
    "duration": 4835,
    "start_time": "2021-12-14T19:59:43.573Z"
   },
   {
    "duration": 46,
    "start_time": "2021-12-14T19:59:48.415Z"
   },
   {
    "duration": 25,
    "start_time": "2021-12-14T19:59:48.465Z"
   },
   {
    "duration": 23,
    "start_time": "2021-12-14T19:59:48.493Z"
   },
   {
    "duration": 42,
    "start_time": "2021-12-14T19:59:48.519Z"
   },
   {
    "duration": 15,
    "start_time": "2021-12-14T19:59:48.564Z"
   },
   {
    "duration": 21,
    "start_time": "2021-12-14T19:59:48.582Z"
   },
   {
    "duration": 864,
    "start_time": "2021-12-14T19:59:48.606Z"
   },
   {
    "duration": -425,
    "start_time": "2021-12-14T19:59:49.899Z"
   },
   {
    "duration": -426,
    "start_time": "2021-12-14T19:59:49.902Z"
   },
   {
    "duration": -424,
    "start_time": "2021-12-14T19:59:49.904Z"
   },
   {
    "duration": 15,
    "start_time": "2021-12-14T19:59:54.637Z"
   },
   {
    "duration": 17,
    "start_time": "2021-12-14T19:59:56.758Z"
   },
   {
    "duration": 16,
    "start_time": "2021-12-14T20:00:01.766Z"
   },
   {
    "duration": 14,
    "start_time": "2021-12-14T20:00:14.446Z"
   },
   {
    "duration": 18,
    "start_time": "2021-12-14T20:19:21.056Z"
   },
   {
    "duration": 12,
    "start_time": "2021-12-14T20:19:29.240Z"
   },
   {
    "duration": 12,
    "start_time": "2021-12-14T20:19:34.974Z"
   },
   {
    "duration": 15,
    "start_time": "2021-12-14T20:28:18.203Z"
   },
   {
    "duration": 414,
    "start_time": "2021-12-14T20:34:51.734Z"
   },
   {
    "duration": 13,
    "start_time": "2021-12-14T20:34:56.695Z"
   },
   {
    "duration": 452,
    "start_time": "2021-12-14T20:35:01.055Z"
   },
   {
    "duration": 15,
    "start_time": "2021-12-14T20:35:12.273Z"
   },
   {
    "duration": 795,
    "start_time": "2021-12-14T20:35:22.729Z"
   },
   {
    "duration": 13,
    "start_time": "2021-12-14T20:35:27.511Z"
   },
   {
    "duration": 15,
    "start_time": "2021-12-14T20:36:11.328Z"
   },
   {
    "duration": 15,
    "start_time": "2021-12-14T20:36:19.688Z"
   },
   {
    "duration": 416,
    "start_time": "2021-12-14T20:46:58.557Z"
   },
   {
    "duration": 3,
    "start_time": "2021-12-14T20:47:14.326Z"
   },
   {
    "duration": 13,
    "start_time": "2021-12-14T20:47:58.950Z"
   },
   {
    "duration": 23,
    "start_time": "2021-12-14T20:48:05.158Z"
   },
   {
    "duration": 137,
    "start_time": "2021-12-14T20:48:27.783Z"
   },
   {
    "duration": 12,
    "start_time": "2021-12-14T20:48:33.782Z"
   },
   {
    "duration": 13,
    "start_time": "2021-12-14T20:49:55.704Z"
   },
   {
    "duration": 24,
    "start_time": "2021-12-14T20:51:58.756Z"
   },
   {
    "duration": -375,
    "start_time": "2021-12-14T20:56:17.129Z"
   },
   {
    "duration": 912,
    "start_time": "2021-12-14T20:56:29.614Z"
   },
   {
    "duration": 67,
    "start_time": "2021-12-14T20:56:30.529Z"
   },
   {
    "duration": 16,
    "start_time": "2021-12-14T20:56:30.598Z"
   },
   {
    "duration": 14,
    "start_time": "2021-12-14T20:56:30.617Z"
   },
   {
    "duration": 24,
    "start_time": "2021-12-14T20:56:30.633Z"
   },
   {
    "duration": 16,
    "start_time": "2021-12-14T20:56:30.664Z"
   },
   {
    "duration": 6,
    "start_time": "2021-12-14T20:56:30.684Z"
   },
   {
    "duration": 31,
    "start_time": "2021-12-14T20:56:30.695Z"
   },
   {
    "duration": 12,
    "start_time": "2021-12-14T20:56:30.729Z"
   },
   {
    "duration": 9,
    "start_time": "2021-12-14T20:56:30.743Z"
   },
   {
    "duration": 16,
    "start_time": "2021-12-14T20:56:30.755Z"
   },
   {
    "duration": 9,
    "start_time": "2021-12-14T20:56:30.776Z"
   },
   {
    "duration": 20,
    "start_time": "2021-12-14T20:56:30.788Z"
   },
   {
    "duration": 15,
    "start_time": "2021-12-14T20:56:30.810Z"
   },
   {
    "duration": 25,
    "start_time": "2021-12-14T20:56:30.828Z"
   },
   {
    "duration": 43,
    "start_time": "2021-12-14T20:56:30.855Z"
   },
   {
    "duration": 23,
    "start_time": "2021-12-14T20:56:30.900Z"
   },
   {
    "duration": 6,
    "start_time": "2021-12-14T20:56:30.925Z"
   },
   {
    "duration": 13,
    "start_time": "2021-12-14T20:56:30.933Z"
   },
   {
    "duration": 1136,
    "start_time": "2021-12-14T20:56:30.949Z"
   },
   {
    "duration": 3,
    "start_time": "2021-12-14T20:56:32.088Z"
   },
   {
    "duration": 4752,
    "start_time": "2021-12-14T20:56:32.093Z"
   },
   {
    "duration": 38,
    "start_time": "2021-12-14T20:56:36.858Z"
   },
   {
    "duration": 20,
    "start_time": "2021-12-14T20:56:36.900Z"
   },
   {
    "duration": 51,
    "start_time": "2021-12-14T20:56:36.923Z"
   },
   {
    "duration": 10,
    "start_time": "2021-12-14T20:56:36.978Z"
   },
   {
    "duration": 13,
    "start_time": "2021-12-14T20:56:36.991Z"
   },
   {
    "duration": 20,
    "start_time": "2021-12-14T20:56:37.006Z"
   },
   {
    "duration": 61,
    "start_time": "2021-12-14T20:56:37.029Z"
   },
   {
    "duration": 14,
    "start_time": "2021-12-14T20:56:37.092Z"
   },
   {
    "duration": -380,
    "start_time": "2021-12-14T20:56:49.097Z"
   },
   {
    "duration": -387,
    "start_time": "2021-12-14T20:56:49.106Z"
   },
   {
    "duration": -422,
    "start_time": "2021-12-14T20:56:49.142Z"
   },
   {
    "duration": -425,
    "start_time": "2021-12-14T20:56:49.146Z"
   },
   {
    "duration": -381,
    "start_time": "2021-12-14T20:57:09.687Z"
   },
   {
    "duration": 9935,
    "start_time": "2021-12-14T20:58:18.494Z"
   },
   {
    "duration": 12134,
    "start_time": "2021-12-14T20:59:06.488Z"
   },
   {
    "duration": -392,
    "start_time": "2021-12-14T20:59:19.017Z"
   },
   {
    "duration": 10548,
    "start_time": "2021-12-14T21:00:31.401Z"
   },
   {
    "duration": 17,
    "start_time": "2021-12-14T21:00:47.321Z"
   },
   {
    "duration": 20,
    "start_time": "2021-12-14T21:01:03.721Z"
   },
   {
    "duration": 17,
    "start_time": "2021-12-14T21:01:50.082Z"
   },
   {
    "duration": 417,
    "start_time": "2021-12-14T21:02:05.825Z"
   },
   {
    "duration": 19,
    "start_time": "2021-12-14T21:02:09.978Z"
   },
   {
    "duration": 926,
    "start_time": "2021-12-14T21:02:49.194Z"
   },
   {
    "duration": 516,
    "start_time": "2021-12-14T21:03:07.747Z"
   },
   {
    "duration": 236,
    "start_time": "2021-12-14T21:03:23.699Z"
   },
   {
    "duration": 455,
    "start_time": "2021-12-14T21:03:53.755Z"
   },
   {
    "duration": -365,
    "start_time": "2021-12-14T21:05:06.927Z"
   },
   {
    "duration": 11531,
    "start_time": "2021-12-14T21:05:23.227Z"
   },
   {
    "duration": -370,
    "start_time": "2021-12-14T21:05:35.132Z"
   },
   {
    "duration": 17,
    "start_time": "2021-12-14T21:05:37.915Z"
   },
   {
    "duration": 11258,
    "start_time": "2021-12-14T21:05:40.676Z"
   },
   {
    "duration": 418,
    "start_time": "2021-12-14T21:06:25.253Z"
   },
   {
    "duration": 20,
    "start_time": "2021-12-14T21:06:46.388Z"
   },
   {
    "duration": 17,
    "start_time": "2021-12-14T21:08:07.273Z"
   },
   {
    "duration": 197,
    "start_time": "2021-12-14T21:08:50.357Z"
   },
   {
    "duration": 13,
    "start_time": "2021-12-14T21:11:14.943Z"
   },
   {
    "duration": 15,
    "start_time": "2021-12-14T21:12:37.287Z"
   },
   {
    "duration": 128,
    "start_time": "2021-12-14T21:12:57.073Z"
   },
   {
    "duration": 401,
    "start_time": "2021-12-14T21:17:01.216Z"
   },
   {
    "duration": 402,
    "start_time": "2021-12-14T21:17:08.127Z"
   },
   {
    "duration": 409,
    "start_time": "2021-12-14T21:17:37.817Z"
   },
   {
    "duration": 417,
    "start_time": "2021-12-14T21:17:45.593Z"
   },
   {
    "duration": 419,
    "start_time": "2021-12-14T21:18:00.129Z"
   },
   {
    "duration": 940,
    "start_time": "2021-12-14T21:18:06.830Z"
   },
   {
    "duration": 33,
    "start_time": "2021-12-14T21:18:07.774Z"
   },
   {
    "duration": 15,
    "start_time": "2021-12-14T21:18:07.810Z"
   },
   {
    "duration": 37,
    "start_time": "2021-12-14T21:18:07.828Z"
   },
   {
    "duration": 23,
    "start_time": "2021-12-14T21:18:07.869Z"
   },
   {
    "duration": 14,
    "start_time": "2021-12-14T21:18:07.894Z"
   },
   {
    "duration": 6,
    "start_time": "2021-12-14T21:18:07.910Z"
   },
   {
    "duration": 73,
    "start_time": "2021-12-14T21:18:07.919Z"
   },
   {
    "duration": 13,
    "start_time": "2021-12-14T21:18:07.998Z"
   },
   {
    "duration": 6,
    "start_time": "2021-12-14T21:18:08.013Z"
   },
   {
    "duration": 8,
    "start_time": "2021-12-14T21:18:08.021Z"
   },
   {
    "duration": 43,
    "start_time": "2021-12-14T21:18:08.031Z"
   },
   {
    "duration": 20,
    "start_time": "2021-12-14T21:18:08.077Z"
   },
   {
    "duration": 13,
    "start_time": "2021-12-14T21:18:08.099Z"
   },
   {
    "duration": 64,
    "start_time": "2021-12-14T21:18:08.114Z"
   },
   {
    "duration": 27,
    "start_time": "2021-12-14T21:18:08.181Z"
   },
   {
    "duration": 24,
    "start_time": "2021-12-14T21:18:08.211Z"
   },
   {
    "duration": 32,
    "start_time": "2021-12-14T21:18:08.237Z"
   },
   {
    "duration": 15,
    "start_time": "2021-12-14T21:18:08.274Z"
   },
   {
    "duration": 1036,
    "start_time": "2021-12-14T21:18:08.292Z"
   },
   {
    "duration": 4,
    "start_time": "2021-12-14T21:18:09.331Z"
   },
   {
    "duration": 4211,
    "start_time": "2021-12-14T21:18:09.338Z"
   },
   {
    "duration": 28,
    "start_time": "2021-12-14T21:18:13.565Z"
   },
   {
    "duration": 19,
    "start_time": "2021-12-14T21:18:13.596Z"
   },
   {
    "duration": 51,
    "start_time": "2021-12-14T21:18:13.618Z"
   },
   {
    "duration": 13,
    "start_time": "2021-12-14T21:18:13.672Z"
   },
   {
    "duration": 15,
    "start_time": "2021-12-14T21:18:13.688Z"
   },
   {
    "duration": 23,
    "start_time": "2021-12-14T21:18:13.705Z"
   },
   {
    "duration": 28,
    "start_time": "2021-12-14T21:18:13.759Z"
   },
   {
    "duration": 14,
    "start_time": "2021-12-14T21:18:13.790Z"
   },
   {
    "duration": 67,
    "start_time": "2021-12-14T21:18:13.807Z"
   },
   {
    "duration": 13,
    "start_time": "2021-12-14T21:18:13.877Z"
   },
   {
    "duration": -403,
    "start_time": "2021-12-14T21:18:14.932Z"
   },
   {
    "duration": 395,
    "start_time": "2021-12-14T21:18:21.537Z"
   },
   {
    "duration": 465,
    "start_time": "2021-12-14T21:19:18.929Z"
   },
   {
    "duration": 46,
    "start_time": "2021-12-14T21:19:37.553Z"
   },
   {
    "duration": 49,
    "start_time": "2021-12-14T21:19:47.945Z"
   },
   {
    "duration": 48,
    "start_time": "2021-12-14T21:20:38.914Z"
   },
   {
    "duration": 69,
    "start_time": "2021-12-14T21:20:46.513Z"
   },
   {
    "duration": 41,
    "start_time": "2021-12-14T21:21:00.578Z"
   },
   {
    "duration": 20,
    "start_time": "2021-12-14T21:21:10.698Z"
   },
   {
    "duration": 43,
    "start_time": "2021-12-14T21:21:17.298Z"
   },
   {
    "duration": 54,
    "start_time": "2021-12-14T21:22:12.538Z"
   },
   {
    "duration": 56,
    "start_time": "2021-12-14T21:24:39.942Z"
   },
   {
    "duration": 812,
    "start_time": "2021-12-15T04:44:20.013Z"
   },
   {
    "duration": 29,
    "start_time": "2021-12-15T04:44:20.828Z"
   },
   {
    "duration": 33,
    "start_time": "2021-12-15T04:44:20.860Z"
   },
   {
    "duration": 20,
    "start_time": "2021-12-15T04:44:20.895Z"
   },
   {
    "duration": 30,
    "start_time": "2021-12-15T04:44:20.917Z"
   },
   {
    "duration": 28,
    "start_time": "2021-12-15T04:44:20.950Z"
   },
   {
    "duration": 18,
    "start_time": "2021-12-15T04:44:20.980Z"
   },
   {
    "duration": 46,
    "start_time": "2021-12-15T04:44:21.002Z"
   },
   {
    "duration": 14,
    "start_time": "2021-12-15T04:44:21.051Z"
   },
   {
    "duration": 21,
    "start_time": "2021-12-15T04:44:21.067Z"
   },
   {
    "duration": 29,
    "start_time": "2021-12-15T04:44:21.090Z"
   },
   {
    "duration": 19,
    "start_time": "2021-12-15T04:44:21.121Z"
   },
   {
    "duration": 26,
    "start_time": "2021-12-15T04:44:21.143Z"
   },
   {
    "duration": 26,
    "start_time": "2021-12-15T04:44:21.171Z"
   },
   {
    "duration": 33,
    "start_time": "2021-12-15T04:44:21.200Z"
   },
   {
    "duration": 28,
    "start_time": "2021-12-15T04:44:21.236Z"
   },
   {
    "duration": 19,
    "start_time": "2021-12-15T04:44:21.267Z"
   },
   {
    "duration": 20,
    "start_time": "2021-12-15T04:44:21.289Z"
   },
   {
    "duration": 30,
    "start_time": "2021-12-15T04:44:21.311Z"
   },
   {
    "duration": 891,
    "start_time": "2021-12-15T04:44:21.344Z"
   },
   {
    "duration": 4,
    "start_time": "2021-12-15T04:44:22.237Z"
   },
   {
    "duration": 3995,
    "start_time": "2021-12-15T04:44:22.244Z"
   },
   {
    "duration": 26,
    "start_time": "2021-12-15T04:44:26.245Z"
   },
   {
    "duration": 16,
    "start_time": "2021-12-15T04:44:26.274Z"
   },
   {
    "duration": 45,
    "start_time": "2021-12-15T04:44:26.292Z"
   },
   {
    "duration": 21,
    "start_time": "2021-12-15T04:44:26.339Z"
   },
   {
    "duration": 20,
    "start_time": "2021-12-15T04:44:26.363Z"
   },
   {
    "duration": 45,
    "start_time": "2021-12-15T04:44:26.386Z"
   },
   {
    "duration": 20,
    "start_time": "2021-12-15T04:44:26.434Z"
   },
   {
    "duration": 13,
    "start_time": "2021-12-15T04:44:26.457Z"
   },
   {
    "duration": 53,
    "start_time": "2021-12-15T04:44:26.472Z"
   },
   {
    "duration": 13,
    "start_time": "2021-12-15T04:44:26.528Z"
   },
   {
    "duration": 44,
    "start_time": "2021-12-15T04:44:26.543Z"
   },
   {
    "duration": 17,
    "start_time": "2021-12-15T04:49:25.231Z"
   },
   {
    "duration": 338,
    "start_time": "2021-12-15T05:55:11.059Z"
   },
   {
    "duration": 740,
    "start_time": "2021-12-15T05:55:18.366Z"
   },
   {
    "duration": 30,
    "start_time": "2021-12-15T05:55:19.109Z"
   },
   {
    "duration": 16,
    "start_time": "2021-12-15T05:55:19.142Z"
   },
   {
    "duration": 11,
    "start_time": "2021-12-15T05:55:19.161Z"
   },
   {
    "duration": 15,
    "start_time": "2021-12-15T05:55:19.175Z"
   },
   {
    "duration": 12,
    "start_time": "2021-12-15T05:55:19.223Z"
   },
   {
    "duration": 5,
    "start_time": "2021-12-15T05:55:19.237Z"
   },
   {
    "duration": 24,
    "start_time": "2021-12-15T05:55:19.245Z"
   },
   {
    "duration": 11,
    "start_time": "2021-12-15T05:55:19.272Z"
   },
   {
    "duration": 43,
    "start_time": "2021-12-15T05:55:19.285Z"
   },
   {
    "duration": 7,
    "start_time": "2021-12-15T05:55:19.330Z"
   },
   {
    "duration": 8,
    "start_time": "2021-12-15T05:55:19.339Z"
   },
   {
    "duration": 16,
    "start_time": "2021-12-15T05:55:19.349Z"
   },
   {
    "duration": 12,
    "start_time": "2021-12-15T05:55:19.368Z"
   },
   {
    "duration": 21,
    "start_time": "2021-12-15T05:55:19.424Z"
   },
   {
    "duration": 23,
    "start_time": "2021-12-15T05:55:19.448Z"
   },
   {
    "duration": 50,
    "start_time": "2021-12-15T05:55:19.473Z"
   },
   {
    "duration": 9,
    "start_time": "2021-12-15T05:55:19.525Z"
   },
   {
    "duration": 12,
    "start_time": "2021-12-15T05:55:19.537Z"
   },
   {
    "duration": 886,
    "start_time": "2021-12-15T05:55:19.552Z"
   },
   {
    "duration": 4,
    "start_time": "2021-12-15T05:55:20.441Z"
   },
   {
    "duration": 3741,
    "start_time": "2021-12-15T05:55:20.447Z"
   },
   {
    "duration": 35,
    "start_time": "2021-12-15T05:55:24.193Z"
   },
   {
    "duration": 17,
    "start_time": "2021-12-15T05:55:24.231Z"
   },
   {
    "duration": 18,
    "start_time": "2021-12-15T05:55:24.251Z"
   },
   {
    "duration": 10,
    "start_time": "2021-12-15T05:55:24.272Z"
   },
   {
    "duration": 48,
    "start_time": "2021-12-15T05:55:24.284Z"
   },
   {
    "duration": 22,
    "start_time": "2021-12-15T05:55:24.334Z"
   },
   {
    "duration": 19,
    "start_time": "2021-12-15T05:55:24.358Z"
   },
   {
    "duration": 47,
    "start_time": "2021-12-15T05:55:24.380Z"
   },
   {
    "duration": 14,
    "start_time": "2021-12-15T05:55:24.429Z"
   },
   {
    "duration": 13,
    "start_time": "2021-12-15T05:55:24.446Z"
   },
   {
    "duration": 20,
    "start_time": "2021-12-15T05:55:24.461Z"
   },
   {
    "duration": 49,
    "start_time": "2021-12-15T05:55:24.484Z"
   },
   {
    "duration": 41,
    "start_time": "2021-12-15T05:55:24.535Z"
   }
  ],
  "kernelspec": {
   "display_name": "Python 3 (ipykernel)",
   "language": "python",
   "name": "python3"
  },
  "language_info": {
   "codemirror_mode": {
    "name": "ipython",
    "version": 3
   },
   "file_extension": ".py",
   "mimetype": "text/x-python",
   "name": "python",
   "nbconvert_exporter": "python",
   "pygments_lexer": "ipython3",
   "version": "3.9.5"
  },
  "toc": {
   "base_numbering": 1,
   "nav_menu": {},
   "number_sections": false,
   "sideBar": true,
   "skip_h1_title": true,
   "title_cell": "Table of Contents",
   "title_sidebar": "Contents",
   "toc_cell": false,
   "toc_position": {},
   "toc_section_display": true,
   "toc_window_display": true
  }
 },
 "nbformat": 4,
 "nbformat_minor": 2
}
