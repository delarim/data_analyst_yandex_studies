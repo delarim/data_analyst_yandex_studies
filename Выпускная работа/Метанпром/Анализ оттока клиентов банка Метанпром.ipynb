{
 "cells": [
  {
   "cell_type": "markdown",
   "metadata": {},
   "source": [
    "## Анализ оттока клиентов банка «Метанпром»"
   ]
  },
  {
   "cell_type": "markdown",
   "metadata": {},
   "source": [
    "Нам поступила задача от регионального банка «Метанпром» на анализ оттока клиентов. Банк располагается в Ярославле и областных городах: Ростов Великий и Рыбинск. Анализ покажет, как клиенты пользуются услугами, а так же поможет составить портрет клиентов, которые склонны уходить из банка.\n",
    "\n",
    "По итогам исследования нужно будет подготовить презентацию, чтобы отразить основные выводы, которые помогут менеджерам банка увидеть ясную картину. Помимо этого составим ряд рекомендаций по уменьшению оттока клиентов, в том числе по созданию и предложению новых продуктов.\n",
    "\n",
    "Также потребуется создать дашборд, который будет в себе содержать:\n",
    "- диаграмму, отображающую распределение заработной платы клиентов;\n",
    "- индикатор, отображающий процент клиентов, имеющих кредитную карту;\n",
    "- фильтр, позволяющий выбрать ушёл клиент или нет.\n",
    "\n",
    "**Цель работы:**\n",
    "- выявить прогноз вероятности оттока клиентов;\n",
    "- сформировать типичные портреты клиентов, в том числе выделить несколько наиболее ярких групп и охарактеризовать их основные свойства;\n",
    "- проанализировать основные признаки, наиболее сильно влияющие на отток;\n",
    "- сформулировать основные выводы и предложить рекомендации для стратегии взаимодействия с клиентами и их удержания, по каждому сегменту.\n",
    "\n",
    "**Ход работы:**\n",
    "\n",
    "Все необходимые данные получим из файла `bank_dataset.csv`. Нам понадобится для начала изучение общей информации, так как сейчас нет информации о качестве данных. Проверим данные на наличие всевозможных неточностей, которые могут помешать правильным результатам. Затем проведем исследовательский анализ данных (EDA), построим модель прогнозирования оттока клиентов и сделаем кластеризацию клиентов. В итоге сформулируем вывод и подготовим рекомендации по работе с клиентами.\n",
    "\n",
    "Таким образом, вся работа пройдет в пять шагов:\n",
    "\n",
    "1. Загрузка данных и изучение общей информации.\n",
    "2. Исследовательский анализ данных (EDA).\n",
    "3. Модель прогнозирования оттока клиентов.\n",
    "4. Кластеризация клиентов. \n",
    "5. Общий вывод и рекомендации."
   ]
  },
  {
   "cell_type": "markdown",
   "metadata": {},
   "source": [
    "⚠️\n",
    "\n",
    "Импортируем сразу же нужные библиотеки, затем в процессе будем добавлять при необходимости и другие:"
   ]
  },
  {
   "cell_type": "code",
   "execution_count": 1,
   "metadata": {},
   "outputs": [],
   "source": [
    "import pandas as pd\n",
    "import seaborn as sns\n",
    "import scipy.stats as st\n",
    "import matplotlib.pyplot as plt\n",
    "\n",
    "from sklearn.ensemble import RandomForestClassifier\n",
    "from sklearn.metrics import accuracy_score, precision_score, recall_score\n",
    "from sklearn.linear_model import LogisticRegression\n",
    "from sklearn.model_selection import train_test_split\n",
    "from sklearn.preprocessing import StandardScaler\n",
    "from sklearn.cluster import KMeans\n",
    "\n",
    "from scipy.cluster.hierarchy import dendrogram, linkage"
   ]
  },
  {
   "cell_type": "markdown",
   "metadata": {},
   "source": [
    "### 1. Загрузка данных и изучение общей информации"
   ]
  },
  {
   "cell_type": "markdown",
   "metadata": {},
   "source": [
    "Начнем работу с загрузки данных из файла. Изучим общую информацию и ознакомимся с данными."
   ]
  },
  {
   "cell_type": "markdown",
   "metadata": {},
   "source": [
    "---"
   ]
  },
  {
   "cell_type": "markdown",
   "metadata": {},
   "source": [
    "Загружаем файл с данными отсюда `/datasets/bank_dataset.csv`, сохраняем его в переменную `df`. Сразу выведем случайные десять строк таблицы, чтобы взглянуть на данные впервые и сразу в разных местах. Для этого вызовем функцию `sample()` с параметром `random_state`"
   ]
  },
  {
   "cell_type": "code",
   "execution_count": 2,
   "metadata": {
    "scrolled": true
   },
   "outputs": [
    {
     "data": {
      "text/html": [
       "<div>\n",
       "<style scoped>\n",
       "    .dataframe tbody tr th:only-of-type {\n",
       "        vertical-align: middle;\n",
       "    }\n",
       "\n",
       "    .dataframe tbody tr th {\n",
       "        vertical-align: top;\n",
       "    }\n",
       "\n",
       "    .dataframe thead th {\n",
       "        text-align: right;\n",
       "    }\n",
       "</style>\n",
       "<table border=\"1\" class=\"dataframe\">\n",
       "  <thead>\n",
       "    <tr style=\"text-align: right;\">\n",
       "      <th></th>\n",
       "      <th>userid</th>\n",
       "      <th>score</th>\n",
       "      <th>City</th>\n",
       "      <th>Gender</th>\n",
       "      <th>Age</th>\n",
       "      <th>Objects</th>\n",
       "      <th>Balance</th>\n",
       "      <th>Products</th>\n",
       "      <th>CreditCard</th>\n",
       "      <th>Loyalty</th>\n",
       "      <th>estimated_salary</th>\n",
       "      <th>Churn</th>\n",
       "    </tr>\n",
       "  </thead>\n",
       "  <tbody>\n",
       "    <tr>\n",
       "      <th>9953</th>\n",
       "      <td>15698688</td>\n",
       "      <td>550</td>\n",
       "      <td>Ярославль</td>\n",
       "      <td>М</td>\n",
       "      <td>47</td>\n",
       "      <td>2</td>\n",
       "      <td>NaN</td>\n",
       "      <td>2</td>\n",
       "      <td>1</td>\n",
       "      <td>1</td>\n",
       "      <td>97057.28</td>\n",
       "      <td>0</td>\n",
       "    </tr>\n",
       "    <tr>\n",
       "      <th>3850</th>\n",
       "      <td>15818029</td>\n",
       "      <td>680</td>\n",
       "      <td>Ярославль</td>\n",
       "      <td>М</td>\n",
       "      <td>34</td>\n",
       "      <td>3</td>\n",
       "      <td>143292.95</td>\n",
       "      <td>1</td>\n",
       "      <td>1</td>\n",
       "      <td>0</td>\n",
       "      <td>66526.01</td>\n",
       "      <td>0</td>\n",
       "    </tr>\n",
       "    <tr>\n",
       "      <th>4962</th>\n",
       "      <td>15707824</td>\n",
       "      <td>531</td>\n",
       "      <td>Ярославль</td>\n",
       "      <td>Ж</td>\n",
       "      <td>42</td>\n",
       "      <td>2</td>\n",
       "      <td>NaN</td>\n",
       "      <td>2</td>\n",
       "      <td>0</td>\n",
       "      <td>1</td>\n",
       "      <td>90537.47</td>\n",
       "      <td>0</td>\n",
       "    </tr>\n",
       "    <tr>\n",
       "      <th>3886</th>\n",
       "      <td>15763677</td>\n",
       "      <td>710</td>\n",
       "      <td>Ростов Великий</td>\n",
       "      <td>М</td>\n",
       "      <td>34</td>\n",
       "      <td>8</td>\n",
       "      <td>147833.30</td>\n",
       "      <td>2</td>\n",
       "      <td>0</td>\n",
       "      <td>1</td>\n",
       "      <td>1561.58</td>\n",
       "      <td>0</td>\n",
       "    </tr>\n",
       "    <tr>\n",
       "      <th>5437</th>\n",
       "      <td>15776212</td>\n",
       "      <td>543</td>\n",
       "      <td>Ростов Великий</td>\n",
       "      <td>М</td>\n",
       "      <td>30</td>\n",
       "      <td>6</td>\n",
       "      <td>73481.05</td>\n",
       "      <td>1</td>\n",
       "      <td>1</td>\n",
       "      <td>1</td>\n",
       "      <td>176692.65</td>\n",
       "      <td>0</td>\n",
       "    </tr>\n",
       "    <tr>\n",
       "      <th>8517</th>\n",
       "      <td>15714536</td>\n",
       "      <td>688</td>\n",
       "      <td>Ярославль</td>\n",
       "      <td>М</td>\n",
       "      <td>20</td>\n",
       "      <td>8</td>\n",
       "      <td>137624.40</td>\n",
       "      <td>2</td>\n",
       "      <td>1</td>\n",
       "      <td>1</td>\n",
       "      <td>197582.79</td>\n",
       "      <td>0</td>\n",
       "    </tr>\n",
       "    <tr>\n",
       "      <th>2041</th>\n",
       "      <td>15752582</td>\n",
       "      <td>840</td>\n",
       "      <td>Ярославль</td>\n",
       "      <td>Ж</td>\n",
       "      <td>39</td>\n",
       "      <td>1</td>\n",
       "      <td>94968.97</td>\n",
       "      <td>1</td>\n",
       "      <td>1</td>\n",
       "      <td>0</td>\n",
       "      <td>84487.62</td>\n",
       "      <td>0</td>\n",
       "    </tr>\n",
       "    <tr>\n",
       "      <th>1989</th>\n",
       "      <td>15665190</td>\n",
       "      <td>695</td>\n",
       "      <td>Рыбинск</td>\n",
       "      <td>М</td>\n",
       "      <td>28</td>\n",
       "      <td>0</td>\n",
       "      <td>96020.86</td>\n",
       "      <td>1</td>\n",
       "      <td>1</td>\n",
       "      <td>1</td>\n",
       "      <td>57992.49</td>\n",
       "      <td>0</td>\n",
       "    </tr>\n",
       "    <tr>\n",
       "      <th>1933</th>\n",
       "      <td>15858296</td>\n",
       "      <td>666</td>\n",
       "      <td>Ростов Великий</td>\n",
       "      <td>М</td>\n",
       "      <td>74</td>\n",
       "      <td>7</td>\n",
       "      <td>105102.50</td>\n",
       "      <td>1</td>\n",
       "      <td>1</td>\n",
       "      <td>1</td>\n",
       "      <td>46172.47</td>\n",
       "      <td>0</td>\n",
       "    </tr>\n",
       "    <tr>\n",
       "      <th>9984</th>\n",
       "      <td>15738911</td>\n",
       "      <td>602</td>\n",
       "      <td>Ростов Великий</td>\n",
       "      <td>М</td>\n",
       "      <td>35</td>\n",
       "      <td>7</td>\n",
       "      <td>90602.42</td>\n",
       "      <td>2</td>\n",
       "      <td>1</td>\n",
       "      <td>1</td>\n",
       "      <td>51695.41</td>\n",
       "      <td>0</td>\n",
       "    </tr>\n",
       "  </tbody>\n",
       "</table>\n",
       "</div>"
      ],
      "text/plain": [
       "        userid  score            City Gender  Age  Objects    Balance  \\\n",
       "9953  15698688    550       Ярославль      М   47        2        NaN   \n",
       "3850  15818029    680       Ярославль      М   34        3  143292.95   \n",
       "4962  15707824    531       Ярославль      Ж   42        2        NaN   \n",
       "3886  15763677    710  Ростов Великий      М   34        8  147833.30   \n",
       "5437  15776212    543  Ростов Великий      М   30        6   73481.05   \n",
       "8517  15714536    688       Ярославль      М   20        8  137624.40   \n",
       "2041  15752582    840       Ярославль      Ж   39        1   94968.97   \n",
       "1989  15665190    695         Рыбинск      М   28        0   96020.86   \n",
       "1933  15858296    666  Ростов Великий      М   74        7  105102.50   \n",
       "9984  15738911    602  Ростов Великий      М   35        7   90602.42   \n",
       "\n",
       "      Products  CreditCard  Loyalty  estimated_salary  Churn  \n",
       "9953         2           1        1          97057.28      0  \n",
       "3850         1           1        0          66526.01      0  \n",
       "4962         2           0        1          90537.47      0  \n",
       "3886         2           0        1           1561.58      0  \n",
       "5437         1           1        1         176692.65      0  \n",
       "8517         2           1        1         197582.79      0  \n",
       "2041         1           1        0          84487.62      0  \n",
       "1989         1           1        1          57992.49      0  \n",
       "1933         1           1        1          46172.47      0  \n",
       "9984         2           1        1          51695.41      0  "
      ]
     },
     "metadata": {},
     "output_type": "display_data"
    }
   ],
   "source": [
    "df = pd.read_csv('/datasets/bank_dataset.csv')\n",
    "display(df.sample(n = 10, random_state = 1))"
   ]
  },
  {
   "cell_type": "markdown",
   "metadata": {},
   "source": [
    "На первый взгляд не видно чего-то аномального или неправильного, лишь пропуски в столбце `Balance` бросаются в глаза и отсутствие «змеиного регистра» в названиях некоторых столбцов, но всем этим мы займемся позднее.  Познакомимся с данными при помощи вызова `info()`, изучим их. В том числе посмотрим на типы данных, количество столбцов и строк"
   ]
  },
  {
   "cell_type": "code",
   "execution_count": 3,
   "metadata": {
    "scrolled": true
   },
   "outputs": [
    {
     "name": "stdout",
     "output_type": "stream",
     "text": [
      "<class 'pandas.core.frame.DataFrame'>\n",
      "RangeIndex: 10000 entries, 0 to 9999\n",
      "Data columns (total 12 columns):\n",
      " #   Column            Non-Null Count  Dtype  \n",
      "---  ------            --------------  -----  \n",
      " 0   userid            10000 non-null  int64  \n",
      " 1   score             10000 non-null  int64  \n",
      " 2   City              10000 non-null  object \n",
      " 3   Gender            10000 non-null  object \n",
      " 4   Age               10000 non-null  int64  \n",
      " 5   Objects           10000 non-null  int64  \n",
      " 6   Balance           6383 non-null   float64\n",
      " 7   Products          10000 non-null  int64  \n",
      " 8   CreditCard        10000 non-null  int64  \n",
      " 9   Loyalty           10000 non-null  int64  \n",
      " 10  estimated_salary  10000 non-null  float64\n",
      " 11  Churn             10000 non-null  int64  \n",
      "dtypes: float64(2), int64(8), object(2)\n",
      "memory usage: 937.6+ KB\n"
     ]
    }
   ],
   "source": [
    "df.info()"
   ]
  },
  {
   "cell_type": "markdown",
   "metadata": {},
   "source": [
    "Файл `bank_dataset.csv` содержит данные о клиентах банка «Метанпром». Всего в таблице 12 столбцов и 10 000 строк. Типы данных: `float`, `int` и `object`. Согласно документации к данным:\n",
    "- `userid` — идентификатор пользователя;\n",
    "- `score` — баллы кредитного скоринга;\n",
    "- `City` — город;\n",
    "- `Gender` — пол;\n",
    "- `Age` — возраст;\n",
    "- `Objects` — количество объектов в собственности;\n",
    "- `Balance` — баланс на счёте;\n",
    "- `Products` — количество продуктов, которыми пользуется клиент;\n",
    "- `CreditCard` — есть ли кредитная карта;\n",
    "- `Loyalty` — активный клиент;\n",
    "- `estimated_salary` — заработная плата клиента;\n",
    "- `Churn` — ушёл или нет.\n",
    "\n",
    "Ранее заметили пропущенные значения, но теперь видим, что их очень много. В следующем шаге изучим их более детально, сделаем предположение о причинах их появления и будем принимать решение. Типы данных правильные, в них ничего менять не нужно."
   ]
  },
  {
   "cell_type": "markdown",
   "metadata": {},
   "source": [
    "**Вывод по шагу:**\n",
    "\n",
    "Мы загрузили данные и провели с ними первичное ознакомление. Выяснили, что у нас всего в таблице 12 столбцов и 10 000 строк. Типы данных: float, int и object. Уже на этом этапе заметили моменты, которые стоит оптимизировать в следующем шаге. "
   ]
  },
  {
   "cell_type": "markdown",
   "metadata": {},
   "source": [
    "### 2. Исследовательский анализ данных (EDA)"
   ]
  },
  {
   "cell_type": "markdown",
   "metadata": {},
   "source": [
    "В рамках исследовательского анализа данных (EDA):\n",
    "- поищем недочеты в данных и при необходимости устраним их, в том числе оптимизируем ранее обнаруженные моменты;\n",
    "- изучим сводную информацию;\n",
    "- изучим средние значения признаков для групп с оттоком и без;\n",
    "- построим графики распределения признаков в разрезе оттока;\n",
    "- построим матрицу корреляций и отобразим её;\n",
    "- проверим гипотезы. "
   ]
  },
  {
   "cell_type": "markdown",
   "metadata": {},
   "source": [
    "---"
   ]
  },
  {
   "cell_type": "markdown",
   "metadata": {},
   "source": [
    "#### 2.1 Оптимизация данных"
   ]
  },
  {
   "cell_type": "markdown",
   "metadata": {},
   "source": [
    "Приведем в порядок названия столбцов, сделав их по правилу «змеиного регистра»"
   ]
  },
  {
   "cell_type": "code",
   "execution_count": 4,
   "metadata": {},
   "outputs": [],
   "source": [
    "df.columns = [x.lower() for x in df.columns.values]"
   ]
  },
  {
   "cell_type": "markdown",
   "metadata": {},
   "source": [
    "Проверим, есть ли в данных дубликаты"
   ]
  },
  {
   "cell_type": "code",
   "execution_count": 5,
   "metadata": {
    "scrolled": true
   },
   "outputs": [
    {
     "data": {
      "text/plain": [
       "0"
      ]
     },
     "execution_count": 5,
     "metadata": {},
     "output_type": "execute_result"
    }
   ],
   "source": [
    "df.duplicated().sum()"
   ]
  },
  {
   "cell_type": "markdown",
   "metadata": {},
   "source": [
    "Убедимся в том, что в значениях столбцов `city` и `gender` все в порядке в плане уникальности"
   ]
  },
  {
   "cell_type": "code",
   "execution_count": 6,
   "metadata": {
    "scrolled": true
   },
   "outputs": [
    {
     "data": {
      "text/plain": [
       "array(['Ярославль', 'Рыбинск', 'Ростов Великий'], dtype=object)"
      ]
     },
     "metadata": {},
     "output_type": "display_data"
    },
    {
     "data": {
      "text/plain": [
       "array(['Ж', 'М'], dtype=object)"
      ]
     },
     "metadata": {},
     "output_type": "display_data"
    }
   ],
   "source": [
    "display(df['city'].unique())\n",
    "display(df['gender'].unique())\n"
   ]
  },
  {
   "cell_type": "markdown",
   "metadata": {},
   "source": [
    "И что в столбце `userid` каждый идентификатор пользователя уникален"
   ]
  },
  {
   "cell_type": "code",
   "execution_count": 7,
   "metadata": {},
   "outputs": [
    {
     "data": {
      "text/plain": [
       "10000"
      ]
     },
     "execution_count": 7,
     "metadata": {},
     "output_type": "execute_result"
    }
   ],
   "source": [
    "df['userid'].value_counts().sum()"
   ]
  },
  {
   "cell_type": "markdown",
   "metadata": {},
   "source": [
    "Ранее заметили, что в данных очень много пропущенных значений. Выясним, сколько это в процентах и по количеству"
   ]
  },
  {
   "cell_type": "code",
   "execution_count": 8,
   "metadata": {
    "scrolled": false
   },
   "outputs": [
    {
     "data": {
      "text/html": [
       "<style  type=\"text/css\" >\n",
       "#T_f783a_row0_col0,#T_f783a_row1_col0,#T_f783a_row2_col0,#T_f783a_row3_col0,#T_f783a_row4_col0,#T_f783a_row5_col0,#T_f783a_row7_col0,#T_f783a_row8_col0,#T_f783a_row9_col0,#T_f783a_row10_col0,#T_f783a_row11_col0{\n",
       "            background-color:  #fff7fb;\n",
       "            color:  #000000;\n",
       "        }#T_f783a_row6_col0{\n",
       "            background-color:  #023858;\n",
       "            color:  #f1f1f1;\n",
       "        }</style><table id=\"T_f783a_\" ><thead>    <tr>        <th class=\"blank level0\" ></th>        <th class=\"col_heading level0 col0\" >0</th>    </tr></thead><tbody>\n",
       "                <tr>\n",
       "                        <th id=\"T_f783a_level0_row0\" class=\"row_heading level0 row0\" >userid</th>\n",
       "                        <td id=\"T_f783a_row0_col0\" class=\"data row0 col0\" >0.000000</td>\n",
       "            </tr>\n",
       "            <tr>\n",
       "                        <th id=\"T_f783a_level0_row1\" class=\"row_heading level0 row1\" >score</th>\n",
       "                        <td id=\"T_f783a_row1_col0\" class=\"data row1 col0\" >0.000000</td>\n",
       "            </tr>\n",
       "            <tr>\n",
       "                        <th id=\"T_f783a_level0_row2\" class=\"row_heading level0 row2\" >city</th>\n",
       "                        <td id=\"T_f783a_row2_col0\" class=\"data row2 col0\" >0.000000</td>\n",
       "            </tr>\n",
       "            <tr>\n",
       "                        <th id=\"T_f783a_level0_row3\" class=\"row_heading level0 row3\" >gender</th>\n",
       "                        <td id=\"T_f783a_row3_col0\" class=\"data row3 col0\" >0.000000</td>\n",
       "            </tr>\n",
       "            <tr>\n",
       "                        <th id=\"T_f783a_level0_row4\" class=\"row_heading level0 row4\" >age</th>\n",
       "                        <td id=\"T_f783a_row4_col0\" class=\"data row4 col0\" >0.000000</td>\n",
       "            </tr>\n",
       "            <tr>\n",
       "                        <th id=\"T_f783a_level0_row5\" class=\"row_heading level0 row5\" >objects</th>\n",
       "                        <td id=\"T_f783a_row5_col0\" class=\"data row5 col0\" >0.000000</td>\n",
       "            </tr>\n",
       "            <tr>\n",
       "                        <th id=\"T_f783a_level0_row6\" class=\"row_heading level0 row6\" >balance</th>\n",
       "                        <td id=\"T_f783a_row6_col0\" class=\"data row6 col0\" >36.170000</td>\n",
       "            </tr>\n",
       "            <tr>\n",
       "                        <th id=\"T_f783a_level0_row7\" class=\"row_heading level0 row7\" >products</th>\n",
       "                        <td id=\"T_f783a_row7_col0\" class=\"data row7 col0\" >0.000000</td>\n",
       "            </tr>\n",
       "            <tr>\n",
       "                        <th id=\"T_f783a_level0_row8\" class=\"row_heading level0 row8\" >creditcard</th>\n",
       "                        <td id=\"T_f783a_row8_col0\" class=\"data row8 col0\" >0.000000</td>\n",
       "            </tr>\n",
       "            <tr>\n",
       "                        <th id=\"T_f783a_level0_row9\" class=\"row_heading level0 row9\" >loyalty</th>\n",
       "                        <td id=\"T_f783a_row9_col0\" class=\"data row9 col0\" >0.000000</td>\n",
       "            </tr>\n",
       "            <tr>\n",
       "                        <th id=\"T_f783a_level0_row10\" class=\"row_heading level0 row10\" >estimated_salary</th>\n",
       "                        <td id=\"T_f783a_row10_col0\" class=\"data row10 col0\" >0.000000</td>\n",
       "            </tr>\n",
       "            <tr>\n",
       "                        <th id=\"T_f783a_level0_row11\" class=\"row_heading level0 row11\" >churn</th>\n",
       "                        <td id=\"T_f783a_row11_col0\" class=\"data row11 col0\" >0.000000</td>\n",
       "            </tr>\n",
       "    </tbody></table>"
      ],
      "text/plain": [
       "<pandas.io.formats.style.Styler at 0x7f5745c8a0d0>"
      ]
     },
     "execution_count": 8,
     "metadata": {},
     "output_type": "execute_result"
    }
   ],
   "source": [
    "pd.DataFrame(round((df.isna().mean() * 100), 2)).style.background_gradient()"
   ]
  },
  {
   "cell_type": "code",
   "execution_count": 9,
   "metadata": {},
   "outputs": [
    {
     "data": {
      "text/plain": [
       "3617"
      ]
     },
     "execution_count": 9,
     "metadata": {},
     "output_type": "execute_result"
    }
   ],
   "source": [
    "df['balance'].isna().sum()"
   ]
  },
  {
   "cell_type": "markdown",
   "metadata": {},
   "source": [
    "Посмотрим более детально на информацию по этому столбцу"
   ]
  },
  {
   "cell_type": "code",
   "execution_count": 10,
   "metadata": {},
   "outputs": [
    {
     "data": {
      "text/plain": [
       "count      6383.000000\n",
       "mean     119827.493793\n",
       "std       30095.056462\n",
       "min        3768.690000\n",
       "25%      100181.975000\n",
       "50%      119839.690000\n",
       "75%      139512.290000\n",
       "max      250898.090000\n",
       "Name: balance, dtype: float64"
      ]
     },
     "execution_count": 10,
     "metadata": {},
     "output_type": "execute_result"
    }
   ],
   "source": [
    "df['balance'].describe()"
   ]
  },
  {
   "cell_type": "markdown",
   "metadata": {},
   "source": [
    "Мы имеем 3617 пропущенных значений, что является 36% от общего количества строк в данных. Больше трети, очень много. Просто удалить их нельзя. Наличие пропусков может быть обусловлено ошибкой при выгрузке данных, что побуждает вопросы к тем, кто их выгружал, но есть нюанс. Не каждый клиент в банке имеет депозитные счета, некоторые пользуются исключительно кредитными продуктами, поэтому у нас есть основание полагать, что пропущенные значения это фактически нули, ведь никакого баланса у этих клиентов нет.\n",
    "\n",
    "Дополнительно метод `describe()` показал, что в остальных значениях вообще нет нулей, то есть минимальное в столбце не равно нулю. В таком случае можем предположить, что все-таки могла быть и ошибка при выгрузке данных, которая перевела все нули в пропущенные значения. Тем более, что даже у клиентов с депозитными счетами бывает нет денег на балансе по различным причинам, особенно у тех, кто вывел все деньги и просто держит счета открытыми. В любом случае, оба предположения указывают на то, что вместо пропущенных значений определенно должны быть нули. \n",
    "\n",
    "В связи с этим, заменим пропущенные значения на нули. "
   ]
  },
  {
   "cell_type": "code",
   "execution_count": 11,
   "metadata": {},
   "outputs": [],
   "source": [
    "df['balance'] = df['balance'].fillna(0)"
   ]
  },
  {
   "cell_type": "markdown",
   "metadata": {},
   "source": [
    "Теперь убедимся в том, что оптимизация прошла успешно"
   ]
  },
  {
   "cell_type": "code",
   "execution_count": 12,
   "metadata": {
    "scrolled": false
   },
   "outputs": [
    {
     "name": "stdout",
     "output_type": "stream",
     "text": [
      "<class 'pandas.core.frame.DataFrame'>\n",
      "RangeIndex: 10000 entries, 0 to 9999\n",
      "Data columns (total 12 columns):\n",
      " #   Column            Non-Null Count  Dtype  \n",
      "---  ------            --------------  -----  \n",
      " 0   userid            10000 non-null  int64  \n",
      " 1   score             10000 non-null  int64  \n",
      " 2   city              10000 non-null  object \n",
      " 3   gender            10000 non-null  object \n",
      " 4   age               10000 non-null  int64  \n",
      " 5   objects           10000 non-null  int64  \n",
      " 6   balance           10000 non-null  float64\n",
      " 7   products          10000 non-null  int64  \n",
      " 8   creditcard        10000 non-null  int64  \n",
      " 9   loyalty           10000 non-null  int64  \n",
      " 10  estimated_salary  10000 non-null  float64\n",
      " 11  churn             10000 non-null  int64  \n",
      "dtypes: float64(2), int64(8), object(2)\n",
      "memory usage: 937.6+ KB\n"
     ]
    }
   ],
   "source": [
    "df.info()"
   ]
  },
  {
   "cell_type": "markdown",
   "metadata": {},
   "source": [
    "**Вывод:**\n",
    "\n",
    "Мы поискали недочеты в данных и устранили их, в том числе оптимизировали ранее обнаруженные моменты, а именно:\n",
    "- привели названия столбцов к «змеиному регистру»;\n",
    "- выяснили, что дубликатов нет;\n",
    "- убедились в уникальности значений в соответствующих столбцах;\n",
    "- выдвинули возможные причины появления пропущенных значений и приняли решение заполнить их нулями."
   ]
  },
  {
   "cell_type": "markdown",
   "metadata": {},
   "source": [
    "#### 2.2 Изучение сводной информации и расчеты"
   ]
  },
  {
   "cell_type": "markdown",
   "metadata": {},
   "source": [
    "Посмотрим на числовое описание данных, за исключением столбца `userid`, так как это просто идентификаторы пользователей, при помощи метода `describe()` и сделаем соответствующие выводы"
   ]
  },
  {
   "cell_type": "code",
   "execution_count": 13,
   "metadata": {
    "scrolled": false
   },
   "outputs": [
    {
     "data": {
      "text/html": [
       "<div>\n",
       "<style scoped>\n",
       "    .dataframe tbody tr th:only-of-type {\n",
       "        vertical-align: middle;\n",
       "    }\n",
       "\n",
       "    .dataframe tbody tr th {\n",
       "        vertical-align: top;\n",
       "    }\n",
       "\n",
       "    .dataframe thead th {\n",
       "        text-align: right;\n",
       "    }\n",
       "</style>\n",
       "<table border=\"1\" class=\"dataframe\">\n",
       "  <thead>\n",
       "    <tr style=\"text-align: right;\">\n",
       "      <th></th>\n",
       "      <th>count</th>\n",
       "      <th>mean</th>\n",
       "      <th>std</th>\n",
       "      <th>min</th>\n",
       "      <th>25%</th>\n",
       "      <th>50%</th>\n",
       "      <th>75%</th>\n",
       "      <th>max</th>\n",
       "    </tr>\n",
       "  </thead>\n",
       "  <tbody>\n",
       "    <tr>\n",
       "      <th>score</th>\n",
       "      <td>10,000.00</td>\n",
       "      <td>650.53</td>\n",
       "      <td>96.65</td>\n",
       "      <td>350.00</td>\n",
       "      <td>584.00</td>\n",
       "      <td>652.00</td>\n",
       "      <td>718.00</td>\n",
       "      <td>850.00</td>\n",
       "    </tr>\n",
       "    <tr>\n",
       "      <th>age</th>\n",
       "      <td>10,000.00</td>\n",
       "      <td>38.92</td>\n",
       "      <td>10.49</td>\n",
       "      <td>18.00</td>\n",
       "      <td>32.00</td>\n",
       "      <td>37.00</td>\n",
       "      <td>44.00</td>\n",
       "      <td>92.00</td>\n",
       "    </tr>\n",
       "    <tr>\n",
       "      <th>objects</th>\n",
       "      <td>10,000.00</td>\n",
       "      <td>5.01</td>\n",
       "      <td>2.89</td>\n",
       "      <td>0.00</td>\n",
       "      <td>3.00</td>\n",
       "      <td>5.00</td>\n",
       "      <td>7.00</td>\n",
       "      <td>10.00</td>\n",
       "    </tr>\n",
       "    <tr>\n",
       "      <th>balance</th>\n",
       "      <td>10,000.00</td>\n",
       "      <td>76,485.89</td>\n",
       "      <td>62,397.41</td>\n",
       "      <td>0.00</td>\n",
       "      <td>0.00</td>\n",
       "      <td>97,198.54</td>\n",
       "      <td>127,644.24</td>\n",
       "      <td>250,898.09</td>\n",
       "    </tr>\n",
       "    <tr>\n",
       "      <th>products</th>\n",
       "      <td>10,000.00</td>\n",
       "      <td>1.53</td>\n",
       "      <td>0.58</td>\n",
       "      <td>1.00</td>\n",
       "      <td>1.00</td>\n",
       "      <td>1.00</td>\n",
       "      <td>2.00</td>\n",
       "      <td>4.00</td>\n",
       "    </tr>\n",
       "    <tr>\n",
       "      <th>creditcard</th>\n",
       "      <td>10,000.00</td>\n",
       "      <td>0.71</td>\n",
       "      <td>0.46</td>\n",
       "      <td>0.00</td>\n",
       "      <td>0.00</td>\n",
       "      <td>1.00</td>\n",
       "      <td>1.00</td>\n",
       "      <td>1.00</td>\n",
       "    </tr>\n",
       "    <tr>\n",
       "      <th>loyalty</th>\n",
       "      <td>10,000.00</td>\n",
       "      <td>0.52</td>\n",
       "      <td>0.50</td>\n",
       "      <td>0.00</td>\n",
       "      <td>0.00</td>\n",
       "      <td>1.00</td>\n",
       "      <td>1.00</td>\n",
       "      <td>1.00</td>\n",
       "    </tr>\n",
       "    <tr>\n",
       "      <th>estimated_salary</th>\n",
       "      <td>10,000.00</td>\n",
       "      <td>100,090.24</td>\n",
       "      <td>57,510.49</td>\n",
       "      <td>11.58</td>\n",
       "      <td>51,002.11</td>\n",
       "      <td>100,193.91</td>\n",
       "      <td>149,388.25</td>\n",
       "      <td>199,992.48</td>\n",
       "    </tr>\n",
       "    <tr>\n",
       "      <th>churn</th>\n",
       "      <td>10,000.00</td>\n",
       "      <td>0.20</td>\n",
       "      <td>0.40</td>\n",
       "      <td>0.00</td>\n",
       "      <td>0.00</td>\n",
       "      <td>0.00</td>\n",
       "      <td>0.00</td>\n",
       "      <td>1.00</td>\n",
       "    </tr>\n",
       "  </tbody>\n",
       "</table>\n",
       "</div>"
      ],
      "text/plain": [
       "                     count       mean       std    min       25%        50%  \\\n",
       "score            10,000.00     650.53     96.65 350.00    584.00     652.00   \n",
       "age              10,000.00      38.92     10.49  18.00     32.00      37.00   \n",
       "objects          10,000.00       5.01      2.89   0.00      3.00       5.00   \n",
       "balance          10,000.00  76,485.89 62,397.41   0.00      0.00  97,198.54   \n",
       "products         10,000.00       1.53      0.58   1.00      1.00       1.00   \n",
       "creditcard       10,000.00       0.71      0.46   0.00      0.00       1.00   \n",
       "loyalty          10,000.00       0.52      0.50   0.00      0.00       1.00   \n",
       "estimated_salary 10,000.00 100,090.24 57,510.49  11.58 51,002.11 100,193.91   \n",
       "churn            10,000.00       0.20      0.40   0.00      0.00       0.00   \n",
       "\n",
       "                        75%        max  \n",
       "score                718.00     850.00  \n",
       "age                   44.00      92.00  \n",
       "objects                7.00      10.00  \n",
       "balance          127,644.24 250,898.09  \n",
       "products               2.00       4.00  \n",
       "creditcard             1.00       1.00  \n",
       "loyalty                1.00       1.00  \n",
       "estimated_salary 149,388.25 199,992.48  \n",
       "churn                  0.00       1.00  "
      ]
     },
     "execution_count": 13,
     "metadata": {},
     "output_type": "execute_result"
    }
   ],
   "source": [
    "pd.set_option('display.float_format', '{:,.2f}'.format)\n",
    "df.loc[:, df.columns != 'userid'].describe().T"
   ]
  },
  {
   "cell_type": "markdown",
   "metadata": {},
   "source": [
    "Видим, что:\n",
    "- максимальный скоринговый балл равен 850, а минимальный 350. Медиана равна 650, почти столько же, сколько и среднее - примерно 650;\n",
    "- максимальный возраст равен 92 годам, а минимальный 18 лет. Медиана равна 37 годам, а среднее значение почти 39 лет;\n",
    "- у клиентов есть максимум 10 объектов недвижимости, минимум - 0. Медиана и среднее равны 5;\n",
    "- на балансе максимум почти 251 000 у. е., минимум - 0 у. е. Медиана в районе 97 000 у. е., а среднее чуть больше 76 000 у. е.;\n",
    "- максиумум бывает 4 продукта, видимо это обусловлено максимальным количеством продуктов банка, а минимум - 1. Медиана равняется 1, а среднее чуть больше 1.5;\n",
    "- больше 70% клиентов имеют кредитную карту;\n",
    "- чуть больше половины клиентов из выборки являются активными;\n",
    "- максимальная заработная плата почти 200 000 у. е., а минимальная почти 12 у. е. Медиана в районе 100 000 у. е., как и среднее значение;\n",
    "- 20% клиентов ушли в отток, остальные остались."
   ]
  },
  {
   "cell_type": "markdown",
   "metadata": {},
   "source": [
    "Отдельно посмотрим на столбцы с типом данных `object`"
   ]
  },
  {
   "cell_type": "code",
   "execution_count": 14,
   "metadata": {
    "scrolled": true
   },
   "outputs": [
    {
     "data": {
      "text/plain": [
       "Ярославль         5014\n",
       "Ростов Великий    2509\n",
       "Рыбинск           2477\n",
       "Name: city, dtype: int64"
      ]
     },
     "execution_count": 14,
     "metadata": {},
     "output_type": "execute_result"
    }
   ],
   "source": [
    "df['city'].value_counts()"
   ]
  },
  {
   "cell_type": "markdown",
   "metadata": {},
   "source": [
    "В датасете больше всего клиентов из Ярославля, остальные клиенты из Ростова Великого и Рыбинска, их почти поровну. "
   ]
  },
  {
   "cell_type": "code",
   "execution_count": 15,
   "metadata": {
    "scrolled": true
   },
   "outputs": [
    {
     "data": {
      "text/plain": [
       "М    5457\n",
       "Ж    4543\n",
       "Name: gender, dtype: int64"
      ]
     },
     "execution_count": 15,
     "metadata": {},
     "output_type": "execute_result"
    }
   ],
   "source": [
    "df['gender'].value_counts()"
   ]
  },
  {
   "cell_type": "markdown",
   "metadata": {},
   "source": [
    "В датасете больше мужчин, чем женщин, но не так уж сильно. "
   ]
  },
  {
   "cell_type": "markdown",
   "metadata": {},
   "source": [
    "Изучим средние значения признаков в двух группах — тех, кто ушел в отток и тех, кто остался. Воспользуемся методом `groupby()` и исключим столбец `userid`"
   ]
  },
  {
   "cell_type": "code",
   "execution_count": 16,
   "metadata": {
    "scrolled": true
   },
   "outputs": [
    {
     "data": {
      "text/html": [
       "<div>\n",
       "<style scoped>\n",
       "    .dataframe tbody tr th:only-of-type {\n",
       "        vertical-align: middle;\n",
       "    }\n",
       "\n",
       "    .dataframe tbody tr th {\n",
       "        vertical-align: top;\n",
       "    }\n",
       "\n",
       "    .dataframe thead th {\n",
       "        text-align: right;\n",
       "    }\n",
       "</style>\n",
       "<table border=\"1\" class=\"dataframe\">\n",
       "  <thead>\n",
       "    <tr style=\"text-align: right;\">\n",
       "      <th>churn</th>\n",
       "      <th>0</th>\n",
       "      <th>1</th>\n",
       "    </tr>\n",
       "  </thead>\n",
       "  <tbody>\n",
       "    <tr>\n",
       "      <th>score</th>\n",
       "      <td>651.85</td>\n",
       "      <td>645.35</td>\n",
       "    </tr>\n",
       "    <tr>\n",
       "      <th>age</th>\n",
       "      <td>37.41</td>\n",
       "      <td>44.84</td>\n",
       "    </tr>\n",
       "    <tr>\n",
       "      <th>objects</th>\n",
       "      <td>5.03</td>\n",
       "      <td>4.93</td>\n",
       "    </tr>\n",
       "    <tr>\n",
       "      <th>balance</th>\n",
       "      <td>72,745.30</td>\n",
       "      <td>91,108.54</td>\n",
       "    </tr>\n",
       "    <tr>\n",
       "      <th>products</th>\n",
       "      <td>1.54</td>\n",
       "      <td>1.48</td>\n",
       "    </tr>\n",
       "    <tr>\n",
       "      <th>creditcard</th>\n",
       "      <td>0.71</td>\n",
       "      <td>0.70</td>\n",
       "    </tr>\n",
       "    <tr>\n",
       "      <th>loyalty</th>\n",
       "      <td>0.55</td>\n",
       "      <td>0.36</td>\n",
       "    </tr>\n",
       "    <tr>\n",
       "      <th>estimated_salary</th>\n",
       "      <td>99,738.39</td>\n",
       "      <td>101,465.68</td>\n",
       "    </tr>\n",
       "  </tbody>\n",
       "</table>\n",
       "</div>"
      ],
      "text/plain": [
       "churn                    0          1\n",
       "score               651.85     645.35\n",
       "age                  37.41      44.84\n",
       "objects               5.03       4.93\n",
       "balance          72,745.30  91,108.54\n",
       "products              1.54       1.48\n",
       "creditcard            0.71       0.70\n",
       "loyalty               0.55       0.36\n",
       "estimated_salary 99,738.39 101,465.68"
      ]
     },
     "execution_count": 16,
     "metadata": {},
     "output_type": "execute_result"
    }
   ],
   "source": [
    "pd.set_option('display.float_format', '{:,.2f}'.format)\n",
    "df.loc[:, df.columns != 'userid'].groupby('churn').agg('mean').T"
   ]
  },
  {
   "cell_type": "markdown",
   "metadata": {},
   "source": [
    "Видим, что:\n",
    "- у обеих групп почти одинаковый средний показатель скоринга;\n",
    "- в оттоке клиенты в среднем на 7 лет старше, чем те, кто остался;\n",
    "- количество недвижимости в собственности в двух группах почти одинаковое;\n",
    "- баланс отличается, у клиентов из группы оттока баланс в среднем почти на 20 000 у. е. больше;\n",
    "- количество продуктов в банке почти равное в обеих группах, в среднем примерно 1.5 продукта;\n",
    "- наличие кредитной карты тоже почти равное в обеих группах;\n",
    "- закономерно, что в группе оттока меньше тех клиентов, которые помечены активными;\n",
    "- средняя заработаная плата в двух группах примерно одинакова, в районе 100 000 у. е."
   ]
  },
  {
   "cell_type": "markdown",
   "metadata": {},
   "source": [
    "**Вывод:**\n",
    "\n",
    "Мы изучили числовое описание данных. В них не заметно каких-либо сильных выбросов или отклонений, все выглядит реально и уместно. Модель скоринга, как правило, имеет максимальный порог в 1 000 баллов, а низкие показатели могут быть связаны с плохой кредитной историей. Возраст не выбивается, цифры реальные. В остальном показатели тоже адекватные, в их качестве нет сомнений. \n",
    "\n",
    "Также изучили средние значения признаков в двух группах — тех, кто ушел в отток и тех, кто остался. Наибольшую разницу наблюдаем в возрасте, балансе и активности. "
   ]
  },
  {
   "cell_type": "markdown",
   "metadata": {},
   "source": [
    "#### 2.3 Построение графиков распределения признаков"
   ]
  },
  {
   "cell_type": "markdown",
   "metadata": {},
   "source": [
    "Построим графики распределения признаков в разрезе оттока"
   ]
  },
  {
   "cell_type": "code",
   "execution_count": 17,
   "metadata": {
    "scrolled": true
   },
   "outputs": [
    {
     "data": {
      "image/png": "[encoded data removed]",
      "text/plain": [
       "<Figure size 406.6x360 with 1 Axes>"
      ]
     },
     "metadata": {},
     "output_type": "display_data"
    },
    {
     "data": {
      "image/png": "[encoded data removed]",
      "text/plain": [
       "<Figure size 406.6x360 with 1 Axes>"
      ]
     },
     "metadata": {},
     "output_type": "display_data"
    },
    {
     "data": {
      "image/png": "[encoded data removed]",
      "text/plain": [
       "<Figure size 406.6x360 with 1 Axes>"
      ]
     },
     "metadata": {},
     "output_type": "display_data"
    },
    {
     "data": {
      "image/png": "[encoded data removed]",
      "text/plain": [
       "<Figure size 406.6x360 with 1 Axes>"
      ]
     },
     "metadata": {},
     "output_type": "display_data"
    },
    {
     "data": {
      "image/png": "[encoded data removed]",
      "text/plain": [
       "<Figure size 406.6x360 with 1 Axes>"
      ]
     },
     "metadata": {},
     "output_type": "display_data"
    },
    {
     "data": {
      "image/png": "[encoded data removed]",
      "text/plain": [
       "<Figure size 406.6x360 with 1 Axes>"
      ]
     },
     "metadata": {},
     "output_type": "display_data"
    },
    {
     "data": {
      "image/png": "[encoded data removed]",
      "text/plain": [
       "<Figure size 406.6x360 with 1 Axes>"
      ]
     },
     "metadata": {},
     "output_type": "display_data"
    },
    {
     "data": {
      "image/png": "[encoded data removed]",
      "text/plain": [
       "<Figure size 406.6x360 with 1 Axes>"
      ]
     },
     "metadata": {},
     "output_type": "display_data"
    },
    {
     "data": {
      "image/png": "[encoded data removed]",
      "text/plain": [
       "<Figure size 406.6x360 with 1 Axes>"
      ]
     },
     "metadata": {},
     "output_type": "display_data"
    },
    {
     "data": {
      "image/png": "[encoded data removed]",
      "text/plain": [
       "<Figure size 406.6x360 with 1 Axes>"
      ]
     },
     "metadata": {},
     "output_type": "display_data"
    },
    {
     "data": {
      "image/png": "[encoded data removed]",
      "text/plain": [
       "<Figure size 406.6x360 with 1 Axes>"
      ]
     },
     "metadata": {},
     "output_type": "display_data"
    }
   ],
   "source": [
    "sns.set_theme(style = \"ticks\")\n",
    "sns.set_palette(['cornflowerblue', 'red'])\n",
    "\n",
    "def function_hist(data, column):\n",
    "    sns.displot(data,x = column, hue = 'churn')\n",
    "    plt.title('Распределение '+ name, fontsize = 13)\n",
    "    plt.xlabel(name)\n",
    "    plt.ylabel('Распределение')\n",
    "    plt.show()\n",
    "    \n",
    "for name in df.columns[1::]:\n",
    "    function_hist(df, name)"
   ]
  },
  {
   "cell_type": "markdown",
   "metadata": {},
   "source": [
    "**Вывод:**\n",
    "\n",
    "Мы построили графики распределения признаков в разрезе оттока. В целом, можем сказать, что на данном этапе мы благодаря визуализации фактически более детально рассмотрели и увидели те выводы, которые сделали на предыдущем этапе при изучении средних значений признаков в двух группах. \n",
    "\n",
    "Из особенностей отметим, что:\n",
    "- в Ростове Великом отток преобладает, от общего количества ушла половина;\n",
    "- женщины уходят чаще мужчин, даже с учетом того, что их среди клиентов меньше;\n",
    "- чаще уходят те, у кого всего один продукт, а с тремя и четырьмя продуктами ушли почти все, что странно;\n",
    "- клиенты с кредиткой уходят почаще, возможно, что их банально не устраивают условия, либо они в них не разобрались."
   ]
  },
  {
   "cell_type": "markdown",
   "metadata": {},
   "source": [
    "#### 2.4 Построение матрицы корреляций"
   ]
  },
  {
   "cell_type": "markdown",
   "metadata": {},
   "source": [
    "Построим матрицу корреляций и отобразим её, чтобы определить признаки, которые сильнее всего влияют на отток"
   ]
  },
  {
   "cell_type": "code",
   "execution_count": 18,
   "metadata": {},
   "outputs": [
    {
     "data": {
      "image/png": "[encoded data removed]",
      "text/plain": [
       "<Figure size 1296x936 with 2 Axes>"
      ]
     },
     "metadata": {},
     "output_type": "display_data"
    }
   ],
   "source": [
    "cm = df.corr()\n",
    "plt.figure(figsize = (18, 13))\n",
    "sns.heatmap(cm, annot = True, square = True, vmin = -0.5, vmax = 0.5, cmap = 'coolwarm')\n",
    "plt.show()"
   ]
  },
  {
   "cell_type": "markdown",
   "metadata": {},
   "source": [
    "**Вывод:**\n",
    "\n",
    "Наибольшую корреляцию к оттоку имеют:\n",
    "- `age` 0.29;\n",
    "- `balance` 0.12;\n",
    "- `loyality` -0.16.\n",
    "\n",
    "В принципе, матрица корреляций лишь подтвердила то, что мы заметили в предыдущих двух пунктах, что-то дополнительно выяснять в этом направлении не нужно."
   ]
  },
  {
   "cell_type": "markdown",
   "metadata": {},
   "source": [
    "#### 2.5 Проверка гипотез"
   ]
  },
  {
   "cell_type": "markdown",
   "metadata": {},
   "source": [
    "И напоследок в этом шаге проверим гипотезы:\n",
    "\n",
    "- средний доход между клиентами обеих групп различается;\n",
    "- средний возраст между клиентами обеих групп различается;\n",
    "\n",
    "Пороговое значение `alpha` зададим самостоятельно."
   ]
  },
  {
   "cell_type": "markdown",
   "metadata": {},
   "source": [
    "---"
   ]
  },
  {
   "cell_type": "markdown",
   "metadata": {},
   "source": [
    "##### 2.5.1 Гипотеза различия среднего дохода между клиентами обеих групп"
   ]
  },
  {
   "cell_type": "markdown",
   "metadata": {},
   "source": [
    "Формируем гипотезы:\n",
    "- H0 — средний доход между клиентами обеих групп равен;\n",
    "- H1 — средний доход между клиентами обеих групп различается.\n",
    "\n",
    "Формируем выборки, задаем уровень критерия статистической значимости, количество тестов, рассчитываем итоговый уровень критерия статистической значимости с учетом поправки Бонферрони и в конце сравниваем полученное значение с критерием"
   ]
  },
  {
   "cell_type": "code",
   "execution_count": 19,
   "metadata": {
    "scrolled": true
   },
   "outputs": [
    {
     "name": "stdout",
     "output_type": "stream",
     "text": [
      "Не получилось отвергнуть нулевую гипотезу\n"
     ]
    }
   ],
   "source": [
    "sample_A = df.query('churn == 0')['estimated_salary']\n",
    "sample_B = df.query('churn == 1')['estimated_salary']\n",
    "\n",
    "alpha = 0.05\n",
    "\n",
    "n_test = 4\n",
    "\n",
    "alpha_corr = alpha / n_test\n",
    "\n",
    "result = st.mannwhitneyu(sample_A, sample_B)\n",
    "p_value = result.pvalue\n",
    "if p_value > alpha_corr:\n",
    "    print('Не получилось отвергнуть нулевую гипотезу')\n",
    "else:\n",
    "    print('Отвергаем нулевую гипотезу')"
   ]
  },
  {
   "cell_type": "markdown",
   "metadata": {},
   "source": [
    "Не получилось отвергнуть нулевую гипотезу, то есть статистически значимых различий между средними двух выборок нет. Дополнительно посмотрим на относительную разницу средних"
   ]
  },
  {
   "cell_type": "code",
   "execution_count": 20,
   "metadata": {},
   "outputs": [
    {
     "name": "stdout",
     "output_type": "stream",
     "text": [
      "1.73%\n"
     ]
    }
   ],
   "source": [
    "print('{0:.2%}'.format(sample_B.mean() / sample_A.mean() - 1))"
   ]
  },
  {
   "cell_type": "markdown",
   "metadata": {},
   "source": [
    "Как видим, полученное значение лишь подтверждает результат теста, так как относительная разница средних очень мала. "
   ]
  },
  {
   "cell_type": "markdown",
   "metadata": {},
   "source": [
    "##### 2.5.1 Гипотеза различия среднего возраста между клиентами обеих групп"
   ]
  },
  {
   "cell_type": "markdown",
   "metadata": {},
   "source": [
    "Формируем гипотезы:\n",
    "- H0 — средний возраст между клиентами обеих групп равен;\n",
    "- H1 — средний возраст между клиентами обеих групп различается.\n",
    "\n",
    "Формируем выборки и в конце сравниваем полученное значение с критерием"
   ]
  },
  {
   "cell_type": "code",
   "execution_count": 21,
   "metadata": {
    "scrolled": true
   },
   "outputs": [
    {
     "name": "stdout",
     "output_type": "stream",
     "text": [
      "Отвергаем нулевую гипотезу\n"
     ]
    }
   ],
   "source": [
    "sample_A = df.query('churn == 0')['age']\n",
    "sample_B = df.query('churn == 1')['age']\n",
    "\n",
    "result = st.mannwhitneyu(sample_A, sample_B)\n",
    "p_value = result.pvalue\n",
    "if p_value > alpha_corr:\n",
    "    print('Не получилось отвергнуть нулевую гипотезу')\n",
    "else:\n",
    "    print('Отвергаем нулевую гипотезу')"
   ]
  },
  {
   "cell_type": "markdown",
   "metadata": {},
   "source": [
    "Отвергаем нулевую гипотезу, то есть статистически значимые различия между средными двух выборок есть. Дополнительно посмотрим на относительную разницу средних"
   ]
  },
  {
   "cell_type": "code",
   "execution_count": 22,
   "metadata": {
    "scrolled": true
   },
   "outputs": [
    {
     "name": "stdout",
     "output_type": "stream",
     "text": [
      "19.86%\n"
     ]
    }
   ],
   "source": [
    "print('{0:.2%}'.format(sample_B.mean() / sample_A.mean() - 1))"
   ]
  },
  {
   "cell_type": "markdown",
   "metadata": {},
   "source": [
    "Как видим, полученное значение лишь подтверждает результат теста, так как относительная разница средних довольно таки велика."
   ]
  },
  {
   "cell_type": "markdown",
   "metadata": {},
   "source": [
    "**Вывод:**\n",
    "\n",
    "В этом пункте мы проверили гипотезы и выяснили, что:\n",
    "- средний доход между клиентами обеих групп не различается;\n",
    "- средний возраст между клиентами обеих групп различается."
   ]
  },
  {
   "cell_type": "markdown",
   "metadata": {},
   "source": [
    "---"
   ]
  },
  {
   "cell_type": "markdown",
   "metadata": {},
   "source": [
    "**Вывод по шагу:**\n",
    "\n",
    "Мы провели исследовательский анализ данных (EDA), в рамках которого оптимизировали набор данных и нашли определенные особенности, сделали выводы:\n",
    "- наибольшую разницу между двумя группами заметили в возрасте, балансе и активности, что лишь подтвердила матрица корреляций;\n",
    "- в Ростове Великом отток преобладает, от общего количества ушла половина;\n",
    "- женщины уходят чаще мужчин, даже с учетом того, что их среди клиентов меньше;\n",
    "- чаще уходят те, у кого всего один продукт, а с тремя и четырьмя продуктами ушли почти все, что странно;\n",
    "- клиенты с кредиткой уходят почаще, возможно, что их банально не устраивают условия, либо они в них не разобрались;\n",
    "- средний доход между клиентами обеих групп не различается;\n",
    "- средний возраст между клиентами обеих групп различается."
   ]
  },
  {
   "cell_type": "markdown",
   "metadata": {},
   "source": [
    "### 3. Модель прогнозирования оттока клиентов"
   ]
  },
  {
   "cell_type": "markdown",
   "metadata": {},
   "source": [
    "Построим модель прогнозирования оттока клиентов:\n",
    "- разобьем данные на обучающую и валидационную выборку функцией `train_test_split()`;\n",
    "- обучим модель на train-выборке двумя способами;\n",
    " - логистической регрессией,\n",
    " - случайным лесом.\n",
    "- оценим метрики `accuracy`, `precision` и `recall` для обеих моделей на валидационной выборке, а также сравним по ним модели;\n",
    "- выясним, какая модель показала себя лучше на основании метрик."
   ]
  },
  {
   "cell_type": "markdown",
   "metadata": {},
   "source": [
    "---"
   ]
  },
  {
   "cell_type": "markdown",
   "metadata": {},
   "source": [
    "Подготовим новый датасет, в котором преобразуем категориальные переменные в горячую кодировку, это позволит провести обучение. Помимо прочего разобьем данные на обучающую и валидационную выборку функцией `train_test_split()`"
   ]
  },
  {
   "cell_type": "code",
   "execution_count": 23,
   "metadata": {},
   "outputs": [],
   "source": [
    "df_ml = df[df.columns[1::]]\n",
    "df_ml = pd.get_dummies(df_ml[df.columns[1::]]) \n",
    "\n",
    "X = df_ml[df_ml.columns[1::]].drop(columns = 'churn')\n",
    "y = df_ml['churn']\n",
    "\n",
    "X_train, X_test, y_train, y_test = train_test_split(X, y, test_size = 0.2, random_state = 0)\n",
    "\n",
    "scaler = StandardScaler()\n",
    "scaler.fit(X_train)\n",
    "X_train_sc = scaler.transform(X_train)\n",
    "X_test_sc = scaler.transform(X_test)"
   ]
  },
  {
   "cell_type": "markdown",
   "metadata": {},
   "source": [
    "Создадим функцию, которая тренирует модель на стестовых данных и рассчитывает все необходимые метрики"
   ]
  },
  {
   "cell_type": "code",
   "execution_count": 24,
   "metadata": {
    "scrolled": true
   },
   "outputs": [
    {
     "name": "stdout",
     "output_type": "stream",
     "text": [
      "LogisticRegression()\n",
      "Accuracy 0.8125 \n",
      "Recall 0.23209876543209876 \n",
      "Precision 0.5949367088607594 \n",
      "\n",
      "RandomForestClassifier()\n",
      "Accuracy 0.864 \n",
      "Recall 0.5259259259259259 \n",
      "Precision 0.726962457337884 \n",
      "\n"
     ]
    }
   ],
   "source": [
    "def train_model(m):\n",
    "    print(m)\n",
    "    model = m\n",
    "    model.fit(X_train_sc, y_train)\n",
    "    y_pred = model.predict(X_test_sc)\n",
    "    print('Accuracy', accuracy_score(y_test, y_pred), \n",
    "         '\\nRecall', recall_score(y_test, y_pred),\n",
    "         '\\nPrecision', precision_score(y_test, y_pred),'\\n')\n",
    "    \n",
    "for mod in [LogisticRegression(), RandomForestClassifier()]:\n",
    "    train_model(mod)"
   ]
  },
  {
   "cell_type": "markdown",
   "metadata": {},
   "source": [
    "`Accuracy` наиболее высокая у обеих моделей, но это обусловлено тем, что данные распределены неравномерно, ведь клиентов в оттоке всего 20%, что мы узнали еще в пункте 2.2. \n",
    "\n",
    "Наиболее важной метрикой здесь будет `recall`. В случае со случайным лесом она в два раза больше, чем при логистической регрессии, но по прежнему не велика. В связи с этим можно сделать вывод, что на имеющихся данных мы можем обучить только слаботочные модели, для более точного результата нужно больше данных. "
   ]
  },
  {
   "cell_type": "markdown",
   "metadata": {},
   "source": [
    "**Вывод по шагу:**\n",
    "\n",
    "Мы построили модель прогнозирования оттока клиентов, а именно:\n",
    "- разбили данные на обучающую и валидационную выборку функцией `train_test_split()`;\n",
    "- обучили модель на train-выборке двумя способами;\n",
    " - логистической регрессией,\n",
    " - случайным лесом.\n",
    "- оценили метрики `accuracy`, `recall` и `precision` для обеих моделей на валидационной выборке, а также сравнили по ним модели;\n",
    "- выяснили, что на имеющихся данных мы можем обучить только слаботочные модели, для более точного результата нужно больше данных."
   ]
  },
  {
   "cell_type": "markdown",
   "metadata": {},
   "source": [
    "### 4. Кластеризация клиентов"
   ]
  },
  {
   "cell_type": "markdown",
   "metadata": {},
   "source": [
    "Процесс кластеризации клиентов выстроим вот так:\n",
    "- подготовим и стандартизируем данные, затем нарисуем дендрограмму;\n",
    "- обучим модель кластеризации на основании алгоритма `K-Means` и спрогнозируем кластеры клиентов;\n",
    "- построим распределения признаков для кластеров, посмотрим на средние значения признаков для кластеров и выявим заметные особенности;\n",
    "- для каждого полученного кластера посчитаем долю оттока методом `groupby()` и выясним, отличаются ли они по доле оттока, а также какие кластеры склонны к оттоку, а какие — надёжны."
   ]
  },
  {
   "cell_type": "markdown",
   "metadata": {},
   "source": [
    "---"
   ]
  },
  {
   "cell_type": "markdown",
   "metadata": {},
   "source": [
    "Подготовим и стандартизируем данные, затем нарисуем дендрограмму"
   ]
  },
  {
   "cell_type": "code",
   "execution_count": null,
   "metadata": {
    "scrolled": false
   },
   "outputs": [],
   "source": [
    "sc = StandardScaler()\n",
    "X_sc = sc.fit_transform(X)\n",
    "\n",
    "linked = linkage(X_sc, method = 'ward')\n",
    "\n",
    "plt.figure(figsize = (15, 10))  \n",
    "dendrogram(linked, orientation = 'top')\n",
    "plt.show()"
   ]
  },
  {
   "cell_type": "markdown",
   "metadata": {},
   "source": [
    "График показывает, что явно выделены 4 кластера. Теперь обучим модель кластеризации на основании алгоритма K-Means и спрогнозируем кластеры клиентов"
   ]
  },
  {
   "cell_type": "code",
   "execution_count": null,
   "metadata": {},
   "outputs": [],
   "source": [
    "km = KMeans(n_clusters = 4, random_state = 0)\n",
    "\n",
    "labels = km.fit_predict(X_sc)"
   ]
  },
  {
   "cell_type": "markdown",
   "metadata": {},
   "source": [
    "Сохраним метки кластера в наш датасет. Затем сразу построим распределения признаков для кластеров, посмотрим на средние значения признаков для кластеров и выявим заметные особенности"
   ]
  },
  {
   "cell_type": "code",
   "execution_count": null,
   "metadata": {
    "scrolled": false
   },
   "outputs": [],
   "source": [
    "df_mean = df.drop(columns = ['userid'])\n",
    "\n",
    "df_mean['cluster'] = labels\n",
    "\n",
    "df_mean.groupby('cluster').agg('mean').T"
   ]
  },
  {
   "cell_type": "markdown",
   "metadata": {},
   "source": [
    "И визуализируем это дело"
   ]
  },
  {
   "cell_type": "code",
   "execution_count": null,
   "metadata": {
    "scrolled": false
   },
   "outputs": [],
   "source": [
    "for value in [0, 1, 2, 3]:\n",
    "    df_mean[df_mean['cluster'] == value].hist(figsize = (17, 10))\n",
    "    plt.suptitle('\\nРаспределение признаков для кластера {}'.format(value), fontsize = 15)\n",
    "    plt.show()"
   ]
  },
  {
   "cell_type": "markdown",
   "metadata": {},
   "source": [
    "Касаемо наблюдаемых особенностей:\n",
    "- в 0 кластере самые взрослые клиенты, в среднем почти 40 лет, у которых самый большой показатель среднего баланса из всех кластеров, причем в 2 раза, но при этом средний показатель оттока у них выше, чем во всех остальных кластерах;\n",
    "- в 1 кластере второй показатель по среднему оттоку, при этом в остальном каких-то явных отличий от последних двух кластеров нет, только разница в 2 по балансу с первым кластером;\n",
    "- во 2 и 3 кластерах средние показатели почти идентичны с 1, но менее подвержены оттоку. Причем 2 кластер имеет самый низкий средний показатель оттока и у него в среднем самые молодые клиенты, им чуть больше 38 лет."
   ]
  },
  {
   "cell_type": "markdown",
   "metadata": {},
   "source": [
    "Для каждого полученного кластера мы уже видим долю оттока, основываясь на информации выше. Там же видим, что кластеры отличаются по доле оттока, какие-то менее склонны к оттоку, а какие-то наоборот. На всякий случай отдельно посчитаем доли, дабы посмотреть на них без награмождений"
   ]
  },
  {
   "cell_type": "code",
   "execution_count": null,
   "metadata": {
    "scrolled": true
   },
   "outputs": [],
   "source": [
    "churn_share = df_mean.groupby('cluster')['churn'].agg('sum') / df_mean.groupby('cluster')['churn'].size()\n",
    "display(churn_share)"
   ]
  },
  {
   "cell_type": "markdown",
   "metadata": {},
   "source": [
    "0 и 1 кластеры наиболее склонны к оттоку, а 2 и 3 кластеры более надежды в этом плане."
   ]
  },
  {
   "cell_type": "markdown",
   "metadata": {},
   "source": [
    "**Вывод по шагу:**\n",
    "\n",
    "Мы выполнили кластеризацию клиентов, а именно:\n",
    "- стандартизировали данные;\n",
    "- построили матрицу расстояний на стандартизированной матрице признаков и нарисовали дендрограмму, а также выделили 4 кластера;\n",
    "- обучили модель кластеризации на основании алгоритма `K-Means` и спрогнозировали кластеры клиентов;\n",
    "- построили распределения признаков для кластеров, изучили средние значения признаков для кластеров и описали выявленные заметные особенности по каждому кластеру;\n",
    "- для каждого кластера посчитали долю оттока и выяснили, что различия здесь есть. 0 и 1 кластеры наиболее склонны к оттоку, а 2 и 3 кластеры более надежды в этом плане."
   ]
  },
  {
   "cell_type": "markdown",
   "metadata": {},
   "source": [
    "### 5. Общий вывод и рекомендации"
   ]
  },
  {
   "cell_type": "markdown",
   "metadata": {},
   "source": [
    "Сформулируем основные выводы и предложим рекомендации для стратегии взаимодействия с клиентами и их удержания, по каждому сегменту. Выделим несколько важных принципов и примеров их реализации в виде определённых маркетинговых действий. "
   ]
  },
  {
   "cell_type": "markdown",
   "metadata": {},
   "source": [
    "---"
   ]
  },
  {
   "cell_type": "markdown",
   "metadata": {},
   "source": [
    "#### 5.1 Основные выводы "
   ]
  },
  {
   "cell_type": "markdown",
   "metadata": {},
   "source": [
    "Мы закончили работу, строго следуя изначально установленному ходу работы:\n",
    "- загрузили необходимые данные и изучили их;\n",
    "- провели исследовательский анализ данных (EDA), в рамках которого оптимизировали данные и узнали, у клиентов с какими параметрами наиболее выражена вероятность оттока. В этом нам помогло изучение сводной информации, графики распределения признаков и матрица корреляций. Помимо этого проверили гипотезы и выяснили, что средний доход между клиентами обеих групп не различается, а средний возраст между клиентами обеих групп различается;\n",
    "- построили модель прогнозирования оттока клиентов и выяснили, что на имеющихся данных мы можем обучить только слаботочные модели, для более точного результата нужно больше данных;\n",
    "- произвели кластеризацию клиентов, которая позволила взглянуть на данные под новым углом. Установили 4 основных кластера, обучили модель кластеризации на основании алгоритма `K-Means` и спрогнозировали кластеры клиентов. Отобразили выявленные особенности по каждому кластеру и посчитали долю оттока. \n",
    "\n",
    "Оказалось, что 0 и 1 кластеры наиболее склонны к оттоку, а 2 и 3 кластеры более надежды в этом плане.\n",
    "\n",
    "Если углубиться в признаки, то следует, что наиболее склонны к оттоку клиенты:\n",
    "- имеющие один продукт, либо три и четыре продукта\n",
    "- которые старше по возрасту;\n",
    "- живущие в Ростове Великом;\n",
    "- имеющие кредитную карту;\n",
    "- которые менее активны;\n",
    "- женского пола.\n",
    "\n",
    "Наиболее точно к этим признакам как раз подходят кластеры 0 и 1, остальные кластеры, соответственно, наоборот. То есть, на эти признаки стоит обращать внимание у клиентов, чтобы принимать своевременные и эффективные меры по предотвращению оттока. "
   ]
  },
  {
   "cell_type": "markdown",
   "metadata": {},
   "source": [
    "#### 5.2 Рекомендации"
   ]
  },
  {
   "cell_type": "markdown",
   "metadata": {},
   "source": [
    "По результатам анализа сложно давать какие-то рекомендации, так как некоторые признаки вообще почти не отличаются, но небольшие зацепки все-таки есть. Необходимо ориентироваться на признаки 2 и 3 кластера, а также мотивировать клиентов в тех направлениях, которые влияют на их отток.\n",
    "\n",
    "Маркетинговому отделу, в синергии с другими нужными отделами, необходимо:\n",
    "- реализовать лояльные, но при этом выгодные банку, кампании по продвижению кредитных продуктов, так как они скорее будут удерживать клиентов длительное время, но за исключением кредитных карт, их могут брать на маленький срок, и как показал анализ, клиенты с кредитками чаще уходят;\n",
    "- разработать, либо продвигать уже имеющийся инвестиционный продукт, который будет напрямую завязан с депозитным счетом, в том числе в плане пополнений и вывода денег, чтобы клиенты были всегда активными и не были склонны к оттоку. Инвестиционный продукт как раз должен быть интересен людям старшего возраста, чтобы обеспечить себе стабильность в плане финансов, но при этом он должен быть простым в использовании, чтобы им могла воспользоваться даже женщина, тогда и в направлении этого признака можно будет улучшить показатели;\n",
    "- часть этих нововведений направить на клиентов из Ростова Великого, чтобы снизить процент оттока в этом городе;\n",
    "- подготовить маркетинговые акции, которые будут содержать в себе активные действия с какими-либо бонусами для клиентов, что побудит их к естественной активности, а активный клиент, как мы выяснили - наименее склонен к оттоку;\n",
    "- по возможности реализовать долгосрочные вклады с наиболее выгодными условиями, чтобы у клиентов было желание держать деньги в банке и использовать его как основной, что зачастую мотивирует на открытие других продуктов этого же банка. \n",
    "\n",
    "Конечно, без базового клиентского обслуживания никуда. Помимо всего этого, банк должен качественно взаимодействовать с клиентами по различным каналам связи, в том числе в социальных медиа и своем приложении."
   ]
  }
 ],
 "metadata": {
  "ExecuteTimeLog": [
   {
    "duration": 1904,
    "start_time": "2022-06-01T20:10:53.988Z"
   },
   {
    "duration": 88,
    "start_time": "2022-06-01T20:18:31.397Z"
   },
   {
    "duration": 5,
    "start_time": "2022-06-01T20:19:25.877Z"
   },
   {
    "duration": 5,
    "start_time": "2022-06-01T20:19:44.741Z"
   },
   {
    "duration": 5,
    "start_time": "2022-06-01T20:19:59.764Z"
   },
   {
    "duration": 31,
    "start_time": "2022-06-01T20:20:05.143Z"
   },
   {
    "duration": 23,
    "start_time": "2022-06-01T20:20:09.305Z"
   },
   {
    "duration": 5,
    "start_time": "2022-06-01T20:20:11.294Z"
   },
   {
    "duration": 5,
    "start_time": "2022-06-01T20:20:40.812Z"
   },
   {
    "duration": 1437,
    "start_time": "2022-06-01T20:23:51.390Z"
   },
   {
    "duration": 1561,
    "start_time": "2022-06-02T07:26:14.005Z"
   },
   {
    "duration": 99,
    "start_time": "2022-06-02T07:26:15.568Z"
   },
   {
    "duration": 13,
    "start_time": "2022-06-02T07:54:12.378Z"
   },
   {
    "duration": 4,
    "start_time": "2022-06-02T11:44:20.036Z"
   },
   {
    "duration": 16,
    "start_time": "2022-06-02T11:44:26.171Z"
   },
   {
    "duration": 11,
    "start_time": "2022-06-02T11:45:26.396Z"
   },
   {
    "duration": 406,
    "start_time": "2022-06-02T11:52:45.609Z"
   },
   {
    "duration": 117,
    "start_time": "2022-06-02T11:53:14.070Z"
   },
   {
    "duration": 13,
    "start_time": "2022-06-02T11:53:21.670Z"
   },
   {
    "duration": 18,
    "start_time": "2022-06-02T11:53:35.090Z"
   },
   {
    "duration": 15,
    "start_time": "2022-06-02T11:53:41.121Z"
   },
   {
    "duration": 13,
    "start_time": "2022-06-02T11:53:46.213Z"
   },
   {
    "duration": 10,
    "start_time": "2022-06-02T11:53:51.631Z"
   },
   {
    "duration": 12,
    "start_time": "2022-06-02T11:53:54.330Z"
   },
   {
    "duration": 13,
    "start_time": "2022-06-02T11:57:26.776Z"
   },
   {
    "duration": 1222,
    "start_time": "2022-06-02T11:57:32.533Z"
   },
   {
    "duration": 49,
    "start_time": "2022-06-02T11:57:33.756Z"
   },
   {
    "duration": 12,
    "start_time": "2022-06-02T11:57:33.807Z"
   },
   {
    "duration": 3,
    "start_time": "2022-06-02T11:57:33.820Z"
   },
   {
    "duration": 11,
    "start_time": "2022-06-02T11:57:33.824Z"
   },
   {
    "duration": 57,
    "start_time": "2022-06-02T11:57:33.837Z"
   },
   {
    "duration": 1828,
    "start_time": "2022-06-02T11:57:51.574Z"
   },
   {
    "duration": 91,
    "start_time": "2022-06-02T11:57:53.404Z"
   },
   {
    "duration": 15,
    "start_time": "2022-06-02T11:57:53.497Z"
   },
   {
    "duration": 8,
    "start_time": "2022-06-02T11:57:53.515Z"
   },
   {
    "duration": 11,
    "start_time": "2022-06-02T11:57:53.525Z"
   },
   {
    "duration": 99,
    "start_time": "2022-06-02T11:57:53.537Z"
   },
   {
    "duration": 6,
    "start_time": "2022-06-02T12:01:08.214Z"
   },
   {
    "duration": 114,
    "start_time": "2022-06-02T12:06:06.543Z"
   },
   {
    "duration": 5,
    "start_time": "2022-06-02T12:06:12.830Z"
   },
   {
    "duration": 10,
    "start_time": "2022-06-02T12:06:16.181Z"
   },
   {
    "duration": 5,
    "start_time": "2022-06-02T12:06:19.420Z"
   },
   {
    "duration": 6,
    "start_time": "2022-06-02T12:06:29.542Z"
   },
   {
    "duration": 6,
    "start_time": "2022-06-02T12:06:35.716Z"
   },
   {
    "duration": 9,
    "start_time": "2022-06-02T12:45:34.980Z"
   },
   {
    "duration": 11,
    "start_time": "2022-06-02T12:47:51.274Z"
   },
   {
    "duration": 4,
    "start_time": "2022-06-02T14:21:23.591Z"
   },
   {
    "duration": 18,
    "start_time": "2022-06-02T14:21:27.320Z"
   },
   {
    "duration": 15,
    "start_time": "2022-06-02T14:21:46.818Z"
   },
   {
    "duration": 13,
    "start_time": "2022-06-02T14:21:52.224Z"
   },
   {
    "duration": 14,
    "start_time": "2022-06-02T14:21:55.434Z"
   },
   {
    "duration": 4,
    "start_time": "2022-06-02T14:22:04.752Z"
   },
   {
    "duration": 17,
    "start_time": "2022-06-02T14:22:06.688Z"
   },
   {
    "duration": 10,
    "start_time": "2022-06-02T14:22:16.098Z"
   },
   {
    "duration": 7,
    "start_time": "2022-06-02T14:31:50.760Z"
   },
   {
    "duration": 6,
    "start_time": "2022-06-02T14:34:51.667Z"
   },
   {
    "duration": 6,
    "start_time": "2022-06-02T14:35:00.705Z"
   },
   {
    "duration": 5,
    "start_time": "2022-06-02T14:35:05.393Z"
   },
   {
    "duration": 5,
    "start_time": "2022-06-02T14:35:45.485Z"
   },
   {
    "duration": 6,
    "start_time": "2022-06-02T14:35:50.287Z"
   },
   {
    "duration": 8,
    "start_time": "2022-06-02T14:36:25.759Z"
   },
   {
    "duration": 5,
    "start_time": "2022-06-02T14:38:32.128Z"
   },
   {
    "duration": 10,
    "start_time": "2022-06-02T14:39:14.828Z"
   },
   {
    "duration": 4,
    "start_time": "2022-06-02T14:39:19.034Z"
   },
   {
    "duration": 11,
    "start_time": "2022-06-02T14:45:39.194Z"
   },
   {
    "duration": 1280,
    "start_time": "2022-06-02T14:46:45.867Z"
   },
   {
    "duration": 51,
    "start_time": "2022-06-02T14:46:47.148Z"
   },
   {
    "duration": 12,
    "start_time": "2022-06-02T14:46:47.200Z"
   },
   {
    "duration": 2,
    "start_time": "2022-06-02T14:46:47.214Z"
   },
   {
    "duration": 12,
    "start_time": "2022-06-02T14:46:47.217Z"
   },
   {
    "duration": 5,
    "start_time": "2022-06-02T14:46:47.230Z"
   },
   {
    "duration": 5,
    "start_time": "2022-06-02T14:46:47.236Z"
   },
   {
    "duration": 67,
    "start_time": "2022-06-02T14:46:47.242Z"
   },
   {
    "duration": 5,
    "start_time": "2022-06-02T14:46:47.310Z"
   },
   {
    "duration": 10,
    "start_time": "2022-06-02T14:46:47.316Z"
   },
   {
    "duration": 3,
    "start_time": "2022-06-02T14:46:47.327Z"
   },
   {
    "duration": 15,
    "start_time": "2022-06-02T14:46:47.332Z"
   },
   {
    "duration": 31,
    "start_time": "2022-06-02T17:13:06.800Z"
   },
   {
    "duration": 48,
    "start_time": "2022-06-02T17:15:08.430Z"
   },
   {
    "duration": 125,
    "start_time": "2022-06-02T17:15:35.239Z"
   },
   {
    "duration": 31,
    "start_time": "2022-06-02T17:15:43.353Z"
   },
   {
    "duration": 11,
    "start_time": "2022-06-02T17:52:07.131Z"
   },
   {
    "duration": 12,
    "start_time": "2022-06-02T17:52:36.257Z"
   },
   {
    "duration": 11,
    "start_time": "2022-06-02T17:52:40.123Z"
   },
   {
    "duration": 12,
    "start_time": "2022-06-02T17:52:43.955Z"
   },
   {
    "duration": 13,
    "start_time": "2022-06-02T17:53:24.359Z"
   },
   {
    "duration": 13,
    "start_time": "2022-06-02T17:56:46.640Z"
   },
   {
    "duration": 30,
    "start_time": "2022-06-02T17:57:10.208Z"
   },
   {
    "duration": 29,
    "start_time": "2022-06-02T17:58:24.932Z"
   },
   {
    "duration": 29,
    "start_time": "2022-06-02T17:58:38.252Z"
   },
   {
    "duration": 31,
    "start_time": "2022-06-02T17:58:44.966Z"
   },
   {
    "duration": 33,
    "start_time": "2022-06-02T17:58:53.028Z"
   },
   {
    "duration": 33,
    "start_time": "2022-06-02T17:58:55.939Z"
   },
   {
    "duration": 31,
    "start_time": "2022-06-02T17:58:58.738Z"
   },
   {
    "duration": 30,
    "start_time": "2022-06-02T17:59:04.186Z"
   },
   {
    "duration": 31,
    "start_time": "2022-06-02T17:59:19.334Z"
   },
   {
    "duration": 29,
    "start_time": "2022-06-02T17:59:26.283Z"
   },
   {
    "duration": 5,
    "start_time": "2022-06-02T18:01:35.403Z"
   },
   {
    "duration": 6,
    "start_time": "2022-06-02T18:01:46.228Z"
   },
   {
    "duration": 88,
    "start_time": "2022-06-05T20:37:25.505Z"
   },
   {
    "duration": 2281,
    "start_time": "2022-06-05T20:37:34.806Z"
   },
   {
    "duration": 484,
    "start_time": "2022-06-05T20:37:37.089Z"
   },
   {
    "duration": 54,
    "start_time": "2022-06-05T20:37:37.575Z"
   },
   {
    "duration": 15,
    "start_time": "2022-06-05T20:37:37.631Z"
   },
   {
    "duration": 47,
    "start_time": "2022-06-05T20:37:37.648Z"
   },
   {
    "duration": 31,
    "start_time": "2022-06-05T20:37:37.698Z"
   },
   {
    "duration": 6,
    "start_time": "2022-06-05T20:37:37.731Z"
   },
   {
    "duration": 190,
    "start_time": "2022-06-05T20:37:37.739Z"
   },
   {
    "duration": 4,
    "start_time": "2022-06-05T20:37:37.931Z"
   },
   {
    "duration": 40,
    "start_time": "2022-06-05T20:37:37.938Z"
   },
   {
    "duration": 6,
    "start_time": "2022-06-05T20:37:37.980Z"
   },
   {
    "duration": 31,
    "start_time": "2022-06-05T20:37:37.987Z"
   },
   {
    "duration": 44,
    "start_time": "2022-06-05T20:37:38.020Z"
   },
   {
    "duration": 20,
    "start_time": "2022-06-05T20:37:38.066Z"
   },
   {
    "duration": 17,
    "start_time": "2022-06-05T20:37:38.088Z"
   },
   {
    "duration": 20,
    "start_time": "2022-06-05T20:37:38.106Z"
   },
   {
    "duration": 40,
    "start_time": "2022-06-05T20:37:38.128Z"
   },
   {
    "duration": 8001,
    "start_time": "2022-06-05T20:39:30.474Z"
   },
   {
    "duration": 56,
    "start_time": "2022-06-06T14:29:18.337Z"
   },
   {
    "duration": 1541,
    "start_time": "2022-06-06T14:29:26.323Z"
   },
   {
    "duration": 90,
    "start_time": "2022-06-06T14:29:27.866Z"
   },
   {
    "duration": 11,
    "start_time": "2022-06-06T14:29:27.958Z"
   },
   {
    "duration": 3,
    "start_time": "2022-06-06T14:29:27.971Z"
   },
   {
    "duration": 14,
    "start_time": "2022-06-06T14:29:27.975Z"
   },
   {
    "duration": 6,
    "start_time": "2022-06-06T14:29:27.990Z"
   },
   {
    "duration": 4,
    "start_time": "2022-06-06T14:29:27.997Z"
   },
   {
    "duration": 72,
    "start_time": "2022-06-06T14:29:28.003Z"
   },
   {
    "duration": 3,
    "start_time": "2022-06-06T14:29:28.077Z"
   },
   {
    "duration": 34,
    "start_time": "2022-06-06T14:29:28.083Z"
   },
   {
    "duration": 4,
    "start_time": "2022-06-06T14:29:28.118Z"
   },
   {
    "duration": 20,
    "start_time": "2022-06-06T14:29:28.123Z"
   },
   {
    "duration": 36,
    "start_time": "2022-06-06T14:29:28.145Z"
   },
   {
    "duration": 5,
    "start_time": "2022-06-06T14:29:28.183Z"
   },
   {
    "duration": 11,
    "start_time": "2022-06-06T14:29:28.190Z"
   },
   {
    "duration": 13,
    "start_time": "2022-06-06T14:29:28.251Z"
   },
   {
    "duration": 7372,
    "start_time": "2022-06-06T14:29:28.266Z"
   },
   {
    "duration": 6646,
    "start_time": "2022-06-06T14:30:34.869Z"
   },
   {
    "duration": 6217,
    "start_time": "2022-06-06T14:30:44.869Z"
   },
   {
    "duration": 8101,
    "start_time": "2022-06-06T14:31:04.382Z"
   },
   {
    "duration": 6259,
    "start_time": "2022-06-06T14:31:35.601Z"
   },
   {
    "duration": 1274,
    "start_time": "2022-06-06T15:30:28.598Z"
   },
   {
    "duration": 961,
    "start_time": "2022-06-06T15:31:14.689Z"
   },
   {
    "duration": 881,
    "start_time": "2022-06-06T15:31:19.392Z"
   },
   {
    "duration": 52,
    "start_time": "2022-06-07T12:23:17.871Z"
   },
   {
    "duration": 1518,
    "start_time": "2022-06-07T12:23:22.420Z"
   },
   {
    "duration": 87,
    "start_time": "2022-06-07T12:23:23.940Z"
   },
   {
    "duration": 11,
    "start_time": "2022-06-07T12:23:24.028Z"
   },
   {
    "duration": 3,
    "start_time": "2022-06-07T12:23:24.041Z"
   },
   {
    "duration": 27,
    "start_time": "2022-06-07T12:23:24.045Z"
   },
   {
    "duration": 6,
    "start_time": "2022-06-07T12:23:24.074Z"
   },
   {
    "duration": 9,
    "start_time": "2022-06-07T12:23:24.082Z"
   },
   {
    "duration": 53,
    "start_time": "2022-06-07T12:23:24.092Z"
   },
   {
    "duration": 20,
    "start_time": "2022-06-07T12:23:24.146Z"
   },
   {
    "duration": 13,
    "start_time": "2022-06-07T12:23:24.169Z"
   },
   {
    "duration": 3,
    "start_time": "2022-06-07T12:23:24.184Z"
   },
   {
    "duration": 16,
    "start_time": "2022-06-07T12:23:24.188Z"
   },
   {
    "duration": 32,
    "start_time": "2022-06-07T12:23:24.205Z"
   },
   {
    "duration": 5,
    "start_time": "2022-06-07T12:23:24.238Z"
   },
   {
    "duration": 14,
    "start_time": "2022-06-07T12:23:24.254Z"
   },
   {
    "duration": 17,
    "start_time": "2022-06-07T12:23:24.269Z"
   },
   {
    "duration": 7525,
    "start_time": "2022-06-07T12:23:24.288Z"
   },
   {
    "duration": 1014,
    "start_time": "2022-06-07T12:23:31.814Z"
   },
   {
    "duration": 9,
    "start_time": "2022-06-07T12:23:32.830Z"
   },
   {
    "duration": 19,
    "start_time": "2022-06-07T12:26:49.165Z"
   },
   {
    "duration": 5,
    "start_time": "2022-06-07T12:29:03.464Z"
   },
   {
    "duration": 127,
    "start_time": "2022-06-07T12:36:11.672Z"
   },
   {
    "duration": 17,
    "start_time": "2022-06-07T12:36:24.637Z"
   },
   {
    "duration": 3,
    "start_time": "2022-06-07T12:40:02.816Z"
   },
   {
    "duration": 11,
    "start_time": "2022-06-07T13:24:36.207Z"
   },
   {
    "duration": 22,
    "start_time": "2022-06-07T13:24:44.268Z"
   },
   {
    "duration": 10,
    "start_time": "2022-06-07T13:33:07.595Z"
   },
   {
    "duration": 121,
    "start_time": "2022-06-07T13:33:11.605Z"
   },
   {
    "duration": 33,
    "start_time": "2022-06-07T13:33:15.845Z"
   },
   {
    "duration": 27,
    "start_time": "2022-06-07T13:41:43.309Z"
   },
   {
    "duration": 11,
    "start_time": "2022-06-07T13:41:57.549Z"
   },
   {
    "duration": 24,
    "start_time": "2022-06-07T13:44:14.954Z"
   },
   {
    "duration": 21,
    "start_time": "2022-06-07T13:44:34.618Z"
   },
   {
    "duration": 27,
    "start_time": "2022-06-07T13:45:15.919Z"
   },
   {
    "duration": 98,
    "start_time": "2022-06-07T13:45:17.860Z"
   },
   {
    "duration": 11,
    "start_time": "2022-06-07T13:46:38.004Z"
   },
   {
    "duration": 12,
    "start_time": "2022-06-07T13:47:00.510Z"
   },
   {
    "duration": 24,
    "start_time": "2022-06-07T13:48:56.316Z"
   },
   {
    "duration": 20,
    "start_time": "2022-06-07T13:50:25.533Z"
   },
   {
    "duration": 28,
    "start_time": "2022-06-07T13:50:43.304Z"
   },
   {
    "duration": 1256,
    "start_time": "2022-06-07T13:50:54.065Z"
   },
   {
    "duration": 33,
    "start_time": "2022-06-07T13:51:44.397Z"
   },
   {
    "duration": 1269,
    "start_time": "2022-06-07T13:53:19.352Z"
   },
   {
    "duration": 25,
    "start_time": "2022-06-07T13:53:49.458Z"
   },
   {
    "duration": 15,
    "start_time": "2022-06-07T14:56:14.882Z"
   },
   {
    "duration": 18,
    "start_time": "2022-06-07T14:56:26.556Z"
   },
   {
    "duration": 5,
    "start_time": "2022-06-07T14:57:17.768Z"
   },
   {
    "duration": 16,
    "start_time": "2022-06-07T14:57:22.589Z"
   },
   {
    "duration": 300458,
    "start_time": "2022-06-07T14:58:38.018Z"
   },
   {
    "duration": 300619,
    "start_time": "2022-06-07T15:07:11.225Z"
   },
   {
    "duration": 301356,
    "start_time": "2022-06-07T15:16:55.337Z"
   },
   {
    "duration": 1342,
    "start_time": "2022-06-07T15:25:10.032Z"
   },
   {
    "duration": 1653,
    "start_time": "2022-06-07T15:25:13.103Z"
   },
   {
    "duration": 15,
    "start_time": "2022-06-07T15:26:01.744Z"
   },
   {
    "duration": 27,
    "start_time": "2022-06-07T15:28:31.075Z"
   },
   {
    "duration": 17,
    "start_time": "2022-06-07T15:28:45.682Z"
   },
   {
    "duration": 16,
    "start_time": "2022-06-07T15:29:02.875Z"
   },
   {
    "duration": 19,
    "start_time": "2022-06-07T15:29:31.683Z"
   },
   {
    "duration": 13,
    "start_time": "2022-06-07T15:30:46.717Z"
   },
   {
    "duration": 25,
    "start_time": "2022-06-07T15:31:26.691Z"
   },
   {
    "duration": 26,
    "start_time": "2022-06-07T15:31:43.452Z"
   },
   {
    "duration": 1360,
    "start_time": "2022-06-07T15:31:49.217Z"
   },
   {
    "duration": 53,
    "start_time": "2022-06-07T15:31:50.579Z"
   },
   {
    "duration": 11,
    "start_time": "2022-06-07T15:31:50.633Z"
   },
   {
    "duration": 25,
    "start_time": "2022-06-07T15:31:50.646Z"
   },
   {
    "duration": 28,
    "start_time": "2022-06-07T15:31:50.673Z"
   },
   {
    "duration": 7,
    "start_time": "2022-06-07T15:31:50.703Z"
   },
   {
    "duration": 24,
    "start_time": "2022-06-07T15:31:50.712Z"
   },
   {
    "duration": 66,
    "start_time": "2022-06-07T15:31:50.737Z"
   },
   {
    "duration": 4,
    "start_time": "2022-06-07T15:31:50.805Z"
   },
   {
    "duration": 17,
    "start_time": "2022-06-07T15:31:50.812Z"
   },
   {
    "duration": 4,
    "start_time": "2022-06-07T15:31:50.830Z"
   },
   {
    "duration": 33,
    "start_time": "2022-06-07T15:31:50.835Z"
   },
   {
    "duration": 47,
    "start_time": "2022-06-07T15:31:50.870Z"
   },
   {
    "duration": 6,
    "start_time": "2022-06-07T15:31:50.919Z"
   },
   {
    "duration": 23,
    "start_time": "2022-06-07T15:31:50.927Z"
   },
   {
    "duration": 56,
    "start_time": "2022-06-07T15:31:50.951Z"
   },
   {
    "duration": 7423,
    "start_time": "2022-06-07T15:31:51.009Z"
   },
   {
    "duration": 912,
    "start_time": "2022-06-07T15:31:58.434Z"
   },
   {
    "duration": 133,
    "start_time": "2022-06-07T15:31:59.348Z"
   },
   {
    "duration": 4,
    "start_time": "2022-06-07T15:31:59.482Z"
   },
   {
    "duration": 19,
    "start_time": "2022-06-07T15:31:59.487Z"
   },
   {
    "duration": 16,
    "start_time": "2022-06-07T15:31:59.507Z"
   },
   {
    "duration": 39,
    "start_time": "2022-06-07T15:31:59.524Z"
   },
   {
    "duration": 1220,
    "start_time": "2022-06-07T15:31:59.567Z"
   },
   {
    "duration": 294682,
    "start_time": "2022-06-07T15:32:00.789Z"
   },
   {
    "duration": 1286,
    "start_time": "2022-06-07T15:36:55.473Z"
   },
   {
    "duration": 15,
    "start_time": "2022-06-07T15:36:56.761Z"
   },
   {
    "duration": 90,
    "start_time": "2022-06-07T19:23:34.390Z"
   },
   {
    "duration": 2267,
    "start_time": "2022-06-07T19:23:41.730Z"
   },
   {
    "duration": 154,
    "start_time": "2022-06-07T19:23:43.999Z"
   },
   {
    "duration": 21,
    "start_time": "2022-06-07T19:23:44.158Z"
   },
   {
    "duration": 16,
    "start_time": "2022-06-07T19:23:44.182Z"
   },
   {
    "duration": 18,
    "start_time": "2022-06-07T19:23:44.200Z"
   },
   {
    "duration": 32,
    "start_time": "2022-06-07T19:23:44.220Z"
   },
   {
    "duration": 45,
    "start_time": "2022-06-07T19:23:44.254Z"
   },
   {
    "duration": 85,
    "start_time": "2022-06-07T19:23:44.300Z"
   },
   {
    "duration": 6,
    "start_time": "2022-06-07T19:23:44.387Z"
   },
   {
    "duration": 101,
    "start_time": "2022-06-07T19:23:44.397Z"
   },
   {
    "duration": 29,
    "start_time": "2022-06-07T19:23:44.500Z"
   },
   {
    "duration": 76,
    "start_time": "2022-06-07T19:23:44.531Z"
   },
   {
    "duration": 85,
    "start_time": "2022-06-07T19:23:44.609Z"
   },
   {
    "duration": 7,
    "start_time": "2022-06-07T19:23:44.696Z"
   },
   {
    "duration": 26,
    "start_time": "2022-06-07T19:23:44.705Z"
   },
   {
    "duration": 69,
    "start_time": "2022-06-07T19:23:44.734Z"
   },
   {
    "duration": 7593,
    "start_time": "2022-06-07T19:23:44.805Z"
   },
   {
    "duration": 1195,
    "start_time": "2022-06-07T19:23:52.401Z"
   },
   {
    "duration": 210,
    "start_time": "2022-06-07T19:23:53.600Z"
   },
   {
    "duration": 37,
    "start_time": "2022-06-07T19:23:53.813Z"
   },
   {
    "duration": 43,
    "start_time": "2022-06-07T19:23:53.854Z"
   },
   {
    "duration": 17,
    "start_time": "2022-06-07T19:23:53.899Z"
   },
   {
    "duration": 61,
    "start_time": "2022-06-07T19:23:53.918Z"
   },
   {
    "duration": 1277,
    "start_time": "2022-06-07T19:23:53.981Z"
   },
   {
    "duration": 351882,
    "start_time": "2022-06-07T19:23:55.263Z"
   },
   {
    "duration": 1381,
    "start_time": "2022-06-07T19:29:47.152Z"
   },
   {
    "duration": 23,
    "start_time": "2022-06-07T19:29:48.548Z"
   },
   {
    "duration": 6224,
    "start_time": "2022-06-07T19:29:48.577Z"
   },
   {
    "duration": 5259,
    "start_time": "2022-06-07T19:41:32.313Z"
   },
   {
    "duration": 18,
    "start_time": "2022-06-07T19:45:20.396Z"
   },
   {
    "duration": 43,
    "start_time": "2022-06-07T19:45:45.765Z"
   },
   {
    "duration": 5879,
    "start_time": "2022-06-07T19:46:02.981Z"
   },
   {
    "duration": 8,
    "start_time": "2022-06-07T20:45:55.444Z"
   },
   {
    "duration": 1388,
    "start_time": "2022-06-07T20:52:14.284Z"
   },
   {
    "duration": 86,
    "start_time": "2022-06-07T20:52:15.674Z"
   },
   {
    "duration": 13,
    "start_time": "2022-06-07T20:52:15.762Z"
   },
   {
    "duration": 3,
    "start_time": "2022-06-07T20:52:15.777Z"
   },
   {
    "duration": 15,
    "start_time": "2022-06-07T20:52:15.781Z"
   },
   {
    "duration": 6,
    "start_time": "2022-06-07T20:52:15.798Z"
   },
   {
    "duration": 6,
    "start_time": "2022-06-07T20:52:15.806Z"
   },
   {
    "duration": 53,
    "start_time": "2022-06-07T20:52:15.825Z"
   },
   {
    "duration": 4,
    "start_time": "2022-06-07T20:52:15.880Z"
   },
   {
    "duration": 9,
    "start_time": "2022-06-07T20:52:15.887Z"
   },
   {
    "duration": 3,
    "start_time": "2022-06-07T20:52:15.898Z"
   },
   {
    "duration": 34,
    "start_time": "2022-06-07T20:52:15.903Z"
   },
   {
    "duration": 63,
    "start_time": "2022-06-07T20:52:15.941Z"
   },
   {
    "duration": 7,
    "start_time": "2022-06-07T20:52:16.006Z"
   },
   {
    "duration": 17,
    "start_time": "2022-06-07T20:52:16.014Z"
   },
   {
    "duration": 25,
    "start_time": "2022-06-07T20:52:16.039Z"
   },
   {
    "duration": 6537,
    "start_time": "2022-06-07T20:52:16.065Z"
   },
   {
    "duration": 987,
    "start_time": "2022-06-07T20:52:22.604Z"
   },
   {
    "duration": 19,
    "start_time": "2022-06-07T20:52:23.593Z"
   },
   {
    "duration": 3,
    "start_time": "2022-06-07T20:52:23.614Z"
   },
   {
    "duration": 24,
    "start_time": "2022-06-07T20:52:23.619Z"
   },
   {
    "duration": 6,
    "start_time": "2022-06-07T20:52:23.644Z"
   },
   {
    "duration": 36,
    "start_time": "2022-06-07T20:52:23.651Z"
   },
   {
    "duration": 1289,
    "start_time": "2022-06-07T20:52:23.688Z"
   },
   {
    "duration": 293079,
    "start_time": "2022-06-07T20:52:24.979Z"
   },
   {
    "duration": 1364,
    "start_time": "2022-06-07T20:57:18.060Z"
   },
   {
    "duration": 16,
    "start_time": "2022-06-07T20:57:19.426Z"
   },
   {
    "duration": 5367,
    "start_time": "2022-06-07T20:57:19.447Z"
   },
   {
    "duration": 15,
    "start_time": "2022-06-07T20:57:24.815Z"
   },
   {
    "duration": 74,
    "start_time": "2022-06-09T14:36:44.754Z"
   },
   {
    "duration": 1491,
    "start_time": "2022-06-09T14:36:52.030Z"
   },
   {
    "duration": 3,
    "start_time": "2022-06-09T14:37:03.110Z"
   },
   {
    "duration": 214,
    "start_time": "2022-06-09T14:37:08.222Z"
   },
   {
    "duration": 13,
    "start_time": "2022-06-09T14:37:09.107Z"
   },
   {
    "duration": 1564,
    "start_time": "2022-06-10T06:08:54.192Z"
   },
   {
    "duration": 90,
    "start_time": "2022-06-10T06:08:55.759Z"
   },
   {
    "duration": 19,
    "start_time": "2022-06-10T06:08:55.962Z"
   },
   {
    "duration": 33,
    "start_time": "2022-06-10T06:09:45.750Z"
   },
   {
    "duration": 3,
    "start_time": "2022-06-10T06:09:51.878Z"
   },
   {
    "duration": 11,
    "start_time": "2022-06-10T06:09:52.440Z"
   },
   {
    "duration": 8,
    "start_time": "2022-06-10T06:09:53.150Z"
   },
   {
    "duration": 6,
    "start_time": "2022-06-10T06:09:53.641Z"
   },
   {
    "duration": 62,
    "start_time": "2022-06-10T06:09:54.539Z"
   },
   {
    "duration": 5,
    "start_time": "2022-06-10T06:09:55.966Z"
   },
   {
    "duration": 8,
    "start_time": "2022-06-10T06:09:58.683Z"
   },
   {
    "duration": 4,
    "start_time": "2022-06-10T06:10:09.102Z"
   },
   {
    "duration": 12,
    "start_time": "2022-06-10T06:10:09.622Z"
   },
   {
    "duration": 32,
    "start_time": "2022-06-10T06:10:28.770Z"
   },
   {
    "duration": 7,
    "start_time": "2022-06-10T06:10:30.162Z"
   },
   {
    "duration": 7,
    "start_time": "2022-06-10T06:10:30.550Z"
   },
   {
    "duration": 13,
    "start_time": "2022-06-10T06:10:31.220Z"
   },
   {
    "duration": 6566,
    "start_time": "2022-06-10T06:10:32.798Z"
   },
   {
    "duration": 28,
    "start_time": "2022-06-10T06:13:03.979Z"
   },
   {
    "duration": 24,
    "start_time": "2022-06-10T06:13:13.432Z"
   },
   {
    "duration": 996,
    "start_time": "2022-06-10T06:13:14.600Z"
   },
   {
    "duration": 36,
    "start_time": "2022-06-10T06:15:04.779Z"
   },
   {
    "duration": 54,
    "start_time": "2022-06-10T18:39:11.106Z"
   },
   {
    "duration": 2141,
    "start_time": "2022-06-10T18:39:19.417Z"
   },
   {
    "duration": 152,
    "start_time": "2022-06-10T18:39:21.560Z"
   },
   {
    "duration": 14,
    "start_time": "2022-06-10T18:39:21.714Z"
   },
   {
    "duration": 3,
    "start_time": "2022-06-10T18:39:21.730Z"
   },
   {
    "duration": 15,
    "start_time": "2022-06-10T18:39:21.735Z"
   },
   {
    "duration": 8,
    "start_time": "2022-06-10T18:39:21.751Z"
   },
   {
    "duration": 5,
    "start_time": "2022-06-10T18:39:21.761Z"
   },
   {
    "duration": 141,
    "start_time": "2022-06-10T18:39:21.768Z"
   },
   {
    "duration": 5,
    "start_time": "2022-06-10T18:39:21.911Z"
   },
   {
    "duration": 31,
    "start_time": "2022-06-10T18:39:21.919Z"
   },
   {
    "duration": 5,
    "start_time": "2022-06-10T18:39:21.952Z"
   },
   {
    "duration": 23,
    "start_time": "2022-06-10T18:39:21.959Z"
   },
   {
    "duration": 27,
    "start_time": "2022-06-10T18:39:21.984Z"
   },
   {
    "duration": 65,
    "start_time": "2022-06-10T18:39:22.016Z"
   },
   {
    "duration": 10,
    "start_time": "2022-06-10T18:39:22.083Z"
   },
   {
    "duration": 13,
    "start_time": "2022-06-10T18:39:22.095Z"
   },
   {
    "duration": 17,
    "start_time": "2022-06-10T18:39:22.110Z"
   },
   {
    "duration": 7485,
    "start_time": "2022-06-10T18:39:22.129Z"
   },
   {
    "duration": 1086,
    "start_time": "2022-06-10T18:39:29.616Z"
   },
   {
    "duration": 27,
    "start_time": "2022-06-10T18:39:30.705Z"
   },
   {
    "duration": 5,
    "start_time": "2022-06-10T18:39:30.734Z"
   },
   {
    "duration": 25,
    "start_time": "2022-06-10T18:39:30.741Z"
   },
   {
    "duration": 6,
    "start_time": "2022-06-10T18:39:30.768Z"
   },
   {
    "duration": 35,
    "start_time": "2022-06-10T18:39:30.775Z"
   },
   {
    "duration": 1194,
    "start_time": "2022-06-10T18:39:30.811Z"
   },
   {
    "duration": 1771,
    "start_time": "2022-06-10T18:44:39.204Z"
   },
   {
    "duration": 95,
    "start_time": "2022-06-10T18:44:40.977Z"
   },
   {
    "duration": 5633,
    "start_time": "2022-06-10T18:44:41.074Z"
   },
   {
    "duration": 8,
    "start_time": "2022-06-10T18:44:46.709Z"
   },
   {
    "duration": 15,
    "start_time": "2022-06-10T18:50:46.086Z"
   },
   {
    "duration": 15,
    "start_time": "2022-06-10T18:51:23.753Z"
   },
   {
    "duration": 18,
    "start_time": "2022-06-10T18:52:16.560Z"
   },
   {
    "duration": 15,
    "start_time": "2022-06-10T18:54:51.361Z"
   },
   {
    "duration": 1442,
    "start_time": "2022-06-10T18:56:49.145Z"
   },
   {
    "duration": 53,
    "start_time": "2022-06-10T18:56:50.589Z"
   },
   {
    "duration": 12,
    "start_time": "2022-06-10T18:56:50.644Z"
   },
   {
    "duration": 2,
    "start_time": "2022-06-10T18:56:50.658Z"
   },
   {
    "duration": 19,
    "start_time": "2022-06-10T18:56:50.662Z"
   },
   {
    "duration": 8,
    "start_time": "2022-06-10T18:56:50.682Z"
   },
   {
    "duration": 9,
    "start_time": "2022-06-10T18:56:50.692Z"
   },
   {
    "duration": 68,
    "start_time": "2022-06-10T18:56:50.703Z"
   },
   {
    "duration": 5,
    "start_time": "2022-06-10T18:56:50.772Z"
   },
   {
    "duration": 20,
    "start_time": "2022-06-10T18:56:50.778Z"
   },
   {
    "duration": 4,
    "start_time": "2022-06-10T18:56:50.800Z"
   },
   {
    "duration": 15,
    "start_time": "2022-06-10T18:56:50.806Z"
   },
   {
    "duration": 19,
    "start_time": "2022-06-10T18:56:50.823Z"
   },
   {
    "duration": 36,
    "start_time": "2022-06-10T18:56:50.861Z"
   },
   {
    "duration": 6,
    "start_time": "2022-06-10T18:56:50.899Z"
   },
   {
    "duration": 9,
    "start_time": "2022-06-10T18:56:50.906Z"
   },
   {
    "duration": 16,
    "start_time": "2022-06-10T18:56:50.917Z"
   },
   {
    "duration": 7914,
    "start_time": "2022-06-10T18:56:50.958Z"
   },
   {
    "duration": 1043,
    "start_time": "2022-06-10T18:56:58.875Z"
   },
   {
    "duration": 19,
    "start_time": "2022-06-10T18:56:59.921Z"
   },
   {
    "duration": 5,
    "start_time": "2022-06-10T18:56:59.941Z"
   },
   {
    "duration": 28,
    "start_time": "2022-06-10T18:56:59.947Z"
   },
   {
    "duration": 5,
    "start_time": "2022-06-10T18:56:59.977Z"
   },
   {
    "duration": 38,
    "start_time": "2022-06-10T18:56:59.984Z"
   },
   {
    "duration": 1261,
    "start_time": "2022-06-10T18:57:00.025Z"
   },
   {
    "duration": 1767,
    "start_time": "2022-06-10T19:08:11.226Z"
   },
   {
    "duration": 91,
    "start_time": "2022-06-10T19:08:12.995Z"
   },
   {
    "duration": 13,
    "start_time": "2022-06-10T19:08:13.087Z"
   },
   {
    "duration": 58,
    "start_time": "2022-06-10T19:08:13.102Z"
   },
   {
    "duration": 28,
    "start_time": "2022-06-10T19:08:13.164Z"
   },
   {
    "duration": 64,
    "start_time": "2022-06-10T19:08:13.194Z"
   },
   {
    "duration": 5,
    "start_time": "2022-06-10T19:08:13.261Z"
   },
   {
    "duration": 112,
    "start_time": "2022-06-10T19:08:13.268Z"
   },
   {
    "duration": 5,
    "start_time": "2022-06-10T19:08:13.381Z"
   },
   {
    "duration": 12,
    "start_time": "2022-06-10T19:08:13.388Z"
   },
   {
    "duration": 57,
    "start_time": "2022-06-10T19:08:13.402Z"
   },
   {
    "duration": 16,
    "start_time": "2022-06-10T19:08:13.461Z"
   },
   {
    "duration": 286,
    "start_time": "2022-06-10T19:08:13.479Z"
   },
   {
    "duration": 0,
    "start_time": "2022-06-10T19:08:13.767Z"
   },
   {
    "duration": 0,
    "start_time": "2022-06-10T19:08:13.769Z"
   },
   {
    "duration": 0,
    "start_time": "2022-06-10T19:08:13.770Z"
   },
   {
    "duration": 0,
    "start_time": "2022-06-10T19:08:13.772Z"
   },
   {
    "duration": 0,
    "start_time": "2022-06-10T19:08:13.773Z"
   },
   {
    "duration": 0,
    "start_time": "2022-06-10T19:08:13.774Z"
   },
   {
    "duration": 0,
    "start_time": "2022-06-10T19:08:13.776Z"
   },
   {
    "duration": 0,
    "start_time": "2022-06-10T19:08:13.777Z"
   },
   {
    "duration": 0,
    "start_time": "2022-06-10T19:08:13.778Z"
   },
   {
    "duration": 0,
    "start_time": "2022-06-10T19:08:13.780Z"
   },
   {
    "duration": 0,
    "start_time": "2022-06-10T19:08:13.781Z"
   },
   {
    "duration": 0,
    "start_time": "2022-06-10T19:08:13.782Z"
   },
   {
    "duration": 0,
    "start_time": "2022-06-10T19:08:13.784Z"
   },
   {
    "duration": 0,
    "start_time": "2022-06-10T19:08:13.786Z"
   },
   {
    "duration": 0,
    "start_time": "2022-06-10T19:08:13.788Z"
   },
   {
    "duration": 0,
    "start_time": "2022-06-10T19:08:13.790Z"
   },
   {
    "duration": 0,
    "start_time": "2022-06-10T19:08:13.791Z"
   },
   {
    "duration": 1409,
    "start_time": "2022-06-10T19:26:49.741Z"
   },
   {
    "duration": 59,
    "start_time": "2022-06-10T19:26:51.152Z"
   },
   {
    "duration": 14,
    "start_time": "2022-06-10T19:26:51.213Z"
   },
   {
    "duration": 3,
    "start_time": "2022-06-10T19:26:51.230Z"
   },
   {
    "duration": 17,
    "start_time": "2022-06-10T19:26:51.234Z"
   },
   {
    "duration": 8,
    "start_time": "2022-06-10T19:26:51.253Z"
   },
   {
    "duration": 5,
    "start_time": "2022-06-10T19:26:51.262Z"
   },
   {
    "duration": 55,
    "start_time": "2022-06-10T19:26:51.269Z"
   },
   {
    "duration": 5,
    "start_time": "2022-06-10T19:26:51.325Z"
   },
   {
    "duration": 28,
    "start_time": "2022-06-10T19:26:51.333Z"
   },
   {
    "duration": 4,
    "start_time": "2022-06-10T19:26:51.362Z"
   },
   {
    "duration": 14,
    "start_time": "2022-06-10T19:26:51.368Z"
   },
   {
    "duration": 33,
    "start_time": "2022-06-10T19:26:51.383Z"
   },
   {
    "duration": 6,
    "start_time": "2022-06-10T19:26:51.418Z"
   },
   {
    "duration": 34,
    "start_time": "2022-06-10T19:26:51.426Z"
   },
   {
    "duration": 13,
    "start_time": "2022-06-10T19:26:51.461Z"
   },
   {
    "duration": 7738,
    "start_time": "2022-06-10T19:26:51.476Z"
   },
   {
    "duration": 1022,
    "start_time": "2022-06-10T19:26:59.216Z"
   },
   {
    "duration": 19,
    "start_time": "2022-06-10T19:27:00.240Z"
   },
   {
    "duration": 13,
    "start_time": "2022-06-10T19:27:00.261Z"
   },
   {
    "duration": 27,
    "start_time": "2022-06-10T19:27:00.277Z"
   },
   {
    "duration": 15,
    "start_time": "2022-06-10T19:27:00.307Z"
   },
   {
    "duration": 42,
    "start_time": "2022-06-10T19:27:00.324Z"
   },
   {
    "duration": 1102,
    "start_time": "2022-06-10T19:27:00.367Z"
   },
   {
    "duration": 68,
    "start_time": "2022-06-11T13:37:39.229Z"
   }
  ],
  "kernelspec": {
   "display_name": "Python 3 (ipykernel)",
   "language": "python",
   "name": "python3"
  },
  "language_info": {
   "codemirror_mode": {
    "name": "ipython",
    "version": 3
   },
   "file_extension": ".py",
   "mimetype": "text/x-python",
   "name": "python",
   "nbconvert_exporter": "python",
   "pygments_lexer": "ipython3",
   "version": "3.9.5"
  },
  "toc": {
   "base_numbering": 1,
   "nav_menu": {
    "height": "294px",
    "width": "515px"
   },
   "number_sections": false,
   "sideBar": true,
   "skip_h1_title": true,
   "title_cell": "Содержание",
   "title_sidebar": "Contents",
   "toc_cell": false,
   "toc_position": {
    "height": "calc(100% - 180px)",
    "left": "10px",
    "top": "150px",
    "width": "345px"
   },
   "toc_section_display": true,
   "toc_window_display": true
  }
 },
 "nbformat": 4,
 "nbformat_minor": 2
}
