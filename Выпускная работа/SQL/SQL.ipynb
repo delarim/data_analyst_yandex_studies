{
 "cells": [
  {
   "cell_type": "markdown",
   "metadata": {},
   "source": [
    "## Анализ базы данных книжного сервиса при помощи SQL."
   ]
  },
  {
   "cell_type": "markdown",
   "metadata": {},
   "source": [
    "Коронавирус застал мир врасплох, изменив привычный порядок вещей. В свободное время жители городов больше не выходят на улицу, не посещают кафе и торговые центры. Зато стало больше времени для книг. Это заметили стартаперы — и бросились создавать приложения для тех, кто любит читать.\n",
    "\n",
    "Наша компания решила быть на волне и купила крупный сервис для чтения книг по подписке. Наша первая задача как аналитика — проанализировать базу данных. В ней — информация о книгах, издательствах, авторах, а также пользовательские обзоры книг. Эти данные помогут сформулировать ценностное предложение для нового продукта.\n",
    "\n",
    "**Цель работы:**\n",
    "\n",
    "Проанализировать базу данных, а именно: \n",
    "- посчитать, сколько книг вышло после 1 января 2000 года;\n",
    "- для каждой книги посчитать количество обзоров и среднюю оценку;\n",
    "- определить издательство, которое выпустило наибольшее число книг толще 50 страниц, чтобы исключить из анализа брошюры;\n",
    "- определить автора с самой высокой средней оценкой книг, учитывая только книги с 50 и более оценками;\n",
    "- посчитать среднее количество обзоров от пользователей, которые поставили больше 50 оценок.\n",
    "\n",
    "**Ход работы:**\n",
    "\n",
    "Импортируем библиотеки, подключимся к базе данных, отобразим cхему базы данных и проведем первичное ознакомление с данными. После этого последовательно решим все необходимые задачи в рамках цели работы, сопровождая их соответствующими выводами. В итоге все завершим общим выводом. \n",
    "\n",
    "Таким образом, работа пройдёт в три шага:\n",
    "1. Ознакомление с данными.\n",
    "2. Выполнение задач на основе данных.\n",
    "3. Общий вывод."
   ]
  },
  {
   "cell_type": "markdown",
   "metadata": {},
   "source": [
    "⚠️\n",
    "\n",
    "Импортируем сразу же нужные библиотеки и подключаемся к базе данных, настроив необходимые параметры. Заодно создадим функцию, выводящую результат sql-запроса."
   ]
  },
  {
   "cell_type": "code",
   "execution_count": 1,
   "metadata": {},
   "outputs": [],
   "source": [
    "import pandas as pd\n",
    "from sqlalchemy import create_engine\n",
    "from IPython.display import Image\n",
    "\n",
    "db_config = {'user': 'praktikum_student',\n",
    "    'pwd': 'Sdf4$2;d-d30pp',\n",
    "    'host': 'rc1b-wcoijxj3yxfsf3fs.mdb.yandexcloud.net',\n",
    "    'port': 6432,\n",
    "    'db': 'data-analyst-final-project-db'}\n",
    "\n",
    "connection_string = 'postgresql://{}:{}@{}:{}/{}'.format(db_config['user'],\n",
    "    db_config['pwd'],\n",
    "    db_config['host'],\n",
    "    db_config['port'],\n",
    "    db_config['db'])\n",
    "\n",
    "engine = create_engine(connection_string, connect_args = {'sslmode':'require'}) \n",
    "\n",
    "def execute(query):\n",
    "    return pd.io.sql.read_sql(query, con = engine)"
   ]
  },
  {
   "cell_type": "markdown",
   "metadata": {},
   "source": [
    "Отобразим схему базы данных для удобства. "
   ]
  },
  {
   "cell_type": "code",
   "execution_count": 2,
   "metadata": {
    "scrolled": false
   },
   "outputs": [
    {
     "data": {
      "text/html": [
       "<img src=\"https://clck.ru/ray5s\" width=\"975\"/>"
      ],
      "text/plain": [
       "<IPython.core.display.Image object>"
      ]
     },
     "metadata": {},
     "output_type": "display_data"
    }
   ],
   "source": [
    "display(Image(url='https://clck.ru/ray5s', width = 975))"
   ]
  },
  {
   "cell_type": "markdown",
   "metadata": {},
   "source": [
    "### 1. Ознакомление с данными."
   ]
  },
  {
   "cell_type": "markdown",
   "metadata": {},
   "source": [
    "Исследуем таблицы."
   ]
  },
  {
   "cell_type": "markdown",
   "metadata": {},
   "source": [
    "---"
   ]
  },
  {
   "cell_type": "markdown",
   "metadata": {},
   "source": [
    "Посмотрим на первые 5 строк таблицы `books`."
   ]
  },
  {
   "cell_type": "code",
   "execution_count": 3,
   "metadata": {
    "scrolled": false
   },
   "outputs": [
    {
     "data": {
      "text/html": [
       "<div>\n",
       "<style scoped>\n",
       "    .dataframe tbody tr th:only-of-type {\n",
       "        vertical-align: middle;\n",
       "    }\n",
       "\n",
       "    .dataframe tbody tr th {\n",
       "        vertical-align: top;\n",
       "    }\n",
       "\n",
       "    .dataframe thead th {\n",
       "        text-align: right;\n",
       "    }\n",
       "</style>\n",
       "<table border=\"1\" class=\"dataframe\">\n",
       "  <thead>\n",
       "    <tr style=\"text-align: right;\">\n",
       "      <th></th>\n",
       "      <th>book_id</th>\n",
       "      <th>author_id</th>\n",
       "      <th>title</th>\n",
       "      <th>num_pages</th>\n",
       "      <th>publication_date</th>\n",
       "      <th>publisher_id</th>\n",
       "    </tr>\n",
       "  </thead>\n",
       "  <tbody>\n",
       "    <tr>\n",
       "      <th>0</th>\n",
       "      <td>1</td>\n",
       "      <td>546</td>\n",
       "      <td>'Salem's Lot</td>\n",
       "      <td>594</td>\n",
       "      <td>2005-11-01</td>\n",
       "      <td>93</td>\n",
       "    </tr>\n",
       "    <tr>\n",
       "      <th>1</th>\n",
       "      <td>2</td>\n",
       "      <td>465</td>\n",
       "      <td>1 000 Places to See Before You Die</td>\n",
       "      <td>992</td>\n",
       "      <td>2003-05-22</td>\n",
       "      <td>336</td>\n",
       "    </tr>\n",
       "    <tr>\n",
       "      <th>2</th>\n",
       "      <td>3</td>\n",
       "      <td>407</td>\n",
       "      <td>13 Little Blue Envelopes (Little Blue Envelope...</td>\n",
       "      <td>322</td>\n",
       "      <td>2010-12-21</td>\n",
       "      <td>135</td>\n",
       "    </tr>\n",
       "    <tr>\n",
       "      <th>3</th>\n",
       "      <td>4</td>\n",
       "      <td>82</td>\n",
       "      <td>1491: New Revelations of the Americas Before C...</td>\n",
       "      <td>541</td>\n",
       "      <td>2006-10-10</td>\n",
       "      <td>309</td>\n",
       "    </tr>\n",
       "    <tr>\n",
       "      <th>4</th>\n",
       "      <td>5</td>\n",
       "      <td>125</td>\n",
       "      <td>1776</td>\n",
       "      <td>386</td>\n",
       "      <td>2006-07-04</td>\n",
       "      <td>268</td>\n",
       "    </tr>\n",
       "  </tbody>\n",
       "</table>\n",
       "</div>"
      ],
      "text/plain": [
       "   book_id  author_id                                              title  \\\n",
       "0        1        546                                       'Salem's Lot   \n",
       "1        2        465                 1 000 Places to See Before You Die   \n",
       "2        3        407  13 Little Blue Envelopes (Little Blue Envelope...   \n",
       "3        4         82  1491: New Revelations of the Americas Before C...   \n",
       "4        5        125                                               1776   \n",
       "\n",
       "   num_pages publication_date  publisher_id  \n",
       "0        594       2005-11-01            93  \n",
       "1        992       2003-05-22           336  \n",
       "2        322       2010-12-21           135  \n",
       "3        541       2006-10-10           309  \n",
       "4        386       2006-07-04           268  "
      ]
     },
     "execution_count": 3,
     "metadata": {},
     "output_type": "execute_result"
    }
   ],
   "source": [
    "query = '''\n",
    "SELECT *\n",
    "FROM books\n",
    "LIMIT 5\n",
    "'''\n",
    "\n",
    "execute(query)"
   ]
  },
  {
   "cell_type": "markdown",
   "metadata": {},
   "source": [
    "Посчитаем количество книг."
   ]
  },
  {
   "cell_type": "code",
   "execution_count": 4,
   "metadata": {},
   "outputs": [
    {
     "data": {
      "text/html": [
       "<div>\n",
       "<style scoped>\n",
       "    .dataframe tbody tr th:only-of-type {\n",
       "        vertical-align: middle;\n",
       "    }\n",
       "\n",
       "    .dataframe tbody tr th {\n",
       "        vertical-align: top;\n",
       "    }\n",
       "\n",
       "    .dataframe thead th {\n",
       "        text-align: right;\n",
       "    }\n",
       "</style>\n",
       "<table border=\"1\" class=\"dataframe\">\n",
       "  <thead>\n",
       "    <tr style=\"text-align: right;\">\n",
       "      <th></th>\n",
       "      <th>amount</th>\n",
       "    </tr>\n",
       "  </thead>\n",
       "  <tbody>\n",
       "    <tr>\n",
       "      <th>0</th>\n",
       "      <td>1000</td>\n",
       "    </tr>\n",
       "  </tbody>\n",
       "</table>\n",
       "</div>"
      ],
      "text/plain": [
       "   amount\n",
       "0    1000"
      ]
     },
     "execution_count": 4,
     "metadata": {},
     "output_type": "execute_result"
    }
   ],
   "source": [
    "query = '''\n",
    "SELECT COUNT(book_id) AS amount\n",
    "FROM books\n",
    "'''\n",
    "\n",
    "execute(query)"
   ]
  },
  {
   "cell_type": "markdown",
   "metadata": {},
   "source": [
    "Таблица `books` содержит данные о 1000 книгах. Согласно документации:\n",
    "- `book_id` — идентификатор книги;\n",
    "- `author_id` — идентификатор автора;\n",
    "- `title` — название книги;\n",
    "- `num_pages` — количество страниц;\n",
    "- `publication_date` — дата публикации книги;\n",
    "- `publisher_id` — идентификатор издателя."
   ]
  },
  {
   "cell_type": "markdown",
   "metadata": {},
   "source": [
    "Посмотрим на первые 5 строк таблицы `authors`."
   ]
  },
  {
   "cell_type": "code",
   "execution_count": 5,
   "metadata": {
    "scrolled": false
   },
   "outputs": [
    {
     "data": {
      "text/html": [
       "<div>\n",
       "<style scoped>\n",
       "    .dataframe tbody tr th:only-of-type {\n",
       "        vertical-align: middle;\n",
       "    }\n",
       "\n",
       "    .dataframe tbody tr th {\n",
       "        vertical-align: top;\n",
       "    }\n",
       "\n",
       "    .dataframe thead th {\n",
       "        text-align: right;\n",
       "    }\n",
       "</style>\n",
       "<table border=\"1\" class=\"dataframe\">\n",
       "  <thead>\n",
       "    <tr style=\"text-align: right;\">\n",
       "      <th></th>\n",
       "      <th>author_id</th>\n",
       "      <th>author</th>\n",
       "    </tr>\n",
       "  </thead>\n",
       "  <tbody>\n",
       "    <tr>\n",
       "      <th>0</th>\n",
       "      <td>1</td>\n",
       "      <td>A.S. Byatt</td>\n",
       "    </tr>\n",
       "    <tr>\n",
       "      <th>1</th>\n",
       "      <td>2</td>\n",
       "      <td>Aesop/Laura Harris/Laura Gibbs</td>\n",
       "    </tr>\n",
       "    <tr>\n",
       "      <th>2</th>\n",
       "      <td>3</td>\n",
       "      <td>Agatha Christie</td>\n",
       "    </tr>\n",
       "    <tr>\n",
       "      <th>3</th>\n",
       "      <td>4</td>\n",
       "      <td>Alan Brennert</td>\n",
       "    </tr>\n",
       "    <tr>\n",
       "      <th>4</th>\n",
       "      <td>5</td>\n",
       "      <td>Alan Moore/David   Lloyd</td>\n",
       "    </tr>\n",
       "  </tbody>\n",
       "</table>\n",
       "</div>"
      ],
      "text/plain": [
       "   author_id                          author\n",
       "0          1                      A.S. Byatt\n",
       "1          2  Aesop/Laura Harris/Laura Gibbs\n",
       "2          3                 Agatha Christie\n",
       "3          4                   Alan Brennert\n",
       "4          5        Alan Moore/David   Lloyd"
      ]
     },
     "execution_count": 5,
     "metadata": {},
     "output_type": "execute_result"
    }
   ],
   "source": [
    "query = '''\n",
    "SELECT *\n",
    "FROM authors\n",
    "LIMIT 5\n",
    "'''\n",
    "\n",
    "execute(query)"
   ]
  },
  {
   "cell_type": "markdown",
   "metadata": {},
   "source": [
    "Посчитаем количество авторов."
   ]
  },
  {
   "cell_type": "code",
   "execution_count": 6,
   "metadata": {},
   "outputs": [
    {
     "data": {
      "text/html": [
       "<div>\n",
       "<style scoped>\n",
       "    .dataframe tbody tr th:only-of-type {\n",
       "        vertical-align: middle;\n",
       "    }\n",
       "\n",
       "    .dataframe tbody tr th {\n",
       "        vertical-align: top;\n",
       "    }\n",
       "\n",
       "    .dataframe thead th {\n",
       "        text-align: right;\n",
       "    }\n",
       "</style>\n",
       "<table border=\"1\" class=\"dataframe\">\n",
       "  <thead>\n",
       "    <tr style=\"text-align: right;\">\n",
       "      <th></th>\n",
       "      <th>amount</th>\n",
       "    </tr>\n",
       "  </thead>\n",
       "  <tbody>\n",
       "    <tr>\n",
       "      <th>0</th>\n",
       "      <td>636</td>\n",
       "    </tr>\n",
       "  </tbody>\n",
       "</table>\n",
       "</div>"
      ],
      "text/plain": [
       "   amount\n",
       "0     636"
      ]
     },
     "execution_count": 6,
     "metadata": {},
     "output_type": "execute_result"
    }
   ],
   "source": [
    "query = '''\n",
    "SELECT COUNT(author_id) AS amount\n",
    "FROM authors\n",
    "'''\n",
    "\n",
    "execute(query)"
   ]
  },
  {
   "cell_type": "markdown",
   "metadata": {},
   "source": [
    "Таблица `authors` содержит данные об 636 авторах. Согласно документации:\n",
    "- `author_id` — идентификатор автора;\n",
    "- `author` — имя автора."
   ]
  },
  {
   "cell_type": "markdown",
   "metadata": {},
   "source": [
    "Посмотрим на первые 5 строк таблицы `publishers`."
   ]
  },
  {
   "cell_type": "code",
   "execution_count": 7,
   "metadata": {
    "scrolled": true
   },
   "outputs": [
    {
     "data": {
      "text/html": [
       "<div>\n",
       "<style scoped>\n",
       "    .dataframe tbody tr th:only-of-type {\n",
       "        vertical-align: middle;\n",
       "    }\n",
       "\n",
       "    .dataframe tbody tr th {\n",
       "        vertical-align: top;\n",
       "    }\n",
       "\n",
       "    .dataframe thead th {\n",
       "        text-align: right;\n",
       "    }\n",
       "</style>\n",
       "<table border=\"1\" class=\"dataframe\">\n",
       "  <thead>\n",
       "    <tr style=\"text-align: right;\">\n",
       "      <th></th>\n",
       "      <th>publisher_id</th>\n",
       "      <th>publisher</th>\n",
       "    </tr>\n",
       "  </thead>\n",
       "  <tbody>\n",
       "    <tr>\n",
       "      <th>0</th>\n",
       "      <td>1</td>\n",
       "      <td>Ace</td>\n",
       "    </tr>\n",
       "    <tr>\n",
       "      <th>1</th>\n",
       "      <td>2</td>\n",
       "      <td>Ace Book</td>\n",
       "    </tr>\n",
       "    <tr>\n",
       "      <th>2</th>\n",
       "      <td>3</td>\n",
       "      <td>Ace Books</td>\n",
       "    </tr>\n",
       "    <tr>\n",
       "      <th>3</th>\n",
       "      <td>4</td>\n",
       "      <td>Ace Hardcover</td>\n",
       "    </tr>\n",
       "    <tr>\n",
       "      <th>4</th>\n",
       "      <td>5</td>\n",
       "      <td>Addison Wesley Publishing Company</td>\n",
       "    </tr>\n",
       "  </tbody>\n",
       "</table>\n",
       "</div>"
      ],
      "text/plain": [
       "   publisher_id                          publisher\n",
       "0             1                                Ace\n",
       "1             2                           Ace Book\n",
       "2             3                          Ace Books\n",
       "3             4                      Ace Hardcover\n",
       "4             5  Addison Wesley Publishing Company"
      ]
     },
     "execution_count": 7,
     "metadata": {},
     "output_type": "execute_result"
    }
   ],
   "source": [
    "query = '''\n",
    "SELECT *\n",
    "FROM publishers\n",
    "LIMIT 5\n",
    "'''\n",
    "\n",
    "execute(query)"
   ]
  },
  {
   "cell_type": "markdown",
   "metadata": {},
   "source": [
    "Посчитаем количество издательств."
   ]
  },
  {
   "cell_type": "code",
   "execution_count": 8,
   "metadata": {},
   "outputs": [
    {
     "data": {
      "text/html": [
       "<div>\n",
       "<style scoped>\n",
       "    .dataframe tbody tr th:only-of-type {\n",
       "        vertical-align: middle;\n",
       "    }\n",
       "\n",
       "    .dataframe tbody tr th {\n",
       "        vertical-align: top;\n",
       "    }\n",
       "\n",
       "    .dataframe thead th {\n",
       "        text-align: right;\n",
       "    }\n",
       "</style>\n",
       "<table border=\"1\" class=\"dataframe\">\n",
       "  <thead>\n",
       "    <tr style=\"text-align: right;\">\n",
       "      <th></th>\n",
       "      <th>amount</th>\n",
       "    </tr>\n",
       "  </thead>\n",
       "  <tbody>\n",
       "    <tr>\n",
       "      <th>0</th>\n",
       "      <td>340</td>\n",
       "    </tr>\n",
       "  </tbody>\n",
       "</table>\n",
       "</div>"
      ],
      "text/plain": [
       "   amount\n",
       "0     340"
      ]
     },
     "execution_count": 8,
     "metadata": {},
     "output_type": "execute_result"
    }
   ],
   "source": [
    "query = '''\n",
    "SELECT COUNT(publisher_id) AS amount\n",
    "FROM publishers\n",
    "'''\n",
    "\n",
    "execute(query)"
   ]
  },
  {
   "cell_type": "markdown",
   "metadata": {},
   "source": [
    "Таблица `publishers` содержит данные об 340 издательствах. Согласно документации:\n",
    "- `publisher_id` — идентификатор издательства;\n",
    "- `publisher` — название издательства;"
   ]
  },
  {
   "cell_type": "markdown",
   "metadata": {},
   "source": [
    "Посмотрим на первые 5 строк таблицы `ratings`."
   ]
  },
  {
   "cell_type": "code",
   "execution_count": 9,
   "metadata": {
    "scrolled": true
   },
   "outputs": [
    {
     "data": {
      "text/html": [
       "<div>\n",
       "<style scoped>\n",
       "    .dataframe tbody tr th:only-of-type {\n",
       "        vertical-align: middle;\n",
       "    }\n",
       "\n",
       "    .dataframe tbody tr th {\n",
       "        vertical-align: top;\n",
       "    }\n",
       "\n",
       "    .dataframe thead th {\n",
       "        text-align: right;\n",
       "    }\n",
       "</style>\n",
       "<table border=\"1\" class=\"dataframe\">\n",
       "  <thead>\n",
       "    <tr style=\"text-align: right;\">\n",
       "      <th></th>\n",
       "      <th>rating_id</th>\n",
       "      <th>book_id</th>\n",
       "      <th>username</th>\n",
       "      <th>rating</th>\n",
       "    </tr>\n",
       "  </thead>\n",
       "  <tbody>\n",
       "    <tr>\n",
       "      <th>0</th>\n",
       "      <td>1</td>\n",
       "      <td>1</td>\n",
       "      <td>ryanfranco</td>\n",
       "      <td>4</td>\n",
       "    </tr>\n",
       "    <tr>\n",
       "      <th>1</th>\n",
       "      <td>2</td>\n",
       "      <td>1</td>\n",
       "      <td>grantpatricia</td>\n",
       "      <td>2</td>\n",
       "    </tr>\n",
       "    <tr>\n",
       "      <th>2</th>\n",
       "      <td>3</td>\n",
       "      <td>1</td>\n",
       "      <td>brandtandrea</td>\n",
       "      <td>5</td>\n",
       "    </tr>\n",
       "    <tr>\n",
       "      <th>3</th>\n",
       "      <td>4</td>\n",
       "      <td>2</td>\n",
       "      <td>lorichen</td>\n",
       "      <td>3</td>\n",
       "    </tr>\n",
       "    <tr>\n",
       "      <th>4</th>\n",
       "      <td>5</td>\n",
       "      <td>2</td>\n",
       "      <td>mariokeller</td>\n",
       "      <td>2</td>\n",
       "    </tr>\n",
       "  </tbody>\n",
       "</table>\n",
       "</div>"
      ],
      "text/plain": [
       "   rating_id  book_id       username  rating\n",
       "0          1        1     ryanfranco       4\n",
       "1          2        1  grantpatricia       2\n",
       "2          3        1   brandtandrea       5\n",
       "3          4        2       lorichen       3\n",
       "4          5        2    mariokeller       2"
      ]
     },
     "execution_count": 9,
     "metadata": {},
     "output_type": "execute_result"
    }
   ],
   "source": [
    "query = '''\n",
    "SELECT *\n",
    "FROM ratings\n",
    "LIMIT 5\n",
    "'''\n",
    "\n",
    "execute(query)"
   ]
  },
  {
   "cell_type": "markdown",
   "metadata": {},
   "source": [
    "Посчитаем количество пользовательских оценок книг."
   ]
  },
  {
   "cell_type": "code",
   "execution_count": 10,
   "metadata": {},
   "outputs": [
    {
     "data": {
      "text/html": [
       "<div>\n",
       "<style scoped>\n",
       "    .dataframe tbody tr th:only-of-type {\n",
       "        vertical-align: middle;\n",
       "    }\n",
       "\n",
       "    .dataframe tbody tr th {\n",
       "        vertical-align: top;\n",
       "    }\n",
       "\n",
       "    .dataframe thead th {\n",
       "        text-align: right;\n",
       "    }\n",
       "</style>\n",
       "<table border=\"1\" class=\"dataframe\">\n",
       "  <thead>\n",
       "    <tr style=\"text-align: right;\">\n",
       "      <th></th>\n",
       "      <th>amount</th>\n",
       "    </tr>\n",
       "  </thead>\n",
       "  <tbody>\n",
       "    <tr>\n",
       "      <th>0</th>\n",
       "      <td>6456</td>\n",
       "    </tr>\n",
       "  </tbody>\n",
       "</table>\n",
       "</div>"
      ],
      "text/plain": [
       "   amount\n",
       "0    6456"
      ]
     },
     "execution_count": 10,
     "metadata": {},
     "output_type": "execute_result"
    }
   ],
   "source": [
    "query = '''\n",
    "SELECT COUNT(rating_id) AS amount\n",
    "FROM ratings\n",
    "'''\n",
    "\n",
    "execute(query)"
   ]
  },
  {
   "cell_type": "markdown",
   "metadata": {},
   "source": [
    "Таблица `ratings` содержит данные о 6456 пользовательских оценках книг. Согласно документации:\n",
    "- `rating_id` — идентификатор оценки;\n",
    "- `book_id` — идентификатор книги;\n",
    "- `username` — имя пользователя, оставившего оценку;\n",
    "- `rating` — оценка книги."
   ]
  },
  {
   "cell_type": "markdown",
   "metadata": {},
   "source": [
    "Посмотрим на первые 5 строк таблицы `reviews`."
   ]
  },
  {
   "cell_type": "code",
   "execution_count": 11,
   "metadata": {
    "scrolled": true
   },
   "outputs": [
    {
     "data": {
      "text/html": [
       "<div>\n",
       "<style scoped>\n",
       "    .dataframe tbody tr th:only-of-type {\n",
       "        vertical-align: middle;\n",
       "    }\n",
       "\n",
       "    .dataframe tbody tr th {\n",
       "        vertical-align: top;\n",
       "    }\n",
       "\n",
       "    .dataframe thead th {\n",
       "        text-align: right;\n",
       "    }\n",
       "</style>\n",
       "<table border=\"1\" class=\"dataframe\">\n",
       "  <thead>\n",
       "    <tr style=\"text-align: right;\">\n",
       "      <th></th>\n",
       "      <th>review_id</th>\n",
       "      <th>book_id</th>\n",
       "      <th>username</th>\n",
       "      <th>text</th>\n",
       "    </tr>\n",
       "  </thead>\n",
       "  <tbody>\n",
       "    <tr>\n",
       "      <th>0</th>\n",
       "      <td>1</td>\n",
       "      <td>1</td>\n",
       "      <td>brandtandrea</td>\n",
       "      <td>Mention society tell send professor analysis. ...</td>\n",
       "    </tr>\n",
       "    <tr>\n",
       "      <th>1</th>\n",
       "      <td>2</td>\n",
       "      <td>1</td>\n",
       "      <td>ryanfranco</td>\n",
       "      <td>Foot glass pretty audience hit themselves. Amo...</td>\n",
       "    </tr>\n",
       "    <tr>\n",
       "      <th>2</th>\n",
       "      <td>3</td>\n",
       "      <td>2</td>\n",
       "      <td>lorichen</td>\n",
       "      <td>Listen treat keep worry. Miss husband tax but ...</td>\n",
       "    </tr>\n",
       "    <tr>\n",
       "      <th>3</th>\n",
       "      <td>4</td>\n",
       "      <td>3</td>\n",
       "      <td>johnsonamanda</td>\n",
       "      <td>Finally month interesting blue could nature cu...</td>\n",
       "    </tr>\n",
       "    <tr>\n",
       "      <th>4</th>\n",
       "      <td>5</td>\n",
       "      <td>3</td>\n",
       "      <td>scotttamara</td>\n",
       "      <td>Nation purpose heavy give wait song will. List...</td>\n",
       "    </tr>\n",
       "  </tbody>\n",
       "</table>\n",
       "</div>"
      ],
      "text/plain": [
       "   review_id  book_id       username  \\\n",
       "0          1        1   brandtandrea   \n",
       "1          2        1     ryanfranco   \n",
       "2          3        2       lorichen   \n",
       "3          4        3  johnsonamanda   \n",
       "4          5        3    scotttamara   \n",
       "\n",
       "                                                text  \n",
       "0  Mention society tell send professor analysis. ...  \n",
       "1  Foot glass pretty audience hit themselves. Amo...  \n",
       "2  Listen treat keep worry. Miss husband tax but ...  \n",
       "3  Finally month interesting blue could nature cu...  \n",
       "4  Nation purpose heavy give wait song will. List...  "
      ]
     },
     "execution_count": 11,
     "metadata": {},
     "output_type": "execute_result"
    }
   ],
   "source": [
    "query = '''\n",
    "SELECT *\n",
    "FROM reviews\n",
    "LIMIT 5\n",
    "'''\n",
    "\n",
    "execute(query)"
   ]
  },
  {
   "cell_type": "markdown",
   "metadata": {},
   "source": [
    "Посчитаем количество пользовательских обзоров."
   ]
  },
  {
   "cell_type": "code",
   "execution_count": 12,
   "metadata": {},
   "outputs": [
    {
     "data": {
      "text/html": [
       "<div>\n",
       "<style scoped>\n",
       "    .dataframe tbody tr th:only-of-type {\n",
       "        vertical-align: middle;\n",
       "    }\n",
       "\n",
       "    .dataframe tbody tr th {\n",
       "        vertical-align: top;\n",
       "    }\n",
       "\n",
       "    .dataframe thead th {\n",
       "        text-align: right;\n",
       "    }\n",
       "</style>\n",
       "<table border=\"1\" class=\"dataframe\">\n",
       "  <thead>\n",
       "    <tr style=\"text-align: right;\">\n",
       "      <th></th>\n",
       "      <th>amount</th>\n",
       "    </tr>\n",
       "  </thead>\n",
       "  <tbody>\n",
       "    <tr>\n",
       "      <th>0</th>\n",
       "      <td>2793</td>\n",
       "    </tr>\n",
       "  </tbody>\n",
       "</table>\n",
       "</div>"
      ],
      "text/plain": [
       "   amount\n",
       "0    2793"
      ]
     },
     "execution_count": 12,
     "metadata": {},
     "output_type": "execute_result"
    }
   ],
   "source": [
    "query = '''\n",
    "SELECT COUNT(review_id) AS amount\n",
    "FROM reviews\n",
    "'''\n",
    "\n",
    "execute(query)"
   ]
  },
  {
   "cell_type": "markdown",
   "metadata": {},
   "source": [
    "Таблица `reviews` содержит данные о 2793 пользовательских обзорах. Согласно документации:\n",
    "- `review_id` — идентификатор обзора;\n",
    "- `book_id` — идентификатор книги;\n",
    "- `username` — имя автора обзора;\n",
    "- `text` — текст обзора."
   ]
  },
  {
   "cell_type": "markdown",
   "metadata": {},
   "source": [
    "**Вывод по шагу:**\n",
    "\n",
    "Мы исследовали каждую таблицу и выяснили, что:\n",
    "- таблица `books` содержит данные о 1000 книгах;\n",
    "- таблица `authors` содержит данные об 636 авторах;\n",
    "- таблица `publishers` содержит данные о 340 издательствах;\n",
    "- таблица `ratings` содержит данные о 6456 пользовательских оценках книг;\n",
    "- таблица `reviews` содержит данные о 2793 пользовательских обзорах."
   ]
  },
  {
   "cell_type": "markdown",
   "metadata": {},
   "source": [
    "### 2. Выполнение задач на основе данных."
   ]
  },
  {
   "cell_type": "markdown",
   "metadata": {},
   "source": [
    "Последовательно решим все необходимые задачи в рамках цели работы, сопровождая их соответствующими выводами. "
   ]
  },
  {
   "cell_type": "markdown",
   "metadata": {},
   "source": [
    "---"
   ]
  },
  {
   "cell_type": "markdown",
   "metadata": {},
   "source": [
    "#### 2.1 Подсчет книг, вышедших после 1 января 2000 года."
   ]
  },
  {
   "cell_type": "markdown",
   "metadata": {},
   "source": [
    "Посчитаем, сколько книг вышло после 1 января 2000 года."
   ]
  },
  {
   "cell_type": "code",
   "execution_count": 13,
   "metadata": {},
   "outputs": [
    {
     "data": {
      "text/html": [
       "<div>\n",
       "<style scoped>\n",
       "    .dataframe tbody tr th:only-of-type {\n",
       "        vertical-align: middle;\n",
       "    }\n",
       "\n",
       "    .dataframe tbody tr th {\n",
       "        vertical-align: top;\n",
       "    }\n",
       "\n",
       "    .dataframe thead th {\n",
       "        text-align: right;\n",
       "    }\n",
       "</style>\n",
       "<table border=\"1\" class=\"dataframe\">\n",
       "  <thead>\n",
       "    <tr style=\"text-align: right;\">\n",
       "      <th></th>\n",
       "      <th>amount</th>\n",
       "    </tr>\n",
       "  </thead>\n",
       "  <tbody>\n",
       "    <tr>\n",
       "      <th>0</th>\n",
       "      <td>819</td>\n",
       "    </tr>\n",
       "  </tbody>\n",
       "</table>\n",
       "</div>"
      ],
      "text/plain": [
       "   amount\n",
       "0     819"
      ]
     },
     "execution_count": 13,
     "metadata": {},
     "output_type": "execute_result"
    }
   ],
   "source": [
    "query = '''\n",
    "SELECT COUNT(book_id) AS amount\n",
    "FROM books\n",
    "WHERE publication_date::DATE > '2000-01-01'\n",
    "'''\n",
    "\n",
    "execute(query)"
   ]
  },
  {
   "cell_type": "markdown",
   "metadata": {},
   "source": [
    "**Вывод:**\n",
    "\n",
    "После 1 января 2000 года вышло 819 книг."
   ]
  },
  {
   "cell_type": "markdown",
   "metadata": {},
   "source": [
    "#### 2.2 Подсчет количества обзоров и средней оценки для каждой книги."
   ]
  },
  {
   "cell_type": "markdown",
   "metadata": {},
   "source": [
    "Для каждой книги посчитаем количество обзоров и среднюю оценку. Затем отсортируем полученные результаты по количеству обзоров и по средней оценке соответственно."
   ]
  },
  {
   "cell_type": "code",
   "execution_count": 14,
   "metadata": {
    "scrolled": false
   },
   "outputs": [
    {
     "data": {
      "text/html": [
       "<div>\n",
       "<style scoped>\n",
       "    .dataframe tbody tr th:only-of-type {\n",
       "        vertical-align: middle;\n",
       "    }\n",
       "\n",
       "    .dataframe tbody tr th {\n",
       "        vertical-align: top;\n",
       "    }\n",
       "\n",
       "    .dataframe thead th {\n",
       "        text-align: right;\n",
       "    }\n",
       "</style>\n",
       "<table border=\"1\" class=\"dataframe\">\n",
       "  <thead>\n",
       "    <tr style=\"text-align: right;\">\n",
       "      <th></th>\n",
       "      <th>title</th>\n",
       "      <th>amount_review</th>\n",
       "      <th>average_rating</th>\n",
       "    </tr>\n",
       "  </thead>\n",
       "  <tbody>\n",
       "    <tr>\n",
       "      <th>0</th>\n",
       "      <td>Twilight (Twilight  #1)</td>\n",
       "      <td>7</td>\n",
       "      <td>3.662500</td>\n",
       "    </tr>\n",
       "    <tr>\n",
       "      <th>1</th>\n",
       "      <td>The Hobbit  or There and Back Again</td>\n",
       "      <td>6</td>\n",
       "      <td>4.125000</td>\n",
       "    </tr>\n",
       "    <tr>\n",
       "      <th>2</th>\n",
       "      <td>The Catcher in the Rye</td>\n",
       "      <td>6</td>\n",
       "      <td>3.825581</td>\n",
       "    </tr>\n",
       "    <tr>\n",
       "      <th>3</th>\n",
       "      <td>Harry Potter and the Prisoner of Azkaban (Harr...</td>\n",
       "      <td>6</td>\n",
       "      <td>4.414634</td>\n",
       "    </tr>\n",
       "    <tr>\n",
       "      <th>4</th>\n",
       "      <td>Harry Potter and the Chamber of Secrets (Harry...</td>\n",
       "      <td>6</td>\n",
       "      <td>4.287500</td>\n",
       "    </tr>\n",
       "    <tr>\n",
       "      <th>...</th>\n",
       "      <td>...</td>\n",
       "      <td>...</td>\n",
       "      <td>...</td>\n",
       "    </tr>\n",
       "    <tr>\n",
       "      <th>994</th>\n",
       "      <td>Disney's Beauty and the Beast (A Little Golden...</td>\n",
       "      <td>0</td>\n",
       "      <td>4.000000</td>\n",
       "    </tr>\n",
       "    <tr>\n",
       "      <th>995</th>\n",
       "      <td>Essential Tales and Poems</td>\n",
       "      <td>0</td>\n",
       "      <td>4.000000</td>\n",
       "    </tr>\n",
       "    <tr>\n",
       "      <th>996</th>\n",
       "      <td>Leonardo's Notebooks</td>\n",
       "      <td>0</td>\n",
       "      <td>4.000000</td>\n",
       "    </tr>\n",
       "    <tr>\n",
       "      <th>997</th>\n",
       "      <td>The Natural Way to Draw</td>\n",
       "      <td>0</td>\n",
       "      <td>3.000000</td>\n",
       "    </tr>\n",
       "    <tr>\n",
       "      <th>998</th>\n",
       "      <td>The Cat in the Hat and Other Dr. Seuss Favorites</td>\n",
       "      <td>0</td>\n",
       "      <td>5.000000</td>\n",
       "    </tr>\n",
       "  </tbody>\n",
       "</table>\n",
       "<p>999 rows × 3 columns</p>\n",
       "</div>"
      ],
      "text/plain": [
       "                                                 title  amount_review  \\\n",
       "0                              Twilight (Twilight  #1)              7   \n",
       "1                  The Hobbit  or There and Back Again              6   \n",
       "2                               The Catcher in the Rye              6   \n",
       "3    Harry Potter and the Prisoner of Azkaban (Harr...              6   \n",
       "4    Harry Potter and the Chamber of Secrets (Harry...              6   \n",
       "..                                                 ...            ...   \n",
       "994  Disney's Beauty and the Beast (A Little Golden...              0   \n",
       "995                          Essential Tales and Poems              0   \n",
       "996                               Leonardo's Notebooks              0   \n",
       "997                            The Natural Way to Draw              0   \n",
       "998   The Cat in the Hat and Other Dr. Seuss Favorites              0   \n",
       "\n",
       "     average_rating  \n",
       "0          3.662500  \n",
       "1          4.125000  \n",
       "2          3.825581  \n",
       "3          4.414634  \n",
       "4          4.287500  \n",
       "..              ...  \n",
       "994        4.000000  \n",
       "995        4.000000  \n",
       "996        4.000000  \n",
       "997        3.000000  \n",
       "998        5.000000  \n",
       "\n",
       "[999 rows x 3 columns]"
      ]
     },
     "execution_count": 14,
     "metadata": {},
     "output_type": "execute_result"
    }
   ],
   "source": [
    "query = '''\n",
    "SELECT\n",
    "    books.title,\n",
    "    COUNT (DISTINCT review_id) AS amount_review,\n",
    "    AVG(rating) AS average_rating\n",
    "FROM books\n",
    "LEFT JOIN reviews ON reviews.book_id = books.book_id\n",
    "LEFT JOIN ratings ON ratings.book_id = books.book_id\n",
    "GROUP BY books.title\n",
    "ORDER BY COUNT(reviews.review_id) DESC\n",
    "'''\n",
    "\n",
    "execute(query)"
   ]
  },
  {
   "cell_type": "code",
   "execution_count": 15,
   "metadata": {
    "scrolled": false
   },
   "outputs": [
    {
     "data": {
      "text/html": [
       "<div>\n",
       "<style scoped>\n",
       "    .dataframe tbody tr th:only-of-type {\n",
       "        vertical-align: middle;\n",
       "    }\n",
       "\n",
       "    .dataframe tbody tr th {\n",
       "        vertical-align: top;\n",
       "    }\n",
       "\n",
       "    .dataframe thead th {\n",
       "        text-align: right;\n",
       "    }\n",
       "</style>\n",
       "<table border=\"1\" class=\"dataframe\">\n",
       "  <thead>\n",
       "    <tr style=\"text-align: right;\">\n",
       "      <th></th>\n",
       "      <th>title</th>\n",
       "      <th>amount_review</th>\n",
       "      <th>average_rating</th>\n",
       "    </tr>\n",
       "  </thead>\n",
       "  <tbody>\n",
       "    <tr>\n",
       "      <th>0</th>\n",
       "      <td>Pop Goes the Weasel (Alex Cross  #5)</td>\n",
       "      <td>2</td>\n",
       "      <td>5.00</td>\n",
       "    </tr>\n",
       "    <tr>\n",
       "      <th>1</th>\n",
       "      <td>Angels Fall</td>\n",
       "      <td>2</td>\n",
       "      <td>5.00</td>\n",
       "    </tr>\n",
       "    <tr>\n",
       "      <th>2</th>\n",
       "      <td>Piercing the Darkness (Darkness  #2)</td>\n",
       "      <td>2</td>\n",
       "      <td>5.00</td>\n",
       "    </tr>\n",
       "    <tr>\n",
       "      <th>3</th>\n",
       "      <td>The Cat in the Hat and Other Dr. Seuss Favorites</td>\n",
       "      <td>0</td>\n",
       "      <td>5.00</td>\n",
       "    </tr>\n",
       "    <tr>\n",
       "      <th>4</th>\n",
       "      <td>Neil Gaiman's Neverwhere</td>\n",
       "      <td>2</td>\n",
       "      <td>5.00</td>\n",
       "    </tr>\n",
       "    <tr>\n",
       "      <th>...</th>\n",
       "      <td>...</td>\n",
       "      <td>...</td>\n",
       "      <td>...</td>\n",
       "    </tr>\n",
       "    <tr>\n",
       "      <th>994</th>\n",
       "      <td>The World Is Flat: A Brief History of the Twen...</td>\n",
       "      <td>3</td>\n",
       "      <td>2.25</td>\n",
       "    </tr>\n",
       "    <tr>\n",
       "      <th>995</th>\n",
       "      <td>Junky</td>\n",
       "      <td>2</td>\n",
       "      <td>2.00</td>\n",
       "    </tr>\n",
       "    <tr>\n",
       "      <th>996</th>\n",
       "      <td>Drowning Ruth</td>\n",
       "      <td>3</td>\n",
       "      <td>2.00</td>\n",
       "    </tr>\n",
       "    <tr>\n",
       "      <th>997</th>\n",
       "      <td>His Excellency: George Washington</td>\n",
       "      <td>2</td>\n",
       "      <td>2.00</td>\n",
       "    </tr>\n",
       "    <tr>\n",
       "      <th>998</th>\n",
       "      <td>Harvesting the Heart</td>\n",
       "      <td>2</td>\n",
       "      <td>1.50</td>\n",
       "    </tr>\n",
       "  </tbody>\n",
       "</table>\n",
       "<p>999 rows × 3 columns</p>\n",
       "</div>"
      ],
      "text/plain": [
       "                                                 title  amount_review  \\\n",
       "0                 Pop Goes the Weasel (Alex Cross  #5)              2   \n",
       "1                                          Angels Fall              2   \n",
       "2                 Piercing the Darkness (Darkness  #2)              2   \n",
       "3     The Cat in the Hat and Other Dr. Seuss Favorites              0   \n",
       "4                             Neil Gaiman's Neverwhere              2   \n",
       "..                                                 ...            ...   \n",
       "994  The World Is Flat: A Brief History of the Twen...              3   \n",
       "995                                              Junky              2   \n",
       "996                                      Drowning Ruth              3   \n",
       "997                  His Excellency: George Washington              2   \n",
       "998                               Harvesting the Heart              2   \n",
       "\n",
       "     average_rating  \n",
       "0              5.00  \n",
       "1              5.00  \n",
       "2              5.00  \n",
       "3              5.00  \n",
       "4              5.00  \n",
       "..              ...  \n",
       "994            2.25  \n",
       "995            2.00  \n",
       "996            2.00  \n",
       "997            2.00  \n",
       "998            1.50  \n",
       "\n",
       "[999 rows x 3 columns]"
      ]
     },
     "execution_count": 15,
     "metadata": {},
     "output_type": "execute_result"
    }
   ],
   "source": [
    "query = '''\n",
    "SELECT\n",
    "    books.title,\n",
    "    COUNT (DISTINCT review_id) AS amount_review,\n",
    "    AVG(rating) AS average_rating\n",
    "FROM books\n",
    "LEFT JOIN reviews ON reviews.book_id = books.book_id\n",
    "LEFT JOIN ratings ON ratings.book_id = books.book_id\n",
    "GROUP BY books.title\n",
    "ORDER BY average_rating DESC\n",
    "'''\n",
    "\n",
    "execute(query)"
   ]
  },
  {
   "cell_type": "markdown",
   "metadata": {},
   "source": [
    "Строк стало меньше, похоже, что в названиях книг закрался дубликат. "
   ]
  },
  {
   "cell_type": "code",
   "execution_count": 16,
   "metadata": {
    "scrolled": true
   },
   "outputs": [
    {
     "data": {
      "text/html": [
       "<div>\n",
       "<style scoped>\n",
       "    .dataframe tbody tr th:only-of-type {\n",
       "        vertical-align: middle;\n",
       "    }\n",
       "\n",
       "    .dataframe tbody tr th {\n",
       "        vertical-align: top;\n",
       "    }\n",
       "\n",
       "    .dataframe thead th {\n",
       "        text-align: right;\n",
       "    }\n",
       "</style>\n",
       "<table border=\"1\" class=\"dataframe\">\n",
       "  <thead>\n",
       "    <tr style=\"text-align: right;\">\n",
       "      <th></th>\n",
       "      <th>title</th>\n",
       "      <th>count</th>\n",
       "    </tr>\n",
       "  </thead>\n",
       "  <tbody>\n",
       "    <tr>\n",
       "      <th>0</th>\n",
       "      <td>Memoirs of a Geisha</td>\n",
       "      <td>2</td>\n",
       "    </tr>\n",
       "  </tbody>\n",
       "</table>\n",
       "</div>"
      ],
      "text/plain": [
       "                 title  count\n",
       "0  Memoirs of a Geisha      2"
      ]
     },
     "execution_count": 16,
     "metadata": {},
     "output_type": "execute_result"
    }
   ],
   "source": [
    "query = '''\n",
    "SELECT\n",
    "    title,\n",
    "    COUNT(title)\n",
    "FROM books\n",
    "GROUP BY title\n",
    "HAVING COUNT(title) > 1\n",
    "'''\n",
    "\n",
    "execute(query)"
   ]
  },
  {
   "cell_type": "markdown",
   "metadata": {},
   "source": [
    "Да, это действительно так. "
   ]
  },
  {
   "cell_type": "markdown",
   "metadata": {},
   "source": [
    "**Вывод:**\n",
    "\n",
    "Мы посчитали количество обзоров и среднюю оценку для каждой книги. Видим, что наибольшее количество обзоров у книги `Twilight (Twilight #1)` - 7. Наивысшая средняя оценка - 5, а самая низкая - 1.50. "
   ]
  },
  {
   "cell_type": "markdown",
   "metadata": {},
   "source": [
    "#### 2.3 Выявление издательства с наибольшим числом книг."
   ]
  },
  {
   "cell_type": "markdown",
   "metadata": {},
   "source": [
    "Определим издательство, которое выпустило наибольшее число книг толще 50 страниц, чтобы исключить из анализа брошюры.\n"
   ]
  },
  {
   "cell_type": "code",
   "execution_count": 17,
   "metadata": {},
   "outputs": [
    {
     "data": {
      "text/html": [
       "<div>\n",
       "<style scoped>\n",
       "    .dataframe tbody tr th:only-of-type {\n",
       "        vertical-align: middle;\n",
       "    }\n",
       "\n",
       "    .dataframe tbody tr th {\n",
       "        vertical-align: top;\n",
       "    }\n",
       "\n",
       "    .dataframe thead th {\n",
       "        text-align: right;\n",
       "    }\n",
       "</style>\n",
       "<table border=\"1\" class=\"dataframe\">\n",
       "  <thead>\n",
       "    <tr style=\"text-align: right;\">\n",
       "      <th></th>\n",
       "      <th>publisher</th>\n",
       "      <th>count</th>\n",
       "    </tr>\n",
       "  </thead>\n",
       "  <tbody>\n",
       "    <tr>\n",
       "      <th>0</th>\n",
       "      <td>Penguin Books</td>\n",
       "      <td>42</td>\n",
       "    </tr>\n",
       "  </tbody>\n",
       "</table>\n",
       "</div>"
      ],
      "text/plain": [
       "       publisher  count\n",
       "0  Penguin Books     42"
      ]
     },
     "execution_count": 17,
     "metadata": {},
     "output_type": "execute_result"
    }
   ],
   "source": [
    "query = '''\n",
    "SELECT\n",
    "    publishers.publisher,\n",
    "    COUNT(book_id)\n",
    "FROM books INNER JOIN publishers ON books.publisher_id = publishers.publisher_id\n",
    "WHERE books.num_pages > 50\n",
    "GROUP BY publishers.publisher\n",
    "ORDER BY count DESC\n",
    "LIMIT 1\n",
    "'''\n",
    "\n",
    "execute(query)"
   ]
  },
  {
   "cell_type": "markdown",
   "metadata": {},
   "source": [
    "**Вывод:**\n",
    "\n",
    "Наибольшее количество книг толще 50 страниц выпустило издательство `Penguin Books`, которое точно не занимается брошюрами."
   ]
  },
  {
   "cell_type": "markdown",
   "metadata": {},
   "source": [
    "#### 2.4 Выявление автора с самой высокой средней оценкой книг."
   ]
  },
  {
   "cell_type": "markdown",
   "metadata": {},
   "source": [
    "Определим автора с самой высокой средней оценкой книг, учитывая только книги с 50 и более оценками."
   ]
  },
  {
   "cell_type": "code",
   "execution_count": 21,
   "metadata": {
    "scrolled": false
   },
   "outputs": [
    {
     "data": {
      "text/html": [
       "<div>\n",
       "<style scoped>\n",
       "    .dataframe tbody tr th:only-of-type {\n",
       "        vertical-align: middle;\n",
       "    }\n",
       "\n",
       "    .dataframe tbody tr th {\n",
       "        vertical-align: top;\n",
       "    }\n",
       "\n",
       "    .dataframe thead th {\n",
       "        text-align: right;\n",
       "    }\n",
       "</style>\n",
       "<table border=\"1\" class=\"dataframe\">\n",
       "  <thead>\n",
       "    <tr style=\"text-align: right;\">\n",
       "      <th></th>\n",
       "      <th>author</th>\n",
       "      <th>average_rating</th>\n",
       "    </tr>\n",
       "  </thead>\n",
       "  <tbody>\n",
       "    <tr>\n",
       "      <th>0</th>\n",
       "      <td>J.K. Rowling/Mary GrandPré</td>\n",
       "      <td>4.287097</td>\n",
       "    </tr>\n",
       "  </tbody>\n",
       "</table>\n",
       "</div>"
      ],
      "text/plain": [
       "                       author  average_rating\n",
       "0  J.K. Rowling/Mary GrandPré        4.287097"
      ]
     },
     "execution_count": 21,
     "metadata": {},
     "output_type": "execute_result"
    }
   ],
   "source": [
    "query = '''\n",
    "SELECT\n",
    "    authors.author,\n",
    "    AVG(ratings.rating) AS average_rating\n",
    "FROM books\n",
    "LEFT JOIN ratings ON books.book_id = ratings.book_id\n",
    "LEFT JOIN authors ON books.author_id = authors.author_id\n",
    "WHERE\n",
    "    books.book_id IN (\n",
    "    SELECT ratings.book_id\n",
    "    FROM ratings\n",
    "    GROUP BY ratings.book_id\n",
    "    HAVING COUNT(ratings.rating_id) > 50)\n",
    "GROUP BY authors.author\n",
    "ORDER BY average_rating DESC\n",
    "LIMIT 1\n",
    "'''\n",
    "\n",
    "execute(query)"
   ]
  },
  {
   "cell_type": "markdown",
   "metadata": {},
   "source": [
    "**Вывод:**\n",
    "\n",
    "Самая высокая средняя оценка книг, учитывая только книги с 50 и более оценками, у совместных работ Джоан Роулинг и Мэри Грандпре - 4.28. "
   ]
  },
  {
   "cell_type": "markdown",
   "metadata": {},
   "source": [
    "#### 2.5 Подсчет среднего количества обзоров от пользователей."
   ]
  },
  {
   "cell_type": "markdown",
   "metadata": {},
   "source": [
    "Посчитаем среднее количество обзоров от пользователей, которые поставили больше 50 оценок."
   ]
  },
  {
   "cell_type": "code",
   "execution_count": 20,
   "metadata": {},
   "outputs": [
    {
     "data": {
      "text/html": [
       "<div>\n",
       "<style scoped>\n",
       "    .dataframe tbody tr th:only-of-type {\n",
       "        vertical-align: middle;\n",
       "    }\n",
       "\n",
       "    .dataframe tbody tr th {\n",
       "        vertical-align: top;\n",
       "    }\n",
       "\n",
       "    .dataframe thead th {\n",
       "        text-align: right;\n",
       "    }\n",
       "</style>\n",
       "<table border=\"1\" class=\"dataframe\">\n",
       "  <thead>\n",
       "    <tr style=\"text-align: right;\">\n",
       "      <th></th>\n",
       "      <th>amount_average_review</th>\n",
       "    </tr>\n",
       "  </thead>\n",
       "  <tbody>\n",
       "    <tr>\n",
       "      <th>0</th>\n",
       "      <td>24.333333</td>\n",
       "    </tr>\n",
       "  </tbody>\n",
       "</table>\n",
       "</div>"
      ],
      "text/plain": [
       "   amount_average_review\n",
       "0              24.333333"
      ]
     },
     "execution_count": 20,
     "metadata": {},
     "output_type": "execute_result"
    }
   ],
   "source": [
    "query = '''\n",
    "SELECT\n",
    "    AVG(subquery.amount_review) AS amount_average_review\n",
    "FROM (\n",
    "    SELECT COUNT(review_id) AS amount_review\n",
    "        FROM reviews\n",
    "        WHERE username IN (\n",
    "            SELECT username\n",
    "            FROM ratings\n",
    "            GROUP BY username\n",
    "            HAVING COUNT(rating) > 50\n",
    "            )\n",
    "    GROUP BY username\n",
    "    ) AS subquery\n",
    "'''\n",
    "\n",
    "execute(query)"
   ]
  },
  {
   "cell_type": "markdown",
   "metadata": {},
   "source": [
    "**Вывод:**\n",
    "\n",
    "Среднее количество обзоров от пользователей, которые поставили больше 50 оценок - 24.33."
   ]
  },
  {
   "cell_type": "markdown",
   "metadata": {},
   "source": [
    "**Вывод по шагу:**\n",
    "\n",
    "Мы последовательно решили все необходимые задачи в рамках цели работы, сопровождая их соответствующими выводами:\n",
    "- после 1 января 2000 года вышло 819 книг;\n",
    "- в рамках подсчета количества обзоров и средней оценки для каждой книги выяснили, что наибольшее количество обзоров у книги `Twilight (Twilight #1)` - 7, а наивысшая средняя оценка - 5, самая низкая - 1.50;\n",
    "- наибольшее количество книг толще 50 страниц выпустило издательство `Penguin Books`, которое точно не занимается брошюрами;\n",
    "- самая высокая средняя оценка книг, учитывая только книги с 50 и более оценками, у совместных работ Джоан Роулинг и Мэри Грандпре - 4.28;\n",
    "- среднее количество обзоров от пользователей, которые поставили больше 50 оценок - 24.33."
   ]
  },
  {
   "cell_type": "markdown",
   "metadata": {},
   "source": [
    "### 3. Общий вывод."
   ]
  },
  {
   "cell_type": "markdown",
   "metadata": {},
   "source": [
    "Подведем итоги проведенной работы."
   ]
  },
  {
   "cell_type": "markdown",
   "metadata": {},
   "source": [
    "---"
   ]
  },
  {
   "cell_type": "markdown",
   "metadata": {},
   "source": [
    "Мы проанализировали базу данных в соответствии с установленным ходом работы. Импортировали библиотеки, подключились к базе данных, отобразили для удобства схему базы данных и провели первичное ознакомление с данными. Последовательно решили все необходимые задачи в рамках цели работы, сопровождая их соответствующими выводами. \n",
    "\n",
    "В базе данных содержатся данные о 1000 книгах, об 636 авторах, об 340 издательствах, о 6456 пользовательских оценках книг и о 2793 пользовательских обзорах. \n",
    "\n",
    "По итогу мы выяснили, что:\n",
    "- 819 книг из 1000 вышло после 1 января 2000 года;\n",
    "- наибольшее количество обзоров у книги `Twilight (Twilight #1)`;\n",
    "- наибольшее количество книг толще 50 страниц выпустило издательство `Penguin Books`;\n",
    "- самая высокая средняя оценка книг, учитывая только книги с 50 и более оценками, у совместных работ Джоан Роулинг и Мэри Грандпре - 4.28;\n",
    "- среднее количество обзоров от пользователей, которые поставили больше 50 оценок - 24.33."
   ]
  }
 ],
 "metadata": {
  "ExecuteTimeLog": [
   {
    "duration": 607,
    "start_time": "2022-06-18T19:38:47.782Z"
   },
   {
    "duration": 5,
    "start_time": "2022-06-18T19:38:55.179Z"
   },
   {
    "duration": 48,
    "start_time": "2022-06-18T19:39:00.874Z"
   },
   {
    "duration": 74,
    "start_time": "2022-06-18T19:39:07.587Z"
   },
   {
    "duration": 6,
    "start_time": "2022-06-18T20:10:38.866Z"
   },
   {
    "duration": 707,
    "start_time": "2022-06-18T20:10:43.916Z"
   },
   {
    "duration": 41,
    "start_time": "2022-06-18T20:13:44.151Z"
   },
   {
    "duration": 27,
    "start_time": "2022-06-18T20:14:38.339Z"
   },
   {
    "duration": 4,
    "start_time": "2022-06-18T20:16:20.325Z"
   },
   {
    "duration": 71,
    "start_time": "2022-06-18T20:16:41.965Z"
   },
   {
    "duration": 29,
    "start_time": "2022-06-18T20:17:23.101Z"
   },
   {
    "duration": 611,
    "start_time": "2022-06-18T20:17:32.848Z"
   },
   {
    "duration": 5,
    "start_time": "2022-06-18T20:17:33.461Z"
   },
   {
    "duration": 8,
    "start_time": "2022-06-18T20:17:50.839Z"
   },
   {
    "duration": 4,
    "start_time": "2022-06-18T20:17:55.389Z"
   },
   {
    "duration": 3,
    "start_time": "2022-06-18T20:17:59.767Z"
   },
   {
    "duration": 5,
    "start_time": "2022-06-18T20:18:56.759Z"
   },
   {
    "duration": 4,
    "start_time": "2022-06-18T20:20:01.387Z"
   },
   {
    "duration": 4,
    "start_time": "2022-06-18T20:20:06.111Z"
   },
   {
    "duration": 4,
    "start_time": "2022-06-18T20:20:11.759Z"
   },
   {
    "duration": 5,
    "start_time": "2022-06-18T20:20:20.431Z"
   },
   {
    "duration": 4,
    "start_time": "2022-06-18T20:20:27.656Z"
   },
   {
    "duration": 4,
    "start_time": "2022-06-18T20:20:32.367Z"
   },
   {
    "duration": 6,
    "start_time": "2022-06-18T20:20:41.831Z"
   },
   {
    "duration": 5,
    "start_time": "2022-06-18T20:20:45.809Z"
   },
   {
    "duration": 73,
    "start_time": "2022-06-18T20:22:49.265Z"
   },
   {
    "duration": 5,
    "start_time": "2022-06-18T20:22:52.353Z"
   },
   {
    "duration": 4,
    "start_time": "2022-06-18T20:22:59.673Z"
   },
   {
    "duration": 36,
    "start_time": "2022-06-18T20:25:47.226Z"
   },
   {
    "duration": 6,
    "start_time": "2022-06-18T20:28:11.635Z"
   },
   {
    "duration": 34,
    "start_time": "2022-06-18T20:43:22.356Z"
   },
   {
    "duration": 624,
    "start_time": "2022-06-18T20:45:26.913Z"
   },
   {
    "duration": 12,
    "start_time": "2022-06-18T20:45:27.539Z"
   },
   {
    "duration": 3,
    "start_time": "2022-06-18T20:48:53.950Z"
   },
   {
    "duration": 70,
    "start_time": "2022-06-18T20:49:28.909Z"
   },
   {
    "duration": 77,
    "start_time": "2022-06-18T20:49:41.190Z"
   },
   {
    "duration": 6,
    "start_time": "2022-06-18T20:50:25.974Z"
   },
   {
    "duration": 648,
    "start_time": "2022-06-18T20:50:30.588Z"
   },
   {
    "duration": 11,
    "start_time": "2022-06-18T20:50:31.238Z"
   },
   {
    "duration": 114,
    "start_time": "2022-06-18T20:50:31.251Z"
   },
   {
    "duration": 65,
    "start_time": "2022-06-18T20:50:40.753Z"
   },
   {
    "duration": 19,
    "start_time": "2022-06-18T20:51:44.525Z"
   },
   {
    "duration": 38,
    "start_time": "2022-06-18T20:51:52.867Z"
   },
   {
    "duration": 14,
    "start_time": "2022-06-18T20:51:58.886Z"
   },
   {
    "duration": 23,
    "start_time": "2022-06-18T20:54:51.102Z"
   },
   {
    "duration": 12,
    "start_time": "2022-06-18T20:56:39.789Z"
   },
   {
    "duration": 13,
    "start_time": "2022-06-18T20:57:39.782Z"
   },
   {
    "duration": 595,
    "start_time": "2022-06-18T20:58:41.821Z"
   },
   {
    "duration": 13,
    "start_time": "2022-06-18T20:58:42.418Z"
   },
   {
    "duration": 62,
    "start_time": "2022-06-18T20:58:42.442Z"
   },
   {
    "duration": 12,
    "start_time": "2022-06-18T20:58:42.506Z"
   },
   {
    "duration": 16,
    "start_time": "2022-06-18T20:58:42.519Z"
   },
   {
    "duration": 16,
    "start_time": "2022-06-18T20:58:42.537Z"
   },
   {
    "duration": 16,
    "start_time": "2022-06-18T20:58:42.555Z"
   },
   {
    "duration": 4,
    "start_time": "2022-06-18T21:02:54.074Z"
   },
   {
    "duration": 13,
    "start_time": "2022-06-18T21:03:00.202Z"
   },
   {
    "duration": 21,
    "start_time": "2022-06-18T21:03:07.610Z"
   },
   {
    "duration": 11,
    "start_time": "2022-06-18T21:03:31.522Z"
   },
   {
    "duration": 11,
    "start_time": "2022-06-18T21:03:46.282Z"
   },
   {
    "duration": 12,
    "start_time": "2022-06-18T21:03:49.762Z"
   },
   {
    "duration": 591,
    "start_time": "2022-06-18T21:04:00.245Z"
   },
   {
    "duration": 9,
    "start_time": "2022-06-18T21:04:00.838Z"
   },
   {
    "duration": 7,
    "start_time": "2022-06-18T21:04:00.849Z"
   },
   {
    "duration": 77,
    "start_time": "2022-06-18T21:04:00.858Z"
   },
   {
    "duration": 11,
    "start_time": "2022-06-18T21:04:00.938Z"
   },
   {
    "duration": 21,
    "start_time": "2022-06-18T21:04:00.951Z"
   },
   {
    "duration": 17,
    "start_time": "2022-06-18T21:04:00.975Z"
   },
   {
    "duration": 15,
    "start_time": "2022-06-18T21:04:00.994Z"
   },
   {
    "duration": 29,
    "start_time": "2022-06-18T21:04:01.011Z"
   },
   {
    "duration": 13,
    "start_time": "2022-06-18T21:08:43.019Z"
   },
   {
    "duration": 16,
    "start_time": "2022-06-18T21:09:29.948Z"
   },
   {
    "duration": 16,
    "start_time": "2022-06-18T21:09:52.548Z"
   },
   {
    "duration": 11,
    "start_time": "2022-06-18T21:10:11.723Z"
   },
   {
    "duration": 15,
    "start_time": "2022-06-18T21:10:48.459Z"
   },
   {
    "duration": 12,
    "start_time": "2022-06-18T21:11:24.753Z"
   },
   {
    "duration": 649,
    "start_time": "2022-06-18T21:11:36.353Z"
   },
   {
    "duration": 11,
    "start_time": "2022-06-18T21:11:37.007Z"
   },
   {
    "duration": 6,
    "start_time": "2022-06-18T21:11:37.021Z"
   },
   {
    "duration": 62,
    "start_time": "2022-06-18T21:11:37.030Z"
   },
   {
    "duration": 12,
    "start_time": "2022-06-18T21:11:37.094Z"
   },
   {
    "duration": 10,
    "start_time": "2022-06-18T21:11:37.108Z"
   },
   {
    "duration": 17,
    "start_time": "2022-06-18T21:11:37.120Z"
   },
   {
    "duration": 16,
    "start_time": "2022-06-18T21:11:37.139Z"
   },
   {
    "duration": 13,
    "start_time": "2022-06-18T21:11:37.157Z"
   },
   {
    "duration": 13,
    "start_time": "2022-06-18T21:11:37.173Z"
   },
   {
    "duration": 15,
    "start_time": "2022-06-18T21:11:37.188Z"
   },
   {
    "duration": 18,
    "start_time": "2022-06-18T21:11:37.204Z"
   },
   {
    "duration": 13,
    "start_time": "2022-06-18T21:11:37.242Z"
   },
   {
    "duration": 14,
    "start_time": "2022-06-18T21:14:45.366Z"
   },
   {
    "duration": 11,
    "start_time": "2022-06-18T21:14:47.789Z"
   },
   {
    "duration": 669,
    "start_time": "2022-06-18T21:16:32.230Z"
   },
   {
    "duration": 10,
    "start_time": "2022-06-18T21:16:32.901Z"
   },
   {
    "duration": 64,
    "start_time": "2022-06-18T21:16:32.914Z"
   },
   {
    "duration": 10,
    "start_time": "2022-06-18T21:16:32.981Z"
   },
   {
    "duration": 11,
    "start_time": "2022-06-18T21:16:32.993Z"
   },
   {
    "duration": 12,
    "start_time": "2022-06-18T21:16:33.006Z"
   },
   {
    "duration": 14,
    "start_time": "2022-06-18T21:16:33.020Z"
   },
   {
    "duration": 14,
    "start_time": "2022-06-18T21:16:33.041Z"
   },
   {
    "duration": 19,
    "start_time": "2022-06-18T21:16:33.058Z"
   },
   {
    "duration": 12,
    "start_time": "2022-06-18T21:16:33.080Z"
   },
   {
    "duration": 19,
    "start_time": "2022-06-18T21:16:33.094Z"
   },
   {
    "duration": 36,
    "start_time": "2022-06-18T21:16:33.115Z"
   },
   {
    "duration": 3,
    "start_time": "2022-06-18T21:28:18.171Z"
   },
   {
    "duration": 12,
    "start_time": "2022-06-18T21:28:24.573Z"
   },
   {
    "duration": 17,
    "start_time": "2022-06-18T21:33:51.302Z"
   },
   {
    "duration": 14,
    "start_time": "2022-06-18T21:36:16.327Z"
   },
   {
    "duration": 47,
    "start_time": "2022-06-18T21:36:43.487Z"
   },
   {
    "duration": 42,
    "start_time": "2022-06-18T21:37:43.056Z"
   },
   {
    "duration": 35,
    "start_time": "2022-06-18T21:37:58.646Z"
   },
   {
    "duration": 42,
    "start_time": "2022-06-18T21:38:01.112Z"
   },
   {
    "duration": 49,
    "start_time": "2022-06-18T21:39:04.050Z"
   },
   {
    "duration": 34,
    "start_time": "2022-06-18T21:42:10.673Z"
   },
   {
    "duration": 161,
    "start_time": "2022-06-18T21:42:53.169Z"
   },
   {
    "duration": 64,
    "start_time": "2022-06-18T21:42:56.401Z"
   },
   {
    "duration": 46,
    "start_time": "2022-06-18T21:43:00.994Z"
   },
   {
    "duration": 40,
    "start_time": "2022-06-18T21:46:44.363Z"
   },
   {
    "duration": 34,
    "start_time": "2022-06-18T21:46:52.282Z"
   },
   {
    "duration": 551,
    "start_time": "2022-06-18T21:47:43.769Z"
   },
   {
    "duration": 9,
    "start_time": "2022-06-18T21:47:44.322Z"
   },
   {
    "duration": 9,
    "start_time": "2022-06-18T21:47:44.333Z"
   },
   {
    "duration": 0,
    "start_time": "2022-06-18T21:47:44.345Z"
   },
   {
    "duration": 1,
    "start_time": "2022-06-18T21:47:44.345Z"
   },
   {
    "duration": 0,
    "start_time": "2022-06-18T21:47:44.347Z"
   },
   {
    "duration": 0,
    "start_time": "2022-06-18T21:47:44.349Z"
   },
   {
    "duration": 0,
    "start_time": "2022-06-18T21:47:44.350Z"
   },
   {
    "duration": 0,
    "start_time": "2022-06-18T21:47:44.351Z"
   },
   {
    "duration": 0,
    "start_time": "2022-06-18T21:47:44.353Z"
   },
   {
    "duration": 0,
    "start_time": "2022-06-18T21:47:44.354Z"
   },
   {
    "duration": 0,
    "start_time": "2022-06-18T21:47:44.355Z"
   },
   {
    "duration": 0,
    "start_time": "2022-06-18T21:47:44.357Z"
   },
   {
    "duration": 0,
    "start_time": "2022-06-18T21:47:44.358Z"
   },
   {
    "duration": 0,
    "start_time": "2022-06-18T21:47:44.359Z"
   },
   {
    "duration": 0,
    "start_time": "2022-06-18T21:47:44.361Z"
   },
   {
    "duration": 4,
    "start_time": "2022-06-18T21:48:00.743Z"
   },
   {
    "duration": 67,
    "start_time": "2022-06-18T21:48:03.695Z"
   },
   {
    "duration": 4,
    "start_time": "2022-06-18T21:48:06.919Z"
   },
   {
    "duration": 591,
    "start_time": "2022-06-18T21:48:47.985Z"
   },
   {
    "duration": 10,
    "start_time": "2022-06-18T21:48:48.578Z"
   },
   {
    "duration": 60,
    "start_time": "2022-06-18T21:48:48.589Z"
   },
   {
    "duration": 10,
    "start_time": "2022-06-18T21:48:48.651Z"
   },
   {
    "duration": 14,
    "start_time": "2022-06-18T21:48:48.664Z"
   },
   {
    "duration": 12,
    "start_time": "2022-06-18T21:48:48.680Z"
   },
   {
    "duration": 12,
    "start_time": "2022-06-18T21:48:48.693Z"
   },
   {
    "duration": 10,
    "start_time": "2022-06-18T21:48:48.707Z"
   },
   {
    "duration": 13,
    "start_time": "2022-06-18T21:48:48.741Z"
   },
   {
    "duration": 10,
    "start_time": "2022-06-18T21:48:48.757Z"
   },
   {
    "duration": 12,
    "start_time": "2022-06-18T21:48:48.769Z"
   },
   {
    "duration": 11,
    "start_time": "2022-06-18T21:48:48.783Z"
   },
   {
    "duration": 9,
    "start_time": "2022-06-18T21:48:48.795Z"
   },
   {
    "duration": 41,
    "start_time": "2022-06-18T21:48:48.805Z"
   },
   {
    "duration": 33,
    "start_time": "2022-06-18T21:48:48.848Z"
   },
   {
    "duration": 12,
    "start_time": "2022-06-18T21:48:48.883Z"
   },
   {
    "duration": 3,
    "start_time": "2022-06-18T21:55:00.870Z"
   },
   {
    "duration": 147,
    "start_time": "2022-06-18T21:55:08.958Z"
   },
   {
    "duration": 71,
    "start_time": "2022-06-18T21:55:50.878Z"
   },
   {
    "duration": 3,
    "start_time": "2022-06-18T21:56:21.345Z"
   },
   {
    "duration": 17,
    "start_time": "2022-06-18T21:56:57.418Z"
   },
   {
    "duration": 14,
    "start_time": "2022-06-18T21:58:53.024Z"
   },
   {
    "duration": 16,
    "start_time": "2022-06-18T22:08:40.629Z"
   },
   {
    "duration": 13,
    "start_time": "2022-06-18T22:10:07.222Z"
   },
   {
    "duration": 13,
    "start_time": "2022-06-18T22:10:14.333Z"
   },
   {
    "duration": 16,
    "start_time": "2022-06-18T22:10:27.717Z"
   },
   {
    "duration": 10,
    "start_time": "2022-06-18T22:10:32.013Z"
   },
   {
    "duration": 602,
    "start_time": "2022-06-18T22:27:27.873Z"
   },
   {
    "duration": 10,
    "start_time": "2022-06-18T22:27:28.478Z"
   },
   {
    "duration": 67,
    "start_time": "2022-06-18T22:27:28.490Z"
   },
   {
    "duration": 15,
    "start_time": "2022-06-18T22:27:28.560Z"
   },
   {
    "duration": 18,
    "start_time": "2022-06-18T22:27:28.579Z"
   },
   {
    "duration": 13,
    "start_time": "2022-06-18T22:27:28.599Z"
   },
   {
    "duration": 12,
    "start_time": "2022-06-18T22:27:28.613Z"
   },
   {
    "duration": 30,
    "start_time": "2022-06-18T22:27:28.627Z"
   },
   {
    "duration": 15,
    "start_time": "2022-06-18T22:27:28.661Z"
   },
   {
    "duration": 12,
    "start_time": "2022-06-18T22:27:28.678Z"
   },
   {
    "duration": 17,
    "start_time": "2022-06-18T22:27:28.692Z"
   },
   {
    "duration": 38,
    "start_time": "2022-06-18T22:27:28.710Z"
   },
   {
    "duration": 16,
    "start_time": "2022-06-18T22:27:28.757Z"
   },
   {
    "duration": 38,
    "start_time": "2022-06-18T22:27:28.776Z"
   },
   {
    "duration": 35,
    "start_time": "2022-06-18T22:27:28.816Z"
   },
   {
    "duration": 13,
    "start_time": "2022-06-18T22:27:28.853Z"
   },
   {
    "duration": 17,
    "start_time": "2022-06-18T22:27:28.868Z"
   },
   {
    "duration": 15,
    "start_time": "2022-06-18T22:27:28.887Z"
   },
   {
    "duration": 567,
    "start_time": "2022-06-18T22:32:39.209Z"
   },
   {
    "duration": 11,
    "start_time": "2022-06-18T22:32:39.778Z"
   },
   {
    "duration": 65,
    "start_time": "2022-06-18T22:32:39.790Z"
   },
   {
    "duration": 11,
    "start_time": "2022-06-18T22:32:39.857Z"
   },
   {
    "duration": 12,
    "start_time": "2022-06-18T22:32:39.870Z"
   },
   {
    "duration": 12,
    "start_time": "2022-06-18T22:32:39.884Z"
   },
   {
    "duration": 13,
    "start_time": "2022-06-18T22:32:39.898Z"
   },
   {
    "duration": 34,
    "start_time": "2022-06-18T22:32:39.913Z"
   },
   {
    "duration": 13,
    "start_time": "2022-06-18T22:32:39.948Z"
   },
   {
    "duration": 11,
    "start_time": "2022-06-18T22:32:39.963Z"
   },
   {
    "duration": 12,
    "start_time": "2022-06-18T22:32:39.976Z"
   },
   {
    "duration": 11,
    "start_time": "2022-06-18T22:32:39.989Z"
   },
   {
    "duration": 15,
    "start_time": "2022-06-18T22:32:40.003Z"
   },
   {
    "duration": 38,
    "start_time": "2022-06-18T22:32:40.046Z"
   },
   {
    "duration": 42,
    "start_time": "2022-06-18T22:32:40.086Z"
   },
   {
    "duration": 15,
    "start_time": "2022-06-18T22:32:40.130Z"
   },
   {
    "duration": 14,
    "start_time": "2022-06-18T22:32:40.148Z"
   },
   {
    "duration": 12,
    "start_time": "2022-06-18T22:32:40.164Z"
   },
   {
    "duration": 51,
    "start_time": "2022-06-20T07:02:22.713Z"
   },
   {
    "duration": 6,
    "start_time": "2022-06-20T07:03:31.844Z"
   },
   {
    "duration": 6,
    "start_time": "2022-06-20T07:04:22.774Z"
   },
   {
    "duration": 6897,
    "start_time": "2022-06-20T07:04:39.277Z"
   },
   {
    "duration": 7,
    "start_time": "2022-06-20T07:04:46.176Z"
   },
   {
    "duration": 250,
    "start_time": "2022-06-20T07:04:46.184Z"
   },
   {
    "duration": 74,
    "start_time": "2022-06-20T07:04:46.436Z"
   },
   {
    "duration": 83,
    "start_time": "2022-06-20T07:04:46.512Z"
   },
   {
    "duration": 81,
    "start_time": "2022-06-20T07:04:46.597Z"
   },
   {
    "duration": 75,
    "start_time": "2022-06-20T07:04:46.679Z"
   },
   {
    "duration": 70,
    "start_time": "2022-06-20T07:04:46.756Z"
   },
   {
    "duration": 76,
    "start_time": "2022-06-20T07:04:46.827Z"
   },
   {
    "duration": 80,
    "start_time": "2022-06-20T07:04:46.906Z"
   },
   {
    "duration": 79,
    "start_time": "2022-06-20T07:04:46.987Z"
   },
   {
    "duration": 76,
    "start_time": "2022-06-20T07:04:47.068Z"
   },
   {
    "duration": 71,
    "start_time": "2022-06-20T07:04:47.146Z"
   },
   {
    "duration": 93,
    "start_time": "2022-06-20T07:04:47.218Z"
   },
   {
    "duration": 125,
    "start_time": "2022-06-20T07:04:47.312Z"
   },
   {
    "duration": 110,
    "start_time": "2022-06-20T07:04:47.439Z"
   },
   {
    "duration": 71,
    "start_time": "2022-06-20T07:04:47.551Z"
   },
   {
    "duration": 76,
    "start_time": "2022-06-20T07:04:47.624Z"
   },
   {
    "duration": 74,
    "start_time": "2022-06-20T07:04:47.702Z"
   },
   {
    "duration": 82,
    "start_time": "2022-06-20T07:05:20.987Z"
   },
   {
    "duration": 73,
    "start_time": "2022-06-20T07:05:25.536Z"
   },
   {
    "duration": 75,
    "start_time": "2022-06-20T07:05:36.249Z"
   },
   {
    "duration": 240,
    "start_time": "2022-06-20T07:08:27.298Z"
   },
   {
    "duration": 148,
    "start_time": "2022-06-20T07:08:31.456Z"
   },
   {
    "duration": 195,
    "start_time": "2022-06-20T07:08:35.197Z"
   },
   {
    "duration": 143,
    "start_time": "2022-06-20T07:08:47.653Z"
   },
   {
    "duration": 141,
    "start_time": "2022-06-20T07:08:52.047Z"
   },
   {
    "duration": 151,
    "start_time": "2022-06-20T07:09:03.188Z"
   },
   {
    "duration": 205,
    "start_time": "2022-06-20T07:09:19.548Z"
   },
   {
    "duration": 3,
    "start_time": "2022-06-20T07:10:43.549Z"
   },
   {
    "duration": 75,
    "start_time": "2022-06-20T07:10:48.469Z"
   },
   {
    "duration": 83,
    "start_time": "2022-06-20T07:12:26.301Z"
   },
   {
    "duration": 80,
    "start_time": "2022-06-20T07:12:31.077Z"
   },
   {
    "duration": 79,
    "start_time": "2022-06-20T07:12:35.613Z"
   },
   {
    "duration": 73,
    "start_time": "2022-06-20T07:12:40.351Z"
   },
   {
    "duration": 80,
    "start_time": "2022-06-20T07:19:26.282Z"
   },
   {
    "duration": 75,
    "start_time": "2022-06-20T07:19:59.607Z"
   },
   {
    "duration": 3,
    "start_time": "2022-06-20T09:18:41.067Z"
   },
   {
    "duration": 199,
    "start_time": "2022-06-20T09:18:46.049Z"
   },
   {
    "duration": 136,
    "start_time": "2022-06-20T09:18:54.802Z"
   },
   {
    "duration": 191,
    "start_time": "2022-06-20T09:19:37.650Z"
   },
   {
    "duration": 165,
    "start_time": "2022-06-20T09:19:54.626Z"
   },
   {
    "duration": 87,
    "start_time": "2022-06-20T09:20:09.105Z"
   },
   {
    "duration": 139,
    "start_time": "2022-06-20T09:20:15.769Z"
   },
   {
    "duration": 76,
    "start_time": "2022-06-20T09:20:18.985Z"
   },
   {
    "duration": 77,
    "start_time": "2022-06-20T09:21:00.682Z"
   },
   {
    "duration": 129,
    "start_time": "2022-06-20T09:23:38.813Z"
   },
   {
    "duration": 75,
    "start_time": "2022-06-20T09:23:43.868Z"
   },
   {
    "duration": 132,
    "start_time": "2022-06-20T09:25:50.814Z"
   },
   {
    "duration": 76,
    "start_time": "2022-06-20T09:26:29.095Z"
   },
   {
    "duration": 74,
    "start_time": "2022-06-20T09:28:07.976Z"
   },
   {
    "duration": 137,
    "start_time": "2022-06-20T09:32:11.467Z"
   },
   {
    "duration": 74,
    "start_time": "2022-06-20T09:33:05.910Z"
   },
   {
    "duration": 10667,
    "start_time": "2022-06-20T13:00:37.417Z"
   },
   {
    "duration": 7,
    "start_time": "2022-06-20T13:00:48.086Z"
   },
   {
    "duration": 278,
    "start_time": "2022-06-20T13:00:48.094Z"
   },
   {
    "duration": 71,
    "start_time": "2022-06-20T13:00:48.375Z"
   },
   {
    "duration": 83,
    "start_time": "2022-06-20T13:00:48.448Z"
   },
   {
    "duration": 74,
    "start_time": "2022-06-20T13:00:48.533Z"
   },
   {
    "duration": 78,
    "start_time": "2022-06-20T13:00:48.609Z"
   },
   {
    "duration": 75,
    "start_time": "2022-06-20T13:00:48.688Z"
   },
   {
    "duration": 75,
    "start_time": "2022-06-20T13:00:48.764Z"
   },
   {
    "duration": 79,
    "start_time": "2022-06-20T13:00:48.841Z"
   },
   {
    "duration": 81,
    "start_time": "2022-06-20T13:00:48.922Z"
   },
   {
    "duration": 81,
    "start_time": "2022-06-20T13:00:49.004Z"
   },
   {
    "duration": 71,
    "start_time": "2022-06-20T13:00:49.087Z"
   },
   {
    "duration": 124,
    "start_time": "2022-06-20T13:00:49.162Z"
   },
   {
    "duration": 105,
    "start_time": "2022-06-20T13:00:49.288Z"
   },
   {
    "duration": 77,
    "start_time": "2022-06-20T13:00:49.395Z"
   },
   {
    "duration": 72,
    "start_time": "2022-06-20T13:00:49.475Z"
   },
   {
    "duration": 78,
    "start_time": "2022-06-20T13:00:49.548Z"
   },
   {
    "duration": 84,
    "start_time": "2022-06-20T13:00:49.627Z"
   },
   {
    "duration": 77,
    "start_time": "2022-06-20T13:00:49.713Z"
   },
   {
    "duration": 72,
    "start_time": "2022-06-20T13:00:57.879Z"
   },
   {
    "duration": 69,
    "start_time": "2022-06-20T13:12:17.054Z"
   },
   {
    "duration": 10786,
    "start_time": "2022-06-20T13:12:21.685Z"
   },
   {
    "duration": 7,
    "start_time": "2022-06-20T13:12:32.473Z"
   },
   {
    "duration": 97,
    "start_time": "2022-06-20T13:12:32.481Z"
   },
   {
    "duration": 9,
    "start_time": "2022-06-20T13:12:32.580Z"
   },
   {
    "duration": 42,
    "start_time": "2022-06-20T13:12:32.591Z"
   },
   {
    "duration": 9,
    "start_time": "2022-06-20T13:12:32.634Z"
   },
   {
    "duration": 15,
    "start_time": "2022-06-20T13:12:32.644Z"
   },
   {
    "duration": 9,
    "start_time": "2022-06-20T13:12:32.660Z"
   },
   {
    "duration": 10,
    "start_time": "2022-06-20T13:12:32.670Z"
   },
   {
    "duration": 48,
    "start_time": "2022-06-20T13:12:32.682Z"
   },
   {
    "duration": 10,
    "start_time": "2022-06-20T13:12:32.731Z"
   },
   {
    "duration": 9,
    "start_time": "2022-06-20T13:12:32.742Z"
   },
   {
    "duration": 8,
    "start_time": "2022-06-20T13:12:32.753Z"
   },
   {
    "duration": 39,
    "start_time": "2022-06-20T13:12:32.762Z"
   },
   {
    "duration": 41,
    "start_time": "2022-06-20T13:12:32.806Z"
   },
   {
    "duration": 10,
    "start_time": "2022-06-20T13:12:32.849Z"
   },
   {
    "duration": 11,
    "start_time": "2022-06-20T13:12:32.860Z"
   },
   {
    "duration": 15,
    "start_time": "2022-06-20T13:12:32.873Z"
   },
   {
    "duration": 31,
    "start_time": "2022-06-20T13:12:32.890Z"
   },
   {
    "duration": 15,
    "start_time": "2022-06-20T13:12:32.923Z"
   },
   {
    "duration": 28,
    "start_time": "2022-06-20T13:12:41.587Z"
   },
   {
    "duration": 29,
    "start_time": "2022-06-20T13:12:45.387Z"
   },
   {
    "duration": 150,
    "start_time": "2022-06-23T18:07:14.514Z"
   },
   {
    "duration": 50,
    "start_time": "2022-06-23T18:07:19.383Z"
   },
   {
    "duration": 8407,
    "start_time": "2022-06-23T18:07:23.580Z"
   },
   {
    "duration": 9,
    "start_time": "2022-06-23T18:07:31.988Z"
   },
   {
    "duration": 305,
    "start_time": "2022-06-23T18:07:31.998Z"
   },
   {
    "duration": 90,
    "start_time": "2022-06-23T18:07:32.306Z"
   },
   {
    "duration": 87,
    "start_time": "2022-06-23T18:07:32.398Z"
   },
   {
    "duration": 92,
    "start_time": "2022-06-23T18:07:32.487Z"
   },
   {
    "duration": 84,
    "start_time": "2022-06-23T18:07:32.581Z"
   },
   {
    "duration": 91,
    "start_time": "2022-06-23T18:07:32.667Z"
   },
   {
    "duration": 70,
    "start_time": "2022-06-23T18:07:32.760Z"
   },
   {
    "duration": 74,
    "start_time": "2022-06-23T18:07:32.836Z"
   },
   {
    "duration": 76,
    "start_time": "2022-06-23T18:07:32.912Z"
   },
   {
    "duration": 86,
    "start_time": "2022-06-23T18:07:32.990Z"
   },
   {
    "duration": 78,
    "start_time": "2022-06-23T18:07:33.078Z"
   },
   {
    "duration": 121,
    "start_time": "2022-06-23T18:07:33.158Z"
   },
   {
    "duration": 104,
    "start_time": "2022-06-23T18:07:33.280Z"
   },
   {
    "duration": 89,
    "start_time": "2022-06-23T18:07:33.385Z"
   },
   {
    "duration": 98,
    "start_time": "2022-06-23T18:07:33.475Z"
   },
   {
    "duration": 91,
    "start_time": "2022-06-23T18:07:33.575Z"
   },
   {
    "duration": 88,
    "start_time": "2022-06-23T18:07:33.669Z"
   },
   {
    "duration": 73,
    "start_time": "2022-06-23T18:07:33.759Z"
   },
   {
    "duration": 90,
    "start_time": "2022-06-23T18:08:24.599Z"
   }
  ],
  "kernelspec": {
   "display_name": "Python 3 (ipykernel)",
   "language": "python",
   "name": "python3"
  },
  "language_info": {
   "codemirror_mode": {
    "name": "ipython",
    "version": 3
   },
   "file_extension": ".py",
   "mimetype": "text/x-python",
   "name": "python",
   "nbconvert_exporter": "python",
   "pygments_lexer": "ipython3",
   "version": "3.9.5"
  },
  "toc": {
   "base_numbering": 1,
   "nav_menu": {},
   "number_sections": false,
   "sideBar": true,
   "skip_h1_title": true,
   "title_cell": "Содержание",
   "title_sidebar": "Contents",
   "toc_cell": false,
   "toc_position": {
    "height": "calc(100% - 180px)",
    "left": "10px",
    "top": "150px",
    "width": "347px"
   },
   "toc_section_display": true,
   "toc_window_display": true
  }
 },
 "nbformat": 4,
 "nbformat_minor": 2
}
