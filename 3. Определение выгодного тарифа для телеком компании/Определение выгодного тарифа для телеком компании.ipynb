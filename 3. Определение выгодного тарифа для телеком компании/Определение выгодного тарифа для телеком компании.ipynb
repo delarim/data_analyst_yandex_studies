{
 "cells": [
  {
   "cell_type": "markdown",
   "metadata": {},
   "source": [
    "## Определение перспективного тарифа для телеком-компании"
   ]
  },
  {
   "cell_type": "markdown",
   "metadata": {},
   "source": [
    "«Мегалайн» — федеральный оператор сотовой связи. Эта компания предлагает два тарифных плана: «Смарт» и «Ультра». Чтобы скорректировать рекламный бюджет, коммерческий департамент хочет понять, какой тариф приносит больше денег.\n",
    "\n",
    "Нам предстоит сделать предварительный анализ тарифов на небольшой выборке клиентов. В вашем распоряжении данные 500 пользователей «Мегалайна»: кто они, откуда, каким тарифом пользуются, сколько звонков и сообщений каждый отправил за 2018 год. Нужно проанализировать поведение клиентов и сделать вывод — какой тариф лучше.\n",
    "\n",
    "**Описание тарифа «Смарт»:**\n",
    "- Ежемесячная плата: 550 рублей;\n",
    "- Включено 500 минут разговора, 50 сообщений и 15 Гб интернет-трафика;\n",
    "- Стоимость услуг сверх тарифного пакета: 1. минута разговора: 3 рубля; 2. сообщение: 3 рубля; 3. 1 Гб интернет-трафика: 200 рублей.\n",
    "\n",
    "**Описание тарифа «Ультра»:**\n",
    "- Ежемесячная плата: 1950 рублей;\n",
    "- Включено 3000 минут разговора, 1000 сообщений и 30 Гб интернет-трафика;\n",
    "- Стоимость услуг сверх тарифного пакета: 1. минута разговора: 1 рубль; 2. сообщение: 1 рубль; 3. 1 Гб интернет-трафика: 150 рублей.\n",
    "\n",
    "⚠️ **Важное примечание:**\n",
    "«Мегалайн» всегда округляет секунды до минут, а мегабайты — до гигабайт. Каждый звонок округляется отдельно: даже если он длился всего 1 секунду, будет засчитан как 1 минута. Для веб-трафика отдельные сессии не считаются. Вместо этого общая сумма за месяц округляется в бо́льшую сторону. Если абонент использует 1025 мегабайт в этом месяце, с него возьмут плату за 2 гигабайта.\n",
    "\n",
    "**Цель исследования** — тщательно проанализировать имеющиеся данные и проверить гипотезы, чтобы выяснить какой тариф лучше в плане прибыли.\n",
    "\n",
    "**Ход исследования:**\n",
    "\n",
    "Все необходимые данные получим из файлов `calls.csv`, `internet.csv`, `messages.csv`, `tariffs.csv` и `users.csv`. Нам понадобится обзор данных для начала, так как сейчас нет информации об их качестве. Поискать и исправить ошибки, если они будут, а также привести данные к нужному типу, если понадобится. Также произвести расчеты параметров, которые нам понадобятся для анализа и проверки гипотез, что и будем делать после расчетов. В итоге придем к какому-то общему выводу, подытожив результат проекта. \n",
    " \n",
    "Таким образом, анализ пройдёт в пять шагов:\n",
    " 1. Изучение данных из файла.\n",
    " 2. Предобработка и подготовка данных.\n",
    " 3. Анализ данных.\n",
    " 4. Проверка гипотез. \n",
    " 5. Общий вывод."
   ]
  },
  {
   "cell_type": "markdown",
   "metadata": {},
   "source": [
    "Импортируем сразу же нужные библиотеки, затем в процессе добавим другие здесь же, если будет такая необходимость:"
   ]
  },
  {
   "cell_type": "code",
   "execution_count": 1,
   "metadata": {},
   "outputs": [],
   "source": [
    "import pandas as pd\n",
    "import random\n",
    "import numpy as np\n",
    "import math\n",
    "import matplotlib.pyplot as plt\n",
    "import scipy.stats as st"
   ]
  },
  {
   "cell_type": "markdown",
   "metadata": {},
   "source": [
    "### 1. Изучение данных из файла"
   ]
  },
  {
   "cell_type": "markdown",
   "metadata": {},
   "source": [
    "Изучим общую информацию по каждой таблице. Для начала прочитаем все файлы из папки `/datasets` по очереди и сохраним таблицы в переменные:\n",
    "- `users.csv` сохраним в `users`;\n",
    "- `calls.csv` сохраним в `calls`;\n",
    "- `messages.csv` сохраним в `messages`;\n",
    "- `internet.csv` сохраним в `internet`;\n",
    "- `tariffs.csv` сохраним в `tariffs`. "
   ]
  },
  {
   "cell_type": "code",
   "execution_count": 2,
   "metadata": {},
   "outputs": [],
   "source": [
    "users = pd.read_csv('/datasets/users.csv')\n",
    "calls = pd.read_csv('/datasets/calls.csv')\n",
    "messages = pd.read_csv('/datasets/messages.csv')\n",
    "internet = pd.read_csv('/datasets/internet.csv')\n",
    "tariffs = pd.read_csv('/datasets/tariffs.csv')"
   ]
  },
  {
   "cell_type": "markdown",
   "metadata": {},
   "source": [
    "Выведем случайные десять строк каждой таблицы по очереди, чтобы взглянуть на данные впервые и сразу в разных местах. Для этого вызовем функцию `sample()`. За исключением таблицы `tariffs`, так как там информация лишь о двух тарифах. Затем сразу же познакомимся с данными при помощи вызова `info()`, изучим их. В том числе посмотрим типы данных, количество столбцов и примерно прикинем количество пропущенных значений, если они будут:"
   ]
  },
  {
   "cell_type": "code",
   "execution_count": 3,
   "metadata": {
    "scrolled": false
   },
   "outputs": [
    {
     "data": {
      "text/html": [
       "<div>\n",
       "<style scoped>\n",
       "    .dataframe tbody tr th:only-of-type {\n",
       "        vertical-align: middle;\n",
       "    }\n",
       "\n",
       "    .dataframe tbody tr th {\n",
       "        vertical-align: top;\n",
       "    }\n",
       "\n",
       "    .dataframe thead th {\n",
       "        text-align: right;\n",
       "    }\n",
       "</style>\n",
       "<table border=\"1\" class=\"dataframe\">\n",
       "  <thead>\n",
       "    <tr style=\"text-align: right;\">\n",
       "      <th></th>\n",
       "      <th>user_id</th>\n",
       "      <th>age</th>\n",
       "      <th>churn_date</th>\n",
       "      <th>city</th>\n",
       "      <th>first_name</th>\n",
       "      <th>last_name</th>\n",
       "      <th>reg_date</th>\n",
       "      <th>tariff</th>\n",
       "    </tr>\n",
       "  </thead>\n",
       "  <tbody>\n",
       "    <tr>\n",
       "      <td>426</td>\n",
       "      <td>1426</td>\n",
       "      <td>56</td>\n",
       "      <td>NaN</td>\n",
       "      <td>Оренбург</td>\n",
       "      <td>Арина</td>\n",
       "      <td>Богданова</td>\n",
       "      <td>2018-09-04</td>\n",
       "      <td>smart</td>\n",
       "    </tr>\n",
       "    <tr>\n",
       "      <td>243</td>\n",
       "      <td>1243</td>\n",
       "      <td>74</td>\n",
       "      <td>NaN</td>\n",
       "      <td>Пермь</td>\n",
       "      <td>Артём</td>\n",
       "      <td>Леонтьев</td>\n",
       "      <td>2018-06-01</td>\n",
       "      <td>ultra</td>\n",
       "    </tr>\n",
       "    <tr>\n",
       "      <td>350</td>\n",
       "      <td>1350</td>\n",
       "      <td>40</td>\n",
       "      <td>NaN</td>\n",
       "      <td>Омск</td>\n",
       "      <td>Варвара</td>\n",
       "      <td>Козырева</td>\n",
       "      <td>2018-08-30</td>\n",
       "      <td>ultra</td>\n",
       "    </tr>\n",
       "    <tr>\n",
       "      <td>403</td>\n",
       "      <td>1403</td>\n",
       "      <td>18</td>\n",
       "      <td>NaN</td>\n",
       "      <td>Брянск</td>\n",
       "      <td>Ахмет</td>\n",
       "      <td>Амелин</td>\n",
       "      <td>2018-05-20</td>\n",
       "      <td>ultra</td>\n",
       "    </tr>\n",
       "    <tr>\n",
       "      <td>47</td>\n",
       "      <td>1047</td>\n",
       "      <td>67</td>\n",
       "      <td>NaN</td>\n",
       "      <td>Саратов</td>\n",
       "      <td>Милица</td>\n",
       "      <td>Меркулова</td>\n",
       "      <td>2018-10-29</td>\n",
       "      <td>smart</td>\n",
       "    </tr>\n",
       "    <tr>\n",
       "      <td>85</td>\n",
       "      <td>1085</td>\n",
       "      <td>69</td>\n",
       "      <td>NaN</td>\n",
       "      <td>Омск</td>\n",
       "      <td>Лола</td>\n",
       "      <td>Дорофеева</td>\n",
       "      <td>2018-06-12</td>\n",
       "      <td>ultra</td>\n",
       "    </tr>\n",
       "    <tr>\n",
       "      <td>359</td>\n",
       "      <td>1359</td>\n",
       "      <td>52</td>\n",
       "      <td>NaN</td>\n",
       "      <td>Москва</td>\n",
       "      <td>Константин</td>\n",
       "      <td>Абашкин</td>\n",
       "      <td>2018-07-27</td>\n",
       "      <td>smart</td>\n",
       "    </tr>\n",
       "    <tr>\n",
       "      <td>191</td>\n",
       "      <td>1191</td>\n",
       "      <td>64</td>\n",
       "      <td>2018-10-03</td>\n",
       "      <td>Набережные Челны</td>\n",
       "      <td>Александр</td>\n",
       "      <td>Акиндинов</td>\n",
       "      <td>2018-06-30</td>\n",
       "      <td>smart</td>\n",
       "    </tr>\n",
       "    <tr>\n",
       "      <td>305</td>\n",
       "      <td>1305</td>\n",
       "      <td>37</td>\n",
       "      <td>NaN</td>\n",
       "      <td>Москва</td>\n",
       "      <td>Эмилия</td>\n",
       "      <td>Лаптева</td>\n",
       "      <td>2018-10-25</td>\n",
       "      <td>smart</td>\n",
       "    </tr>\n",
       "    <tr>\n",
       "      <td>344</td>\n",
       "      <td>1344</td>\n",
       "      <td>60</td>\n",
       "      <td>NaN</td>\n",
       "      <td>Воронеж</td>\n",
       "      <td>Илзе</td>\n",
       "      <td>Игнатьева</td>\n",
       "      <td>2018-04-03</td>\n",
       "      <td>ultra</td>\n",
       "    </tr>\n",
       "  </tbody>\n",
       "</table>\n",
       "</div>"
      ],
      "text/plain": [
       "     user_id  age  churn_date              city  first_name  last_name  \\\n",
       "426     1426   56         NaN          Оренбург       Арина  Богданова   \n",
       "243     1243   74         NaN             Пермь       Артём   Леонтьев   \n",
       "350     1350   40         NaN              Омск     Варвара   Козырева   \n",
       "403     1403   18         NaN            Брянск       Ахмет     Амелин   \n",
       "47      1047   67         NaN           Саратов      Милица  Меркулова   \n",
       "85      1085   69         NaN              Омск        Лола  Дорофеева   \n",
       "359     1359   52         NaN            Москва  Константин    Абашкин   \n",
       "191     1191   64  2018-10-03  Набережные Челны   Александр  Акиндинов   \n",
       "305     1305   37         NaN            Москва      Эмилия    Лаптева   \n",
       "344     1344   60         NaN           Воронеж        Илзе  Игнатьева   \n",
       "\n",
       "       reg_date tariff  \n",
       "426  2018-09-04  smart  \n",
       "243  2018-06-01  ultra  \n",
       "350  2018-08-30  ultra  \n",
       "403  2018-05-20  ultra  \n",
       "47   2018-10-29  smart  \n",
       "85   2018-06-12  ultra  \n",
       "359  2018-07-27  smart  \n",
       "191  2018-06-30  smart  \n",
       "305  2018-10-25  smart  \n",
       "344  2018-04-03  ultra  "
      ]
     },
     "metadata": {},
     "output_type": "display_data"
    },
    {
     "name": "stdout",
     "output_type": "stream",
     "text": [
      "<class 'pandas.core.frame.DataFrame'>\n",
      "RangeIndex: 500 entries, 0 to 499\n",
      "Data columns (total 8 columns):\n",
      "user_id       500 non-null int64\n",
      "age           500 non-null int64\n",
      "churn_date    38 non-null object\n",
      "city          500 non-null object\n",
      "first_name    500 non-null object\n",
      "last_name     500 non-null object\n",
      "reg_date      500 non-null object\n",
      "tariff        500 non-null object\n",
      "dtypes: int64(2), object(6)\n",
      "memory usage: 31.4+ KB\n"
     ]
    }
   ],
   "source": [
    "display(users.sample(10))\n",
    "users.info()"
   ]
  },
  {
   "cell_type": "markdown",
   "metadata": {},
   "source": [
    "Файл `users.csv` содержит данные с информацией о 500 пользователях. Всего в таблице 8 столбцов. Типы данных: `int` и `object`. Согласно документации к данным:\n",
    "- `user_id` — уникальный идентификатор пользователя;\n",
    "- `first_name` — имя пользователя;\n",
    "- `last_name` — фамилия пользователя;\n",
    "- `age` — возраст пользователя (годы);\n",
    "- `reg_date` — дата подключения тарифа (день, месяц, год);\n",
    "- `churn_date` — дата прекращения пользования тарифом (если значение пропущено, то тариф ещё действовал на момент выгрузки данных);\n",
    "- `city` — город проживания пользователя;\n",
    "- `tariff` — название тарифного плана."
   ]
  },
  {
   "cell_type": "code",
   "execution_count": 4,
   "metadata": {
    "scrolled": false
   },
   "outputs": [
    {
     "data": {
      "text/html": [
       "<div>\n",
       "<style scoped>\n",
       "    .dataframe tbody tr th:only-of-type {\n",
       "        vertical-align: middle;\n",
       "    }\n",
       "\n",
       "    .dataframe tbody tr th {\n",
       "        vertical-align: top;\n",
       "    }\n",
       "\n",
       "    .dataframe thead th {\n",
       "        text-align: right;\n",
       "    }\n",
       "</style>\n",
       "<table border=\"1\" class=\"dataframe\">\n",
       "  <thead>\n",
       "    <tr style=\"text-align: right;\">\n",
       "      <th></th>\n",
       "      <th>id</th>\n",
       "      <th>call_date</th>\n",
       "      <th>duration</th>\n",
       "      <th>user_id</th>\n",
       "    </tr>\n",
       "  </thead>\n",
       "  <tbody>\n",
       "    <tr>\n",
       "      <td>85186</td>\n",
       "      <td>1213_232</td>\n",
       "      <td>2018-08-26</td>\n",
       "      <td>0.00</td>\n",
       "      <td>1213</td>\n",
       "    </tr>\n",
       "    <tr>\n",
       "      <td>77465</td>\n",
       "      <td>1193_727</td>\n",
       "      <td>2018-07-01</td>\n",
       "      <td>15.50</td>\n",
       "      <td>1193</td>\n",
       "    </tr>\n",
       "    <tr>\n",
       "      <td>9111</td>\n",
       "      <td>1024_142</td>\n",
       "      <td>2018-11-19</td>\n",
       "      <td>12.26</td>\n",
       "      <td>1024</td>\n",
       "    </tr>\n",
       "    <tr>\n",
       "      <td>182725</td>\n",
       "      <td>1454_477</td>\n",
       "      <td>2018-12-28</td>\n",
       "      <td>7.76</td>\n",
       "      <td>1454</td>\n",
       "    </tr>\n",
       "    <tr>\n",
       "      <td>117600</td>\n",
       "      <td>1302_240</td>\n",
       "      <td>2018-09-07</td>\n",
       "      <td>0.00</td>\n",
       "      <td>1302</td>\n",
       "    </tr>\n",
       "    <tr>\n",
       "      <td>130245</td>\n",
       "      <td>1333_92</td>\n",
       "      <td>2018-10-24</td>\n",
       "      <td>3.15</td>\n",
       "      <td>1333</td>\n",
       "    </tr>\n",
       "    <tr>\n",
       "      <td>130512</td>\n",
       "      <td>1334_67</td>\n",
       "      <td>2018-12-13</td>\n",
       "      <td>0.00</td>\n",
       "      <td>1334</td>\n",
       "    </tr>\n",
       "    <tr>\n",
       "      <td>132443</td>\n",
       "      <td>1340_417</td>\n",
       "      <td>2018-05-30</td>\n",
       "      <td>0.00</td>\n",
       "      <td>1340</td>\n",
       "    </tr>\n",
       "    <tr>\n",
       "      <td>16153</td>\n",
       "      <td>1044_259</td>\n",
       "      <td>2018-06-29</td>\n",
       "      <td>10.64</td>\n",
       "      <td>1044</td>\n",
       "    </tr>\n",
       "    <tr>\n",
       "      <td>27348</td>\n",
       "      <td>1067_258</td>\n",
       "      <td>2018-05-02</td>\n",
       "      <td>7.76</td>\n",
       "      <td>1067</td>\n",
       "    </tr>\n",
       "  </tbody>\n",
       "</table>\n",
       "</div>"
      ],
      "text/plain": [
       "              id   call_date  duration  user_id\n",
       "85186   1213_232  2018-08-26      0.00     1213\n",
       "77465   1193_727  2018-07-01     15.50     1193\n",
       "9111    1024_142  2018-11-19     12.26     1024\n",
       "182725  1454_477  2018-12-28      7.76     1454\n",
       "117600  1302_240  2018-09-07      0.00     1302\n",
       "130245   1333_92  2018-10-24      3.15     1333\n",
       "130512   1334_67  2018-12-13      0.00     1334\n",
       "132443  1340_417  2018-05-30      0.00     1340\n",
       "16153   1044_259  2018-06-29     10.64     1044\n",
       "27348   1067_258  2018-05-02      7.76     1067"
      ]
     },
     "metadata": {},
     "output_type": "display_data"
    },
    {
     "name": "stdout",
     "output_type": "stream",
     "text": [
      "<class 'pandas.core.frame.DataFrame'>\n",
      "RangeIndex: 202607 entries, 0 to 202606\n",
      "Data columns (total 4 columns):\n",
      "id           202607 non-null object\n",
      "call_date    202607 non-null object\n",
      "duration     202607 non-null float64\n",
      "user_id      202607 non-null int64\n",
      "dtypes: float64(1), int64(1), object(2)\n",
      "memory usage: 6.2+ MB\n"
     ]
    }
   ],
   "source": [
    "display(calls.sample(10))\n",
    "calls.info()"
   ]
  },
  {
   "cell_type": "markdown",
   "metadata": {},
   "source": [
    "Файл `calls.csv` содержит данные с информацией о 202 607 звонках. Всего в таблице 4 столбца. Типы данных: `float`, `int` и `object`. Согласно документации к данным:\n",
    "- `id` — уникальный номер звонка;\n",
    "- `call_date` — дата звонка;\n",
    "- `duration` — длительность звонка в минутах;\n",
    "- `user_id` — идентификатор пользователя, сделавшего звонок."
   ]
  },
  {
   "cell_type": "code",
   "execution_count": 5,
   "metadata": {
    "scrolled": false
   },
   "outputs": [
    {
     "data": {
      "text/html": [
       "<div>\n",
       "<style scoped>\n",
       "    .dataframe tbody tr th:only-of-type {\n",
       "        vertical-align: middle;\n",
       "    }\n",
       "\n",
       "    .dataframe tbody tr th {\n",
       "        vertical-align: top;\n",
       "    }\n",
       "\n",
       "    .dataframe thead th {\n",
       "        text-align: right;\n",
       "    }\n",
       "</style>\n",
       "<table border=\"1\" class=\"dataframe\">\n",
       "  <thead>\n",
       "    <tr style=\"text-align: right;\">\n",
       "      <th></th>\n",
       "      <th>id</th>\n",
       "      <th>message_date</th>\n",
       "      <th>user_id</th>\n",
       "    </tr>\n",
       "  </thead>\n",
       "  <tbody>\n",
       "    <tr>\n",
       "      <td>112134</td>\n",
       "      <td>1453_159</td>\n",
       "      <td>2018-09-12</td>\n",
       "      <td>1453</td>\n",
       "    </tr>\n",
       "    <tr>\n",
       "      <td>69191</td>\n",
       "      <td>1295_285</td>\n",
       "      <td>2018-10-24</td>\n",
       "      <td>1295</td>\n",
       "    </tr>\n",
       "    <tr>\n",
       "      <td>15807</td>\n",
       "      <td>1067_241</td>\n",
       "      <td>2018-08-30</td>\n",
       "      <td>1067</td>\n",
       "    </tr>\n",
       "    <tr>\n",
       "      <td>9285</td>\n",
       "      <td>1037_31</td>\n",
       "      <td>2018-12-14</td>\n",
       "      <td>1037</td>\n",
       "    </tr>\n",
       "    <tr>\n",
       "      <td>59930</td>\n",
       "      <td>1263_51</td>\n",
       "      <td>2018-05-22</td>\n",
       "      <td>1263</td>\n",
       "    </tr>\n",
       "    <tr>\n",
       "      <td>11614</td>\n",
       "      <td>1048_260</td>\n",
       "      <td>2018-11-03</td>\n",
       "      <td>1048</td>\n",
       "    </tr>\n",
       "    <tr>\n",
       "      <td>74795</td>\n",
       "      <td>1317_34</td>\n",
       "      <td>2018-12-10</td>\n",
       "      <td>1317</td>\n",
       "    </tr>\n",
       "    <tr>\n",
       "      <td>56610</td>\n",
       "      <td>1251_74</td>\n",
       "      <td>2018-06-24</td>\n",
       "      <td>1251</td>\n",
       "    </tr>\n",
       "    <tr>\n",
       "      <td>70698</td>\n",
       "      <td>1300_450</td>\n",
       "      <td>2018-08-20</td>\n",
       "      <td>1300</td>\n",
       "    </tr>\n",
       "    <tr>\n",
       "      <td>4890</td>\n",
       "      <td>1021_46</td>\n",
       "      <td>2018-10-15</td>\n",
       "      <td>1021</td>\n",
       "    </tr>\n",
       "  </tbody>\n",
       "</table>\n",
       "</div>"
      ],
      "text/plain": [
       "              id message_date  user_id\n",
       "112134  1453_159   2018-09-12     1453\n",
       "69191   1295_285   2018-10-24     1295\n",
       "15807   1067_241   2018-08-30     1067\n",
       "9285     1037_31   2018-12-14     1037\n",
       "59930    1263_51   2018-05-22     1263\n",
       "11614   1048_260   2018-11-03     1048\n",
       "74795    1317_34   2018-12-10     1317\n",
       "56610    1251_74   2018-06-24     1251\n",
       "70698   1300_450   2018-08-20     1300\n",
       "4890     1021_46   2018-10-15     1021"
      ]
     },
     "metadata": {},
     "output_type": "display_data"
    },
    {
     "name": "stdout",
     "output_type": "stream",
     "text": [
      "<class 'pandas.core.frame.DataFrame'>\n",
      "RangeIndex: 123036 entries, 0 to 123035\n",
      "Data columns (total 3 columns):\n",
      "id              123036 non-null object\n",
      "message_date    123036 non-null object\n",
      "user_id         123036 non-null int64\n",
      "dtypes: int64(1), object(2)\n",
      "memory usage: 2.8+ MB\n"
     ]
    }
   ],
   "source": [
    "display(messages.sample(10))\n",
    "messages.info()"
   ]
  },
  {
   "cell_type": "markdown",
   "metadata": {},
   "source": [
    "Файл `messages.csv` содержит данные с информацией о 123 036 сообщениях. Всего в таблице 3 столбца. Типы данных: `int` и `object`. Согласно документации к данным:\n",
    "- `id` — уникальный номер сообщения;\n",
    "- `message_date` — дата сообщения;\n",
    "- `user_id` — идентификатор пользователя, отправившего сообщение."
   ]
  },
  {
   "cell_type": "code",
   "execution_count": 6,
   "metadata": {
    "scrolled": false
   },
   "outputs": [
    {
     "data": {
      "text/html": [
       "<div>\n",
       "<style scoped>\n",
       "    .dataframe tbody tr th:only-of-type {\n",
       "        vertical-align: middle;\n",
       "    }\n",
       "\n",
       "    .dataframe tbody tr th {\n",
       "        vertical-align: top;\n",
       "    }\n",
       "\n",
       "    .dataframe thead th {\n",
       "        text-align: right;\n",
       "    }\n",
       "</style>\n",
       "<table border=\"1\" class=\"dataframe\">\n",
       "  <thead>\n",
       "    <tr style=\"text-align: right;\">\n",
       "      <th></th>\n",
       "      <th>Unnamed: 0</th>\n",
       "      <th>id</th>\n",
       "      <th>mb_used</th>\n",
       "      <th>session_date</th>\n",
       "      <th>user_id</th>\n",
       "    </tr>\n",
       "  </thead>\n",
       "  <tbody>\n",
       "    <tr>\n",
       "      <td>145255</td>\n",
       "      <td>145255</td>\n",
       "      <td>1484_136</td>\n",
       "      <td>548.69</td>\n",
       "      <td>2018-08-07</td>\n",
       "      <td>1484</td>\n",
       "    </tr>\n",
       "    <tr>\n",
       "      <td>42891</td>\n",
       "      <td>42891</td>\n",
       "      <td>1148_479</td>\n",
       "      <td>413.28</td>\n",
       "      <td>2018-06-03</td>\n",
       "      <td>1148</td>\n",
       "    </tr>\n",
       "    <tr>\n",
       "      <td>41167</td>\n",
       "      <td>41167</td>\n",
       "      <td>1144_327</td>\n",
       "      <td>775.81</td>\n",
       "      <td>2018-06-10</td>\n",
       "      <td>1144</td>\n",
       "    </tr>\n",
       "    <tr>\n",
       "      <td>117263</td>\n",
       "      <td>117263</td>\n",
       "      <td>1394_221</td>\n",
       "      <td>88.15</td>\n",
       "      <td>2018-10-10</td>\n",
       "      <td>1394</td>\n",
       "    </tr>\n",
       "    <tr>\n",
       "      <td>142282</td>\n",
       "      <td>142282</td>\n",
       "      <td>1477_179</td>\n",
       "      <td>361.90</td>\n",
       "      <td>2018-12-22</td>\n",
       "      <td>1477</td>\n",
       "    </tr>\n",
       "    <tr>\n",
       "      <td>98763</td>\n",
       "      <td>98763</td>\n",
       "      <td>1331_287</td>\n",
       "      <td>1029.48</td>\n",
       "      <td>2018-07-15</td>\n",
       "      <td>1331</td>\n",
       "    </tr>\n",
       "    <tr>\n",
       "      <td>19280</td>\n",
       "      <td>19280</td>\n",
       "      <td>1065_425</td>\n",
       "      <td>0.00</td>\n",
       "      <td>2018-08-21</td>\n",
       "      <td>1065</td>\n",
       "    </tr>\n",
       "    <tr>\n",
       "      <td>45593</td>\n",
       "      <td>45593</td>\n",
       "      <td>1157_105</td>\n",
       "      <td>536.53</td>\n",
       "      <td>2018-09-12</td>\n",
       "      <td>1157</td>\n",
       "    </tr>\n",
       "    <tr>\n",
       "      <td>143413</td>\n",
       "      <td>143413</td>\n",
       "      <td>1480_101</td>\n",
       "      <td>5.58</td>\n",
       "      <td>2018-04-06</td>\n",
       "      <td>1480</td>\n",
       "    </tr>\n",
       "    <tr>\n",
       "      <td>128505</td>\n",
       "      <td>128505</td>\n",
       "      <td>1429_663</td>\n",
       "      <td>532.03</td>\n",
       "      <td>2018-11-30</td>\n",
       "      <td>1429</td>\n",
       "    </tr>\n",
       "  </tbody>\n",
       "</table>\n",
       "</div>"
      ],
      "text/plain": [
       "        Unnamed: 0        id  mb_used session_date  user_id\n",
       "145255      145255  1484_136   548.69   2018-08-07     1484\n",
       "42891        42891  1148_479   413.28   2018-06-03     1148\n",
       "41167        41167  1144_327   775.81   2018-06-10     1144\n",
       "117263      117263  1394_221    88.15   2018-10-10     1394\n",
       "142282      142282  1477_179   361.90   2018-12-22     1477\n",
       "98763        98763  1331_287  1029.48   2018-07-15     1331\n",
       "19280        19280  1065_425     0.00   2018-08-21     1065\n",
       "45593        45593  1157_105   536.53   2018-09-12     1157\n",
       "143413      143413  1480_101     5.58   2018-04-06     1480\n",
       "128505      128505  1429_663   532.03   2018-11-30     1429"
      ]
     },
     "metadata": {},
     "output_type": "display_data"
    },
    {
     "name": "stdout",
     "output_type": "stream",
     "text": [
      "<class 'pandas.core.frame.DataFrame'>\n",
      "RangeIndex: 149396 entries, 0 to 149395\n",
      "Data columns (total 5 columns):\n",
      "Unnamed: 0      149396 non-null int64\n",
      "id              149396 non-null object\n",
      "mb_used         149396 non-null float64\n",
      "session_date    149396 non-null object\n",
      "user_id         149396 non-null int64\n",
      "dtypes: float64(1), int64(2), object(2)\n",
      "memory usage: 5.7+ MB\n"
     ]
    }
   ],
   "source": [
    "display(internet.sample(10))\n",
    "internet.info()"
   ]
  },
  {
   "cell_type": "markdown",
   "metadata": {},
   "source": [
    "Файл `internet.csv` содержит данные с информацией об 149 396 интернет-сессиях. Всего в таблице 5 столбцов. Типы данных: `float`, `int` и `object`. Согласно документации к данным:\n",
    "- `id` — уникальный номер сессии;\n",
    "- `mb_used` — объём потраченного за сессию интернет-трафика (в мегабайтах);\n",
    "- `session_date` — дата интернет-сессии;\n",
    "- `user_id` — идентификатор пользователя."
   ]
  },
  {
   "cell_type": "code",
   "execution_count": 7,
   "metadata": {
    "scrolled": false
   },
   "outputs": [
    {
     "data": {
      "text/html": [
       "<div>\n",
       "<style scoped>\n",
       "    .dataframe tbody tr th:only-of-type {\n",
       "        vertical-align: middle;\n",
       "    }\n",
       "\n",
       "    .dataframe tbody tr th {\n",
       "        vertical-align: top;\n",
       "    }\n",
       "\n",
       "    .dataframe thead th {\n",
       "        text-align: right;\n",
       "    }\n",
       "</style>\n",
       "<table border=\"1\" class=\"dataframe\">\n",
       "  <thead>\n",
       "    <tr style=\"text-align: right;\">\n",
       "      <th></th>\n",
       "      <th>messages_included</th>\n",
       "      <th>mb_per_month_included</th>\n",
       "      <th>minutes_included</th>\n",
       "      <th>rub_monthly_fee</th>\n",
       "      <th>rub_per_gb</th>\n",
       "      <th>rub_per_message</th>\n",
       "      <th>rub_per_minute</th>\n",
       "      <th>tariff_name</th>\n",
       "    </tr>\n",
       "  </thead>\n",
       "  <tbody>\n",
       "    <tr>\n",
       "      <td>0</td>\n",
       "      <td>50</td>\n",
       "      <td>15360</td>\n",
       "      <td>500</td>\n",
       "      <td>550</td>\n",
       "      <td>200</td>\n",
       "      <td>3</td>\n",
       "      <td>3</td>\n",
       "      <td>smart</td>\n",
       "    </tr>\n",
       "    <tr>\n",
       "      <td>1</td>\n",
       "      <td>1000</td>\n",
       "      <td>30720</td>\n",
       "      <td>3000</td>\n",
       "      <td>1950</td>\n",
       "      <td>150</td>\n",
       "      <td>1</td>\n",
       "      <td>1</td>\n",
       "      <td>ultra</td>\n",
       "    </tr>\n",
       "  </tbody>\n",
       "</table>\n",
       "</div>"
      ],
      "text/plain": [
       "   messages_included  mb_per_month_included  minutes_included  \\\n",
       "0                 50                  15360               500   \n",
       "1               1000                  30720              3000   \n",
       "\n",
       "   rub_monthly_fee  rub_per_gb  rub_per_message  rub_per_minute tariff_name  \n",
       "0              550         200                3               3       smart  \n",
       "1             1950         150                1               1       ultra  "
      ]
     },
     "metadata": {},
     "output_type": "display_data"
    },
    {
     "name": "stdout",
     "output_type": "stream",
     "text": [
      "<class 'pandas.core.frame.DataFrame'>\n",
      "RangeIndex: 2 entries, 0 to 1\n",
      "Data columns (total 8 columns):\n",
      "messages_included        2 non-null int64\n",
      "mb_per_month_included    2 non-null int64\n",
      "minutes_included         2 non-null int64\n",
      "rub_monthly_fee          2 non-null int64\n",
      "rub_per_gb               2 non-null int64\n",
      "rub_per_message          2 non-null int64\n",
      "rub_per_minute           2 non-null int64\n",
      "tariff_name              2 non-null object\n",
      "dtypes: int64(7), object(1)\n",
      "memory usage: 256.0+ bytes\n"
     ]
    }
   ],
   "source": [
    "display(tariffs)\n",
    "tariffs.info()"
   ]
  },
  {
   "cell_type": "markdown",
   "metadata": {},
   "source": [
    "Файл `tariffs.csv` содержит данные с информацией о 2 тарифах. Всего в таблице 8 столбцов. Типы данных: `int` и `object`. Согласно документации к данным:\n",
    "- `tariff_name` — название тарифа\n",
    "- `rub_monthly_fee` — ежемесячная абонентская плата в рублях\n",
    "- `minutes_included` — количество минут разговора в месяц, включённых в абонентскую плату\n",
    "- `messages_included` — количество сообщений в месяц, включённых в абонентскую плату\n",
    "- `mb_per_month_included` — объём интернет-трафика, включённого в абонентскую плату (в мегабайтах)\n",
    "- `rub_per_minute` — стоимость минуты разговора сверх тарифного пакета (например, если в тарифе 100 минут разговора в месяц, то со 101 минуты будет взиматься плата)\n",
    "- `rub_per_message` — стоимость отправки сообщения сверх тарифного пакета\n",
    "- `rub_per_gb` — стоимость дополнительного гигабайта интернет-трафика сверх тарифного пакета (1 гигабайт = 1024 мегабайта)"
   ]
  },
  {
   "cell_type": "markdown",
   "metadata": {},
   "source": [
    "Видим, что:\n",
    "-  в таблице с **данными о пользователях** `users` есть пропуски в столбце `churn_date`, но документация гласит о том, что это связано с действием тарифа на момент выгрузки данных, поэтому пропуски можно будет игнорировать, да и для анализа этот столбец не нужен. В столбцах `churn_date` и `reg_date` неправильный тип данных, который нужно будет исправить;\n",
    "- в таблице с **данными о звонках** `calls` нет пропусков. Тип данных в столбце `call_date` нужно заменить на `datetime`. В столбце `duration` есть нулевые звонки. Это не является ошибкой, так как нулями обозначены пропущенные звонки, их не будем удалять;\n",
    "- в таблице с **данными о сообщениях** `messages` нет пропусков, но в столбце `message_date` нужно заменить тип данных на `datetime`;\n",
    "- в таблице с **данными об интернет-сессиях** `internet` нет пропусков, но в столбце `mb_used` есть нулевые значения, а еще тип данных в столбце `session_date` нужно заменить на `datetime`. Есть странный столбец `Unnamed: 0` с нарушением стиля, дублирующий информацию по индексам и не несущий в себе никакой ценности, поэтому его можно будет удалить;\n",
    "- в таблице с **данными о тарифах** `tariffs` нет пропусков, как ни странно, и в остальном все в порядке;\n",
    "- в остальном в названиях колонок нет нарушений стиля, поэтому корректировать в них ничего не будем. Везде соблюден «змеиный_регистр» и название колонок соответствует их описанию по документации;\n",
    "- необходимо в столбцах `duration` и `mb_used` округлить значения до целого в большую сторону, так как тариф учитывает целые минуты и мегабайты, затем изменить тип данных на `int`;\n",
    "- после объединения таблиц по звонкам, сообщениям и интернет-трафику наверняка возникнут пропущенные значения, ведь клиент мог не использовать звонки, сообщения или интернет-трафик. Такие значения нужно будет заменить на нули."
   ]
  },
  {
   "cell_type": "markdown",
   "metadata": {},
   "source": [
    "**Вывод:**"
   ]
  },
  {
   "cell_type": "markdown",
   "metadata": {},
   "source": [
    "В таблицах - различные данные по небольшой выборке клиентов, которые пользуются услугами федерального оператора сотовой связи «Мегалайн». В основном нам предоставлена информация о действиях клиентов, на которые мы и будем ориентироваться при анализе. \n",
    "\n",
    "Предварительно можем утверждать, что данных достаточно для проведения анализа и проверки гипотез, однако есть столбцы с некорректными типами данных и чуть чуть пропусков в одной таблице, причина которых нам известна. Есть лишний столбец, который не несет в себе никакой информации, а также некоторые значения еще не приведены к нужному формату с учетом особенностей работы тарифов.\n",
    "\n",
    "Устраним все замеченные недочеты и проведем расчеты, после чего приступим к анализу данных и непосредственно к самой проверке гипотез. "
   ]
  },
  {
   "cell_type": "markdown",
   "metadata": {},
   "source": [
    "### 2. Предобработка и подготовка данных"
   ]
  },
  {
   "cell_type": "markdown",
   "metadata": {},
   "source": [
    "Исправим все найденные ошибки в данных. Заменим тип данных на правильный в обозначенных ранее столбцах. Также произведем необходимые для анализа расчеты. "
   ]
  },
  {
   "cell_type": "markdown",
   "metadata": {},
   "source": [
    "#### 2.1 Исправление ошибок и замена типа данных"
   ]
  },
  {
   "cell_type": "markdown",
   "metadata": {},
   "source": [
    "В первом шаге мы пояснили то, какие ошибки нашли и что с ними нужно сделать. В том же порядке будем все исправлять. \n",
    "\n",
    "По таблице `users`. В столбцах `churn_date` и `reg_date` заменим тип данных на `datetime`:"
   ]
  },
  {
   "cell_type": "code",
   "execution_count": 8,
   "metadata": {},
   "outputs": [],
   "source": [
    "users['churn_date'] = pd.to_datetime(users['churn_date'], format = '%Y-%m-%d')\n",
    "users['reg_date'] = pd.to_datetime(users['reg_date'], format = '%Y-%m-%d')"
   ]
  },
  {
   "cell_type": "markdown",
   "metadata": {},
   "source": [
    "По таблице `calls`. В столбце `call_date` заменим тип данных на `datetime`:"
   ]
  },
  {
   "cell_type": "code",
   "execution_count": 9,
   "metadata": {},
   "outputs": [],
   "source": [
    "calls['call_date'] = pd.to_datetime(calls['call_date'], format = '%Y-%m-%d')"
   ]
  },
  {
   "cell_type": "markdown",
   "metadata": {},
   "source": [
    "По таблице `messages`. В столбце `message_date` заменим тип данных на `datetime`:"
   ]
  },
  {
   "cell_type": "code",
   "execution_count": 10,
   "metadata": {},
   "outputs": [],
   "source": [
    "messages['message_date'] = pd.to_datetime(messages['message_date'], format = '%Y-%m-%d')"
   ]
  },
  {
   "cell_type": "markdown",
   "metadata": {},
   "source": [
    "По таблице `internet`. В столбце `session_date` заменим тип данных на `datetime`. Также удалим нулевые значения в столбце `mb_used`, так как они никакой роли на финансовый результат не окажут. Еще удалим столбец `Unnamed: 0`:"
   ]
  },
  {
   "cell_type": "code",
   "execution_count": 11,
   "metadata": {},
   "outputs": [],
   "source": [
    "internet['session_date'] = pd.to_datetime(internet['session_date'], format = '%Y-%m-%d')\n",
    "internet.drop(internet[internet['mb_used'] == 0].index, inplace = True)\n",
    "internet = internet.drop('Unnamed: 0', axis=1)"
   ]
  },
  {
   "cell_type": "markdown",
   "metadata": {},
   "source": [
    "Теперь в столбцах `duration` и `mb_used` округлим значения до целого в большую сторону, так как тариф учитывает целые минуты и мегабайты, затем изменим тип данных на `int`:"
   ]
  },
  {
   "cell_type": "markdown",
   "metadata": {},
   "source": [
    "**Вывод:**\n",
    "\n",
    "В данных было не очень много ошибок, но они повлияли бы на сам анализ, поэтому мы привели их в порядок. Убрали лишний столбец, заменили типы данных и удалили нулевые значения, которые не влияют на финансовый результат. "
   ]
  },
  {
   "cell_type": "markdown",
   "metadata": {},
   "source": [
    "#### 2.2 Расчеты и объединение таблиц"
   ]
  },
  {
   "cell_type": "markdown",
   "metadata": {},
   "source": [
    "Теперь займемся расчетами и объединением таблиц."
   ]
  },
  {
   "cell_type": "markdown",
   "metadata": {},
   "source": [
    "**1.** Посчитаем количество сделанных звонков и израсходованных минут разговора по месяцам. Сначала добавим новый столбец с месяцами по звонкам:"
   ]
  },
  {
   "cell_type": "code",
   "execution_count": 13,
   "metadata": {},
   "outputs": [],
   "source": [
    "calls['month'] = pd.DatetimeIndex(calls['call_date']).month"
   ]
  },
  {
   "cell_type": "markdown",
   "metadata": {},
   "source": [
    "Посчитаем количество израсходованных минут разговора по месяцам у каждого пользователя:"
   ]
  },
  {
   "cell_type": "code",
   "execution_count": 14,
   "metadata": {
    "scrolled": false
   },
   "outputs": [
    {
     "data": {
      "text/html": [
       "<div>\n",
       "<style scoped>\n",
       "    .dataframe tbody tr th:only-of-type {\n",
       "        vertical-align: middle;\n",
       "    }\n",
       "\n",
       "    .dataframe tbody tr th {\n",
       "        vertical-align: top;\n",
       "    }\n",
       "\n",
       "    .dataframe thead th {\n",
       "        text-align: right;\n",
       "    }\n",
       "</style>\n",
       "<table border=\"1\" class=\"dataframe\">\n",
       "  <thead>\n",
       "    <tr style=\"text-align: right;\">\n",
       "      <th></th>\n",
       "      <th>user_id</th>\n",
       "      <th>month</th>\n",
       "      <th>duration</th>\n",
       "    </tr>\n",
       "  </thead>\n",
       "  <tbody>\n",
       "    <tr>\n",
       "      <td>0</td>\n",
       "      <td>1000</td>\n",
       "      <td>5</td>\n",
       "      <td>150.06</td>\n",
       "    </tr>\n",
       "    <tr>\n",
       "      <td>1</td>\n",
       "      <td>1000</td>\n",
       "      <td>6</td>\n",
       "      <td>158.90</td>\n",
       "    </tr>\n",
       "    <tr>\n",
       "      <td>2</td>\n",
       "      <td>1000</td>\n",
       "      <td>7</td>\n",
       "      <td>318.80</td>\n",
       "    </tr>\n",
       "    <tr>\n",
       "      <td>3</td>\n",
       "      <td>1000</td>\n",
       "      <td>8</td>\n",
       "      <td>389.87</td>\n",
       "    </tr>\n",
       "    <tr>\n",
       "      <td>4</td>\n",
       "      <td>1000</td>\n",
       "      <td>9</td>\n",
       "      <td>440.14</td>\n",
       "    </tr>\n",
       "    <tr>\n",
       "      <td>...</td>\n",
       "      <td>...</td>\n",
       "      <td>...</td>\n",
       "      <td>...</td>\n",
       "    </tr>\n",
       "    <tr>\n",
       "      <td>3169</td>\n",
       "      <td>1498</td>\n",
       "      <td>10</td>\n",
       "      <td>232.63</td>\n",
       "    </tr>\n",
       "    <tr>\n",
       "      <td>3170</td>\n",
       "      <td>1499</td>\n",
       "      <td>9</td>\n",
       "      <td>64.65</td>\n",
       "    </tr>\n",
       "    <tr>\n",
       "      <td>3171</td>\n",
       "      <td>1499</td>\n",
       "      <td>10</td>\n",
       "      <td>429.91</td>\n",
       "    </tr>\n",
       "    <tr>\n",
       "      <td>3172</td>\n",
       "      <td>1499</td>\n",
       "      <td>11</td>\n",
       "      <td>576.50</td>\n",
       "    </tr>\n",
       "    <tr>\n",
       "      <td>3173</td>\n",
       "      <td>1499</td>\n",
       "      <td>12</td>\n",
       "      <td>465.16</td>\n",
       "    </tr>\n",
       "  </tbody>\n",
       "</table>\n",
       "<p>3174 rows × 3 columns</p>\n",
       "</div>"
      ],
      "text/plain": [
       "      user_id  month  duration\n",
       "0        1000      5    150.06\n",
       "1        1000      6    158.90\n",
       "2        1000      7    318.80\n",
       "3        1000      8    389.87\n",
       "4        1000      9    440.14\n",
       "...       ...    ...       ...\n",
       "3169     1498     10    232.63\n",
       "3170     1499      9     64.65\n",
       "3171     1499     10    429.91\n",
       "3172     1499     11    576.50\n",
       "3173     1499     12    465.16\n",
       "\n",
       "[3174 rows x 3 columns]"
      ]
     },
     "execution_count": 14,
     "metadata": {},
     "output_type": "execute_result"
    }
   ],
   "source": [
    "calls_month_sum = calls.pivot_table(index = ['user_id', 'month'], values = 'duration', aggfunc = 'sum').reset_index()\n",
    "calls_month_sum"
   ]
  },
  {
   "cell_type": "markdown",
   "metadata": {},
   "source": [
    "Посчитаем количество сделанных звонков у каждого пользователя:"
   ]
  },
  {
   "cell_type": "code",
   "execution_count": 15,
   "metadata": {
    "scrolled": false
   },
   "outputs": [
    {
     "data": {
      "text/html": [
       "<div>\n",
       "<style scoped>\n",
       "    .dataframe tbody tr th:only-of-type {\n",
       "        vertical-align: middle;\n",
       "    }\n",
       "\n",
       "    .dataframe tbody tr th {\n",
       "        vertical-align: top;\n",
       "    }\n",
       "\n",
       "    .dataframe thead th {\n",
       "        text-align: right;\n",
       "    }\n",
       "</style>\n",
       "<table border=\"1\" class=\"dataframe\">\n",
       "  <thead>\n",
       "    <tr style=\"text-align: right;\">\n",
       "      <th></th>\n",
       "      <th>user_id</th>\n",
       "      <th>month</th>\n",
       "      <th>calls_count</th>\n",
       "    </tr>\n",
       "  </thead>\n",
       "  <tbody>\n",
       "    <tr>\n",
       "      <td>0</td>\n",
       "      <td>1000</td>\n",
       "      <td>5</td>\n",
       "      <td>22</td>\n",
       "    </tr>\n",
       "    <tr>\n",
       "      <td>1</td>\n",
       "      <td>1000</td>\n",
       "      <td>6</td>\n",
       "      <td>43</td>\n",
       "    </tr>\n",
       "    <tr>\n",
       "      <td>2</td>\n",
       "      <td>1000</td>\n",
       "      <td>7</td>\n",
       "      <td>47</td>\n",
       "    </tr>\n",
       "    <tr>\n",
       "      <td>3</td>\n",
       "      <td>1000</td>\n",
       "      <td>8</td>\n",
       "      <td>52</td>\n",
       "    </tr>\n",
       "    <tr>\n",
       "      <td>4</td>\n",
       "      <td>1000</td>\n",
       "      <td>9</td>\n",
       "      <td>58</td>\n",
       "    </tr>\n",
       "    <tr>\n",
       "      <td>...</td>\n",
       "      <td>...</td>\n",
       "      <td>...</td>\n",
       "      <td>...</td>\n",
       "    </tr>\n",
       "    <tr>\n",
       "      <td>3169</td>\n",
       "      <td>1498</td>\n",
       "      <td>10</td>\n",
       "      <td>41</td>\n",
       "    </tr>\n",
       "    <tr>\n",
       "      <td>3170</td>\n",
       "      <td>1499</td>\n",
       "      <td>9</td>\n",
       "      <td>9</td>\n",
       "    </tr>\n",
       "    <tr>\n",
       "      <td>3171</td>\n",
       "      <td>1499</td>\n",
       "      <td>10</td>\n",
       "      <td>68</td>\n",
       "    </tr>\n",
       "    <tr>\n",
       "      <td>3172</td>\n",
       "      <td>1499</td>\n",
       "      <td>11</td>\n",
       "      <td>74</td>\n",
       "    </tr>\n",
       "    <tr>\n",
       "      <td>3173</td>\n",
       "      <td>1499</td>\n",
       "      <td>12</td>\n",
       "      <td>69</td>\n",
       "    </tr>\n",
       "  </tbody>\n",
       "</table>\n",
       "<p>3174 rows × 3 columns</p>\n",
       "</div>"
      ],
      "text/plain": [
       "      user_id  month  calls_count\n",
       "0        1000      5           22\n",
       "1        1000      6           43\n",
       "2        1000      7           47\n",
       "3        1000      8           52\n",
       "4        1000      9           58\n",
       "...       ...    ...          ...\n",
       "3169     1498     10           41\n",
       "3170     1499      9            9\n",
       "3171     1499     10           68\n",
       "3172     1499     11           74\n",
       "3173     1499     12           69\n",
       "\n",
       "[3174 rows x 3 columns]"
      ]
     },
     "execution_count": 15,
     "metadata": {},
     "output_type": "execute_result"
    }
   ],
   "source": [
    "calls_month_count = calls.groupby(['user_id', 'month'])[['id']].agg(['count']).reset_index()\n",
    "calls_month_count.columns = ['user_id', 'month', 'calls_count']\n",
    "calls_month_count"
   ]
  },
  {
   "cell_type": "markdown",
   "metadata": {},
   "source": [
    "Объединим две созданные таблицы:"
   ]
  },
  {
   "cell_type": "code",
   "execution_count": 16,
   "metadata": {
    "scrolled": false
   },
   "outputs": [
    {
     "data": {
      "text/html": [
       "<div>\n",
       "<style scoped>\n",
       "    .dataframe tbody tr th:only-of-type {\n",
       "        vertical-align: middle;\n",
       "    }\n",
       "\n",
       "    .dataframe tbody tr th {\n",
       "        vertical-align: top;\n",
       "    }\n",
       "\n",
       "    .dataframe thead th {\n",
       "        text-align: right;\n",
       "    }\n",
       "</style>\n",
       "<table border=\"1\" class=\"dataframe\">\n",
       "  <thead>\n",
       "    <tr style=\"text-align: right;\">\n",
       "      <th></th>\n",
       "      <th>user_id</th>\n",
       "      <th>month</th>\n",
       "      <th>calls_count</th>\n",
       "      <th>duration</th>\n",
       "    </tr>\n",
       "  </thead>\n",
       "  <tbody>\n",
       "    <tr>\n",
       "      <td>0</td>\n",
       "      <td>1000</td>\n",
       "      <td>5</td>\n",
       "      <td>22</td>\n",
       "      <td>150.06</td>\n",
       "    </tr>\n",
       "    <tr>\n",
       "      <td>1</td>\n",
       "      <td>1000</td>\n",
       "      <td>6</td>\n",
       "      <td>43</td>\n",
       "      <td>158.90</td>\n",
       "    </tr>\n",
       "    <tr>\n",
       "      <td>2</td>\n",
       "      <td>1000</td>\n",
       "      <td>7</td>\n",
       "      <td>47</td>\n",
       "      <td>318.80</td>\n",
       "    </tr>\n",
       "    <tr>\n",
       "      <td>3</td>\n",
       "      <td>1000</td>\n",
       "      <td>8</td>\n",
       "      <td>52</td>\n",
       "      <td>389.87</td>\n",
       "    </tr>\n",
       "    <tr>\n",
       "      <td>4</td>\n",
       "      <td>1000</td>\n",
       "      <td>9</td>\n",
       "      <td>58</td>\n",
       "      <td>440.14</td>\n",
       "    </tr>\n",
       "    <tr>\n",
       "      <td>...</td>\n",
       "      <td>...</td>\n",
       "      <td>...</td>\n",
       "      <td>...</td>\n",
       "      <td>...</td>\n",
       "    </tr>\n",
       "    <tr>\n",
       "      <td>3169</td>\n",
       "      <td>1498</td>\n",
       "      <td>10</td>\n",
       "      <td>41</td>\n",
       "      <td>232.63</td>\n",
       "    </tr>\n",
       "    <tr>\n",
       "      <td>3170</td>\n",
       "      <td>1499</td>\n",
       "      <td>9</td>\n",
       "      <td>9</td>\n",
       "      <td>64.65</td>\n",
       "    </tr>\n",
       "    <tr>\n",
       "      <td>3171</td>\n",
       "      <td>1499</td>\n",
       "      <td>10</td>\n",
       "      <td>68</td>\n",
       "      <td>429.91</td>\n",
       "    </tr>\n",
       "    <tr>\n",
       "      <td>3172</td>\n",
       "      <td>1499</td>\n",
       "      <td>11</td>\n",
       "      <td>74</td>\n",
       "      <td>576.50</td>\n",
       "    </tr>\n",
       "    <tr>\n",
       "      <td>3173</td>\n",
       "      <td>1499</td>\n",
       "      <td>12</td>\n",
       "      <td>69</td>\n",
       "      <td>465.16</td>\n",
       "    </tr>\n",
       "  </tbody>\n",
       "</table>\n",
       "<p>3174 rows × 4 columns</p>\n",
       "</div>"
      ],
      "text/plain": [
       "      user_id  month  calls_count  duration\n",
       "0        1000      5           22    150.06\n",
       "1        1000      6           43    158.90\n",
       "2        1000      7           47    318.80\n",
       "3        1000      8           52    389.87\n",
       "4        1000      9           58    440.14\n",
       "...       ...    ...          ...       ...\n",
       "3169     1498     10           41    232.63\n",
       "3170     1499      9            9     64.65\n",
       "3171     1499     10           68    429.91\n",
       "3172     1499     11           74    576.50\n",
       "3173     1499     12           69    465.16\n",
       "\n",
       "[3174 rows x 4 columns]"
      ]
     },
     "execution_count": 16,
     "metadata": {},
     "output_type": "execute_result"
    }
   ],
   "source": [
    "calls_month = calls_month_count.merge(calls_month_sum, how = 'left', on = ['user_id', 'month'])\n",
    "calls_month"
   ]
  },
  {
   "cell_type": "markdown",
   "metadata": {},
   "source": [
    "**2.** Посчитаем количество отправленных сообщений по месяцам. Сначала добавим новый столбец с месяцами по сообщениям:"
   ]
  },
  {
   "cell_type": "code",
   "execution_count": 17,
   "metadata": {},
   "outputs": [
    {
     "data": {
      "text/html": [
       "<div>\n",
       "<style scoped>\n",
       "    .dataframe tbody tr th:only-of-type {\n",
       "        vertical-align: middle;\n",
       "    }\n",
       "\n",
       "    .dataframe tbody tr th {\n",
       "        vertical-align: top;\n",
       "    }\n",
       "\n",
       "    .dataframe thead th {\n",
       "        text-align: right;\n",
       "    }\n",
       "</style>\n",
       "<table border=\"1\" class=\"dataframe\">\n",
       "  <thead>\n",
       "    <tr style=\"text-align: right;\">\n",
       "      <th></th>\n",
       "      <th>id</th>\n",
       "      <th>message_date</th>\n",
       "      <th>user_id</th>\n",
       "      <th>month</th>\n",
       "    </tr>\n",
       "  </thead>\n",
       "  <tbody>\n",
       "    <tr>\n",
       "      <td>0</td>\n",
       "      <td>1000_0</td>\n",
       "      <td>2018-06-27</td>\n",
       "      <td>1000</td>\n",
       "      <td>6</td>\n",
       "    </tr>\n",
       "    <tr>\n",
       "      <td>1</td>\n",
       "      <td>1000_1</td>\n",
       "      <td>2018-10-08</td>\n",
       "      <td>1000</td>\n",
       "      <td>10</td>\n",
       "    </tr>\n",
       "    <tr>\n",
       "      <td>2</td>\n",
       "      <td>1000_2</td>\n",
       "      <td>2018-08-04</td>\n",
       "      <td>1000</td>\n",
       "      <td>8</td>\n",
       "    </tr>\n",
       "    <tr>\n",
       "      <td>3</td>\n",
       "      <td>1000_3</td>\n",
       "      <td>2018-06-16</td>\n",
       "      <td>1000</td>\n",
       "      <td>6</td>\n",
       "    </tr>\n",
       "    <tr>\n",
       "      <td>4</td>\n",
       "      <td>1000_4</td>\n",
       "      <td>2018-12-05</td>\n",
       "      <td>1000</td>\n",
       "      <td>12</td>\n",
       "    </tr>\n",
       "    <tr>\n",
       "      <td>...</td>\n",
       "      <td>...</td>\n",
       "      <td>...</td>\n",
       "      <td>...</td>\n",
       "      <td>...</td>\n",
       "    </tr>\n",
       "    <tr>\n",
       "      <td>123031</td>\n",
       "      <td>1499_179</td>\n",
       "      <td>2018-12-12</td>\n",
       "      <td>1499</td>\n",
       "      <td>12</td>\n",
       "    </tr>\n",
       "    <tr>\n",
       "      <td>123032</td>\n",
       "      <td>1499_180</td>\n",
       "      <td>2018-09-28</td>\n",
       "      <td>1499</td>\n",
       "      <td>9</td>\n",
       "    </tr>\n",
       "    <tr>\n",
       "      <td>123033</td>\n",
       "      <td>1499_181</td>\n",
       "      <td>2018-09-27</td>\n",
       "      <td>1499</td>\n",
       "      <td>9</td>\n",
       "    </tr>\n",
       "    <tr>\n",
       "      <td>123034</td>\n",
       "      <td>1499_182</td>\n",
       "      <td>2018-11-15</td>\n",
       "      <td>1499</td>\n",
       "      <td>11</td>\n",
       "    </tr>\n",
       "    <tr>\n",
       "      <td>123035</td>\n",
       "      <td>1499_183</td>\n",
       "      <td>2018-11-16</td>\n",
       "      <td>1499</td>\n",
       "      <td>11</td>\n",
       "    </tr>\n",
       "  </tbody>\n",
       "</table>\n",
       "<p>123036 rows × 4 columns</p>\n",
       "</div>"
      ],
      "text/plain": [
       "              id message_date  user_id  month\n",
       "0         1000_0   2018-06-27     1000      6\n",
       "1         1000_1   2018-10-08     1000     10\n",
       "2         1000_2   2018-08-04     1000      8\n",
       "3         1000_3   2018-06-16     1000      6\n",
       "4         1000_4   2018-12-05     1000     12\n",
       "...          ...          ...      ...    ...\n",
       "123031  1499_179   2018-12-12     1499     12\n",
       "123032  1499_180   2018-09-28     1499      9\n",
       "123033  1499_181   2018-09-27     1499      9\n",
       "123034  1499_182   2018-11-15     1499     11\n",
       "123035  1499_183   2018-11-16     1499     11\n",
       "\n",
       "[123036 rows x 4 columns]"
      ]
     },
     "execution_count": 17,
     "metadata": {},
     "output_type": "execute_result"
    }
   ],
   "source": [
    "messages['month'] = pd.DatetimeIndex(messages['message_date']).month\n",
    "messages"
   ]
  },
  {
   "cell_type": "markdown",
   "metadata": {},
   "source": [
    "Посчитаем количество отправленных сообщений по месяцам у каждого пользователя:"
   ]
  },
  {
   "cell_type": "code",
   "execution_count": 18,
   "metadata": {
    "scrolled": false
   },
   "outputs": [
    {
     "data": {
      "text/html": [
       "<div>\n",
       "<style scoped>\n",
       "    .dataframe tbody tr th:only-of-type {\n",
       "        vertical-align: middle;\n",
       "    }\n",
       "\n",
       "    .dataframe tbody tr th {\n",
       "        vertical-align: top;\n",
       "    }\n",
       "\n",
       "    .dataframe thead th {\n",
       "        text-align: right;\n",
       "    }\n",
       "</style>\n",
       "<table border=\"1\" class=\"dataframe\">\n",
       "  <thead>\n",
       "    <tr style=\"text-align: right;\">\n",
       "      <th></th>\n",
       "      <th>user_id</th>\n",
       "      <th>month</th>\n",
       "      <th>messages_count</th>\n",
       "    </tr>\n",
       "  </thead>\n",
       "  <tbody>\n",
       "    <tr>\n",
       "      <td>0</td>\n",
       "      <td>1000</td>\n",
       "      <td>5</td>\n",
       "      <td>22</td>\n",
       "    </tr>\n",
       "    <tr>\n",
       "      <td>1</td>\n",
       "      <td>1000</td>\n",
       "      <td>6</td>\n",
       "      <td>60</td>\n",
       "    </tr>\n",
       "    <tr>\n",
       "      <td>2</td>\n",
       "      <td>1000</td>\n",
       "      <td>7</td>\n",
       "      <td>75</td>\n",
       "    </tr>\n",
       "    <tr>\n",
       "      <td>3</td>\n",
       "      <td>1000</td>\n",
       "      <td>8</td>\n",
       "      <td>81</td>\n",
       "    </tr>\n",
       "    <tr>\n",
       "      <td>4</td>\n",
       "      <td>1000</td>\n",
       "      <td>9</td>\n",
       "      <td>57</td>\n",
       "    </tr>\n",
       "    <tr>\n",
       "      <td>...</td>\n",
       "      <td>...</td>\n",
       "      <td>...</td>\n",
       "      <td>...</td>\n",
       "    </tr>\n",
       "    <tr>\n",
       "      <td>2712</td>\n",
       "      <td>1498</td>\n",
       "      <td>10</td>\n",
       "      <td>42</td>\n",
       "    </tr>\n",
       "    <tr>\n",
       "      <td>2713</td>\n",
       "      <td>1499</td>\n",
       "      <td>9</td>\n",
       "      <td>11</td>\n",
       "    </tr>\n",
       "    <tr>\n",
       "      <td>2714</td>\n",
       "      <td>1499</td>\n",
       "      <td>10</td>\n",
       "      <td>48</td>\n",
       "    </tr>\n",
       "    <tr>\n",
       "      <td>2715</td>\n",
       "      <td>1499</td>\n",
       "      <td>11</td>\n",
       "      <td>59</td>\n",
       "    </tr>\n",
       "    <tr>\n",
       "      <td>2716</td>\n",
       "      <td>1499</td>\n",
       "      <td>12</td>\n",
       "      <td>66</td>\n",
       "    </tr>\n",
       "  </tbody>\n",
       "</table>\n",
       "<p>2717 rows × 3 columns</p>\n",
       "</div>"
      ],
      "text/plain": [
       "      user_id  month  messages_count\n",
       "0        1000      5              22\n",
       "1        1000      6              60\n",
       "2        1000      7              75\n",
       "3        1000      8              81\n",
       "4        1000      9              57\n",
       "...       ...    ...             ...\n",
       "2712     1498     10              42\n",
       "2713     1499      9              11\n",
       "2714     1499     10              48\n",
       "2715     1499     11              59\n",
       "2716     1499     12              66\n",
       "\n",
       "[2717 rows x 3 columns]"
      ]
     },
     "execution_count": 18,
     "metadata": {},
     "output_type": "execute_result"
    }
   ],
   "source": [
    "messages_month_count = messages.groupby(['user_id', 'month'])[['id']].agg(['count']).reset_index()\n",
    "messages_month_count.columns = ['user_id', 'month', 'messages_count']\n",
    "messages_month_count"
   ]
  },
  {
   "cell_type": "markdown",
   "metadata": {},
   "source": [
    "**3.** Посчитаем объем израсходованного интернет-трафика по месяцам. Сначала добавим новый столбец с месяцами:"
   ]
  },
  {
   "cell_type": "code",
   "execution_count": 19,
   "metadata": {},
   "outputs": [],
   "source": [
    "internet['month'] = pd.DatetimeIndex(internet['session_date']).month"
   ]
  },
  {
   "cell_type": "markdown",
   "metadata": {},
   "source": [
    "Посчитаем объем израсходованного интернет-трафика по месяцам:"
   ]
  },
  {
   "cell_type": "code",
   "execution_count": 20,
   "metadata": {
    "scrolled": false
   },
   "outputs": [
    {
     "data": {
      "text/html": [
       "<div>\n",
       "<style scoped>\n",
       "    .dataframe tbody tr th:only-of-type {\n",
       "        vertical-align: middle;\n",
       "    }\n",
       "\n",
       "    .dataframe tbody tr th {\n",
       "        vertical-align: top;\n",
       "    }\n",
       "\n",
       "    .dataframe thead th {\n",
       "        text-align: right;\n",
       "    }\n",
       "</style>\n",
       "<table border=\"1\" class=\"dataframe\">\n",
       "  <thead>\n",
       "    <tr style=\"text-align: right;\">\n",
       "      <th></th>\n",
       "      <th>user_id</th>\n",
       "      <th>month</th>\n",
       "      <th>mb_used</th>\n",
       "    </tr>\n",
       "  </thead>\n",
       "  <tbody>\n",
       "    <tr>\n",
       "      <td>0</td>\n",
       "      <td>1000</td>\n",
       "      <td>5</td>\n",
       "      <td>2253.49</td>\n",
       "    </tr>\n",
       "    <tr>\n",
       "      <td>1</td>\n",
       "      <td>1000</td>\n",
       "      <td>6</td>\n",
       "      <td>23233.77</td>\n",
       "    </tr>\n",
       "    <tr>\n",
       "      <td>2</td>\n",
       "      <td>1000</td>\n",
       "      <td>7</td>\n",
       "      <td>14003.64</td>\n",
       "    </tr>\n",
       "    <tr>\n",
       "      <td>3</td>\n",
       "      <td>1000</td>\n",
       "      <td>8</td>\n",
       "      <td>14055.93</td>\n",
       "    </tr>\n",
       "    <tr>\n",
       "      <td>4</td>\n",
       "      <td>1000</td>\n",
       "      <td>9</td>\n",
       "      <td>14568.91</td>\n",
       "    </tr>\n",
       "    <tr>\n",
       "      <td>...</td>\n",
       "      <td>...</td>\n",
       "      <td>...</td>\n",
       "      <td>...</td>\n",
       "    </tr>\n",
       "    <tr>\n",
       "      <td>3196</td>\n",
       "      <td>1498</td>\n",
       "      <td>10</td>\n",
       "      <td>20579.36</td>\n",
       "    </tr>\n",
       "    <tr>\n",
       "      <td>3197</td>\n",
       "      <td>1499</td>\n",
       "      <td>9</td>\n",
       "      <td>1845.75</td>\n",
       "    </tr>\n",
       "    <tr>\n",
       "      <td>3198</td>\n",
       "      <td>1499</td>\n",
       "      <td>10</td>\n",
       "      <td>17788.51</td>\n",
       "    </tr>\n",
       "    <tr>\n",
       "      <td>3199</td>\n",
       "      <td>1499</td>\n",
       "      <td>11</td>\n",
       "      <td>17963.31</td>\n",
       "    </tr>\n",
       "    <tr>\n",
       "      <td>3200</td>\n",
       "      <td>1499</td>\n",
       "      <td>12</td>\n",
       "      <td>13055.58</td>\n",
       "    </tr>\n",
       "  </tbody>\n",
       "</table>\n",
       "<p>3201 rows × 3 columns</p>\n",
       "</div>"
      ],
      "text/plain": [
       "      user_id  month   mb_used\n",
       "0        1000      5   2253.49\n",
       "1        1000      6  23233.77\n",
       "2        1000      7  14003.64\n",
       "3        1000      8  14055.93\n",
       "4        1000      9  14568.91\n",
       "...       ...    ...       ...\n",
       "3196     1498     10  20579.36\n",
       "3197     1499      9   1845.75\n",
       "3198     1499     10  17788.51\n",
       "3199     1499     11  17963.31\n",
       "3200     1499     12  13055.58\n",
       "\n",
       "[3201 rows x 3 columns]"
      ]
     },
     "execution_count": 20,
     "metadata": {},
     "output_type": "execute_result"
    }
   ],
   "source": [
    "internet_month = internet.pivot_table(index = ['user_id', 'month'], values = 'mb_used', aggfunc = 'sum').reset_index()\n",
    "internet_month"
   ]
  },
  {
   "cell_type": "markdown",
   "metadata": {},
   "source": [
    "Необходимо добавить столбец с гигабайтами, так как для веб-трафика отдельные сессии не считаются, вместо этого общая сумма за месяц округляется в бо́льшую сторону. Столбец с мегабайтами уберем, так как он не понадобится:"
   ]
  },
  {
   "cell_type": "code",
   "execution_count": 21,
   "metadata": {
    "scrolled": false
   },
   "outputs": [
    {
     "data": {
      "text/html": [
       "<div>\n",
       "<style scoped>\n",
       "    .dataframe tbody tr th:only-of-type {\n",
       "        vertical-align: middle;\n",
       "    }\n",
       "\n",
       "    .dataframe tbody tr th {\n",
       "        vertical-align: top;\n",
       "    }\n",
       "\n",
       "    .dataframe thead th {\n",
       "        text-align: right;\n",
       "    }\n",
       "</style>\n",
       "<table border=\"1\" class=\"dataframe\">\n",
       "  <thead>\n",
       "    <tr style=\"text-align: right;\">\n",
       "      <th></th>\n",
       "      <th>user_id</th>\n",
       "      <th>month</th>\n",
       "      <th>gb_used</th>\n",
       "    </tr>\n",
       "  </thead>\n",
       "  <tbody>\n",
       "    <tr>\n",
       "      <td>0</td>\n",
       "      <td>1000</td>\n",
       "      <td>5</td>\n",
       "      <td>3</td>\n",
       "    </tr>\n",
       "    <tr>\n",
       "      <td>1</td>\n",
       "      <td>1000</td>\n",
       "      <td>6</td>\n",
       "      <td>23</td>\n",
       "    </tr>\n",
       "    <tr>\n",
       "      <td>2</td>\n",
       "      <td>1000</td>\n",
       "      <td>7</td>\n",
       "      <td>14</td>\n",
       "    </tr>\n",
       "    <tr>\n",
       "      <td>3</td>\n",
       "      <td>1000</td>\n",
       "      <td>8</td>\n",
       "      <td>14</td>\n",
       "    </tr>\n",
       "    <tr>\n",
       "      <td>4</td>\n",
       "      <td>1000</td>\n",
       "      <td>9</td>\n",
       "      <td>15</td>\n",
       "    </tr>\n",
       "    <tr>\n",
       "      <td>...</td>\n",
       "      <td>...</td>\n",
       "      <td>...</td>\n",
       "      <td>...</td>\n",
       "    </tr>\n",
       "    <tr>\n",
       "      <td>3196</td>\n",
       "      <td>1498</td>\n",
       "      <td>10</td>\n",
       "      <td>21</td>\n",
       "    </tr>\n",
       "    <tr>\n",
       "      <td>3197</td>\n",
       "      <td>1499</td>\n",
       "      <td>9</td>\n",
       "      <td>2</td>\n",
       "    </tr>\n",
       "    <tr>\n",
       "      <td>3198</td>\n",
       "      <td>1499</td>\n",
       "      <td>10</td>\n",
       "      <td>18</td>\n",
       "    </tr>\n",
       "    <tr>\n",
       "      <td>3199</td>\n",
       "      <td>1499</td>\n",
       "      <td>11</td>\n",
       "      <td>18</td>\n",
       "    </tr>\n",
       "    <tr>\n",
       "      <td>3200</td>\n",
       "      <td>1499</td>\n",
       "      <td>12</td>\n",
       "      <td>13</td>\n",
       "    </tr>\n",
       "  </tbody>\n",
       "</table>\n",
       "<p>3201 rows × 3 columns</p>\n",
       "</div>"
      ],
      "text/plain": [
       "      user_id  month  gb_used\n",
       "0        1000      5        3\n",
       "1        1000      6       23\n",
       "2        1000      7       14\n",
       "3        1000      8       14\n",
       "4        1000      9       15\n",
       "...       ...    ...      ...\n",
       "3196     1498     10       21\n",
       "3197     1499      9        2\n",
       "3198     1499     10       18\n",
       "3199     1499     11       18\n",
       "3200     1499     12       13\n",
       "\n",
       "[3201 rows x 3 columns]"
      ]
     },
     "execution_count": 21,
     "metadata": {},
     "output_type": "execute_result"
    }
   ],
   "source": [
    "internet_month['gb_used'] = (internet_month['mb_used'] / 1024).apply(math.ceil)\n",
    "internet_month = internet_month.drop('mb_used', axis = 1)\n",
    "internet_month"
   ]
  },
  {
   "cell_type": "markdown",
   "metadata": {},
   "source": [
    "**4.** Посчитаем помесячную выручку с каждого пользователя. Вычтем бесплатный лимит из суммарного количества звонков, сообщений и интернет-трафика. Остаток умножим на значение из тарифного плана и прибавим абонентскую плату, соответствующую тарифному плану. Сначала создадим таблицу, в которую будем добавлять все необходимые данные:"
   ]
  },
  {
   "cell_type": "code",
   "execution_count": 22,
   "metadata": {
    "scrolled": false
   },
   "outputs": [
    {
     "data": {
      "text/html": [
       "<div>\n",
       "<style scoped>\n",
       "    .dataframe tbody tr th:only-of-type {\n",
       "        vertical-align: middle;\n",
       "    }\n",
       "\n",
       "    .dataframe tbody tr th {\n",
       "        vertical-align: top;\n",
       "    }\n",
       "\n",
       "    .dataframe thead th {\n",
       "        text-align: right;\n",
       "    }\n",
       "</style>\n",
       "<table border=\"1\" class=\"dataframe\">\n",
       "  <thead>\n",
       "    <tr style=\"text-align: right;\">\n",
       "      <th></th>\n",
       "      <th>user_id</th>\n",
       "      <th>tariff</th>\n",
       "      <th>monthly_fee</th>\n",
       "    </tr>\n",
       "  </thead>\n",
       "  <tbody>\n",
       "    <tr>\n",
       "      <td>0</td>\n",
       "      <td>1000</td>\n",
       "      <td>ultra</td>\n",
       "      <td>1950</td>\n",
       "    </tr>\n",
       "    <tr>\n",
       "      <td>1</td>\n",
       "      <td>1001</td>\n",
       "      <td>smart</td>\n",
       "      <td>550</td>\n",
       "    </tr>\n",
       "    <tr>\n",
       "      <td>2</td>\n",
       "      <td>1002</td>\n",
       "      <td>smart</td>\n",
       "      <td>550</td>\n",
       "    </tr>\n",
       "    <tr>\n",
       "      <td>3</td>\n",
       "      <td>1003</td>\n",
       "      <td>ultra</td>\n",
       "      <td>1950</td>\n",
       "    </tr>\n",
       "    <tr>\n",
       "      <td>4</td>\n",
       "      <td>1004</td>\n",
       "      <td>ultra</td>\n",
       "      <td>1950</td>\n",
       "    </tr>\n",
       "    <tr>\n",
       "      <td>...</td>\n",
       "      <td>...</td>\n",
       "      <td>...</td>\n",
       "      <td>...</td>\n",
       "    </tr>\n",
       "    <tr>\n",
       "      <td>495</td>\n",
       "      <td>1495</td>\n",
       "      <td>ultra</td>\n",
       "      <td>1950</td>\n",
       "    </tr>\n",
       "    <tr>\n",
       "      <td>496</td>\n",
       "      <td>1496</td>\n",
       "      <td>smart</td>\n",
       "      <td>550</td>\n",
       "    </tr>\n",
       "    <tr>\n",
       "      <td>497</td>\n",
       "      <td>1497</td>\n",
       "      <td>smart</td>\n",
       "      <td>550</td>\n",
       "    </tr>\n",
       "    <tr>\n",
       "      <td>498</td>\n",
       "      <td>1498</td>\n",
       "      <td>smart</td>\n",
       "      <td>550</td>\n",
       "    </tr>\n",
       "    <tr>\n",
       "      <td>499</td>\n",
       "      <td>1499</td>\n",
       "      <td>smart</td>\n",
       "      <td>550</td>\n",
       "    </tr>\n",
       "  </tbody>\n",
       "</table>\n",
       "<p>500 rows × 3 columns</p>\n",
       "</div>"
      ],
      "text/plain": [
       "     user_id tariff  monthly_fee\n",
       "0       1000  ultra         1950\n",
       "1       1001  smart          550\n",
       "2       1002  smart          550\n",
       "3       1003  ultra         1950\n",
       "4       1004  ultra         1950\n",
       "..       ...    ...          ...\n",
       "495     1495  ultra         1950\n",
       "496     1496  smart          550\n",
       "497     1497  smart          550\n",
       "498     1498  smart          550\n",
       "499     1499  smart          550\n",
       "\n",
       "[500 rows x 3 columns]"
      ]
     },
     "execution_count": 22,
     "metadata": {},
     "output_type": "execute_result"
    }
   ],
   "source": [
    "proceeds = users[['user_id', 'tariff']].copy()\n",
    "rate = []\n",
    "for tariff in proceeds['tariff']:\n",
    "    if tariff == 'smart':\n",
    "        rate.append(tariffs.loc[tariffs['tariff_name'] == 'smart', 'rub_monthly_fee'].values[0])\n",
    "    else:\n",
    "        rate.append(tariffs.loc[tariffs['tariff_name'] == 'ultra', 'rub_monthly_fee'].values[0])\n",
    "proceeds['monthly_fee'] = rate\n",
    "proceeds"
   ]
  },
  {
   "cell_type": "markdown",
   "metadata": {},
   "source": [
    "Соберем данные по ранее сделанным расчетам вместе:"
   ]
  },
  {
   "cell_type": "code",
   "execution_count": 23,
   "metadata": {},
   "outputs": [
    {
     "data": {
      "text/html": [
       "<div>\n",
       "<style scoped>\n",
       "    .dataframe tbody tr th:only-of-type {\n",
       "        vertical-align: middle;\n",
       "    }\n",
       "\n",
       "    .dataframe tbody tr th {\n",
       "        vertical-align: top;\n",
       "    }\n",
       "\n",
       "    .dataframe thead th {\n",
       "        text-align: right;\n",
       "    }\n",
       "</style>\n",
       "<table border=\"1\" class=\"dataframe\">\n",
       "  <thead>\n",
       "    <tr style=\"text-align: right;\">\n",
       "      <th></th>\n",
       "      <th>user_id</th>\n",
       "      <th>month</th>\n",
       "      <th>duration</th>\n",
       "      <th>messages_count</th>\n",
       "      <th>gb_used</th>\n",
       "    </tr>\n",
       "  </thead>\n",
       "  <tbody>\n",
       "    <tr>\n",
       "      <td>0</td>\n",
       "      <td>1000</td>\n",
       "      <td>5</td>\n",
       "      <td>150.06</td>\n",
       "      <td>22.0</td>\n",
       "      <td>3.0</td>\n",
       "    </tr>\n",
       "    <tr>\n",
       "      <td>1</td>\n",
       "      <td>1000</td>\n",
       "      <td>6</td>\n",
       "      <td>158.90</td>\n",
       "      <td>60.0</td>\n",
       "      <td>23.0</td>\n",
       "    </tr>\n",
       "    <tr>\n",
       "      <td>2</td>\n",
       "      <td>1000</td>\n",
       "      <td>7</td>\n",
       "      <td>318.80</td>\n",
       "      <td>75.0</td>\n",
       "      <td>14.0</td>\n",
       "    </tr>\n",
       "    <tr>\n",
       "      <td>3</td>\n",
       "      <td>1000</td>\n",
       "      <td>8</td>\n",
       "      <td>389.87</td>\n",
       "      <td>81.0</td>\n",
       "      <td>14.0</td>\n",
       "    </tr>\n",
       "    <tr>\n",
       "      <td>4</td>\n",
       "      <td>1000</td>\n",
       "      <td>9</td>\n",
       "      <td>440.14</td>\n",
       "      <td>57.0</td>\n",
       "      <td>15.0</td>\n",
       "    </tr>\n",
       "    <tr>\n",
       "      <td>...</td>\n",
       "      <td>...</td>\n",
       "      <td>...</td>\n",
       "      <td>...</td>\n",
       "      <td>...</td>\n",
       "      <td>...</td>\n",
       "    </tr>\n",
       "    <tr>\n",
       "      <td>3209</td>\n",
       "      <td>1489</td>\n",
       "      <td>9</td>\n",
       "      <td>NaN</td>\n",
       "      <td>32.0</td>\n",
       "      <td>17.0</td>\n",
       "    </tr>\n",
       "    <tr>\n",
       "      <td>3210</td>\n",
       "      <td>1489</td>\n",
       "      <td>10</td>\n",
       "      <td>NaN</td>\n",
       "      <td>21.0</td>\n",
       "      <td>20.0</td>\n",
       "    </tr>\n",
       "    <tr>\n",
       "      <td>3211</td>\n",
       "      <td>1489</td>\n",
       "      <td>11</td>\n",
       "      <td>NaN</td>\n",
       "      <td>20.0</td>\n",
       "      <td>18.0</td>\n",
       "    </tr>\n",
       "    <tr>\n",
       "      <td>3212</td>\n",
       "      <td>1489</td>\n",
       "      <td>12</td>\n",
       "      <td>NaN</td>\n",
       "      <td>35.0</td>\n",
       "      <td>17.0</td>\n",
       "    </tr>\n",
       "    <tr>\n",
       "      <td>3213</td>\n",
       "      <td>1476</td>\n",
       "      <td>4</td>\n",
       "      <td>NaN</td>\n",
       "      <td>NaN</td>\n",
       "      <td>1.0</td>\n",
       "    </tr>\n",
       "  </tbody>\n",
       "</table>\n",
       "<p>3214 rows × 5 columns</p>\n",
       "</div>"
      ],
      "text/plain": [
       "      user_id  month  duration  messages_count  gb_used\n",
       "0        1000      5    150.06            22.0      3.0\n",
       "1        1000      6    158.90            60.0     23.0\n",
       "2        1000      7    318.80            75.0     14.0\n",
       "3        1000      8    389.87            81.0     14.0\n",
       "4        1000      9    440.14            57.0     15.0\n",
       "...       ...    ...       ...             ...      ...\n",
       "3209     1489      9       NaN            32.0     17.0\n",
       "3210     1489     10       NaN            21.0     20.0\n",
       "3211     1489     11       NaN            20.0     18.0\n",
       "3212     1489     12       NaN            35.0     17.0\n",
       "3213     1476      4       NaN             NaN      1.0\n",
       "\n",
       "[3214 rows x 5 columns]"
      ]
     },
     "execution_count": 23,
     "metadata": {},
     "output_type": "execute_result"
    }
   ],
   "source": [
    "all_calculations = calls_month_sum[['user_id', 'month', 'duration']]\n",
    "for df in [messages_month_count, internet_month]:\n",
    "    all_calculations = all_calculations.merge(df, how = 'outer', on = ['user_id', 'month'])\n",
    "all_calculations"
   ]
  },
  {
   "cell_type": "markdown",
   "metadata": {},
   "source": [
    "После объединения образовались пропущенные значения. Заменим их на нули:"
   ]
  },
  {
   "cell_type": "code",
   "execution_count": 24,
   "metadata": {
    "scrolled": false
   },
   "outputs": [
    {
     "data": {
      "text/html": [
       "<div>\n",
       "<style scoped>\n",
       "    .dataframe tbody tr th:only-of-type {\n",
       "        vertical-align: middle;\n",
       "    }\n",
       "\n",
       "    .dataframe tbody tr th {\n",
       "        vertical-align: top;\n",
       "    }\n",
       "\n",
       "    .dataframe thead th {\n",
       "        text-align: right;\n",
       "    }\n",
       "</style>\n",
       "<table border=\"1\" class=\"dataframe\">\n",
       "  <thead>\n",
       "    <tr style=\"text-align: right;\">\n",
       "      <th></th>\n",
       "      <th>user_id</th>\n",
       "      <th>month</th>\n",
       "      <th>duration</th>\n",
       "      <th>messages_count</th>\n",
       "      <th>gb_used</th>\n",
       "    </tr>\n",
       "  </thead>\n",
       "  <tbody>\n",
       "    <tr>\n",
       "      <td>518</td>\n",
       "      <td>1082</td>\n",
       "      <td>11</td>\n",
       "      <td>101.69</td>\n",
       "      <td>72.0</td>\n",
       "      <td>17.0</td>\n",
       "    </tr>\n",
       "    <tr>\n",
       "      <td>772</td>\n",
       "      <td>1123</td>\n",
       "      <td>4</td>\n",
       "      <td>555.16</td>\n",
       "      <td>19.0</td>\n",
       "      <td>17.0</td>\n",
       "    </tr>\n",
       "    <tr>\n",
       "      <td>1316</td>\n",
       "      <td>1208</td>\n",
       "      <td>9</td>\n",
       "      <td>553.18</td>\n",
       "      <td>0.0</td>\n",
       "      <td>21.0</td>\n",
       "    </tr>\n",
       "    <tr>\n",
       "      <td>231</td>\n",
       "      <td>1036</td>\n",
       "      <td>7</td>\n",
       "      <td>268.97</td>\n",
       "      <td>1.0</td>\n",
       "      <td>9.0</td>\n",
       "    </tr>\n",
       "    <tr>\n",
       "      <td>1466</td>\n",
       "      <td>1233</td>\n",
       "      <td>12</td>\n",
       "      <td>631.83</td>\n",
       "      <td>27.0</td>\n",
       "      <td>20.0</td>\n",
       "    </tr>\n",
       "    <tr>\n",
       "      <td>52</td>\n",
       "      <td>1006</td>\n",
       "      <td>12</td>\n",
       "      <td>356.53</td>\n",
       "      <td>0.0</td>\n",
       "      <td>19.0</td>\n",
       "    </tr>\n",
       "    <tr>\n",
       "      <td>549</td>\n",
       "      <td>1088</td>\n",
       "      <td>6</td>\n",
       "      <td>288.86</td>\n",
       "      <td>33.0</td>\n",
       "      <td>11.0</td>\n",
       "    </tr>\n",
       "    <tr>\n",
       "      <td>2678</td>\n",
       "      <td>1423</td>\n",
       "      <td>1</td>\n",
       "      <td>57.67</td>\n",
       "      <td>8.0</td>\n",
       "      <td>2.0</td>\n",
       "    </tr>\n",
       "    <tr>\n",
       "      <td>2384</td>\n",
       "      <td>1379</td>\n",
       "      <td>11</td>\n",
       "      <td>1019.79</td>\n",
       "      <td>99.0</td>\n",
       "      <td>40.0</td>\n",
       "    </tr>\n",
       "    <tr>\n",
       "      <td>567</td>\n",
       "      <td>1090</td>\n",
       "      <td>10</td>\n",
       "      <td>480.06</td>\n",
       "      <td>14.0</td>\n",
       "      <td>14.0</td>\n",
       "    </tr>\n",
       "  </tbody>\n",
       "</table>\n",
       "</div>"
      ],
      "text/plain": [
       "      user_id  month  duration  messages_count  gb_used\n",
       "518      1082     11    101.69            72.0     17.0\n",
       "772      1123      4    555.16            19.0     17.0\n",
       "1316     1208      9    553.18             0.0     21.0\n",
       "231      1036      7    268.97             1.0      9.0\n",
       "1466     1233     12    631.83            27.0     20.0\n",
       "52       1006     12    356.53             0.0     19.0\n",
       "549      1088      6    288.86            33.0     11.0\n",
       "2678     1423      1     57.67             8.0      2.0\n",
       "2384     1379     11   1019.79            99.0     40.0\n",
       "567      1090     10    480.06            14.0     14.0"
      ]
     },
     "execution_count": 24,
     "metadata": {},
     "output_type": "execute_result"
    }
   ],
   "source": [
    "all_calculations.fillna(0, inplace = True)\n",
    "all_calculations.sample(10)"
   ]
  },
  {
   "cell_type": "markdown",
   "metadata": {},
   "source": [
    "Объединим оставшееся:"
   ]
  },
  {
   "cell_type": "code",
   "execution_count": 25,
   "metadata": {
    "scrolled": false
   },
   "outputs": [
    {
     "data": {
      "text/html": [
       "<div>\n",
       "<style scoped>\n",
       "    .dataframe tbody tr th:only-of-type {\n",
       "        vertical-align: middle;\n",
       "    }\n",
       "\n",
       "    .dataframe tbody tr th {\n",
       "        vertical-align: top;\n",
       "    }\n",
       "\n",
       "    .dataframe thead th {\n",
       "        text-align: right;\n",
       "    }\n",
       "</style>\n",
       "<table border=\"1\" class=\"dataframe\">\n",
       "  <thead>\n",
       "    <tr style=\"text-align: right;\">\n",
       "      <th></th>\n",
       "      <th>user_id</th>\n",
       "      <th>tariff</th>\n",
       "      <th>monthly_fee</th>\n",
       "      <th>month</th>\n",
       "      <th>duration</th>\n",
       "      <th>messages_count</th>\n",
       "      <th>gb_used</th>\n",
       "    </tr>\n",
       "  </thead>\n",
       "  <tbody>\n",
       "    <tr>\n",
       "      <td>0</td>\n",
       "      <td>1000</td>\n",
       "      <td>ultra</td>\n",
       "      <td>1950</td>\n",
       "      <td>5</td>\n",
       "      <td>151</td>\n",
       "      <td>22.0</td>\n",
       "      <td>3.0</td>\n",
       "    </tr>\n",
       "    <tr>\n",
       "      <td>1</td>\n",
       "      <td>1000</td>\n",
       "      <td>ultra</td>\n",
       "      <td>1950</td>\n",
       "      <td>6</td>\n",
       "      <td>159</td>\n",
       "      <td>60.0</td>\n",
       "      <td>23.0</td>\n",
       "    </tr>\n",
       "    <tr>\n",
       "      <td>2</td>\n",
       "      <td>1000</td>\n",
       "      <td>ultra</td>\n",
       "      <td>1950</td>\n",
       "      <td>7</td>\n",
       "      <td>319</td>\n",
       "      <td>75.0</td>\n",
       "      <td>14.0</td>\n",
       "    </tr>\n",
       "    <tr>\n",
       "      <td>3</td>\n",
       "      <td>1000</td>\n",
       "      <td>ultra</td>\n",
       "      <td>1950</td>\n",
       "      <td>8</td>\n",
       "      <td>390</td>\n",
       "      <td>81.0</td>\n",
       "      <td>14.0</td>\n",
       "    </tr>\n",
       "    <tr>\n",
       "      <td>4</td>\n",
       "      <td>1000</td>\n",
       "      <td>ultra</td>\n",
       "      <td>1950</td>\n",
       "      <td>9</td>\n",
       "      <td>441</td>\n",
       "      <td>57.0</td>\n",
       "      <td>15.0</td>\n",
       "    </tr>\n",
       "    <tr>\n",
       "      <td>...</td>\n",
       "      <td>...</td>\n",
       "      <td>...</td>\n",
       "      <td>...</td>\n",
       "      <td>...</td>\n",
       "      <td>...</td>\n",
       "      <td>...</td>\n",
       "      <td>...</td>\n",
       "    </tr>\n",
       "    <tr>\n",
       "      <td>3209</td>\n",
       "      <td>1498</td>\n",
       "      <td>smart</td>\n",
       "      <td>550</td>\n",
       "      <td>10</td>\n",
       "      <td>233</td>\n",
       "      <td>42.0</td>\n",
       "      <td>21.0</td>\n",
       "    </tr>\n",
       "    <tr>\n",
       "      <td>3210</td>\n",
       "      <td>1499</td>\n",
       "      <td>smart</td>\n",
       "      <td>550</td>\n",
       "      <td>9</td>\n",
       "      <td>65</td>\n",
       "      <td>11.0</td>\n",
       "      <td>2.0</td>\n",
       "    </tr>\n",
       "    <tr>\n",
       "      <td>3211</td>\n",
       "      <td>1499</td>\n",
       "      <td>smart</td>\n",
       "      <td>550</td>\n",
       "      <td>10</td>\n",
       "      <td>430</td>\n",
       "      <td>48.0</td>\n",
       "      <td>18.0</td>\n",
       "    </tr>\n",
       "    <tr>\n",
       "      <td>3212</td>\n",
       "      <td>1499</td>\n",
       "      <td>smart</td>\n",
       "      <td>550</td>\n",
       "      <td>11</td>\n",
       "      <td>577</td>\n",
       "      <td>59.0</td>\n",
       "      <td>18.0</td>\n",
       "    </tr>\n",
       "    <tr>\n",
       "      <td>3213</td>\n",
       "      <td>1499</td>\n",
       "      <td>smart</td>\n",
       "      <td>550</td>\n",
       "      <td>12</td>\n",
       "      <td>466</td>\n",
       "      <td>66.0</td>\n",
       "      <td>13.0</td>\n",
       "    </tr>\n",
       "  </tbody>\n",
       "</table>\n",
       "<p>3214 rows × 7 columns</p>\n",
       "</div>"
      ],
      "text/plain": [
       "      user_id tariff  monthly_fee  month  duration  messages_count  gb_used\n",
       "0        1000  ultra         1950      5       151            22.0      3.0\n",
       "1        1000  ultra         1950      6       159            60.0     23.0\n",
       "2        1000  ultra         1950      7       319            75.0     14.0\n",
       "3        1000  ultra         1950      8       390            81.0     14.0\n",
       "4        1000  ultra         1950      9       441            57.0     15.0\n",
       "...       ...    ...          ...    ...       ...             ...      ...\n",
       "3209     1498  smart          550     10       233            42.0     21.0\n",
       "3210     1499  smart          550      9        65            11.0      2.0\n",
       "3211     1499  smart          550     10       430            48.0     18.0\n",
       "3212     1499  smart          550     11       577            59.0     18.0\n",
       "3213     1499  smart          550     12       466            66.0     13.0\n",
       "\n",
       "[3214 rows x 7 columns]"
      ]
     },
     "execution_count": 25,
     "metadata": {},
     "output_type": "execute_result"
    }
   ],
   "source": [
    "proceeds = proceeds.merge(all_calculations, how = 'right', on = ['user_id'])\n",
    "proceeds['duration'] = proceeds['duration'].apply(np.ceil).astype('int64') #добавил округление после окончательной группировки\n",
    "proceeds"
   ]
  },
  {
   "cell_type": "markdown",
   "metadata": {},
   "source": [
    "Рассчитаем переплату за минуты, сообщения и гигабайты, когда пользователь вышел за лимит, входящий в абонентскую плату, добавив новые столбцы с этими расчетами. "
   ]
  },
  {
   "cell_type": "markdown",
   "metadata": {},
   "source": [
    "По минутам:"
   ]
  },
  {
   "cell_type": "code",
   "execution_count": 26,
   "metadata": {
    "scrolled": false
   },
   "outputs": [
    {
     "data": {
      "text/html": [
       "<div>\n",
       "<style scoped>\n",
       "    .dataframe tbody tr th:only-of-type {\n",
       "        vertical-align: middle;\n",
       "    }\n",
       "\n",
       "    .dataframe tbody tr th {\n",
       "        vertical-align: top;\n",
       "    }\n",
       "\n",
       "    .dataframe thead th {\n",
       "        text-align: right;\n",
       "    }\n",
       "</style>\n",
       "<table border=\"1\" class=\"dataframe\">\n",
       "  <thead>\n",
       "    <tr style=\"text-align: right;\">\n",
       "      <th></th>\n",
       "      <th>user_id</th>\n",
       "      <th>tariff</th>\n",
       "      <th>monthly_fee</th>\n",
       "      <th>month</th>\n",
       "      <th>duration</th>\n",
       "      <th>messages_count</th>\n",
       "      <th>gb_used</th>\n",
       "      <th>add_duration_fee</th>\n",
       "    </tr>\n",
       "  </thead>\n",
       "  <tbody>\n",
       "    <tr>\n",
       "      <td>332</td>\n",
       "      <td>1054</td>\n",
       "      <td>smart</td>\n",
       "      <td>550</td>\n",
       "      <td>4</td>\n",
       "      <td>532</td>\n",
       "      <td>54.0</td>\n",
       "      <td>17.0</td>\n",
       "      <td>96</td>\n",
       "    </tr>\n",
       "    <tr>\n",
       "      <td>3080</td>\n",
       "      <td>1477</td>\n",
       "      <td>smart</td>\n",
       "      <td>550</td>\n",
       "      <td>11</td>\n",
       "      <td>494</td>\n",
       "      <td>71.0</td>\n",
       "      <td>28.0</td>\n",
       "      <td>0</td>\n",
       "    </tr>\n",
       "    <tr>\n",
       "      <td>746</td>\n",
       "      <td>1117</td>\n",
       "      <td>smart</td>\n",
       "      <td>550</td>\n",
       "      <td>12</td>\n",
       "      <td>270</td>\n",
       "      <td>0.0</td>\n",
       "      <td>12.0</td>\n",
       "      <td>0</td>\n",
       "    </tr>\n",
       "    <tr>\n",
       "      <td>3183</td>\n",
       "      <td>1494</td>\n",
       "      <td>smart</td>\n",
       "      <td>550</td>\n",
       "      <td>10</td>\n",
       "      <td>331</td>\n",
       "      <td>0.0</td>\n",
       "      <td>18.0</td>\n",
       "      <td>0</td>\n",
       "    </tr>\n",
       "    <tr>\n",
       "      <td>2746</td>\n",
       "      <td>1427</td>\n",
       "      <td>smart</td>\n",
       "      <td>550</td>\n",
       "      <td>9</td>\n",
       "      <td>529</td>\n",
       "      <td>12.0</td>\n",
       "      <td>14.0</td>\n",
       "      <td>87</td>\n",
       "    </tr>\n",
       "    <tr>\n",
       "      <td>804</td>\n",
       "      <td>1125</td>\n",
       "      <td>smart</td>\n",
       "      <td>550</td>\n",
       "      <td>11</td>\n",
       "      <td>372</td>\n",
       "      <td>7.0</td>\n",
       "      <td>15.0</td>\n",
       "      <td>0</td>\n",
       "    </tr>\n",
       "    <tr>\n",
       "      <td>2559</td>\n",
       "      <td>1400</td>\n",
       "      <td>smart</td>\n",
       "      <td>550</td>\n",
       "      <td>8</td>\n",
       "      <td>188</td>\n",
       "      <td>9.0</td>\n",
       "      <td>8.0</td>\n",
       "      <td>0</td>\n",
       "    </tr>\n",
       "    <tr>\n",
       "      <td>1631</td>\n",
       "      <td>1257</td>\n",
       "      <td>ultra</td>\n",
       "      <td>1950</td>\n",
       "      <td>8</td>\n",
       "      <td>0</td>\n",
       "      <td>157.0</td>\n",
       "      <td>25.0</td>\n",
       "      <td>0</td>\n",
       "    </tr>\n",
       "    <tr>\n",
       "      <td>1001</td>\n",
       "      <td>1157</td>\n",
       "      <td>smart</td>\n",
       "      <td>550</td>\n",
       "      <td>9</td>\n",
       "      <td>512</td>\n",
       "      <td>0.0</td>\n",
       "      <td>20.0</td>\n",
       "      <td>36</td>\n",
       "    </tr>\n",
       "    <tr>\n",
       "      <td>2398</td>\n",
       "      <td>1378</td>\n",
       "      <td>smart</td>\n",
       "      <td>550</td>\n",
       "      <td>1</td>\n",
       "      <td>216</td>\n",
       "      <td>6.0</td>\n",
       "      <td>5.0</td>\n",
       "      <td>0</td>\n",
       "    </tr>\n",
       "  </tbody>\n",
       "</table>\n",
       "</div>"
      ],
      "text/plain": [
       "      user_id tariff  monthly_fee  month  duration  messages_count  gb_used  \\\n",
       "332      1054  smart          550      4       532            54.0     17.0   \n",
       "3080     1477  smart          550     11       494            71.0     28.0   \n",
       "746      1117  smart          550     12       270             0.0     12.0   \n",
       "3183     1494  smart          550     10       331             0.0     18.0   \n",
       "2746     1427  smart          550      9       529            12.0     14.0   \n",
       "804      1125  smart          550     11       372             7.0     15.0   \n",
       "2559     1400  smart          550      8       188             9.0      8.0   \n",
       "1631     1257  ultra         1950      8         0           157.0     25.0   \n",
       "1001     1157  smart          550      9       512             0.0     20.0   \n",
       "2398     1378  smart          550      1       216             6.0      5.0   \n",
       "\n",
       "      add_duration_fee  \n",
       "332                 96  \n",
       "3080                 0  \n",
       "746                  0  \n",
       "3183                 0  \n",
       "2746                87  \n",
       "804                  0  \n",
       "2559                 0  \n",
       "1631                 0  \n",
       "1001                36  \n",
       "2398                 0  "
      ]
     },
     "execution_count": 26,
     "metadata": {},
     "output_type": "execute_result"
    }
   ],
   "source": [
    "def add_duration_fee(row):\n",
    "    duration = row['duration']\n",
    "    tariff = row['tariff']\n",
    "    free_mins_smart = tariffs.loc[tariffs['tariff_name'] == 'smart', 'minutes_included'].values[0]\n",
    "    free_mins_ultra = tariffs.loc[tariffs['tariff_name'] == 'ultra', 'minutes_included'].values[0]\n",
    "    fix_mins_smart = tariffs.loc[tariffs['tariff_name'] == 'smart', 'rub_per_minute'].values[0]\n",
    "    fix_mins_ultra = tariffs.loc[tariffs['tariff_name'] == 'ultra', 'rub_per_minute'].values[0]\n",
    "    add_duration_fee = 0\n",
    "    if row['tariff'] == 'smart':\n",
    "        add_duration_fee = max(duration - free_mins_smart, 0) * fix_mins_smart\n",
    "        return add_duration_fee\n",
    "    else:\n",
    "        add_duration_fee = max(duration - free_mins_ultra, 0) * fix_mins_ultra\n",
    "        return add_duration_fee\n",
    "\n",
    "proceeds['add_duration_fee'] = proceeds.apply(add_duration_fee, axis = 1)\n",
    "proceeds.sample(10)"
   ]
  },
  {
   "cell_type": "markdown",
   "metadata": {},
   "source": [
    "По сообщениям:"
   ]
  },
  {
   "cell_type": "code",
   "execution_count": 27,
   "metadata": {
    "scrolled": true
   },
   "outputs": [
    {
     "data": {
      "text/html": [
       "<div>\n",
       "<style scoped>\n",
       "    .dataframe tbody tr th:only-of-type {\n",
       "        vertical-align: middle;\n",
       "    }\n",
       "\n",
       "    .dataframe tbody tr th {\n",
       "        vertical-align: top;\n",
       "    }\n",
       "\n",
       "    .dataframe thead th {\n",
       "        text-align: right;\n",
       "    }\n",
       "</style>\n",
       "<table border=\"1\" class=\"dataframe\">\n",
       "  <thead>\n",
       "    <tr style=\"text-align: right;\">\n",
       "      <th></th>\n",
       "      <th>user_id</th>\n",
       "      <th>tariff</th>\n",
       "      <th>monthly_fee</th>\n",
       "      <th>month</th>\n",
       "      <th>duration</th>\n",
       "      <th>messages_count</th>\n",
       "      <th>gb_used</th>\n",
       "      <th>add_duration_fee</th>\n",
       "      <th>add_messages_fee</th>\n",
       "    </tr>\n",
       "  </thead>\n",
       "  <tbody>\n",
       "    <tr>\n",
       "      <td>2093</td>\n",
       "      <td>1330</td>\n",
       "      <td>ultra</td>\n",
       "      <td>1950</td>\n",
       "      <td>7</td>\n",
       "      <td>620</td>\n",
       "      <td>76.0</td>\n",
       "      <td>28.0</td>\n",
       "      <td>0</td>\n",
       "      <td>0.0</td>\n",
       "    </tr>\n",
       "    <tr>\n",
       "      <td>1650</td>\n",
       "      <td>1262</td>\n",
       "      <td>smart</td>\n",
       "      <td>550</td>\n",
       "      <td>5</td>\n",
       "      <td>398</td>\n",
       "      <td>50.0</td>\n",
       "      <td>23.0</td>\n",
       "      <td>0</td>\n",
       "      <td>0.0</td>\n",
       "    </tr>\n",
       "    <tr>\n",
       "      <td>1892</td>\n",
       "      <td>1298</td>\n",
       "      <td>smart</td>\n",
       "      <td>550</td>\n",
       "      <td>12</td>\n",
       "      <td>597</td>\n",
       "      <td>38.0</td>\n",
       "      <td>26.0</td>\n",
       "      <td>291</td>\n",
       "      <td>0.0</td>\n",
       "    </tr>\n",
       "    <tr>\n",
       "      <td>1817</td>\n",
       "      <td>1286</td>\n",
       "      <td>smart</td>\n",
       "      <td>550</td>\n",
       "      <td>11</td>\n",
       "      <td>43</td>\n",
       "      <td>12.0</td>\n",
       "      <td>5.0</td>\n",
       "      <td>0</td>\n",
       "      <td>0.0</td>\n",
       "    </tr>\n",
       "    <tr>\n",
       "      <td>1051</td>\n",
       "      <td>1167</td>\n",
       "      <td>ultra</td>\n",
       "      <td>1950</td>\n",
       "      <td>9</td>\n",
       "      <td>32</td>\n",
       "      <td>12.0</td>\n",
       "      <td>2.0</td>\n",
       "      <td>0</td>\n",
       "      <td>0.0</td>\n",
       "    </tr>\n",
       "    <tr>\n",
       "      <td>407</td>\n",
       "      <td>1064</td>\n",
       "      <td>smart</td>\n",
       "      <td>550</td>\n",
       "      <td>9</td>\n",
       "      <td>455</td>\n",
       "      <td>33.0</td>\n",
       "      <td>14.0</td>\n",
       "      <td>0</td>\n",
       "      <td>0.0</td>\n",
       "    </tr>\n",
       "    <tr>\n",
       "      <td>2723</td>\n",
       "      <td>1424</td>\n",
       "      <td>ultra</td>\n",
       "      <td>1950</td>\n",
       "      <td>10</td>\n",
       "      <td>27</td>\n",
       "      <td>106.0</td>\n",
       "      <td>30.0</td>\n",
       "      <td>0</td>\n",
       "      <td>0.0</td>\n",
       "    </tr>\n",
       "    <tr>\n",
       "      <td>1897</td>\n",
       "      <td>1299</td>\n",
       "      <td>smart</td>\n",
       "      <td>550</td>\n",
       "      <td>5</td>\n",
       "      <td>497</td>\n",
       "      <td>40.0</td>\n",
       "      <td>16.0</td>\n",
       "      <td>0</td>\n",
       "      <td>0.0</td>\n",
       "    </tr>\n",
       "    <tr>\n",
       "      <td>2609</td>\n",
       "      <td>1407</td>\n",
       "      <td>smart</td>\n",
       "      <td>550</td>\n",
       "      <td>10</td>\n",
       "      <td>377</td>\n",
       "      <td>38.0</td>\n",
       "      <td>15.0</td>\n",
       "      <td>0</td>\n",
       "      <td>0.0</td>\n",
       "    </tr>\n",
       "    <tr>\n",
       "      <td>530</td>\n",
       "      <td>1085</td>\n",
       "      <td>ultra</td>\n",
       "      <td>1950</td>\n",
       "      <td>6</td>\n",
       "      <td>91</td>\n",
       "      <td>0.0</td>\n",
       "      <td>9.0</td>\n",
       "      <td>0</td>\n",
       "      <td>0.0</td>\n",
       "    </tr>\n",
       "  </tbody>\n",
       "</table>\n",
       "</div>"
      ],
      "text/plain": [
       "      user_id tariff  monthly_fee  month  duration  messages_count  gb_used  \\\n",
       "2093     1330  ultra         1950      7       620            76.0     28.0   \n",
       "1650     1262  smart          550      5       398            50.0     23.0   \n",
       "1892     1298  smart          550     12       597            38.0     26.0   \n",
       "1817     1286  smart          550     11        43            12.0      5.0   \n",
       "1051     1167  ultra         1950      9        32            12.0      2.0   \n",
       "407      1064  smart          550      9       455            33.0     14.0   \n",
       "2723     1424  ultra         1950     10        27           106.0     30.0   \n",
       "1897     1299  smart          550      5       497            40.0     16.0   \n",
       "2609     1407  smart          550     10       377            38.0     15.0   \n",
       "530      1085  ultra         1950      6        91             0.0      9.0   \n",
       "\n",
       "      add_duration_fee  add_messages_fee  \n",
       "2093                 0               0.0  \n",
       "1650                 0               0.0  \n",
       "1892               291               0.0  \n",
       "1817                 0               0.0  \n",
       "1051                 0               0.0  \n",
       "407                  0               0.0  \n",
       "2723                 0               0.0  \n",
       "1897                 0               0.0  \n",
       "2609                 0               0.0  \n",
       "530                  0               0.0  "
      ]
     },
     "execution_count": 27,
     "metadata": {},
     "output_type": "execute_result"
    }
   ],
   "source": [
    "def add_messages_fee(row):\n",
    "    messages_count = row['messages_count']\n",
    "    tariff = row['tariff']\n",
    "    free_messages_smart = tariffs.loc[tariffs['tariff_name'] == 'smart', 'messages_included'].values[0]\n",
    "    free_messages_ultra = tariffs.loc[tariffs['tariff_name'] == 'ultra', 'messages_included'].values[0]\n",
    "    fix_messages_smart = tariffs.loc[tariffs['tariff_name'] == 'smart', 'rub_per_message'].values[0]\n",
    "    fix_messages_ultra = tariffs.loc[tariffs['tariff_name'] == 'ultra', 'rub_per_message'].values[0]\n",
    "    add_messages_fee = 0\n",
    "    if row['tariff'] == 'smart':\n",
    "        add_messages_fee = max(messages_count - free_messages_smart, 0) * fix_messages_smart\n",
    "        return add_messages_fee\n",
    "    else:\n",
    "        add_messages_fee=max(messages_count - free_messages_ultra, 0) * fix_messages_ultra\n",
    "        return add_messages_fee\n",
    "\n",
    "proceeds['add_messages_fee'] = proceeds.apply(add_messages_fee, axis = 1)\n",
    "proceeds.sample(10)"
   ]
  },
  {
   "cell_type": "markdown",
   "metadata": {},
   "source": [
    "По гигабайтам:"
   ]
  },
  {
   "cell_type": "code",
   "execution_count": 28,
   "metadata": {
    "scrolled": false
   },
   "outputs": [
    {
     "data": {
      "text/html": [
       "<div>\n",
       "<style scoped>\n",
       "    .dataframe tbody tr th:only-of-type {\n",
       "        vertical-align: middle;\n",
       "    }\n",
       "\n",
       "    .dataframe tbody tr th {\n",
       "        vertical-align: top;\n",
       "    }\n",
       "\n",
       "    .dataframe thead th {\n",
       "        text-align: right;\n",
       "    }\n",
       "</style>\n",
       "<table border=\"1\" class=\"dataframe\">\n",
       "  <thead>\n",
       "    <tr style=\"text-align: right;\">\n",
       "      <th></th>\n",
       "      <th>user_id</th>\n",
       "      <th>tariff</th>\n",
       "      <th>monthly_fee</th>\n",
       "      <th>month</th>\n",
       "      <th>duration</th>\n",
       "      <th>messages_count</th>\n",
       "      <th>gb_used</th>\n",
       "      <th>add_duration_fee</th>\n",
       "      <th>add_messages_fee</th>\n",
       "      <th>add_gb_fee</th>\n",
       "    </tr>\n",
       "  </thead>\n",
       "  <tbody>\n",
       "    <tr>\n",
       "      <td>968</td>\n",
       "      <td>1152</td>\n",
       "      <td>ultra</td>\n",
       "      <td>1950</td>\n",
       "      <td>11</td>\n",
       "      <td>396</td>\n",
       "      <td>0.0</td>\n",
       "      <td>22.0</td>\n",
       "      <td>0</td>\n",
       "      <td>0.0</td>\n",
       "      <td>0.0</td>\n",
       "    </tr>\n",
       "    <tr>\n",
       "      <td>1788</td>\n",
       "      <td>1282</td>\n",
       "      <td>smart</td>\n",
       "      <td>550</td>\n",
       "      <td>9</td>\n",
       "      <td>790</td>\n",
       "      <td>67.0</td>\n",
       "      <td>20.0</td>\n",
       "      <td>870</td>\n",
       "      <td>51.0</td>\n",
       "      <td>1000.0</td>\n",
       "    </tr>\n",
       "    <tr>\n",
       "      <td>1005</td>\n",
       "      <td>1158</td>\n",
       "      <td>smart</td>\n",
       "      <td>550</td>\n",
       "      <td>2</td>\n",
       "      <td>353</td>\n",
       "      <td>55.0</td>\n",
       "      <td>13.0</td>\n",
       "      <td>0</td>\n",
       "      <td>15.0</td>\n",
       "      <td>0.0</td>\n",
       "    </tr>\n",
       "    <tr>\n",
       "      <td>98</td>\n",
       "      <td>1013</td>\n",
       "      <td>ultra</td>\n",
       "      <td>1950</td>\n",
       "      <td>11</td>\n",
       "      <td>350</td>\n",
       "      <td>17.0</td>\n",
       "      <td>10.0</td>\n",
       "      <td>0</td>\n",
       "      <td>0.0</td>\n",
       "      <td>0.0</td>\n",
       "    </tr>\n",
       "    <tr>\n",
       "      <td>614</td>\n",
       "      <td>1097</td>\n",
       "      <td>ultra</td>\n",
       "      <td>1950</td>\n",
       "      <td>10</td>\n",
       "      <td>611</td>\n",
       "      <td>38.0</td>\n",
       "      <td>9.0</td>\n",
       "      <td>0</td>\n",
       "      <td>0.0</td>\n",
       "      <td>0.0</td>\n",
       "    </tr>\n",
       "    <tr>\n",
       "      <td>2079</td>\n",
       "      <td>1327</td>\n",
       "      <td>smart</td>\n",
       "      <td>550</td>\n",
       "      <td>10</td>\n",
       "      <td>285</td>\n",
       "      <td>51.0</td>\n",
       "      <td>17.0</td>\n",
       "      <td>0</td>\n",
       "      <td>3.0</td>\n",
       "      <td>400.0</td>\n",
       "    </tr>\n",
       "    <tr>\n",
       "      <td>1884</td>\n",
       "      <td>1296</td>\n",
       "      <td>smart</td>\n",
       "      <td>550</td>\n",
       "      <td>11</td>\n",
       "      <td>252</td>\n",
       "      <td>40.0</td>\n",
       "      <td>16.0</td>\n",
       "      <td>0</td>\n",
       "      <td>0.0</td>\n",
       "      <td>200.0</td>\n",
       "    </tr>\n",
       "    <tr>\n",
       "      <td>1314</td>\n",
       "      <td>1204</td>\n",
       "      <td>smart</td>\n",
       "      <td>550</td>\n",
       "      <td>10</td>\n",
       "      <td>310</td>\n",
       "      <td>0.0</td>\n",
       "      <td>23.0</td>\n",
       "      <td>0</td>\n",
       "      <td>0.0</td>\n",
       "      <td>1600.0</td>\n",
       "    </tr>\n",
       "    <tr>\n",
       "      <td>541</td>\n",
       "      <td>1086</td>\n",
       "      <td>smart</td>\n",
       "      <td>550</td>\n",
       "      <td>8</td>\n",
       "      <td>533</td>\n",
       "      <td>43.0</td>\n",
       "      <td>16.0</td>\n",
       "      <td>99</td>\n",
       "      <td>0.0</td>\n",
       "      <td>200.0</td>\n",
       "    </tr>\n",
       "    <tr>\n",
       "      <td>1217</td>\n",
       "      <td>1188</td>\n",
       "      <td>smart</td>\n",
       "      <td>550</td>\n",
       "      <td>12</td>\n",
       "      <td>44</td>\n",
       "      <td>8.0</td>\n",
       "      <td>7.0</td>\n",
       "      <td>0</td>\n",
       "      <td>0.0</td>\n",
       "      <td>0.0</td>\n",
       "    </tr>\n",
       "  </tbody>\n",
       "</table>\n",
       "</div>"
      ],
      "text/plain": [
       "      user_id tariff  monthly_fee  month  duration  messages_count  gb_used  \\\n",
       "968      1152  ultra         1950     11       396             0.0     22.0   \n",
       "1788     1282  smart          550      9       790            67.0     20.0   \n",
       "1005     1158  smart          550      2       353            55.0     13.0   \n",
       "98       1013  ultra         1950     11       350            17.0     10.0   \n",
       "614      1097  ultra         1950     10       611            38.0      9.0   \n",
       "2079     1327  smart          550     10       285            51.0     17.0   \n",
       "1884     1296  smart          550     11       252            40.0     16.0   \n",
       "1314     1204  smart          550     10       310             0.0     23.0   \n",
       "541      1086  smart          550      8       533            43.0     16.0   \n",
       "1217     1188  smart          550     12        44             8.0      7.0   \n",
       "\n",
       "      add_duration_fee  add_messages_fee  add_gb_fee  \n",
       "968                  0               0.0         0.0  \n",
       "1788               870              51.0      1000.0  \n",
       "1005                 0              15.0         0.0  \n",
       "98                   0               0.0         0.0  \n",
       "614                  0               0.0         0.0  \n",
       "2079                 0               3.0       400.0  \n",
       "1884                 0               0.0       200.0  \n",
       "1314                 0               0.0      1600.0  \n",
       "541                 99               0.0       200.0  \n",
       "1217                 0               0.0         0.0  "
      ]
     },
     "execution_count": 28,
     "metadata": {},
     "output_type": "execute_result"
    }
   ],
   "source": [
    "def add_gb_fee(row):\n",
    "    traffic = row['gb_used']\n",
    "    tariff = row['tariff']\n",
    "    free_gb_smart = tariffs.loc[tariffs['tariff_name'] == 'smart', 'mb_per_month_included'].values[0] / 1024\n",
    "    free_gb_ultra = tariffs.loc[tariffs['tariff_name'] == 'ultra', 'mb_per_month_included'].values[0] / 1024\n",
    "    fix_gb_smart = tariffs.loc[tariffs['tariff_name'] == 'smart', 'rub_per_gb'].values[0]\n",
    "    fix_gb_ultra = tariffs.loc[tariffs['tariff_name'] == 'ultra', 'rub_per_gb'].values[0]\n",
    "    add_gb_fee = 0\n",
    "    if row['tariff'] == 'smart':\n",
    "        add_gb_fee = max(traffic - free_gb_smart, 0) * fix_gb_smart\n",
    "        return add_gb_fee\n",
    "    else:\n",
    "        add_gb_fee = max(traffic - free_gb_ultra, 0) * fix_gb_ultra\n",
    "        return add_gb_fee\n",
    "\n",
    "proceeds['add_gb_fee'] = proceeds.apply(add_gb_fee, axis = 1)\n",
    "proceeds.sample(10)"
   ]
  },
  {
   "cell_type": "markdown",
   "metadata": {},
   "source": [
    "По всем новым столбцам видим, что сумма ровно та, которую клиент должен был переплатить за перерасход положенного по тарифу. Теперь посчитаем помесячную выручку с каждого пользователя, с учетом помесячной оплаты:"
   ]
  },
  {
   "cell_type": "code",
   "execution_count": 29,
   "metadata": {},
   "outputs": [
    {
     "data": {
      "text/html": [
       "<div>\n",
       "<style scoped>\n",
       "    .dataframe tbody tr th:only-of-type {\n",
       "        vertical-align: middle;\n",
       "    }\n",
       "\n",
       "    .dataframe tbody tr th {\n",
       "        vertical-align: top;\n",
       "    }\n",
       "\n",
       "    .dataframe thead th {\n",
       "        text-align: right;\n",
       "    }\n",
       "</style>\n",
       "<table border=\"1\" class=\"dataframe\">\n",
       "  <thead>\n",
       "    <tr style=\"text-align: right;\">\n",
       "      <th></th>\n",
       "      <th>user_id</th>\n",
       "      <th>tariff</th>\n",
       "      <th>monthly_fee</th>\n",
       "      <th>month</th>\n",
       "      <th>duration</th>\n",
       "      <th>messages_count</th>\n",
       "      <th>gb_used</th>\n",
       "      <th>add_duration_fee</th>\n",
       "      <th>add_messages_fee</th>\n",
       "      <th>add_gb_fee</th>\n",
       "      <th>total_fee</th>\n",
       "    </tr>\n",
       "  </thead>\n",
       "  <tbody>\n",
       "    <tr>\n",
       "      <td>7</td>\n",
       "      <td>1000</td>\n",
       "      <td>ultra</td>\n",
       "      <td>1950</td>\n",
       "      <td>12</td>\n",
       "      <td>313</td>\n",
       "      <td>70.0</td>\n",
       "      <td>10.0</td>\n",
       "      <td>0</td>\n",
       "      <td>0.0</td>\n",
       "      <td>0.0</td>\n",
       "      <td>1950.0</td>\n",
       "    </tr>\n",
       "    <tr>\n",
       "      <td>568</td>\n",
       "      <td>1090</td>\n",
       "      <td>ultra</td>\n",
       "      <td>1950</td>\n",
       "      <td>11</td>\n",
       "      <td>561</td>\n",
       "      <td>28.0</td>\n",
       "      <td>22.0</td>\n",
       "      <td>0</td>\n",
       "      <td>0.0</td>\n",
       "      <td>0.0</td>\n",
       "      <td>1950.0</td>\n",
       "    </tr>\n",
       "    <tr>\n",
       "      <td>931</td>\n",
       "      <td>1147</td>\n",
       "      <td>smart</td>\n",
       "      <td>550</td>\n",
       "      <td>11</td>\n",
       "      <td>250</td>\n",
       "      <td>36.0</td>\n",
       "      <td>20.0</td>\n",
       "      <td>0</td>\n",
       "      <td>0.0</td>\n",
       "      <td>1000.0</td>\n",
       "      <td>1550.0</td>\n",
       "    </tr>\n",
       "    <tr>\n",
       "      <td>0</td>\n",
       "      <td>1000</td>\n",
       "      <td>ultra</td>\n",
       "      <td>1950</td>\n",
       "      <td>5</td>\n",
       "      <td>151</td>\n",
       "      <td>22.0</td>\n",
       "      <td>3.0</td>\n",
       "      <td>0</td>\n",
       "      <td>0.0</td>\n",
       "      <td>0.0</td>\n",
       "      <td>1950.0</td>\n",
       "    </tr>\n",
       "    <tr>\n",
       "      <td>2409</td>\n",
       "      <td>1378</td>\n",
       "      <td>smart</td>\n",
       "      <td>550</td>\n",
       "      <td>12</td>\n",
       "      <td>530</td>\n",
       "      <td>7.0</td>\n",
       "      <td>14.0</td>\n",
       "      <td>90</td>\n",
       "      <td>0.0</td>\n",
       "      <td>0.0</td>\n",
       "      <td>640.0</td>\n",
       "    </tr>\n",
       "    <tr>\n",
       "      <td>3129</td>\n",
       "      <td>1483</td>\n",
       "      <td>smart</td>\n",
       "      <td>550</td>\n",
       "      <td>9</td>\n",
       "      <td>606</td>\n",
       "      <td>57.0</td>\n",
       "      <td>23.0</td>\n",
       "      <td>318</td>\n",
       "      <td>21.0</td>\n",
       "      <td>1600.0</td>\n",
       "      <td>2489.0</td>\n",
       "    </tr>\n",
       "    <tr>\n",
       "      <td>1866</td>\n",
       "      <td>1294</td>\n",
       "      <td>ultra</td>\n",
       "      <td>1950</td>\n",
       "      <td>4</td>\n",
       "      <td>193</td>\n",
       "      <td>18.0</td>\n",
       "      <td>21.0</td>\n",
       "      <td>0</td>\n",
       "      <td>0.0</td>\n",
       "      <td>0.0</td>\n",
       "      <td>1950.0</td>\n",
       "    </tr>\n",
       "    <tr>\n",
       "      <td>1276</td>\n",
       "      <td>1199</td>\n",
       "      <td>smart</td>\n",
       "      <td>550</td>\n",
       "      <td>12</td>\n",
       "      <td>837</td>\n",
       "      <td>66.0</td>\n",
       "      <td>11.0</td>\n",
       "      <td>1011</td>\n",
       "      <td>48.0</td>\n",
       "      <td>0.0</td>\n",
       "      <td>1609.0</td>\n",
       "    </tr>\n",
       "    <tr>\n",
       "      <td>1405</td>\n",
       "      <td>1219</td>\n",
       "      <td>smart</td>\n",
       "      <td>550</td>\n",
       "      <td>12</td>\n",
       "      <td>423</td>\n",
       "      <td>8.0</td>\n",
       "      <td>17.0</td>\n",
       "      <td>0</td>\n",
       "      <td>0.0</td>\n",
       "      <td>400.0</td>\n",
       "      <td>950.0</td>\n",
       "    </tr>\n",
       "    <tr>\n",
       "      <td>720</td>\n",
       "      <td>1113</td>\n",
       "      <td>smart</td>\n",
       "      <td>550</td>\n",
       "      <td>8</td>\n",
       "      <td>617</td>\n",
       "      <td>42.0</td>\n",
       "      <td>11.0</td>\n",
       "      <td>351</td>\n",
       "      <td>0.0</td>\n",
       "      <td>0.0</td>\n",
       "      <td>901.0</td>\n",
       "    </tr>\n",
       "  </tbody>\n",
       "</table>\n",
       "</div>"
      ],
      "text/plain": [
       "      user_id tariff  monthly_fee  month  duration  messages_count  gb_used  \\\n",
       "7        1000  ultra         1950     12       313            70.0     10.0   \n",
       "568      1090  ultra         1950     11       561            28.0     22.0   \n",
       "931      1147  smart          550     11       250            36.0     20.0   \n",
       "0        1000  ultra         1950      5       151            22.0      3.0   \n",
       "2409     1378  smart          550     12       530             7.0     14.0   \n",
       "3129     1483  smart          550      9       606            57.0     23.0   \n",
       "1866     1294  ultra         1950      4       193            18.0     21.0   \n",
       "1276     1199  smart          550     12       837            66.0     11.0   \n",
       "1405     1219  smart          550     12       423             8.0     17.0   \n",
       "720      1113  smart          550      8       617            42.0     11.0   \n",
       "\n",
       "      add_duration_fee  add_messages_fee  add_gb_fee  total_fee  \n",
       "7                    0               0.0         0.0     1950.0  \n",
       "568                  0               0.0         0.0     1950.0  \n",
       "931                  0               0.0      1000.0     1550.0  \n",
       "0                    0               0.0         0.0     1950.0  \n",
       "2409                90               0.0         0.0      640.0  \n",
       "3129               318              21.0      1600.0     2489.0  \n",
       "1866                 0               0.0         0.0     1950.0  \n",
       "1276              1011              48.0         0.0     1609.0  \n",
       "1405                 0               0.0       400.0      950.0  \n",
       "720                351               0.0         0.0      901.0  "
      ]
     },
     "execution_count": 29,
     "metadata": {},
     "output_type": "execute_result"
    }
   ],
   "source": [
    "proceeds['total_fee'] = proceeds['monthly_fee'] + proceeds['add_duration_fee'] + proceeds['add_messages_fee'] + proceeds['add_gb_fee']\n",
    "proceeds.sample(10)"
   ]
  },
  {
   "cell_type": "markdown",
   "metadata": {},
   "source": [
    "**Вывод:**\n",
    "\n",
    "Мы произвели необходимые расчеты, затем использовали их для того, чтобы подсчитать переплату клиентов за превышение лимита, предусмотренного по тарифному плану. В итоге это помогло нам объединить переплату с ежемесячной платой по тарифу, чтобы узнать общие затраты клиентов. "
   ]
  },
  {
   "cell_type": "markdown",
   "metadata": {},
   "source": [
    "**Общий вывод:**\n",
    "\n",
    "Как и планировали, исправили все найденные нами ошибки, а также заменили типы данных на правильные и удалили нулевые значения. Затем занялись расчетами и объединением таблиц, что поможет при дальнейшем анализе и проверке гипотез. "
   ]
  },
  {
   "cell_type": "markdown",
   "metadata": {},
   "source": [
    "### 3. Анализ данных"
   ]
  },
  {
   "cell_type": "markdown",
   "metadata": {},
   "source": [
    "Начнем анализ данных. Опишем поведение клиентов оператора, исходя из выборки. Выясним, сколько минут разговора, сколько сообщений и какой объем интернет-трафика требуется пользователям каждого тарифа в месяц. Посчитаем среднее количество, дисперсию и стандартное отклонение. Построим гистограммы и опишем распределения. "
   ]
  },
  {
   "cell_type": "markdown",
   "metadata": {},
   "source": [
    "#### 3.1 Ежемесячное потребление пользователей"
   ]
  },
  {
   "cell_type": "markdown",
   "metadata": {},
   "source": [
    "Посчитаем среднее количество минут, сообщений и интернет-трафика для каждого тарифа в месяц:\n"
   ]
  },
  {
   "cell_type": "code",
   "execution_count": 30,
   "metadata": {
    "scrolled": true
   },
   "outputs": [
    {
     "name": "stdout",
     "output_type": "stream",
     "text": [
      "Среднее количество минут разговора на тарифе «Смарт» в месяц - 73357 , на тарифе «Ультра» - 40840\n",
      "Среднее количество сообщений на тарифе «Смарт» в месяц - 6201 , на тарифе «Ультра» - 4052\n",
      "Средний объем интернет-трафика на тарифе «Смарт» в месяц - 3033 , на тарифе «Ультра» - 1600\n"
     ]
    }
   ],
   "source": [
    "smart = proceeds.query('tariff == \"smart\"')\n",
    "ultra = proceeds.query('tariff == \"ultra\"')\n",
    "print('Среднее количество минут разговора на тарифе «Смарт» в месяц - {:.0f}'.format(smart['duration'].sum() / 12),\n",
    "      ', на тарифе «Ультра» - {:.0f}'.format(ultra['duration'].sum() / 12))\n",
    "print('Среднее количество сообщений на тарифе «Смарт» в месяц - {:.0f}'.format(smart['messages_count'].sum() / 12),\n",
    "      ', на тарифе «Ультра» - {:.0f}'.format(ultra['messages_count'].sum() / 12))\n",
    "print('Средний объем интернет-трафика на тарифе «Смарт» в месяц - {:.0f}'.format(smart['gb_used'].sum() / 12),\n",
    "      ', на тарифе «Ультра» - {:.0f}'.format(ultra['gb_used'].sum() / 12))"
   ]
  },
  {
   "cell_type": "markdown",
   "metadata": {},
   "source": [
    "**Вывод:**\n",
    "\n",
    "По расчетам видно, что пользователи на тарифе «Смарт» используют больше минут, сообщений и гигабайт, по сравнению со вторым тарифом. "
   ]
  },
  {
   "cell_type": "markdown",
   "metadata": {},
   "source": [
    "#### 3.2 Среднее количество, дисперсия и стандартное отклонение"
   ]
  },
  {
   "cell_type": "markdown",
   "metadata": {},
   "source": [
    "Посчитаем среднее количество, дисперсию и стандартное отклонение по каждому тарифу:"
   ]
  },
  {
   "cell_type": "code",
   "execution_count": 31,
   "metadata": {
    "scrolled": false
   },
   "outputs": [
    {
     "data": {
      "text/html": [
       "<div>\n",
       "<style scoped>\n",
       "    .dataframe tbody tr th:only-of-type {\n",
       "        vertical-align: middle;\n",
       "    }\n",
       "\n",
       "    .dataframe tbody tr th {\n",
       "        vertical-align: top;\n",
       "    }\n",
       "\n",
       "    .dataframe thead th {\n",
       "        text-align: right;\n",
       "    }\n",
       "</style>\n",
       "<table border=\"1\" class=\"dataframe\">\n",
       "  <thead>\n",
       "    <tr style=\"text-align: right;\">\n",
       "      <th></th>\n",
       "      <th>tariff</th>\n",
       "      <th>total_fee</th>\n",
       "      <th>variance</th>\n",
       "      <th>std_deviation</th>\n",
       "    </tr>\n",
       "  </thead>\n",
       "  <tbody>\n",
       "    <tr>\n",
       "      <td>0</td>\n",
       "      <td>smart</td>\n",
       "      <td>1257.59</td>\n",
       "      <td>641465.80</td>\n",
       "      <td>800.92</td>\n",
       "    </tr>\n",
       "    <tr>\n",
       "      <td>1</td>\n",
       "      <td>ultra</td>\n",
       "      <td>2070.15</td>\n",
       "      <td>141516.75</td>\n",
       "      <td>376.19</td>\n",
       "    </tr>\n",
       "  </tbody>\n",
       "</table>\n",
       "</div>"
      ],
      "text/plain": [
       "  tariff  total_fee   variance  std_deviation\n",
       "0  smart    1257.59  641465.80         800.92\n",
       "1  ultra    2070.15  141516.75         376.19"
      ]
     },
     "execution_count": 31,
     "metadata": {},
     "output_type": "execute_result"
    }
   ],
   "source": [
    "indicators = proceeds.groupby(['tariff']).agg({'total_fee' : ['mean', lambda x: np.var(x, ddof = 1),\n",
    "                                                              lambda x: np.std(x, ddof = 1)]}).reset_index().round(2)\n",
    "indicators.set_axis(['tariff', 'total_fee', 'variance', 'std_deviation'], axis = 'columns', inplace = True)\n",
    "indicators"
   ]
  },
  {
   "cell_type": "markdown",
   "metadata": {},
   "source": [
    "Построим диаграммы размаха для каждого тарифа горизонтально, чтобы видеть значения в нижней части:"
   ]
  },
  {
   "cell_type": "code",
   "execution_count": 32,
   "metadata": {
    "scrolled": true
   },
   "outputs": [
    {
     "data": {
      "image/png": "[encoded data removed]",
      "text/plain": [
       "<Figure size 432x288 with 1 Axes>"
      ]
     },
     "metadata": {
      "needs_background": "light"
     },
     "output_type": "display_data"
    }
   ],
   "source": [
    "ax = smart[['total_fee']].boxplot(vert = False)\n",
    "ax.set_yticklabels(['Заработок'])\n",
    "plt.show()"
   ]
  },
  {
   "cell_type": "code",
   "execution_count": 33,
   "metadata": {
    "scrolled": true
   },
   "outputs": [
    {
     "data": {
      "image/png": "[encoded data removed]",
      "text/plain": [
       "<Figure size 432x288 with 1 Axes>"
      ]
     },
     "metadata": {
      "needs_background": "light"
     },
     "output_type": "display_data"
    }
   ],
   "source": [
    "ax = ultra[['total_fee']].boxplot(vert = False)\n",
    "ax.set_yticklabels(['Заработок'])\n",
    "plt.show()"
   ]
  },
  {
   "cell_type": "markdown",
   "metadata": {},
   "source": [
    "Рассчитаем максимальные значения с применением правил трёх сигм для обоих тарифов. Все свыше будем считать выбросами и избавимся от них. "
   ]
  },
  {
   "cell_type": "code",
   "execution_count": 34,
   "metadata": {},
   "outputs": [
    {
     "data": {
      "text/plain": [
       "5282.0"
      ]
     },
     "execution_count": 34,
     "metadata": {},
     "output_type": "execute_result"
    }
   ],
   "source": [
    "indicators_smart = smart[['total_fee']].describe().T\n",
    "q1_smart, q2_smart = indicators_smart['25%'][0], indicators_smart['75%'][0]\n",
    "iqr_smart = q2_smart - q1_smart\n",
    "max_value_smart = q2_smart + 3 * iqr_smart\n",
    "max_value_smart"
   ]
  },
  {
   "cell_type": "code",
   "execution_count": 35,
   "metadata": {
    "scrolled": false
   },
   "outputs": [
    {
     "data": {
      "text/html": [
       "<div>\n",
       "<style scoped>\n",
       "    .dataframe tbody tr th:only-of-type {\n",
       "        vertical-align: middle;\n",
       "    }\n",
       "\n",
       "    .dataframe tbody tr th {\n",
       "        vertical-align: top;\n",
       "    }\n",
       "\n",
       "    .dataframe thead th {\n",
       "        text-align: right;\n",
       "    }\n",
       "</style>\n",
       "<table border=\"1\" class=\"dataframe\">\n",
       "  <thead>\n",
       "    <tr style=\"text-align: right;\">\n",
       "      <th></th>\n",
       "      <th>count</th>\n",
       "      <th>mean</th>\n",
       "      <th>std</th>\n",
       "      <th>min</th>\n",
       "      <th>25%</th>\n",
       "      <th>50%</th>\n",
       "      <th>75%</th>\n",
       "      <th>max</th>\n",
       "    </tr>\n",
       "  </thead>\n",
       "  <tbody>\n",
       "    <tr>\n",
       "      <td>total_fee</td>\n",
       "      <td>2229.0</td>\n",
       "      <td>1257.588605</td>\n",
       "      <td>800.915599</td>\n",
       "      <td>550.0</td>\n",
       "      <td>550.0</td>\n",
       "      <td>962.0</td>\n",
       "      <td>1733.0</td>\n",
       "      <td>6614.0</td>\n",
       "    </tr>\n",
       "  </tbody>\n",
       "</table>\n",
       "</div>"
      ],
      "text/plain": [
       "            count         mean         std    min    25%    50%     75%  \\\n",
       "total_fee  2229.0  1257.588605  800.915599  550.0  550.0  962.0  1733.0   \n",
       "\n",
       "              max  \n",
       "total_fee  6614.0  "
      ]
     },
     "execution_count": 35,
     "metadata": {},
     "output_type": "execute_result"
    }
   ],
   "source": [
    "indicators_smart"
   ]
  },
  {
   "cell_type": "code",
   "execution_count": 36,
   "metadata": {},
   "outputs": [
    {
     "data": {
      "text/plain": [
       "1950.0"
      ]
     },
     "execution_count": 36,
     "metadata": {},
     "output_type": "execute_result"
    }
   ],
   "source": [
    "indicators_ultra = ultra[['total_fee']].describe().T\n",
    "q1_ultra, q2_ultra = indicators_ultra['25%'][0], indicators_ultra['75%'][0]\n",
    "iqr_ultra = q2_ultra - q1_ultra\n",
    "max_value_ultra = q2_ultra + 3 * iqr_ultra\n",
    "max_value_ultra"
   ]
  },
  {
   "cell_type": "code",
   "execution_count": 37,
   "metadata": {},
   "outputs": [
    {
     "data": {
      "text/html": [
       "<div>\n",
       "<style scoped>\n",
       "    .dataframe tbody tr th:only-of-type {\n",
       "        vertical-align: middle;\n",
       "    }\n",
       "\n",
       "    .dataframe tbody tr th {\n",
       "        vertical-align: top;\n",
       "    }\n",
       "\n",
       "    .dataframe thead th {\n",
       "        text-align: right;\n",
       "    }\n",
       "</style>\n",
       "<table border=\"1\" class=\"dataframe\">\n",
       "  <thead>\n",
       "    <tr style=\"text-align: right;\">\n",
       "      <th></th>\n",
       "      <th>count</th>\n",
       "      <th>mean</th>\n",
       "      <th>std</th>\n",
       "      <th>min</th>\n",
       "      <th>25%</th>\n",
       "      <th>50%</th>\n",
       "      <th>75%</th>\n",
       "      <th>max</th>\n",
       "    </tr>\n",
       "  </thead>\n",
       "  <tbody>\n",
       "    <tr>\n",
       "      <td>total_fee</td>\n",
       "      <td>985.0</td>\n",
       "      <td>2070.152284</td>\n",
       "      <td>376.187114</td>\n",
       "      <td>1950.0</td>\n",
       "      <td>1950.0</td>\n",
       "      <td>1950.0</td>\n",
       "      <td>1950.0</td>\n",
       "      <td>4800.0</td>\n",
       "    </tr>\n",
       "  </tbody>\n",
       "</table>\n",
       "</div>"
      ],
      "text/plain": [
       "           count         mean         std     min     25%     50%     75%  \\\n",
       "total_fee  985.0  2070.152284  376.187114  1950.0  1950.0  1950.0  1950.0   \n",
       "\n",
       "              max  \n",
       "total_fee  4800.0  "
      ]
     },
     "execution_count": 37,
     "metadata": {},
     "output_type": "execute_result"
    }
   ],
   "source": [
    "indicators_ultra"
   ]
  },
  {
   "cell_type": "markdown",
   "metadata": {},
   "source": [
    "**Вывод:**\n",
    "\n",
    "Мы посчитали среднее количество, дисперсию и стандартное отклонение по каждому тарифу, построили диаграммы размаха и рассчитали максимальные значения с применением правил трёх сигм. "
   ]
  },
  {
   "cell_type": "markdown",
   "metadata": {},
   "source": [
    "#### 3.3 Гистограммы"
   ]
  },
  {
   "cell_type": "markdown",
   "metadata": {},
   "source": [
    "Построим гистограммы по звонкам, сообщениям и интернет-трафику."
   ]
  },
  {
   "cell_type": "markdown",
   "metadata": {},
   "source": [
    "По звонкам:"
   ]
  },
  {
   "cell_type": "code",
   "execution_count": 38,
   "metadata": {
    "scrolled": true
   },
   "outputs": [
    {
     "data": {
      "image/png": "[encoded data removed]",
      "text/plain": [
       "<Figure size 720x360 with 1 Axes>"
      ]
     },
     "metadata": {
      "needs_background": "light"
     },
     "output_type": "display_data"
    }
   ],
   "source": [
    "plt.figure(figsize = (10,5))\n",
    "plt.hist(proceeds.query('tariff == \"smart\"')['duration'], bins = 100, alpha = 0.5, label = 'Тариф «Смарт»', range = (0, 1750))\n",
    "plt.hist(proceeds.query('tariff == \"ultra\"')['duration'], bins = 100, alpha = 0.5, label = 'Тариф «Ультра»', range = (0, 1750))\n",
    "plt.legend(loc = 'best')\n",
    "plt.xlim(left = 0)\n",
    "plt.xlabel('Общая продолжительность звонков, мин.')\n",
    "plt.ylabel('Количество наблюдений, шт.')\n",
    "plt.show()"
   ]
  },
  {
   "cell_type": "markdown",
   "metadata": {},
   "source": [
    "Пиковые значения на нулях - это несостоявшиеся звонки, о которых говорили ранее, их учитывать не будем. Пик на тарифе «Смарт» в районе 580 минут, а на тарифе «Ультра» в районе 520 минут. В основном клиенты тратят на звонки от 200 до 700 минут. В обоих случаях есть большие хвосты вправо, что говорит о том, что основной объем минут находится в левой части, то есть с более низкими значениями."
   ]
  },
  {
   "cell_type": "markdown",
   "metadata": {},
   "source": [
    "По сообщениям:"
   ]
  },
  {
   "cell_type": "code",
   "execution_count": 39,
   "metadata": {
    "scrolled": true
   },
   "outputs": [
    {
     "data": {
      "image/png": "[encoded data removed]",
      "text/plain": [
       "<Figure size 720x360 with 1 Axes>"
      ]
     },
     "metadata": {
      "needs_background": "light"
     },
     "output_type": "display_data"
    }
   ],
   "source": [
    "fig = plt.figure(figsize = (10,5))\n",
    "plt.hist(proceeds.query('tariff == \"smart\"')\n",
    "         ['messages_count'], bins = 100, alpha = 0.5, label = 'Тариф «Смарт»', range = (0, 200))\n",
    "plt.hist(proceeds.query('tariff == \"ultra\"')\n",
    "         ['messages_count'], bins = 100, alpha = 0.5, label = 'Тариф «Ультра»', range = (0, 200))\n",
    "plt.legend(loc = 'best')\n",
    "plt.xlim(left = 0)\n",
    "plt.xlabel('Общее количество сообщений, шт.')\n",
    "plt.ylabel('Количество наблюдений, шт.')\n",
    "plt.show()"
   ]
  },
  {
   "cell_type": "markdown",
   "metadata": {},
   "source": [
    "Пиковые значения на нулях обозначают отсутствие отправленных сообщений клиентами, поэтому их не учитываем. Большая часть клиентов отправляет менее 100 сообщений в месяц. В обоих случаях есть большие хвосты вправо, что говорит о том, что основной объем отправленных сообщений находится в левой части, то есть с более низкими значениями."
   ]
  },
  {
   "cell_type": "markdown",
   "metadata": {},
   "source": [
    "По интернет-трафику:"
   ]
  },
  {
   "cell_type": "code",
   "execution_count": 40,
   "metadata": {
    "scrolled": true
   },
   "outputs": [
    {
     "data": {
      "image/png": "[encoded data removed]",
      "text/plain": [
       "<Figure size 1080x360 with 1 Axes>"
      ]
     },
     "metadata": {
      "needs_background": "light"
     },
     "output_type": "display_data"
    }
   ],
   "source": [
    "fig = plt.figure(figsize = (15,5))\n",
    "plt.hist(proceeds.query('tariff == \"smart\"')['gb_used'], bins = 100, alpha = 0.5, label = 'Тариф «Смарт»')\n",
    "plt.hist(proceeds.query('tariff == \"ultra\"')['gb_used'], bins = 100, alpha = 0.5, label = 'Тариф «Ультра»')\n",
    "plt.legend(loc = 'best')\n",
    "plt.xlim(left = 0)\n",
    "plt.xlabel('Интернет-трафик, гигабайты')\n",
    "plt.ylabel('Количество наблюдений, шт.')\n",
    "plt.show()"
   ]
  },
  {
   "cell_type": "markdown",
   "metadata": {},
   "source": [
    "В этот раз нулевых значений мало. По тарифу «Смарт» пиковое значение на 17 гигабайтах, а по тарифу «Ультра» на 19 гигабайтах. Также заметно, что график интернет-трафика имеет нормальное распределение с минимальным количеством выбросов."
   ]
  },
  {
   "cell_type": "markdown",
   "metadata": {},
   "source": [
    "**Вывод:**\n",
    "\n",
    "Мы построили гистограммы по нужным параметрам и описали распределения. В последнем случае у нас получилась гистограмма с нормальным распределением. "
   ]
  },
  {
   "cell_type": "markdown",
   "metadata": {},
   "source": [
    "**Общий вывод:**\n",
    "\n",
    "В этом шаге мы проанализировали данные. Описали поведение клиентов оператора, исходя из выборки. Выяснили, сколько минут разговора, сколько сообщений и какой объем интернет-трафика требуется пользователям каждого тарифа в месяц. Посчитали среднее количество, дисперсию и стандартное отклонение, а также построили гистограммы и описали распределения. Во всех случаях подтвердилось то, что на тарифе «Смарт» пользователи будто более активные. "
   ]
  },
  {
   "cell_type": "markdown",
   "metadata": {},
   "source": [
    "### 4. Проверка гипотез"
   ]
  },
  {
   "cell_type": "markdown",
   "metadata": {},
   "source": [
    "Проверим гипотезы:\n",
    "\n",
    "- средняя выручка пользователей тарифов «Ультра» и «Смарт» различается;\n",
    "- средняя выручка пользователей из Москвы отличается от выручки пользователей из других регионов.\n",
    "\n",
    "Пороговое значение `alpha` зададим самостоятельно."
   ]
  },
  {
   "cell_type": "markdown",
   "metadata": {},
   "source": [
    "#### 4.1 Проверка гипотезы: cредняя выручка пользователей тарифов «Ультра» и «Смарт» различается"
   ]
  },
  {
   "cell_type": "markdown",
   "metadata": {},
   "source": [
    "Формируем гипотезы:\n",
    "- H0 — cредняя выручка пользователей тарифов «Ультра» и «Смарт» равна;\n",
    "- H1 — cредняя выручка пользователей тарифов «Ультра» и «Смарт» различается.\n",
    "\n",
    "α = 1%"
   ]
  },
  {
   "cell_type": "code",
   "execution_count": 41,
   "metadata": {
    "scrolled": true
   },
   "outputs": [
    {
     "name": "stdout",
     "output_type": "stream",
     "text": [
      "p-значение: 1.513773301175091e-178\n",
      "Отвергаем нулевую гипотезу\n"
     ]
    }
   ],
   "source": [
    "alpha = 0.01 \n",
    "results = st.ttest_ind(smart['total_fee'], ultra['total_fee'])\n",
    "\n",
    "print('p-значение:', results.pvalue)\n",
    "\n",
    "if (results.pvalue < alpha):\n",
    "    print(\"Отвергаем нулевую гипотезу\")\n",
    "else:\n",
    "    print(\"Не получилось отвергнуть нулевую гипотезу\")"
   ]
  },
  {
   "cell_type": "markdown",
   "metadata": {},
   "source": [
    "**Вывод:**\n",
    "\n",
    "Нулевая гипотеза не подтвердилась. Средняя выручка пользователей тарифов «Ультра» и «Смарт» действительно различается. "
   ]
  },
  {
   "cell_type": "markdown",
   "metadata": {},
   "source": [
    "#### 4.2 Проверка гипотезы: средняя выручка пользователей из Москвы отличается от выручки пользователей из других регионов"
   ]
  },
  {
   "cell_type": "markdown",
   "metadata": {},
   "source": [
    "Формируем гипотезы:\n",
    "- H0 — средняя выручка пользователей из Москвы равна средней выручке пользователей из других регионов;\n",
    "- H1 — средняя выручка пользователей из Москвы отличается от средней выручки пользователей из других регионов.\n",
    "\n",
    "α = 1%"
   ]
  },
  {
   "cell_type": "markdown",
   "metadata": {},
   "source": [
    "Добавим столбец с городами в нашу основную таблицу:"
   ]
  },
  {
   "cell_type": "code",
   "execution_count": 42,
   "metadata": {},
   "outputs": [],
   "source": [
    "proceeds = proceeds.merge(users[['user_id', 'city']], on = 'user_id', how = 'left')"
   ]
  },
  {
   "cell_type": "markdown",
   "metadata": {},
   "source": [
    "Теперь сделаем срезы по нужным значениям и затем сразу проверим гипотезу:"
   ]
  },
  {
   "cell_type": "code",
   "execution_count": 43,
   "metadata": {},
   "outputs": [],
   "source": [
    "moscow_customer = proceeds.query('city == \"Москва\"')['total_fee']\n",
    "regions_customer = proceeds.query('city != \"Москва\"')['total_fee']"
   ]
  },
  {
   "cell_type": "code",
   "execution_count": 44,
   "metadata": {
    "scrolled": true
   },
   "outputs": [
    {
     "name": "stdout",
     "output_type": "stream",
     "text": [
      "p-значение: 0.4836504757759247\n",
      "Не получилось отвергнуть нулевую гипотезу\n"
     ]
    }
   ],
   "source": [
    "alpha = 0.01 \n",
    "results = st.ttest_ind(moscow_customer, regions_customer)\n",
    "\n",
    "print('p-значение:', results.pvalue)\n",
    "\n",
    "if (results.pvalue < alpha):\n",
    "    print(\"Отвергаем нулевую гипотезу\")\n",
    "else:\n",
    "    print(\"Не получилось отвергнуть нулевую гипотезу\")"
   ]
  },
  {
   "cell_type": "markdown",
   "metadata": {},
   "source": [
    "**Вывод:**\n",
    "\n",
    "Не получилось отвергнуть нулевую гипотезу. Средняя выручка пользователей из Москвы не отличается от выручки из других регионов. "
   ]
  },
  {
   "cell_type": "markdown",
   "metadata": {},
   "source": [
    "**Общий вывод:**\n",
    "\n",
    "Мы проверили обе гипотезы. Выяснили, что средняя выручка пользователей тарифов «Ультра» и «Смарт» различается, а вот средняя выручка пользователей из Москвы не отличается от выручки из других регионов."
   ]
  },
  {
   "cell_type": "markdown",
   "metadata": {},
   "source": [
    "### 5. Общий вывод"
   ]
  },
  {
   "cell_type": "markdown",
   "metadata": {},
   "source": [
    "**Вывод:**\n",
    "\n",
    "Мы провели объемную работу с полученными файлами и ознакомились с данными в нем. Затем двигались по следующему пути:\n",
    "- нашли и исправили ошибки в данных, а также заменили типы данных на правильные;\n",
    "- посчитали и добавили в таблицу количество сделанных звонков и израсходованных минут разговора по месяцам, количество отправленных сообщений по месяцам, объем израсходованного интернет-трафика по месяцам и помесячную выручку с каждого пользователя;\n",
    "- проанализировали данные, описав поведение клиентов оператора, исходя из выборки. Узнали сколько минут разговора, сколько сообщений и какой объем интернет-трафика требуется пользователям каждого тарифа в месяц. Посчитали среднее количество, дисперсию и стандартное отклонение. Построили гистограммы;\n",
    "- в заключении проверили две гипотезы.\n",
    "\n",
    "Можем подытожить следующим:\n",
    "- если посмотреть на гистограмму, то малое количество пользователей тарифа «Ультра» используют весь лимит гигабайт, а минут и сообщений в принципе никто по максимуму не использует;\n",
    "- у пользователей тарифа «Смарт» наоборот по всем показателям есть превышение лимита по тарифу, поэтому они переплачивают еще сверху;\n",
    "- средняя выручка пользователей тарифов «Ультра» и «Смарт» различается;\n",
    "- средняя выручка пользователей из Москвы не отличается от выручки из других регионов;\n",
    "- самым популярным оказался тариф «Смарт», но самым прибыльным тариф «Ультра», поэтому именно его нужно продвигать менеджерам."
   ]
  }
 ],
 "metadata": {
  "ExecuteTimeLog": [
   {
    "duration": 791,
    "start_time": "2022-01-10T15:06:31.372Z"
   },
   {
    "duration": 5,
    "start_time": "2022-01-10T15:06:42.515Z"
   },
   {
    "duration": 131,
    "start_time": "2022-01-10T15:21:00.398Z"
   },
   {
    "duration": 1200,
    "start_time": "2022-01-10T20:09:43.788Z"
   },
   {
    "duration": 600,
    "start_time": "2022-01-10T20:09:50.417Z"
   },
   {
    "duration": 30,
    "start_time": "2022-01-10T20:09:51.019Z"
   },
   {
    "duration": 41,
    "start_time": "2022-01-10T20:10:12.528Z"
   },
   {
    "duration": 15,
    "start_time": "2022-01-10T20:10:20.239Z"
   },
   {
    "duration": 40,
    "start_time": "2022-01-10T20:10:23.729Z"
   },
   {
    "duration": 31,
    "start_time": "2022-01-10T20:10:31.376Z"
   },
   {
    "duration": 35,
    "start_time": "2022-01-10T20:10:35.666Z"
   },
   {
    "duration": 29,
    "start_time": "2022-01-10T20:10:49.602Z"
   },
   {
    "duration": 3,
    "start_time": "2022-01-10T20:11:56.634Z"
   },
   {
    "duration": 30,
    "start_time": "2022-01-10T20:11:59.938Z"
   },
   {
    "duration": 9,
    "start_time": "2022-01-10T20:12:26.762Z"
   },
   {
    "duration": 412,
    "start_time": "2022-01-10T20:21:28.134Z"
   },
   {
    "duration": 12,
    "start_time": "2022-01-10T20:28:12.865Z"
   },
   {
    "duration": 11,
    "start_time": "2022-01-10T20:28:14.777Z"
   },
   {
    "duration": 12,
    "start_time": "2022-01-10T20:28:16.841Z"
   },
   {
    "duration": 1382,
    "start_time": "2022-01-10T20:28:18.769Z"
   },
   {
    "duration": 8,
    "start_time": "2022-01-10T20:28:39.868Z"
   },
   {
    "duration": 9,
    "start_time": "2022-01-10T20:29:54.209Z"
   },
   {
    "duration": 8,
    "start_time": "2022-01-10T20:30:00.282Z"
   },
   {
    "duration": 7,
    "start_time": "2022-01-10T20:30:07.827Z"
   },
   {
    "duration": 7,
    "start_time": "2022-01-10T20:32:04.835Z"
   },
   {
    "duration": 11,
    "start_time": "2022-01-10T20:32:08.331Z"
   },
   {
    "duration": 11,
    "start_time": "2022-01-10T20:32:14.691Z"
   },
   {
    "duration": 7,
    "start_time": "2022-01-10T20:32:18.099Z"
   },
   {
    "duration": 386,
    "start_time": "2022-01-10T20:33:32.092Z"
   },
   {
    "duration": 10,
    "start_time": "2022-01-10T20:33:36.596Z"
   },
   {
    "duration": 382,
    "start_time": "2022-01-10T20:33:47.244Z"
   },
   {
    "duration": 10,
    "start_time": "2022-01-10T20:33:48.844Z"
   },
   {
    "duration": 10,
    "start_time": "2022-01-10T20:33:50.796Z"
   },
   {
    "duration": 614,
    "start_time": "2022-01-10T20:33:56.805Z"
   },
   {
    "duration": 400,
    "start_time": "2022-01-10T20:33:57.420Z"
   },
   {
    "duration": 17,
    "start_time": "2022-01-10T20:33:57.822Z"
   },
   {
    "duration": 12,
    "start_time": "2022-01-10T20:33:57.840Z"
   },
   {
    "duration": 14,
    "start_time": "2022-01-10T20:33:57.853Z"
   },
   {
    "duration": 10,
    "start_time": "2022-01-10T20:33:57.868Z"
   },
   {
    "duration": 6,
    "start_time": "2022-01-10T20:33:57.880Z"
   },
   {
    "duration": 399,
    "start_time": "2022-01-10T20:34:14.935Z"
   },
   {
    "duration": 11,
    "start_time": "2022-01-10T20:34:16.592Z"
   },
   {
    "duration": 514,
    "start_time": "2022-01-10T20:34:37.135Z"
   },
   {
    "duration": 10,
    "start_time": "2022-01-10T20:34:38.543Z"
   },
   {
    "duration": 13,
    "start_time": "2022-01-10T20:36:28.969Z"
   },
   {
    "duration": 30,
    "start_time": "2022-01-10T20:36:56.257Z"
   },
   {
    "duration": 21,
    "start_time": "2022-01-10T20:37:08.033Z"
   },
   {
    "duration": 25,
    "start_time": "2022-01-10T20:37:14.633Z"
   },
   {
    "duration": 11,
    "start_time": "2022-01-10T20:37:24.353Z"
   },
   {
    "duration": 15,
    "start_time": "2022-01-10T21:33:48.451Z"
   },
   {
    "duration": 14,
    "start_time": "2022-01-10T21:33:55.868Z"
   },
   {
    "duration": 22,
    "start_time": "2022-01-10T21:37:24.487Z"
   },
   {
    "duration": 21,
    "start_time": "2022-01-10T21:38:34.822Z"
   },
   {
    "duration": 20,
    "start_time": "2022-01-10T21:38:37.647Z"
   },
   {
    "duration": 28,
    "start_time": "2022-01-10T21:38:39.223Z"
   },
   {
    "duration": 22,
    "start_time": "2022-01-10T21:38:40.582Z"
   },
   {
    "duration": 26,
    "start_time": "2022-01-10T21:40:10.280Z"
   },
   {
    "duration": 627,
    "start_time": "2022-01-10T21:42:43.457Z"
   },
   {
    "duration": 386,
    "start_time": "2022-01-10T21:42:51.377Z"
   },
   {
    "duration": 503,
    "start_time": "2022-01-11T14:43:10.227Z"
   },
   {
    "duration": 772,
    "start_time": "2022-01-11T14:43:18.020Z"
   },
   {
    "duration": 616,
    "start_time": "2022-01-11T14:43:18.795Z"
   },
   {
    "duration": 36,
    "start_time": "2022-01-11T14:43:19.413Z"
   },
   {
    "duration": 53,
    "start_time": "2022-01-11T14:43:19.452Z"
   },
   {
    "duration": 69,
    "start_time": "2022-01-11T14:43:19.507Z"
   },
   {
    "duration": 37,
    "start_time": "2022-01-11T14:43:19.579Z"
   },
   {
    "duration": 43,
    "start_time": "2022-01-11T14:43:19.618Z"
   },
   {
    "duration": 6,
    "start_time": "2022-01-11T14:43:19.665Z"
   },
   {
    "duration": 23,
    "start_time": "2022-01-11T14:43:27.753Z"
   },
   {
    "duration": 5,
    "start_time": "2022-01-11T14:43:32.288Z"
   },
   {
    "duration": 10,
    "start_time": "2022-01-11T14:47:18.514Z"
   },
   {
    "duration": 16,
    "start_time": "2022-01-11T14:47:34.467Z"
   },
   {
    "duration": 21,
    "start_time": "2022-01-11T14:47:43.203Z"
   },
   {
    "duration": 25,
    "start_time": "2022-01-11T14:47:47.674Z"
   },
   {
    "duration": 22,
    "start_time": "2022-01-11T14:48:22.403Z"
   },
   {
    "duration": 36,
    "start_time": "2022-01-11T14:48:27.155Z"
   },
   {
    "duration": 38,
    "start_time": "2022-01-11T14:48:35.188Z"
   },
   {
    "duration": 1067,
    "start_time": "2022-01-11T14:48:41.719Z"
   },
   {
    "duration": 589,
    "start_time": "2022-01-11T14:48:42.790Z"
   },
   {
    "duration": 50,
    "start_time": "2022-01-11T14:48:43.383Z"
   },
   {
    "duration": 56,
    "start_time": "2022-01-11T14:48:43.436Z"
   },
   {
    "duration": 29,
    "start_time": "2022-01-11T14:48:43.495Z"
   },
   {
    "duration": 68,
    "start_time": "2022-01-11T14:48:43.527Z"
   },
   {
    "duration": 16,
    "start_time": "2022-01-11T14:48:43.597Z"
   },
   {
    "duration": 61,
    "start_time": "2022-01-11T14:48:43.615Z"
   },
   {
    "duration": 4322,
    "start_time": "2022-01-11T14:48:46.179Z"
   },
   {
    "duration": 653,
    "start_time": "2022-01-11T14:48:53.873Z"
   },
   {
    "duration": 4048,
    "start_time": "2022-01-11T14:48:59.779Z"
   },
   {
    "duration": 3563,
    "start_time": "2022-01-11T14:52:03.437Z"
   },
   {
    "duration": 4466,
    "start_time": "2022-01-11T14:52:10.182Z"
   },
   {
    "duration": 780,
    "start_time": "2022-01-11T14:52:26.679Z"
   },
   {
    "duration": 880,
    "start_time": "2022-01-11T14:52:27.462Z"
   },
   {
    "duration": 34,
    "start_time": "2022-01-11T14:52:28.346Z"
   },
   {
    "duration": 49,
    "start_time": "2022-01-11T14:52:28.382Z"
   },
   {
    "duration": 51,
    "start_time": "2022-01-11T14:52:28.434Z"
   },
   {
    "duration": 38,
    "start_time": "2022-01-11T14:52:28.487Z"
   },
   {
    "duration": 45,
    "start_time": "2022-01-11T14:52:28.527Z"
   },
   {
    "duration": 26,
    "start_time": "2022-01-11T14:52:28.574Z"
   },
   {
    "duration": 23,
    "start_time": "2022-01-11T14:52:38.237Z"
   },
   {
    "duration": 24,
    "start_time": "2022-01-11T14:52:41.062Z"
   },
   {
    "duration": 28,
    "start_time": "2022-01-11T14:52:44.510Z"
   },
   {
    "duration": 30,
    "start_time": "2022-01-11T14:52:49.414Z"
   },
   {
    "duration": 744,
    "start_time": "2022-01-11T14:55:05.212Z"
   },
   {
    "duration": 725,
    "start_time": "2022-01-11T14:55:05.960Z"
   },
   {
    "duration": 79,
    "start_time": "2022-01-11T14:55:06.688Z"
   },
   {
    "duration": 96,
    "start_time": "2022-01-11T14:55:06.770Z"
   },
   {
    "duration": 31,
    "start_time": "2022-01-11T14:55:06.868Z"
   },
   {
    "duration": 94,
    "start_time": "2022-01-11T14:55:06.901Z"
   },
   {
    "duration": 68,
    "start_time": "2022-01-11T14:55:06.998Z"
   },
   {
    "duration": 28,
    "start_time": "2022-01-11T14:55:07.069Z"
   },
   {
    "duration": 3944,
    "start_time": "2022-01-11T14:55:10.371Z"
   },
   {
    "duration": 1021,
    "start_time": "2022-01-11T14:55:45.410Z"
   },
   {
    "duration": 1169,
    "start_time": "2022-01-11T14:55:46.435Z"
   },
   {
    "duration": 55,
    "start_time": "2022-01-11T14:55:47.608Z"
   },
   {
    "duration": 44,
    "start_time": "2022-01-11T14:55:47.666Z"
   },
   {
    "duration": 62,
    "start_time": "2022-01-11T14:55:47.712Z"
   },
   {
    "duration": 38,
    "start_time": "2022-01-11T14:55:47.777Z"
   },
   {
    "duration": 45,
    "start_time": "2022-01-11T14:55:47.818Z"
   },
   {
    "duration": 28,
    "start_time": "2022-01-11T14:55:47.867Z"
   },
   {
    "duration": 26,
    "start_time": "2022-01-11T14:55:53.361Z"
   },
   {
    "duration": 38,
    "start_time": "2022-01-11T14:55:55.793Z"
   },
   {
    "duration": 37,
    "start_time": "2022-01-11T14:56:02.089Z"
   },
   {
    "duration": 23,
    "start_time": "2022-01-11T14:56:04.474Z"
   },
   {
    "duration": 24,
    "start_time": "2022-01-11T14:56:05.760Z"
   },
   {
    "duration": 815,
    "start_time": "2022-01-11T14:56:10.895Z"
   },
   {
    "duration": 833,
    "start_time": "2022-01-11T14:56:11.713Z"
   },
   {
    "duration": 43,
    "start_time": "2022-01-11T14:56:12.550Z"
   },
   {
    "duration": 78,
    "start_time": "2022-01-11T14:56:12.597Z"
   },
   {
    "duration": 30,
    "start_time": "2022-01-11T14:56:12.678Z"
   },
   {
    "duration": 78,
    "start_time": "2022-01-11T14:56:12.711Z"
   },
   {
    "duration": 19,
    "start_time": "2022-01-11T14:56:12.792Z"
   },
   {
    "duration": 50,
    "start_time": "2022-01-11T14:56:12.816Z"
   },
   {
    "duration": 24,
    "start_time": "2022-01-11T14:58:50.072Z"
   },
   {
    "duration": 25,
    "start_time": "2022-01-11T14:58:53.352Z"
   },
   {
    "duration": 25,
    "start_time": "2022-01-11T14:58:55.417Z"
   },
   {
    "duration": 9,
    "start_time": "2022-01-11T14:58:58.519Z"
   },
   {
    "duration": 42,
    "start_time": "2022-01-11T15:06:32.492Z"
   },
   {
    "duration": 16,
    "start_time": "2022-01-11T15:10:43.055Z"
   },
   {
    "duration": 41,
    "start_time": "2022-01-11T15:11:47.344Z"
   },
   {
    "duration": 81,
    "start_time": "2022-01-11T15:16:19.410Z"
   },
   {
    "duration": 69,
    "start_time": "2022-01-11T15:16:29.425Z"
   },
   {
    "duration": 55,
    "start_time": "2022-01-11T15:16:38.882Z"
   },
   {
    "duration": 62,
    "start_time": "2022-01-11T15:16:40.569Z"
   },
   {
    "duration": 55,
    "start_time": "2022-01-11T15:16:45.004Z"
   },
   {
    "duration": 44,
    "start_time": "2022-01-11T15:17:23.945Z"
   },
   {
    "duration": 67,
    "start_time": "2022-01-11T15:18:55.203Z"
   },
   {
    "duration": 625,
    "start_time": "2022-01-11T15:19:01.635Z"
   },
   {
    "duration": 434,
    "start_time": "2022-01-11T15:19:05.060Z"
   },
   {
    "duration": 52,
    "start_time": "2022-01-11T15:19:24.090Z"
   },
   {
    "duration": 784,
    "start_time": "2022-01-11T15:19:42.841Z"
   },
   {
    "duration": 530,
    "start_time": "2022-01-11T15:19:43.629Z"
   },
   {
    "duration": 33,
    "start_time": "2022-01-11T15:19:44.162Z"
   },
   {
    "duration": 66,
    "start_time": "2022-01-11T15:19:44.198Z"
   },
   {
    "duration": 31,
    "start_time": "2022-01-11T15:19:44.267Z"
   },
   {
    "duration": 64,
    "start_time": "2022-01-11T15:19:44.301Z"
   },
   {
    "duration": 16,
    "start_time": "2022-01-11T15:19:44.368Z"
   },
   {
    "duration": 9,
    "start_time": "2022-01-11T15:19:44.388Z"
   },
   {
    "duration": 75,
    "start_time": "2022-01-11T15:19:44.399Z"
   },
   {
    "duration": 26,
    "start_time": "2022-01-11T15:19:44.476Z"
   },
   {
    "duration": 85,
    "start_time": "2022-01-11T15:19:44.504Z"
   },
   {
    "duration": 24,
    "start_time": "2022-01-11T15:20:15.303Z"
   },
   {
    "duration": 78,
    "start_time": "2022-01-11T15:20:18.951Z"
   },
   {
    "duration": 86,
    "start_time": "2022-01-11T15:20:23.743Z"
   },
   {
    "duration": 512,
    "start_time": "2022-01-11T15:20:32.007Z"
   },
   {
    "duration": 762,
    "start_time": "2022-01-11T15:20:37.658Z"
   },
   {
    "duration": 561,
    "start_time": "2022-01-11T15:20:38.423Z"
   },
   {
    "duration": 32,
    "start_time": "2022-01-11T15:20:38.988Z"
   },
   {
    "duration": 58,
    "start_time": "2022-01-11T15:20:39.024Z"
   },
   {
    "duration": 32,
    "start_time": "2022-01-11T15:20:39.085Z"
   },
   {
    "duration": 66,
    "start_time": "2022-01-11T15:20:39.119Z"
   },
   {
    "duration": 19,
    "start_time": "2022-01-11T15:20:39.187Z"
   },
   {
    "duration": 9,
    "start_time": "2022-01-11T15:20:39.209Z"
   },
   {
    "duration": 75,
    "start_time": "2022-01-11T15:20:39.222Z"
   },
   {
    "duration": 58,
    "start_time": "2022-01-11T15:20:39.301Z"
   },
   {
    "duration": 102,
    "start_time": "2022-01-11T15:20:39.362Z"
   },
   {
    "duration": 400,
    "start_time": "2022-01-11T20:12:32.533Z"
   },
   {
    "duration": 739,
    "start_time": "2022-01-11T20:12:51.382Z"
   },
   {
    "duration": 546,
    "start_time": "2022-01-11T20:12:52.123Z"
   },
   {
    "duration": 35,
    "start_time": "2022-01-11T20:12:52.672Z"
   },
   {
    "duration": 63,
    "start_time": "2022-01-11T20:12:52.710Z"
   },
   {
    "duration": 31,
    "start_time": "2022-01-11T20:12:52.775Z"
   },
   {
    "duration": 60,
    "start_time": "2022-01-11T20:12:52.809Z"
   },
   {
    "duration": 16,
    "start_time": "2022-01-11T20:12:52.872Z"
   },
   {
    "duration": 9,
    "start_time": "2022-01-11T20:12:52.891Z"
   },
   {
    "duration": 78,
    "start_time": "2022-01-11T20:12:52.902Z"
   },
   {
    "duration": 25,
    "start_time": "2022-01-11T20:12:52.982Z"
   },
   {
    "duration": 82,
    "start_time": "2022-01-11T20:12:53.009Z"
   },
   {
    "duration": 12,
    "start_time": "2022-01-11T20:12:53.093Z"
   },
   {
    "duration": 406,
    "start_time": "2022-01-11T20:13:01.037Z"
   },
   {
    "duration": 4,
    "start_time": "2022-01-11T20:13:22.637Z"
   },
   {
    "duration": 792,
    "start_time": "2022-01-11T20:13:28.562Z"
   },
   {
    "duration": 558,
    "start_time": "2022-01-11T20:13:29.357Z"
   },
   {
    "duration": 70,
    "start_time": "2022-01-11T20:13:29.918Z"
   },
   {
    "duration": 94,
    "start_time": "2022-01-11T20:13:29.991Z"
   },
   {
    "duration": 83,
    "start_time": "2022-01-11T20:13:30.087Z"
   },
   {
    "duration": 95,
    "start_time": "2022-01-11T20:13:30.172Z"
   },
   {
    "duration": 16,
    "start_time": "2022-01-11T20:13:30.269Z"
   },
   {
    "duration": 15,
    "start_time": "2022-01-11T20:13:30.288Z"
   },
   {
    "duration": 103,
    "start_time": "2022-01-11T20:13:30.305Z"
   },
   {
    "duration": 73,
    "start_time": "2022-01-11T20:13:30.411Z"
   },
   {
    "duration": 112,
    "start_time": "2022-01-11T20:13:30.487Z"
   },
   {
    "duration": 64,
    "start_time": "2022-01-11T20:13:30.601Z"
   },
   {
    "duration": 29,
    "start_time": "2022-01-11T20:13:30.668Z"
   },
   {
    "duration": 13,
    "start_time": "2022-01-11T20:13:38.360Z"
   },
   {
    "duration": 11,
    "start_time": "2022-01-11T20:17:14.979Z"
   },
   {
    "duration": 712,
    "start_time": "2022-01-11T20:17:27.211Z"
   },
   {
    "duration": 885,
    "start_time": "2022-01-11T20:17:27.926Z"
   },
   {
    "duration": 40,
    "start_time": "2022-01-11T20:17:28.818Z"
   },
   {
    "duration": 64,
    "start_time": "2022-01-11T20:17:28.863Z"
   },
   {
    "duration": 55,
    "start_time": "2022-01-11T20:17:28.929Z"
   },
   {
    "duration": 36,
    "start_time": "2022-01-11T20:17:28.986Z"
   },
   {
    "duration": 44,
    "start_time": "2022-01-11T20:17:29.026Z"
   },
   {
    "duration": 9,
    "start_time": "2022-01-11T20:17:29.073Z"
   },
   {
    "duration": 47,
    "start_time": "2022-01-11T20:17:29.084Z"
   },
   {
    "duration": 50,
    "start_time": "2022-01-11T20:17:29.134Z"
   },
   {
    "duration": 80,
    "start_time": "2022-01-11T20:17:29.187Z"
   },
   {
    "duration": 13,
    "start_time": "2022-01-11T20:17:29.269Z"
   },
   {
    "duration": 7,
    "start_time": "2022-01-11T20:17:29.284Z"
   },
   {
    "duration": 12,
    "start_time": "2022-01-11T20:17:29.293Z"
   },
   {
    "duration": 8,
    "start_time": "2022-01-11T20:34:36.985Z"
   },
   {
    "duration": 35,
    "start_time": "2022-01-11T20:34:55.098Z"
   },
   {
    "duration": 1114,
    "start_time": "2022-01-12T12:41:28.303Z"
   },
   {
    "duration": 754,
    "start_time": "2022-01-12T12:41:29.420Z"
   },
   {
    "duration": 38,
    "start_time": "2022-01-12T12:41:30.186Z"
   },
   {
    "duration": 73,
    "start_time": "2022-01-12T12:41:30.226Z"
   },
   {
    "duration": 61,
    "start_time": "2022-01-12T12:41:30.302Z"
   },
   {
    "duration": 94,
    "start_time": "2022-01-12T12:41:30.366Z"
   },
   {
    "duration": 21,
    "start_time": "2022-01-12T12:41:30.464Z"
   },
   {
    "duration": 21,
    "start_time": "2022-01-12T12:41:30.488Z"
   },
   {
    "duration": 164,
    "start_time": "2022-01-12T12:41:30.511Z"
   },
   {
    "duration": 82,
    "start_time": "2022-01-12T12:41:30.678Z"
   },
   {
    "duration": 133,
    "start_time": "2022-01-12T12:41:30.763Z"
   },
   {
    "duration": 76,
    "start_time": "2022-01-12T12:41:30.899Z"
   },
   {
    "duration": 27,
    "start_time": "2022-01-12T12:41:34.834Z"
   },
   {
    "duration": 20,
    "start_time": "2022-01-12T12:41:38.510Z"
   },
   {
    "duration": 21,
    "start_time": "2022-01-12T12:41:40.715Z"
   },
   {
    "duration": 21,
    "start_time": "2022-01-12T12:41:42.106Z"
   },
   {
    "duration": 24,
    "start_time": "2022-01-12T12:41:44.690Z"
   },
   {
    "duration": 37,
    "start_time": "2022-01-12T12:41:53.394Z"
   },
   {
    "duration": 26,
    "start_time": "2022-01-12T12:41:55.770Z"
   },
   {
    "duration": 23,
    "start_time": "2022-01-12T12:41:57.218Z"
   },
   {
    "duration": 22,
    "start_time": "2022-01-12T12:41:58.707Z"
   },
   {
    "duration": 8,
    "start_time": "2022-01-12T12:42:45.147Z"
   },
   {
    "duration": 156,
    "start_time": "2022-01-12T12:44:31.436Z"
   },
   {
    "duration": 61,
    "start_time": "2022-01-12T12:44:42.028Z"
   },
   {
    "duration": 11,
    "start_time": "2022-01-12T12:44:45.922Z"
   },
   {
    "duration": 53,
    "start_time": "2022-01-12T12:44:52.670Z"
   },
   {
    "duration": 486,
    "start_time": "2022-01-12T12:45:30.037Z"
   },
   {
    "duration": 6,
    "start_time": "2022-01-12T12:45:56.387Z"
   },
   {
    "duration": 6,
    "start_time": "2022-01-12T12:46:21.020Z"
   },
   {
    "duration": 5,
    "start_time": "2022-01-12T13:34:09.811Z"
   },
   {
    "duration": 8,
    "start_time": "2022-01-12T13:40:15.127Z"
   },
   {
    "duration": 12,
    "start_time": "2022-01-12T13:47:26.489Z"
   },
   {
    "duration": 385,
    "start_time": "2022-01-12T13:47:41.218Z"
   },
   {
    "duration": 49,
    "start_time": "2022-01-12T13:47:48.618Z"
   },
   {
    "duration": 37,
    "start_time": "2022-01-12T13:48:16.850Z"
   },
   {
    "duration": 11,
    "start_time": "2022-01-12T13:48:18.345Z"
   },
   {
    "duration": 17,
    "start_time": "2022-01-12T13:48:21.650Z"
   },
   {
    "duration": 40,
    "start_time": "2022-01-12T13:49:24.641Z"
   },
   {
    "duration": 33,
    "start_time": "2022-01-12T13:50:23.923Z"
   },
   {
    "duration": 44,
    "start_time": "2022-01-12T14:00:11.255Z"
   },
   {
    "duration": 388,
    "start_time": "2022-01-12T14:00:17.545Z"
   },
   {
    "duration": 391,
    "start_time": "2022-01-12T14:00:25.050Z"
   },
   {
    "duration": 436,
    "start_time": "2022-01-12T14:00:33.985Z"
   },
   {
    "duration": 60,
    "start_time": "2022-01-12T14:00:40.593Z"
   },
   {
    "duration": 43,
    "start_time": "2022-01-12T14:01:17.114Z"
   },
   {
    "duration": 45,
    "start_time": "2022-01-12T14:01:22.409Z"
   },
   {
    "duration": 43,
    "start_time": "2022-01-12T14:02:19.743Z"
   },
   {
    "duration": 42,
    "start_time": "2022-01-12T14:04:51.282Z"
   },
   {
    "duration": 52,
    "start_time": "2022-01-12T14:06:47.700Z"
   },
   {
    "duration": 483,
    "start_time": "2022-01-12T14:07:04.573Z"
   },
   {
    "duration": 532,
    "start_time": "2022-01-12T14:07:11.271Z"
   },
   {
    "duration": 51,
    "start_time": "2022-01-12T14:07:24.016Z"
   },
   {
    "duration": 65,
    "start_time": "2022-01-12T14:07:41.084Z"
   },
   {
    "duration": 25,
    "start_time": "2022-01-12T14:09:28.301Z"
   },
   {
    "duration": 55,
    "start_time": "2022-01-12T14:09:39.214Z"
   },
   {
    "duration": 40,
    "start_time": "2022-01-12T14:09:50.142Z"
   },
   {
    "duration": 55,
    "start_time": "2022-01-12T14:09:51.870Z"
   },
   {
    "duration": 25,
    "start_time": "2022-01-12T14:17:24.118Z"
   },
   {
    "duration": 18,
    "start_time": "2022-01-12T14:17:28.186Z"
   },
   {
    "duration": 41,
    "start_time": "2022-01-12T14:20:31.942Z"
   },
   {
    "duration": 56,
    "start_time": "2022-01-12T14:20:46.423Z"
   },
   {
    "duration": 53,
    "start_time": "2022-01-12T14:20:53.394Z"
   },
   {
    "duration": 27,
    "start_time": "2022-01-12T14:21:24.214Z"
   },
   {
    "duration": 33,
    "start_time": "2022-01-12T14:21:55.494Z"
   },
   {
    "duration": 36,
    "start_time": "2022-01-12T14:22:43.887Z"
   },
   {
    "duration": 53,
    "start_time": "2022-01-12T14:22:49.947Z"
   },
   {
    "duration": 22,
    "start_time": "2022-01-12T14:25:19.565Z"
   },
   {
    "duration": 35,
    "start_time": "2022-01-12T14:25:24.279Z"
   },
   {
    "duration": 22,
    "start_time": "2022-01-12T14:25:29.813Z"
   },
   {
    "duration": 29,
    "start_time": "2022-01-12T14:26:16.093Z"
   },
   {
    "duration": 35,
    "start_time": "2022-01-12T14:26:21.191Z"
   },
   {
    "duration": 29,
    "start_time": "2022-01-12T14:27:48.936Z"
   },
   {
    "duration": 35,
    "start_time": "2022-01-12T14:28:06.791Z"
   },
   {
    "duration": 17,
    "start_time": "2022-01-12T14:31:14.608Z"
   },
   {
    "duration": 568,
    "start_time": "2022-01-12T14:32:19.681Z"
   },
   {
    "duration": 4,
    "start_time": "2022-01-12T14:33:05.617Z"
   },
   {
    "duration": 14,
    "start_time": "2022-01-12T14:33:14.673Z"
   },
   {
    "duration": 799,
    "start_time": "2022-01-12T14:33:35.287Z"
   },
   {
    "duration": 584,
    "start_time": "2022-01-12T14:33:36.090Z"
   },
   {
    "duration": 32,
    "start_time": "2022-01-12T14:33:36.677Z"
   },
   {
    "duration": 57,
    "start_time": "2022-01-12T14:33:36.711Z"
   },
   {
    "duration": 30,
    "start_time": "2022-01-12T14:33:36.770Z"
   },
   {
    "duration": 61,
    "start_time": "2022-01-12T14:33:36.802Z"
   },
   {
    "duration": 16,
    "start_time": "2022-01-12T14:33:36.865Z"
   },
   {
    "duration": 8,
    "start_time": "2022-01-12T14:33:36.885Z"
   },
   {
    "duration": 71,
    "start_time": "2022-01-12T14:33:36.896Z"
   },
   {
    "duration": 26,
    "start_time": "2022-01-12T14:33:36.970Z"
   },
   {
    "duration": 84,
    "start_time": "2022-01-12T14:33:36.998Z"
   },
   {
    "duration": 7,
    "start_time": "2022-01-12T14:33:37.085Z"
   },
   {
    "duration": 32,
    "start_time": "2022-01-12T14:33:37.094Z"
   },
   {
    "duration": 72,
    "start_time": "2022-01-12T14:33:37.129Z"
   },
   {
    "duration": 95,
    "start_time": "2022-01-12T14:33:37.204Z"
   },
   {
    "duration": 71,
    "start_time": "2022-01-12T14:33:37.301Z"
   },
   {
    "duration": 32,
    "start_time": "2022-01-12T14:33:37.374Z"
   },
   {
    "duration": 100,
    "start_time": "2022-01-12T14:33:37.460Z"
   },
   {
    "duration": 22,
    "start_time": "2022-01-12T14:33:37.563Z"
   },
   {
    "duration": 85,
    "start_time": "2022-01-12T14:33:37.587Z"
   },
   {
    "duration": 16,
    "start_time": "2022-01-12T14:33:37.674Z"
   },
   {
    "duration": 10,
    "start_time": "2022-01-12T14:34:19.728Z"
   },
   {
    "duration": 477,
    "start_time": "2022-01-12T14:34:27.607Z"
   },
   {
    "duration": 20,
    "start_time": "2022-01-12T14:36:12.184Z"
   },
   {
    "duration": 395,
    "start_time": "2022-01-12T14:49:47.326Z"
   },
   {
    "duration": 791,
    "start_time": "2022-01-12T14:49:59.480Z"
   },
   {
    "duration": 562,
    "start_time": "2022-01-12T14:50:00.274Z"
   },
   {
    "duration": 34,
    "start_time": "2022-01-12T14:50:00.838Z"
   },
   {
    "duration": 42,
    "start_time": "2022-01-12T14:50:00.876Z"
   },
   {
    "duration": 57,
    "start_time": "2022-01-12T14:50:00.921Z"
   },
   {
    "duration": 37,
    "start_time": "2022-01-12T14:50:00.981Z"
   },
   {
    "duration": 42,
    "start_time": "2022-01-12T14:50:01.020Z"
   },
   {
    "duration": 10,
    "start_time": "2022-01-12T14:50:01.066Z"
   },
   {
    "duration": 50,
    "start_time": "2022-01-12T14:50:01.079Z"
   },
   {
    "duration": 51,
    "start_time": "2022-01-12T14:50:01.132Z"
   },
   {
    "duration": 82,
    "start_time": "2022-01-12T14:50:01.185Z"
   },
   {
    "duration": 10,
    "start_time": "2022-01-12T14:50:01.269Z"
   },
   {
    "duration": 34,
    "start_time": "2022-01-12T14:50:01.282Z"
   },
   {
    "duration": 81,
    "start_time": "2022-01-12T14:50:01.319Z"
   },
   {
    "duration": 74,
    "start_time": "2022-01-12T14:50:01.403Z"
   },
   {
    "duration": 20,
    "start_time": "2022-01-12T14:50:01.479Z"
   },
   {
    "duration": 66,
    "start_time": "2022-01-12T14:50:01.501Z"
   },
   {
    "duration": 102,
    "start_time": "2022-01-12T14:50:01.570Z"
   },
   {
    "duration": 22,
    "start_time": "2022-01-12T14:50:01.674Z"
   },
   {
    "duration": 85,
    "start_time": "2022-01-12T14:50:01.699Z"
   },
   {
    "duration": 74,
    "start_time": "2022-01-12T14:50:01.787Z"
   },
   {
    "duration": 539,
    "start_time": "2022-01-12T14:50:01.863Z"
   },
   {
    "duration": 358,
    "start_time": "2022-01-12T14:50:41.226Z"
   },
   {
    "duration": 421,
    "start_time": "2022-01-12T14:51:00.225Z"
   },
   {
    "duration": 455,
    "start_time": "2022-01-12T14:53:52.299Z"
   },
   {
    "duration": 401,
    "start_time": "2022-01-12T14:55:30.427Z"
   },
   {
    "duration": 35,
    "start_time": "2022-01-12T15:05:00.247Z"
   },
   {
    "duration": 28,
    "start_time": "2022-01-12T15:05:39.705Z"
   },
   {
    "duration": 34,
    "start_time": "2022-01-12T15:06:33.458Z"
   },
   {
    "duration": 35,
    "start_time": "2022-01-12T15:07:14.171Z"
   },
   {
    "duration": 19,
    "start_time": "2022-01-12T15:08:33.034Z"
   },
   {
    "duration": 28,
    "start_time": "2022-01-12T15:09:41.299Z"
   },
   {
    "duration": 365,
    "start_time": "2022-01-12T15:25:10.505Z"
   },
   {
    "duration": 10267,
    "start_time": "2022-01-12T15:25:30.706Z"
   },
   {
    "duration": 8693,
    "start_time": "2022-01-12T15:25:54.122Z"
   },
   {
    "duration": 8816,
    "start_time": "2022-01-12T15:26:09.275Z"
   },
   {
    "duration": 8503,
    "start_time": "2022-01-12T15:26:45.971Z"
   },
   {
    "duration": 128,
    "start_time": "2022-01-12T15:26:54.476Z"
   },
   {
    "duration": 9876,
    "start_time": "2022-01-12T15:30:14.940Z"
   },
   {
    "duration": 790,
    "start_time": "2022-01-12T15:30:35.269Z"
   },
   {
    "duration": 542,
    "start_time": "2022-01-12T15:30:36.062Z"
   },
   {
    "duration": 31,
    "start_time": "2022-01-12T15:30:36.607Z"
   },
   {
    "duration": 58,
    "start_time": "2022-01-12T15:30:36.641Z"
   },
   {
    "duration": 31,
    "start_time": "2022-01-12T15:30:36.701Z"
   },
   {
    "duration": 78,
    "start_time": "2022-01-12T15:30:36.734Z"
   },
   {
    "duration": 16,
    "start_time": "2022-01-12T15:30:36.815Z"
   },
   {
    "duration": 10,
    "start_time": "2022-01-12T15:30:36.859Z"
   },
   {
    "duration": 91,
    "start_time": "2022-01-12T15:30:36.873Z"
   },
   {
    "duration": 41,
    "start_time": "2022-01-12T15:30:36.967Z"
   },
   {
    "duration": 106,
    "start_time": "2022-01-12T15:30:37.011Z"
   },
   {
    "duration": 10,
    "start_time": "2022-01-12T15:30:37.120Z"
   },
   {
    "duration": 57,
    "start_time": "2022-01-12T15:30:37.133Z"
   },
   {
    "duration": 79,
    "start_time": "2022-01-12T15:30:37.193Z"
   },
   {
    "duration": 100,
    "start_time": "2022-01-12T15:30:37.275Z"
   },
   {
    "duration": 84,
    "start_time": "2022-01-12T15:30:37.378Z"
   },
   {
    "duration": 96,
    "start_time": "2022-01-12T15:30:37.465Z"
   },
   {
    "duration": 117,
    "start_time": "2022-01-12T15:30:37.563Z"
   },
   {
    "duration": 21,
    "start_time": "2022-01-12T15:30:37.683Z"
   },
   {
    "duration": 91,
    "start_time": "2022-01-12T15:30:37.707Z"
   },
   {
    "duration": 73,
    "start_time": "2022-01-12T15:30:37.800Z"
   },
   {
    "duration": 785,
    "start_time": "2022-01-12T15:30:37.875Z"
   },
   {
    "duration": 34,
    "start_time": "2022-01-12T15:30:38.665Z"
   },
   {
    "duration": 66,
    "start_time": "2022-01-12T15:30:38.702Z"
   },
   {
    "duration": 32,
    "start_time": "2022-01-12T15:30:38.770Z"
   },
   {
    "duration": 9133,
    "start_time": "2022-01-12T15:30:38.860Z"
   },
   {
    "duration": 11138,
    "start_time": "2022-01-12T15:30:47.996Z"
   },
   {
    "duration": 9511,
    "start_time": "2022-01-12T15:34:15.710Z"
   },
   {
    "duration": 9316,
    "start_time": "2022-01-12T15:35:07.946Z"
   },
   {
    "duration": 9003,
    "start_time": "2022-01-12T15:40:49.659Z"
   },
   {
    "duration": 11053,
    "start_time": "2022-01-12T15:41:09.445Z"
   },
   {
    "duration": 9359,
    "start_time": "2022-01-12T15:47:33.974Z"
   },
   {
    "duration": 27,
    "start_time": "2022-01-12T15:47:55.432Z"
   },
   {
    "duration": 25,
    "start_time": "2022-01-12T15:48:10.017Z"
   },
   {
    "duration": 24,
    "start_time": "2022-01-12T15:48:14.113Z"
   },
   {
    "duration": 26,
    "start_time": "2022-01-12T15:48:40.764Z"
   },
   {
    "duration": 26,
    "start_time": "2022-01-12T15:48:50.304Z"
   },
   {
    "duration": 25,
    "start_time": "2022-01-12T15:49:06.624Z"
   },
   {
    "duration": 24,
    "start_time": "2022-01-12T15:49:08.625Z"
   },
   {
    "duration": 199,
    "start_time": "2022-01-12T15:49:25.085Z"
   },
   {
    "duration": 38,
    "start_time": "2022-01-12T15:49:34.496Z"
   },
   {
    "duration": 112,
    "start_time": "2022-01-12T16:12:06.716Z"
   },
   {
    "duration": 8793,
    "start_time": "2022-01-12T16:16:02.045Z"
   },
   {
    "duration": 16,
    "start_time": "2022-01-12T16:16:23.294Z"
   },
   {
    "duration": 31,
    "start_time": "2022-01-12T16:26:32.123Z"
   },
   {
    "duration": 30,
    "start_time": "2022-01-12T16:29:39.572Z"
   },
   {
    "duration": 30,
    "start_time": "2022-01-12T16:30:03.684Z"
   },
   {
    "duration": 30,
    "start_time": "2022-01-12T16:30:17.469Z"
   },
   {
    "duration": 676,
    "start_time": "2022-01-12T16:31:18.870Z"
   },
   {
    "duration": 4,
    "start_time": "2022-01-12T16:31:36.917Z"
   },
   {
    "duration": 895,
    "start_time": "2022-01-12T16:31:47.330Z"
   },
   {
    "duration": 561,
    "start_time": "2022-01-12T16:31:48.229Z"
   },
   {
    "duration": 27,
    "start_time": "2022-01-12T16:31:48.798Z"
   },
   {
    "duration": 63,
    "start_time": "2022-01-12T16:31:48.828Z"
   },
   {
    "duration": 30,
    "start_time": "2022-01-12T16:31:48.893Z"
   },
   {
    "duration": 62,
    "start_time": "2022-01-12T16:31:48.925Z"
   },
   {
    "duration": 16,
    "start_time": "2022-01-12T16:31:48.990Z"
   },
   {
    "duration": 10,
    "start_time": "2022-01-12T16:31:49.009Z"
   },
   {
    "duration": 80,
    "start_time": "2022-01-12T16:31:49.021Z"
   },
   {
    "duration": 27,
    "start_time": "2022-01-12T16:31:49.103Z"
   },
   {
    "duration": 74,
    "start_time": "2022-01-12T16:31:49.132Z"
   },
   {
    "duration": 8,
    "start_time": "2022-01-12T16:31:49.208Z"
   },
   {
    "duration": 49,
    "start_time": "2022-01-12T16:31:49.218Z"
   },
   {
    "duration": 52,
    "start_time": "2022-01-12T16:31:49.269Z"
   },
   {
    "duration": 87,
    "start_time": "2022-01-12T16:31:49.324Z"
   },
   {
    "duration": 22,
    "start_time": "2022-01-12T16:31:49.413Z"
   },
   {
    "duration": 44,
    "start_time": "2022-01-12T16:31:49.437Z"
   },
   {
    "duration": 45,
    "start_time": "2022-01-12T16:31:49.484Z"
   },
   {
    "duration": 46,
    "start_time": "2022-01-12T16:31:49.531Z"
   },
   {
    "duration": 37,
    "start_time": "2022-01-12T16:31:49.579Z"
   },
   {
    "duration": 42,
    "start_time": "2022-01-12T16:31:49.619Z"
   },
   {
    "duration": 415,
    "start_time": "2022-01-12T16:31:49.665Z"
   },
   {
    "duration": 35,
    "start_time": "2022-01-12T16:31:50.083Z"
   },
   {
    "duration": 41,
    "start_time": "2022-01-12T16:31:50.120Z"
   },
   {
    "duration": 27,
    "start_time": "2022-01-12T16:31:50.163Z"
   },
   {
    "duration": 8381,
    "start_time": "2022-01-12T16:31:50.192Z"
   },
   {
    "duration": 8696,
    "start_time": "2022-01-12T16:31:58.575Z"
   },
   {
    "duration": 8227,
    "start_time": "2022-01-12T16:32:07.273Z"
   },
   {
    "duration": 25,
    "start_time": "2022-01-12T16:32:15.503Z"
   },
   {
    "duration": 37,
    "start_time": "2022-01-12T16:32:15.531Z"
   },
   {
    "duration": 27,
    "start_time": "2022-01-12T16:32:15.571Z"
   },
   {
    "duration": 249,
    "start_time": "2022-01-12T16:32:15.600Z"
   },
   {
    "duration": 233,
    "start_time": "2022-01-12T16:33:01.134Z"
   },
   {
    "duration": 192,
    "start_time": "2022-01-12T16:33:06.174Z"
   },
   {
    "duration": 285,
    "start_time": "2022-01-12T16:33:09.951Z"
   },
   {
    "duration": 214,
    "start_time": "2022-01-12T16:36:16.634Z"
   },
   {
    "duration": 232,
    "start_time": "2022-01-12T16:36:32.816Z"
   },
   {
    "duration": 17,
    "start_time": "2022-01-12T16:39:55.370Z"
   },
   {
    "duration": 27,
    "start_time": "2022-01-12T16:40:05.466Z"
   },
   {
    "duration": 17,
    "start_time": "2022-01-12T16:40:07.867Z"
   },
   {
    "duration": 14,
    "start_time": "2022-01-12T16:40:11.634Z"
   },
   {
    "duration": 526,
    "start_time": "2022-01-12T16:41:33.436Z"
   },
   {
    "duration": 894,
    "start_time": "2022-01-12T16:42:16.147Z"
   },
   {
    "duration": 557,
    "start_time": "2022-01-12T16:42:17.045Z"
   },
   {
    "duration": 27,
    "start_time": "2022-01-12T16:42:17.604Z"
   },
   {
    "duration": 52,
    "start_time": "2022-01-12T16:42:17.633Z"
   },
   {
    "duration": 31,
    "start_time": "2022-01-12T16:42:17.687Z"
   },
   {
    "duration": 67,
    "start_time": "2022-01-12T16:42:17.721Z"
   },
   {
    "duration": 18,
    "start_time": "2022-01-12T16:42:17.791Z"
   },
   {
    "duration": 8,
    "start_time": "2022-01-12T16:42:17.815Z"
   },
   {
    "duration": 47,
    "start_time": "2022-01-12T16:42:17.861Z"
   },
   {
    "duration": 25,
    "start_time": "2022-01-12T16:42:17.910Z"
   },
   {
    "duration": 59,
    "start_time": "2022-01-12T16:42:17.959Z"
   },
   {
    "duration": 8,
    "start_time": "2022-01-12T16:42:18.020Z"
   },
   {
    "duration": 51,
    "start_time": "2022-01-12T16:42:18.031Z"
   },
   {
    "duration": 50,
    "start_time": "2022-01-12T16:42:18.085Z"
   },
   {
    "duration": 77,
    "start_time": "2022-01-12T16:42:18.138Z"
   },
   {
    "duration": 20,
    "start_time": "2022-01-12T16:42:18.217Z"
   },
   {
    "duration": 49,
    "start_time": "2022-01-12T16:42:18.239Z"
   },
   {
    "duration": 43,
    "start_time": "2022-01-12T16:42:18.291Z"
   },
   {
    "duration": 22,
    "start_time": "2022-01-12T16:42:18.359Z"
   },
   {
    "duration": 36,
    "start_time": "2022-01-12T16:42:18.383Z"
   },
   {
    "duration": 39,
    "start_time": "2022-01-12T16:42:18.421Z"
   },
   {
    "duration": 432,
    "start_time": "2022-01-12T16:42:18.463Z"
   },
   {
    "duration": 34,
    "start_time": "2022-01-12T16:42:18.900Z"
   },
   {
    "duration": 38,
    "start_time": "2022-01-12T16:42:18.937Z"
   },
   {
    "duration": 38,
    "start_time": "2022-01-12T16:42:18.977Z"
   },
   {
    "duration": 8661,
    "start_time": "2022-01-12T16:42:19.018Z"
   },
   {
    "duration": 8753,
    "start_time": "2022-01-12T16:42:27.682Z"
   },
   {
    "duration": 8592,
    "start_time": "2022-01-12T16:42:36.437Z"
   },
   {
    "duration": 37,
    "start_time": "2022-01-12T16:42:45.031Z"
   },
   {
    "duration": 19,
    "start_time": "2022-01-12T16:42:45.070Z"
   },
   {
    "duration": 32,
    "start_time": "2022-01-12T16:42:45.091Z"
   },
   {
    "duration": 264,
    "start_time": "2022-01-12T16:42:45.126Z"
   },
   {
    "duration": 228,
    "start_time": "2022-01-12T16:42:45.393Z"
   },
   {
    "duration": 17,
    "start_time": "2022-01-12T16:42:45.624Z"
   },
   {
    "duration": 14,
    "start_time": "2022-01-12T16:42:45.659Z"
   },
   {
    "duration": 19,
    "start_time": "2022-01-12T16:42:45.676Z"
   },
   {
    "duration": 14,
    "start_time": "2022-01-12T16:45:29.805Z"
   },
   {
    "duration": 1037,
    "start_time": "2022-01-12T16:50:52.089Z"
   },
   {
    "duration": 1094,
    "start_time": "2022-01-12T16:51:25.346Z"
   },
   {
    "duration": 1018,
    "start_time": "2022-01-12T16:51:48.385Z"
   },
   {
    "duration": 999,
    "start_time": "2022-01-12T16:52:27.834Z"
   },
   {
    "duration": 1374,
    "start_time": "2022-01-12T16:52:46.514Z"
   },
   {
    "duration": 984,
    "start_time": "2022-01-12T17:04:24.303Z"
   },
   {
    "duration": 9887,
    "start_time": "2022-01-12T17:22:22.489Z"
   },
   {
    "duration": 1085,
    "start_time": "2022-01-12T17:22:59.345Z"
   },
   {
    "duration": 1233,
    "start_time": "2022-01-12T17:24:18.457Z"
   },
   {
    "duration": 1139,
    "start_time": "2022-01-12T17:24:46.024Z"
   },
   {
    "duration": 1049,
    "start_time": "2022-01-12T17:28:01.842Z"
   },
   {
    "duration": 1174,
    "start_time": "2022-01-12T17:29:22.751Z"
   },
   {
    "duration": 1148,
    "start_time": "2022-01-12T17:29:26.634Z"
   },
   {
    "duration": 1038,
    "start_time": "2022-01-12T17:29:30.163Z"
   },
   {
    "duration": 1030,
    "start_time": "2022-01-12T17:31:19.508Z"
   },
   {
    "duration": 1230,
    "start_time": "2022-01-12T17:31:38.403Z"
   },
   {
    "duration": 1043,
    "start_time": "2022-01-12T17:32:08.916Z"
   },
   {
    "duration": 1130,
    "start_time": "2022-01-12T17:32:19.116Z"
   },
   {
    "duration": 1029,
    "start_time": "2022-01-12T17:32:29.916Z"
   },
   {
    "duration": 517,
    "start_time": "2022-01-12T17:57:07.463Z"
   },
   {
    "duration": 507,
    "start_time": "2022-01-12T17:57:35.167Z"
   },
   {
    "duration": 1343,
    "start_time": "2022-01-12T17:57:41.870Z"
   },
   {
    "duration": 530,
    "start_time": "2022-01-12T17:57:43.216Z"
   },
   {
    "duration": 27,
    "start_time": "2022-01-12T17:57:43.749Z"
   },
   {
    "duration": 42,
    "start_time": "2022-01-12T17:57:43.779Z"
   },
   {
    "duration": 58,
    "start_time": "2022-01-12T17:57:43.824Z"
   },
   {
    "duration": 35,
    "start_time": "2022-01-12T17:57:43.884Z"
   },
   {
    "duration": 40,
    "start_time": "2022-01-12T17:57:43.922Z"
   },
   {
    "duration": 9,
    "start_time": "2022-01-12T17:57:43.966Z"
   },
   {
    "duration": 57,
    "start_time": "2022-01-12T17:57:43.978Z"
   },
   {
    "duration": 37,
    "start_time": "2022-01-12T17:57:44.037Z"
   },
   {
    "duration": 62,
    "start_time": "2022-01-12T17:57:44.077Z"
   },
   {
    "duration": 22,
    "start_time": "2022-01-12T17:57:44.142Z"
   },
   {
    "duration": 31,
    "start_time": "2022-01-12T17:57:44.167Z"
   },
   {
    "duration": 87,
    "start_time": "2022-01-12T17:57:44.201Z"
   },
   {
    "duration": 74,
    "start_time": "2022-01-12T17:57:44.291Z"
   },
   {
    "duration": 22,
    "start_time": "2022-01-12T17:57:44.368Z"
   },
   {
    "duration": 34,
    "start_time": "2022-01-12T17:57:44.393Z"
   },
   {
    "duration": 50,
    "start_time": "2022-01-12T17:57:44.460Z"
   },
   {
    "duration": 21,
    "start_time": "2022-01-12T17:57:44.512Z"
   },
   {
    "duration": 57,
    "start_time": "2022-01-12T17:57:44.535Z"
   },
   {
    "duration": 21,
    "start_time": "2022-01-12T17:57:44.595Z"
   },
   {
    "duration": 422,
    "start_time": "2022-01-12T17:57:44.619Z"
   },
   {
    "duration": 47,
    "start_time": "2022-01-12T17:57:45.045Z"
   },
   {
    "duration": 17,
    "start_time": "2022-01-12T17:57:45.095Z"
   },
   {
    "duration": 61,
    "start_time": "2022-01-12T17:57:45.115Z"
   },
   {
    "duration": 8513,
    "start_time": "2022-01-12T17:57:45.178Z"
   },
   {
    "duration": 8550,
    "start_time": "2022-01-12T17:57:53.693Z"
   },
   {
    "duration": 8484,
    "start_time": "2022-01-12T17:58:02.246Z"
   },
   {
    "duration": 31,
    "start_time": "2022-01-12T17:58:10.732Z"
   },
   {
    "duration": 16,
    "start_time": "2022-01-12T17:58:10.766Z"
   },
   {
    "duration": 29,
    "start_time": "2022-01-12T17:58:10.784Z"
   },
   {
    "duration": 266,
    "start_time": "2022-01-12T17:58:10.815Z"
   },
   {
    "duration": 232,
    "start_time": "2022-01-12T17:58:11.083Z"
   },
   {
    "duration": 19,
    "start_time": "2022-01-12T17:58:11.317Z"
   },
   {
    "duration": 26,
    "start_time": "2022-01-12T17:58:11.345Z"
   },
   {
    "duration": 17,
    "start_time": "2022-01-12T17:58:11.373Z"
   },
   {
    "duration": 15,
    "start_time": "2022-01-12T17:58:11.392Z"
   },
   {
    "duration": 1029,
    "start_time": "2022-01-12T17:58:11.410Z"
   },
   {
    "duration": 1031,
    "start_time": "2022-01-12T17:58:12.442Z"
   },
   {
    "duration": 1140,
    "start_time": "2022-01-12T17:58:13.476Z"
   },
   {
    "duration": 7,
    "start_time": "2022-01-12T17:58:14.618Z"
   },
   {
    "duration": 820,
    "start_time": "2022-01-12T18:03:21.282Z"
   },
   {
    "duration": 11,
    "start_time": "2022-01-12T18:04:36.851Z"
   },
   {
    "duration": 37,
    "start_time": "2022-01-12T18:04:44.211Z"
   },
   {
    "duration": 37,
    "start_time": "2022-01-12T18:05:03.892Z"
   },
   {
    "duration": 12,
    "start_time": "2022-01-12T18:05:06.283Z"
   },
   {
    "duration": 393,
    "start_time": "2022-01-12T18:06:18.316Z"
   },
   {
    "duration": 1401,
    "start_time": "2022-01-12T18:06:31.418Z"
   },
   {
    "duration": 544,
    "start_time": "2022-01-12T18:06:32.821Z"
   },
   {
    "duration": 28,
    "start_time": "2022-01-12T18:06:33.367Z"
   },
   {
    "duration": 61,
    "start_time": "2022-01-12T18:06:33.398Z"
   },
   {
    "duration": 32,
    "start_time": "2022-01-12T18:06:33.462Z"
   },
   {
    "duration": 64,
    "start_time": "2022-01-12T18:06:33.496Z"
   },
   {
    "duration": 16,
    "start_time": "2022-01-12T18:06:33.562Z"
   },
   {
    "duration": 9,
    "start_time": "2022-01-12T18:06:33.582Z"
   },
   {
    "duration": 77,
    "start_time": "2022-01-12T18:06:33.594Z"
   },
   {
    "duration": 31,
    "start_time": "2022-01-12T18:06:33.675Z"
   },
   {
    "duration": 82,
    "start_time": "2022-01-12T18:06:33.710Z"
   },
   {
    "duration": 8,
    "start_time": "2022-01-12T18:06:33.795Z"
   },
   {
    "duration": 60,
    "start_time": "2022-01-12T18:06:33.806Z"
   },
   {
    "duration": 72,
    "start_time": "2022-01-12T18:06:33.869Z"
   },
   {
    "duration": 102,
    "start_time": "2022-01-12T18:06:33.944Z"
   },
   {
    "duration": 25,
    "start_time": "2022-01-12T18:06:34.048Z"
   },
   {
    "duration": 31,
    "start_time": "2022-01-12T18:06:34.076Z"
   },
   {
    "duration": 70,
    "start_time": "2022-01-12T18:06:34.109Z"
   },
   {
    "duration": 22,
    "start_time": "2022-01-12T18:06:34.181Z"
   },
   {
    "duration": 63,
    "start_time": "2022-01-12T18:06:34.205Z"
   },
   {
    "duration": 22,
    "start_time": "2022-01-12T18:06:34.270Z"
   },
   {
    "duration": 408,
    "start_time": "2022-01-12T18:06:34.294Z"
   },
   {
    "duration": 32,
    "start_time": "2022-01-12T18:06:34.707Z"
   },
   {
    "duration": 17,
    "start_time": "2022-01-12T18:06:34.758Z"
   },
   {
    "duration": 26,
    "start_time": "2022-01-12T18:06:34.777Z"
   },
   {
    "duration": 8365,
    "start_time": "2022-01-12T18:06:34.806Z"
   },
   {
    "duration": 8258,
    "start_time": "2022-01-12T18:06:43.173Z"
   },
   {
    "duration": 8229,
    "start_time": "2022-01-12T18:06:51.433Z"
   },
   {
    "duration": 24,
    "start_time": "2022-01-12T18:06:59.664Z"
   },
   {
    "duration": 18,
    "start_time": "2022-01-12T18:06:59.691Z"
   },
   {
    "duration": 60,
    "start_time": "2022-01-12T18:06:59.711Z"
   },
   {
    "duration": 234,
    "start_time": "2022-01-12T18:06:59.773Z"
   },
   {
    "duration": 228,
    "start_time": "2022-01-12T18:07:00.009Z"
   },
   {
    "duration": 28,
    "start_time": "2022-01-12T18:07:00.240Z"
   },
   {
    "duration": 19,
    "start_time": "2022-01-12T18:07:00.271Z"
   },
   {
    "duration": 25,
    "start_time": "2022-01-12T18:07:00.292Z"
   },
   {
    "duration": 26,
    "start_time": "2022-01-12T18:07:00.319Z"
   },
   {
    "duration": 1051,
    "start_time": "2022-01-12T18:07:00.348Z"
   },
   {
    "duration": 1037,
    "start_time": "2022-01-12T18:07:01.401Z"
   },
   {
    "duration": 1166,
    "start_time": "2022-01-12T18:07:02.440Z"
   },
   {
    "duration": 8,
    "start_time": "2022-01-12T18:07:03.608Z"
   },
   {
    "duration": 11,
    "start_time": "2022-01-12T18:07:03.618Z"
   },
   {
    "duration": 34,
    "start_time": "2022-01-12T18:07:03.632Z"
   },
   {
    "duration": 15,
    "start_time": "2022-01-12T18:07:54.836Z"
   },
   {
    "duration": 10,
    "start_time": "2022-01-12T18:07:57.668Z"
   },
   {
    "duration": 7,
    "start_time": "2022-01-12T18:09:06.780Z"
   },
   {
    "duration": 1394,
    "start_time": "2022-01-12T18:28:19.347Z"
   },
   {
    "duration": 657,
    "start_time": "2022-01-12T18:28:20.744Z"
   },
   {
    "duration": 30,
    "start_time": "2022-01-12T18:28:21.408Z"
   },
   {
    "duration": 59,
    "start_time": "2022-01-12T18:28:21.441Z"
   },
   {
    "duration": 31,
    "start_time": "2022-01-12T18:28:21.503Z"
   },
   {
    "duration": 35,
    "start_time": "2022-01-12T18:28:21.560Z"
   },
   {
    "duration": 16,
    "start_time": "2022-01-12T18:28:21.599Z"
   },
   {
    "duration": 42,
    "start_time": "2022-01-12T18:28:21.618Z"
   },
   {
    "duration": 57,
    "start_time": "2022-01-12T18:28:21.663Z"
   },
   {
    "duration": 36,
    "start_time": "2022-01-12T18:28:21.723Z"
   },
   {
    "duration": 65,
    "start_time": "2022-01-12T18:28:21.761Z"
   },
   {
    "duration": 31,
    "start_time": "2022-01-12T18:28:21.829Z"
   },
   {
    "duration": 31,
    "start_time": "2022-01-12T18:28:21.863Z"
   },
   {
    "duration": 75,
    "start_time": "2022-01-12T18:28:21.896Z"
   },
   {
    "duration": 65,
    "start_time": "2022-01-12T18:28:21.973Z"
   },
   {
    "duration": 23,
    "start_time": "2022-01-12T18:28:22.060Z"
   },
   {
    "duration": 35,
    "start_time": "2022-01-12T18:28:22.086Z"
   },
   {
    "duration": 76,
    "start_time": "2022-01-12T18:28:22.124Z"
   },
   {
    "duration": 22,
    "start_time": "2022-01-12T18:28:22.203Z"
   },
   {
    "duration": 55,
    "start_time": "2022-01-12T18:28:22.228Z"
   },
   {
    "duration": 34,
    "start_time": "2022-01-12T18:28:22.285Z"
   },
   {
    "duration": 464,
    "start_time": "2022-01-12T18:28:22.324Z"
   },
   {
    "duration": 34,
    "start_time": "2022-01-12T18:28:22.791Z"
   },
   {
    "duration": 45,
    "start_time": "2022-01-12T18:28:22.827Z"
   },
   {
    "duration": 29,
    "start_time": "2022-01-12T18:28:22.874Z"
   },
   {
    "duration": 8585,
    "start_time": "2022-01-12T18:28:22.905Z"
   },
   {
    "duration": 8798,
    "start_time": "2022-01-12T18:28:31.492Z"
   },
   {
    "duration": 8557,
    "start_time": "2022-01-12T18:28:40.293Z"
   },
   {
    "duration": 23,
    "start_time": "2022-01-12T18:28:48.860Z"
   },
   {
    "duration": 17,
    "start_time": "2022-01-12T18:28:48.885Z"
   },
   {
    "duration": 60,
    "start_time": "2022-01-12T18:28:48.905Z"
   },
   {
    "duration": 246,
    "start_time": "2022-01-12T18:28:48.967Z"
   },
   {
    "duration": 231,
    "start_time": "2022-01-12T18:28:49.216Z"
   },
   {
    "duration": 22,
    "start_time": "2022-01-12T18:28:49.450Z"
   },
   {
    "duration": 14,
    "start_time": "2022-01-12T18:28:49.474Z"
   },
   {
    "duration": 17,
    "start_time": "2022-01-12T18:28:49.490Z"
   },
   {
    "duration": 51,
    "start_time": "2022-01-12T18:28:49.509Z"
   },
   {
    "duration": 1065,
    "start_time": "2022-01-12T18:28:49.563Z"
   },
   {
    "duration": 1119,
    "start_time": "2022-01-12T18:28:50.632Z"
   },
   {
    "duration": 1186,
    "start_time": "2022-01-12T18:28:51.761Z"
   },
   {
    "duration": 8,
    "start_time": "2022-01-12T18:28:52.958Z"
   },
   {
    "duration": 13,
    "start_time": "2022-01-12T18:28:52.968Z"
   },
   {
    "duration": 13,
    "start_time": "2022-01-12T18:28:52.984Z"
   },
   {
    "duration": 7,
    "start_time": "2022-01-12T18:28:52.999Z"
   },
   {
    "duration": 1442,
    "start_time": "2022-01-14T11:58:37.231Z"
   },
   {
    "duration": 479,
    "start_time": "2022-01-14T11:58:38.676Z"
   },
   {
    "duration": 33,
    "start_time": "2022-01-14T11:58:39.159Z"
   },
   {
    "duration": 66,
    "start_time": "2022-01-14T11:58:39.196Z"
   },
   {
    "duration": 63,
    "start_time": "2022-01-14T11:58:39.265Z"
   },
   {
    "duration": 42,
    "start_time": "2022-01-14T11:58:39.330Z"
   },
   {
    "duration": 20,
    "start_time": "2022-01-14T11:58:39.374Z"
   },
   {
    "duration": 8,
    "start_time": "2022-01-14T11:58:39.425Z"
   },
   {
    "duration": 47,
    "start_time": "2022-01-14T11:58:39.436Z"
   },
   {
    "duration": 50,
    "start_time": "2022-01-14T11:58:39.485Z"
   },
   {
    "duration": 60,
    "start_time": "2022-01-14T11:58:39.538Z"
   },
   {
    "duration": 26,
    "start_time": "2022-01-14T11:58:39.601Z"
   },
   {
    "duration": 30,
    "start_time": "2022-01-14T11:58:39.630Z"
   },
   {
    "duration": 79,
    "start_time": "2022-01-14T11:58:39.663Z"
   },
   {
    "duration": 80,
    "start_time": "2022-01-14T11:58:39.745Z"
   },
   {
    "duration": 17,
    "start_time": "2022-01-14T11:58:39.827Z"
   },
   {
    "duration": 32,
    "start_time": "2022-01-14T11:58:39.846Z"
   },
   {
    "duration": 80,
    "start_time": "2022-01-14T11:58:39.880Z"
   },
   {
    "duration": 21,
    "start_time": "2022-01-14T11:58:39.963Z"
   },
   {
    "duration": 54,
    "start_time": "2022-01-14T11:58:39.987Z"
   },
   {
    "duration": 16,
    "start_time": "2022-01-14T11:58:40.043Z"
   },
   {
    "duration": 269,
    "start_time": "2022-01-14T11:58:40.061Z"
   },
   {
    "duration": 31,
    "start_time": "2022-01-14T11:58:40.336Z"
   },
   {
    "duration": 19,
    "start_time": "2022-01-14T11:58:40.370Z"
   },
   {
    "duration": 56,
    "start_time": "2022-01-14T11:58:40.392Z"
   },
   {
    "duration": 5491,
    "start_time": "2022-01-14T11:58:40.451Z"
   },
   {
    "duration": 5499,
    "start_time": "2022-01-14T11:58:45.945Z"
   },
   {
    "duration": 5517,
    "start_time": "2022-01-14T11:58:51.446Z"
   },
   {
    "duration": 26,
    "start_time": "2022-01-14T11:58:56.965Z"
   },
   {
    "duration": 39,
    "start_time": "2022-01-14T11:58:56.994Z"
   },
   {
    "duration": 23,
    "start_time": "2022-01-14T11:58:57.036Z"
   },
   {
    "duration": 1515,
    "start_time": "2022-01-14T11:58:57.061Z"
   },
   {
    "duration": 237,
    "start_time": "2022-01-14T11:58:58.579Z"
   },
   {
    "duration": 18,
    "start_time": "2022-01-14T11:58:58.823Z"
   },
   {
    "duration": 14,
    "start_time": "2022-01-14T11:58:58.844Z"
   },
   {
    "duration": 22,
    "start_time": "2022-01-14T11:58:58.860Z"
   },
   {
    "duration": 45,
    "start_time": "2022-01-14T11:58:58.885Z"
   },
   {
    "duration": 1123,
    "start_time": "2022-01-14T11:58:58.932Z"
   },
   {
    "duration": 1067,
    "start_time": "2022-01-14T11:59:00.057Z"
   },
   {
    "duration": 1174,
    "start_time": "2022-01-14T11:59:01.126Z"
   },
   {
    "duration": 21,
    "start_time": "2022-01-14T11:59:02.303Z"
   },
   {
    "duration": 14,
    "start_time": "2022-01-14T11:59:02.327Z"
   },
   {
    "duration": 18,
    "start_time": "2022-01-14T11:59:02.345Z"
   },
   {
    "duration": 9,
    "start_time": "2022-01-14T11:59:02.366Z"
   },
   {
    "duration": 23,
    "start_time": "2022-01-14T15:15:59.101Z"
   },
   {
    "duration": 259,
    "start_time": "2022-01-14T22:25:08.788Z"
   },
   {
    "duration": 1053,
    "start_time": "2022-01-14T22:25:14.775Z"
   },
   {
    "duration": 417,
    "start_time": "2022-01-14T22:25:15.830Z"
   },
   {
    "duration": 17,
    "start_time": "2022-01-14T22:25:16.249Z"
   },
   {
    "duration": 32,
    "start_time": "2022-01-14T22:25:16.269Z"
   },
   {
    "duration": 42,
    "start_time": "2022-01-14T22:25:16.303Z"
   },
   {
    "duration": 28,
    "start_time": "2022-01-14T22:25:16.347Z"
   },
   {
    "duration": 11,
    "start_time": "2022-01-14T22:25:16.377Z"
   },
   {
    "duration": 7,
    "start_time": "2022-01-14T22:25:16.390Z"
   },
   {
    "duration": 61,
    "start_time": "2022-01-14T22:25:16.399Z"
   },
   {
    "duration": 19,
    "start_time": "2022-01-14T22:25:16.462Z"
   },
   {
    "duration": 43,
    "start_time": "2022-01-14T22:25:16.482Z"
   },
   {
    "duration": 14,
    "start_time": "2022-01-14T22:25:16.527Z"
   },
   {
    "duration": 23,
    "start_time": "2022-01-14T22:25:16.543Z"
   },
   {
    "duration": 34,
    "start_time": "2022-01-14T22:25:16.568Z"
   },
   {
    "duration": 61,
    "start_time": "2022-01-14T22:25:16.603Z"
   },
   {
    "duration": 13,
    "start_time": "2022-01-14T22:25:16.666Z"
   },
   {
    "duration": 24,
    "start_time": "2022-01-14T22:25:16.680Z"
   },
   {
    "duration": 48,
    "start_time": "2022-01-14T22:25:16.706Z"
   },
   {
    "duration": 14,
    "start_time": "2022-01-14T22:25:16.756Z"
   },
   {
    "duration": 30,
    "start_time": "2022-01-14T22:25:16.772Z"
   },
   {
    "duration": 16,
    "start_time": "2022-01-14T22:25:16.804Z"
   },
   {
    "duration": 196,
    "start_time": "2022-01-14T22:25:16.821Z"
   },
   {
    "duration": 32,
    "start_time": "2022-01-14T22:25:17.020Z"
   },
   {
    "duration": 9,
    "start_time": "2022-01-14T22:25:17.054Z"
   },
   {
    "duration": 16,
    "start_time": "2022-01-14T22:25:17.065Z"
   },
   {
    "duration": 4000,
    "start_time": "2022-01-14T22:25:17.083Z"
   },
   {
    "duration": 4532,
    "start_time": "2022-01-14T22:25:21.085Z"
   },
   {
    "duration": 5144,
    "start_time": "2022-01-14T22:25:25.619Z"
   },
   {
    "duration": 13,
    "start_time": "2022-01-14T22:25:30.764Z"
   },
   {
    "duration": 16,
    "start_time": "2022-01-14T22:25:30.779Z"
   },
   {
    "duration": 16,
    "start_time": "2022-01-14T22:25:30.797Z"
   },
   {
    "duration": 146,
    "start_time": "2022-01-14T22:25:30.815Z"
   },
   {
    "duration": 139,
    "start_time": "2022-01-14T22:25:30.963Z"
   },
   {
    "duration": 11,
    "start_time": "2022-01-14T22:25:31.104Z"
   },
   {
    "duration": 12,
    "start_time": "2022-01-14T22:25:31.117Z"
   },
   {
    "duration": 11,
    "start_time": "2022-01-14T22:25:31.141Z"
   },
   {
    "duration": 8,
    "start_time": "2022-01-14T22:25:31.154Z"
   },
   {
    "duration": 652,
    "start_time": "2022-01-14T22:25:31.164Z"
   },
   {
    "duration": 615,
    "start_time": "2022-01-14T22:25:31.818Z"
   },
   {
    "duration": 682,
    "start_time": "2022-01-14T22:25:32.434Z"
   },
   {
    "duration": 6,
    "start_time": "2022-01-14T22:25:33.118Z"
   },
   {
    "duration": 21,
    "start_time": "2022-01-14T22:25:33.125Z"
   },
   {
    "duration": 10,
    "start_time": "2022-01-14T22:25:33.147Z"
   },
   {
    "duration": 6,
    "start_time": "2022-01-14T22:25:33.158Z"
   }
  ],
  "kernelspec": {
   "display_name": "Python 3 (ipykernel)",
   "language": "python",
   "name": "python3"
  },
  "language_info": {
   "codemirror_mode": {
    "name": "ipython",
    "version": 3
   },
   "file_extension": ".py",
   "mimetype": "text/x-python",
   "name": "python",
   "nbconvert_exporter": "python",
   "pygments_lexer": "ipython3",
   "version": "3.9.5"
  },
  "toc": {
   "base_numbering": "1",
   "nav_menu": {
    "height": "203px",
    "width": "497px"
   },
   "number_sections": false,
   "sideBar": true,
   "skip_h1_title": true,
   "title_cell": "Содержание",
   "title_sidebar": "Contents",
   "toc_cell": true,
   "toc_position": {
    "height": "calc(100% - 180px)",
    "left": "10px",
    "top": "150px",
    "width": "431.391px"
   },
   "toc_section_display": true,
   "toc_window_display": true
  }
 },
 "nbformat": 4,
 "nbformat_minor": 2
}
