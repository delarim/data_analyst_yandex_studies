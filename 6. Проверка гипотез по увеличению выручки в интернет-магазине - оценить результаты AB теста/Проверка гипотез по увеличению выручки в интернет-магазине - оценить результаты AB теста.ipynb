{
 "cells": [
  {
   "cell_type": "markdown",
   "metadata": {},
   "source": [
    "## Принятие решений в бизнесе на основе данных в крупном интернет-магазине"
   ]
  },
  {
   "cell_type": "markdown",
   "metadata": {},
   "source": [
    "Я — аналитик крупного интернет-магазина. Вместе с отделом маркетинга мы подготовили список гипотез для увеличения выручки.\n",
    "Приоритизируем гипотезы, запустим A/B-тест и проанализируем результаты.\n",
    "\n",
    "**Цель проекта:**\n",
    "\n",
    "Приоритизировать гипотезы. По результатам всей работы решить, остановить или продолжить тест. \n",
    "\n",
    "**Ход проекта:**\n",
    "\n",
    "Все необходимые данные получим из файлов `hypothesis.csv`, `orders.csv` и `visitors.csv`. Нам понадобится загрузить эти файлы, ознакомиться с таблицами и выяснить, правильные ли в них типы данных, а также проверить наличие пропусков. Затем займемся приоритизацией гипотез, а также анализом A/B-теста. В итоге нужно будет принять решение по результатам теста и объяснить его.\n",
    "\n",
    "Таким образом, работа над проектом пройдёт в четыре шага:\n",
    "\n",
    "1. Загрузка, ознакомление и предобработка данных.\n",
    "2. Приоритизация гипотез.\n",
    "3. Анализ A/B-теста.\n",
    "4. Общий вывод."
   ]
  },
  {
   "cell_type": "markdown",
   "metadata": {},
   "source": [
    "⚠️\n",
    "\n",
    "Импортируем сразу же нужные библиотеки, затем в процессе будем добавлять при необходимости и другие:"
   ]
  },
  {
   "cell_type": "code",
   "execution_count": 1,
   "metadata": {},
   "outputs": [],
   "source": [
    "import numpy as np\n",
    "import pandas as pd\n",
    "from matplotlib import pyplot as plt\n",
    "import scipy.stats as stats\n",
    "import datetime as dt"
   ]
  },
  {
   "cell_type": "markdown",
   "metadata": {},
   "source": [
    "### 1. Загрузка, ознакомление и предобработка данных"
   ]
  },
  {
   "cell_type": "markdown",
   "metadata": {},
   "source": [
    "Начнем работу с загрузки данных из файлов. Ознакомимся с данными, а также проверим, нужно ли перевести какие-то столбцы в другой тип данных. "
   ]
  },
  {
   "cell_type": "markdown",
   "metadata": {},
   "source": [
    "Загрузим все файлы из папки `/datasets` по очереди и сохраним их в переменные:\n",
    "- `hypothesis.csv` сохраним в `hypothesis`;\n",
    "- `orders.csv` сохраним в `orders`;\n",
    "- `visitors.csv` сохраним в `visitors`."
   ]
  },
  {
   "cell_type": "code",
   "execution_count": 2,
   "metadata": {},
   "outputs": [],
   "source": [
    "hypothesis = pd.read_csv('/datasets/hypothesis.csv')\n",
    "orders = pd.read_csv('/datasets/orders.csv')\n",
    "visitors = pd.read_csv('/datasets/visitors.csv')"
   ]
  },
  {
   "cell_type": "markdown",
   "metadata": {},
   "source": [
    "Посмотрим сначала на таблицу `hypothesis`, затем выведем случайные десять строк остальных таблиц по очереди, чтобы взглянуть на данные впервые и сразу в разных местах. Для этого вызовем функцию `sample()`. Затем сразу же познакомимся с данными при помощи вызова info(), изучим их. В том числе посмотрим типы данных и количество столбцов:"
   ]
  },
  {
   "cell_type": "code",
   "execution_count": 3,
   "metadata": {},
   "outputs": [
    {
     "name": "stdout",
     "output_type": "stream",
     "text": [
      "<class 'pandas.core.frame.DataFrame'>\n",
      "RangeIndex: 9 entries, 0 to 8\n",
      "Data columns (total 5 columns):\n",
      " #   Column      Non-Null Count  Dtype \n",
      "---  ------      --------------  ----- \n",
      " 0   Hypothesis  9 non-null      object\n",
      " 1   Reach       9 non-null      int64 \n",
      " 2   Impact      9 non-null      int64 \n",
      " 3   Confidence  9 non-null      int64 \n",
      " 4   Efforts     9 non-null      int64 \n",
      "dtypes: int64(4), object(1)\n",
      "memory usage: 488.0+ bytes\n"
     ]
    },
    {
     "data": {
      "text/html": [
       "<div>\n",
       "<style scoped>\n",
       "    .dataframe tbody tr th:only-of-type {\n",
       "        vertical-align: middle;\n",
       "    }\n",
       "\n",
       "    .dataframe tbody tr th {\n",
       "        vertical-align: top;\n",
       "    }\n",
       "\n",
       "    .dataframe thead th {\n",
       "        text-align: right;\n",
       "    }\n",
       "</style>\n",
       "<table border=\"1\" class=\"dataframe\">\n",
       "  <thead>\n",
       "    <tr style=\"text-align: right;\">\n",
       "      <th></th>\n",
       "      <th>Hypothesis</th>\n",
       "      <th>Reach</th>\n",
       "      <th>Impact</th>\n",
       "      <th>Confidence</th>\n",
       "      <th>Efforts</th>\n",
       "    </tr>\n",
       "  </thead>\n",
       "  <tbody>\n",
       "    <tr>\n",
       "      <th>0</th>\n",
       "      <td>Добавить два новых канала привлечения трафика, что позволит привлекать на 30% больше пользователей</td>\n",
       "      <td>3</td>\n",
       "      <td>10</td>\n",
       "      <td>8</td>\n",
       "      <td>6</td>\n",
       "    </tr>\n",
       "    <tr>\n",
       "      <th>1</th>\n",
       "      <td>Запустить собственную службу доставки, что сократит срок доставки заказов</td>\n",
       "      <td>2</td>\n",
       "      <td>5</td>\n",
       "      <td>4</td>\n",
       "      <td>10</td>\n",
       "    </tr>\n",
       "    <tr>\n",
       "      <th>2</th>\n",
       "      <td>Добавить блоки рекомендаций товаров на сайт интернет магазина, чтобы повысить конверсию и средний чек заказа</td>\n",
       "      <td>8</td>\n",
       "      <td>3</td>\n",
       "      <td>7</td>\n",
       "      <td>3</td>\n",
       "    </tr>\n",
       "    <tr>\n",
       "      <th>3</th>\n",
       "      <td>Изменить структура категорий, что увеличит конверсию, т.к. пользователи быстрее найдут нужный товар</td>\n",
       "      <td>8</td>\n",
       "      <td>3</td>\n",
       "      <td>3</td>\n",
       "      <td>8</td>\n",
       "    </tr>\n",
       "    <tr>\n",
       "      <th>4</th>\n",
       "      <td>Изменить цвет фона главной страницы, чтобы увеличить вовлеченность пользователей</td>\n",
       "      <td>3</td>\n",
       "      <td>1</td>\n",
       "      <td>1</td>\n",
       "      <td>1</td>\n",
       "    </tr>\n",
       "    <tr>\n",
       "      <th>5</th>\n",
       "      <td>Добавить страницу отзывов клиентов о магазине, что позволит увеличить количество заказов</td>\n",
       "      <td>3</td>\n",
       "      <td>2</td>\n",
       "      <td>2</td>\n",
       "      <td>3</td>\n",
       "    </tr>\n",
       "    <tr>\n",
       "      <th>6</th>\n",
       "      <td>Показать на главной странице баннеры с актуальными акциями и распродажами, чтобы увеличить конверсию</td>\n",
       "      <td>5</td>\n",
       "      <td>3</td>\n",
       "      <td>8</td>\n",
       "      <td>3</td>\n",
       "    </tr>\n",
       "    <tr>\n",
       "      <th>7</th>\n",
       "      <td>Добавить форму подписки на все основные страницы, чтобы собрать базу клиентов для email-рассылок</td>\n",
       "      <td>10</td>\n",
       "      <td>7</td>\n",
       "      <td>8</td>\n",
       "      <td>5</td>\n",
       "    </tr>\n",
       "    <tr>\n",
       "      <th>8</th>\n",
       "      <td>Запустить акцию, дающую скидку на товар в день рождения</td>\n",
       "      <td>1</td>\n",
       "      <td>9</td>\n",
       "      <td>9</td>\n",
       "      <td>5</td>\n",
       "    </tr>\n",
       "  </tbody>\n",
       "</table>\n",
       "</div>"
      ],
      "text/plain": [
       "                                                                                                     Hypothesis  \\\n",
       "0            Добавить два новых канала привлечения трафика, что позволит привлекать на 30% больше пользователей   \n",
       "1                                     Запустить собственную службу доставки, что сократит срок доставки заказов   \n",
       "2  Добавить блоки рекомендаций товаров на сайт интернет магазина, чтобы повысить конверсию и средний чек заказа   \n",
       "3           Изменить структура категорий, что увеличит конверсию, т.к. пользователи быстрее найдут нужный товар   \n",
       "4                              Изменить цвет фона главной страницы, чтобы увеличить вовлеченность пользователей   \n",
       "5                      Добавить страницу отзывов клиентов о магазине, что позволит увеличить количество заказов   \n",
       "6          Показать на главной странице баннеры с актуальными акциями и распродажами, чтобы увеличить конверсию   \n",
       "7              Добавить форму подписки на все основные страницы, чтобы собрать базу клиентов для email-рассылок   \n",
       "8                                                       Запустить акцию, дающую скидку на товар в день рождения   \n",
       "\n",
       "   Reach  Impact  Confidence  Efforts  \n",
       "0      3      10           8        6  \n",
       "1      2       5           4       10  \n",
       "2      8       3           7        3  \n",
       "3      8       3           3        8  \n",
       "4      3       1           1        1  \n",
       "5      3       2           2        3  \n",
       "6      5       3           8        3  \n",
       "7     10       7           8        5  \n",
       "8      1       9           9        5  "
      ]
     },
     "execution_count": 3,
     "metadata": {},
     "output_type": "execute_result"
    }
   ],
   "source": [
    "pd.set_option('max_colwidth', 110)\n",
    "hypothesis.info()\n",
    "hypothesis"
   ]
  },
  {
   "cell_type": "markdown",
   "metadata": {},
   "source": [
    "С таблицей `hypothesis` все в порядке, типы данных правильные и нет пропусков. Всего в таблице 5 столбцов. Типы данных: `int` и `object`. Согласно документации к данным:\n",
    "- `Hypothesis` — краткое описание гипотезы;\n",
    "- `Reach` — охват пользователей по 10-балльной шкале;\n",
    "- `Impact` — влияние на пользователей по 10-балльной шкале;\n",
    "- `Confidence` — уверенность в гипотезе по 10-балльной шкале;\n",
    "- `Efforts` — затраты ресурсов на проверку гипотезы по 10-балльной шкале. Чем больше значение, тем дороже проверка гипотезы."
   ]
  },
  {
   "cell_type": "code",
   "execution_count": 4,
   "metadata": {},
   "outputs": [
    {
     "name": "stdout",
     "output_type": "stream",
     "text": [
      "<class 'pandas.core.frame.DataFrame'>\n",
      "RangeIndex: 1197 entries, 0 to 1196\n",
      "Data columns (total 5 columns):\n",
      " #   Column         Non-Null Count  Dtype \n",
      "---  ------         --------------  ----- \n",
      " 0   transactionId  1197 non-null   int64 \n",
      " 1   visitorId      1197 non-null   int64 \n",
      " 2   date           1197 non-null   object\n",
      " 3   revenue        1197 non-null   int64 \n",
      " 4   group          1197 non-null   object\n",
      "dtypes: int64(3), object(2)\n",
      "memory usage: 46.9+ KB\n"
     ]
    },
    {
     "data": {
      "text/html": [
       "<div>\n",
       "<style scoped>\n",
       "    .dataframe tbody tr th:only-of-type {\n",
       "        vertical-align: middle;\n",
       "    }\n",
       "\n",
       "    .dataframe tbody tr th {\n",
       "        vertical-align: top;\n",
       "    }\n",
       "\n",
       "    .dataframe thead th {\n",
       "        text-align: right;\n",
       "    }\n",
       "</style>\n",
       "<table border=\"1\" class=\"dataframe\">\n",
       "  <thead>\n",
       "    <tr style=\"text-align: right;\">\n",
       "      <th></th>\n",
       "      <th>transactionId</th>\n",
       "      <th>visitorId</th>\n",
       "      <th>date</th>\n",
       "      <th>revenue</th>\n",
       "      <th>group</th>\n",
       "    </tr>\n",
       "  </thead>\n",
       "  <tbody>\n",
       "    <tr>\n",
       "      <th>886</th>\n",
       "      <td>51443164</td>\n",
       "      <td>4278982564</td>\n",
       "      <td>2019-08-05</td>\n",
       "      <td>24744</td>\n",
       "      <td>A</td>\n",
       "    </tr>\n",
       "    <tr>\n",
       "      <th>1093</th>\n",
       "      <td>3894437543</td>\n",
       "      <td>276558944</td>\n",
       "      <td>2019-08-12</td>\n",
       "      <td>5050</td>\n",
       "      <td>A</td>\n",
       "    </tr>\n",
       "    <tr>\n",
       "      <th>801</th>\n",
       "      <td>504373597</td>\n",
       "      <td>2604012846</td>\n",
       "      <td>2019-08-05</td>\n",
       "      <td>890</td>\n",
       "      <td>B</td>\n",
       "    </tr>\n",
       "    <tr>\n",
       "      <th>189</th>\n",
       "      <td>4189935502</td>\n",
       "      <td>1648269707</td>\n",
       "      <td>2019-08-17</td>\n",
       "      <td>290</td>\n",
       "      <td>B</td>\n",
       "    </tr>\n",
       "    <tr>\n",
       "      <th>808</th>\n",
       "      <td>2344401705</td>\n",
       "      <td>366673373</td>\n",
       "      <td>2019-08-05</td>\n",
       "      <td>1460</td>\n",
       "      <td>A</td>\n",
       "    </tr>\n",
       "    <tr>\n",
       "      <th>480</th>\n",
       "      <td>1954636284</td>\n",
       "      <td>2600415354</td>\n",
       "      <td>2019-08-06</td>\n",
       "      <td>1530</td>\n",
       "      <td>B</td>\n",
       "    </tr>\n",
       "    <tr>\n",
       "      <th>202</th>\n",
       "      <td>532398042</td>\n",
       "      <td>1306302251</td>\n",
       "      <td>2019-08-23</td>\n",
       "      <td>1498</td>\n",
       "      <td>A</td>\n",
       "    </tr>\n",
       "    <tr>\n",
       "      <th>311</th>\n",
       "      <td>3567356314</td>\n",
       "      <td>3077396270</td>\n",
       "      <td>2019-08-24</td>\n",
       "      <td>4195</td>\n",
       "      <td>B</td>\n",
       "    </tr>\n",
       "    <tr>\n",
       "      <th>866</th>\n",
       "      <td>707525727</td>\n",
       "      <td>1270030113</td>\n",
       "      <td>2019-08-30</td>\n",
       "      <td>3290</td>\n",
       "      <td>B</td>\n",
       "    </tr>\n",
       "    <tr>\n",
       "      <th>752</th>\n",
       "      <td>237002862</td>\n",
       "      <td>1398592185</td>\n",
       "      <td>2019-08-20</td>\n",
       "      <td>390</td>\n",
       "      <td>A</td>\n",
       "    </tr>\n",
       "  </tbody>\n",
       "</table>\n",
       "</div>"
      ],
      "text/plain": [
       "      transactionId   visitorId        date  revenue group\n",
       "886        51443164  4278982564  2019-08-05    24744     A\n",
       "1093     3894437543   276558944  2019-08-12     5050     A\n",
       "801       504373597  2604012846  2019-08-05      890     B\n",
       "189      4189935502  1648269707  2019-08-17      290     B\n",
       "808      2344401705   366673373  2019-08-05     1460     A\n",
       "480      1954636284  2600415354  2019-08-06     1530     B\n",
       "202       532398042  1306302251  2019-08-23     1498     A\n",
       "311      3567356314  3077396270  2019-08-24     4195     B\n",
       "866       707525727  1270030113  2019-08-30     3290     B\n",
       "752       237002862  1398592185  2019-08-20      390     A"
      ]
     },
     "execution_count": 4,
     "metadata": {},
     "output_type": "execute_result"
    }
   ],
   "source": [
    "orders.info()\n",
    "orders.sample(n = 10, random_state = 1)"
   ]
  },
  {
   "cell_type": "markdown",
   "metadata": {},
   "source": [
    "В таблице `orders` пропусков нет, но в столбце `date` неправильный тип данных. Исправим это."
   ]
  },
  {
   "cell_type": "code",
   "execution_count": 5,
   "metadata": {},
   "outputs": [],
   "source": [
    "orders['date'] = orders['date'].map(lambda x: dt.datetime.strptime(x, '%Y-%m-%d'))"
   ]
  },
  {
   "cell_type": "markdown",
   "metadata": {},
   "source": [
    "Всего в таблице 5 столбцов. Типы данных: `int`, `date` и `object`. Согласно документации к данным:\n",
    "- `transactionId` — идентификатор заказа;\n",
    "- `visitorId` — идентификатор пользователя, совершившего заказ;\n",
    "- `date` — дата, когда был совершён заказ;\n",
    "- `revenue` — выручка заказа;\n",
    "- `group` — группа A/B-теста, в которую попал заказ."
   ]
  },
  {
   "cell_type": "code",
   "execution_count": 6,
   "metadata": {},
   "outputs": [
    {
     "name": "stdout",
     "output_type": "stream",
     "text": [
      "<class 'pandas.core.frame.DataFrame'>\n",
      "RangeIndex: 62 entries, 0 to 61\n",
      "Data columns (total 3 columns):\n",
      " #   Column    Non-Null Count  Dtype \n",
      "---  ------    --------------  ----- \n",
      " 0   date      62 non-null     object\n",
      " 1   group     62 non-null     object\n",
      " 2   visitors  62 non-null     int64 \n",
      "dtypes: int64(1), object(2)\n",
      "memory usage: 1.6+ KB\n"
     ]
    },
    {
     "data": {
      "text/html": [
       "<div>\n",
       "<style scoped>\n",
       "    .dataframe tbody tr th:only-of-type {\n",
       "        vertical-align: middle;\n",
       "    }\n",
       "\n",
       "    .dataframe tbody tr th {\n",
       "        vertical-align: top;\n",
       "    }\n",
       "\n",
       "    .dataframe thead th {\n",
       "        text-align: right;\n",
       "    }\n",
       "</style>\n",
       "<table border=\"1\" class=\"dataframe\">\n",
       "  <thead>\n",
       "    <tr style=\"text-align: right;\">\n",
       "      <th></th>\n",
       "      <th>date</th>\n",
       "      <th>group</th>\n",
       "      <th>visitors</th>\n",
       "    </tr>\n",
       "  </thead>\n",
       "  <tbody>\n",
       "    <tr>\n",
       "      <th>21</th>\n",
       "      <td>2019-08-22</td>\n",
       "      <td>A</td>\n",
       "      <td>609</td>\n",
       "    </tr>\n",
       "    <tr>\n",
       "      <th>52</th>\n",
       "      <td>2019-08-22</td>\n",
       "      <td>B</td>\n",
       "      <td>650</td>\n",
       "    </tr>\n",
       "    <tr>\n",
       "      <th>38</th>\n",
       "      <td>2019-08-08</td>\n",
       "      <td>B</td>\n",
       "      <td>654</td>\n",
       "    </tr>\n",
       "    <tr>\n",
       "      <th>24</th>\n",
       "      <td>2019-08-25</td>\n",
       "      <td>A</td>\n",
       "      <td>621</td>\n",
       "    </tr>\n",
       "    <tr>\n",
       "      <th>2</th>\n",
       "      <td>2019-08-03</td>\n",
       "      <td>A</td>\n",
       "      <td>507</td>\n",
       "    </tr>\n",
       "    <tr>\n",
       "      <th>41</th>\n",
       "      <td>2019-08-11</td>\n",
       "      <td>B</td>\n",
       "      <td>721</td>\n",
       "    </tr>\n",
       "    <tr>\n",
       "      <th>60</th>\n",
       "      <td>2019-08-30</td>\n",
       "      <td>B</td>\n",
       "      <td>490</td>\n",
       "    </tr>\n",
       "    <tr>\n",
       "      <th>50</th>\n",
       "      <td>2019-08-20</td>\n",
       "      <td>B</td>\n",
       "      <td>560</td>\n",
       "    </tr>\n",
       "    <tr>\n",
       "      <th>35</th>\n",
       "      <td>2019-08-05</td>\n",
       "      <td>B</td>\n",
       "      <td>707</td>\n",
       "    </tr>\n",
       "    <tr>\n",
       "      <th>44</th>\n",
       "      <td>2019-08-14</td>\n",
       "      <td>B</td>\n",
       "      <td>746</td>\n",
       "    </tr>\n",
       "  </tbody>\n",
       "</table>\n",
       "</div>"
      ],
      "text/plain": [
       "          date group  visitors\n",
       "21  2019-08-22     A       609\n",
       "52  2019-08-22     B       650\n",
       "38  2019-08-08     B       654\n",
       "24  2019-08-25     A       621\n",
       "2   2019-08-03     A       507\n",
       "41  2019-08-11     B       721\n",
       "60  2019-08-30     B       490\n",
       "50  2019-08-20     B       560\n",
       "35  2019-08-05     B       707\n",
       "44  2019-08-14     B       746"
      ]
     },
     "execution_count": 6,
     "metadata": {},
     "output_type": "execute_result"
    }
   ],
   "source": [
    "visitors.info()\n",
    "visitors.sample(n = 10, random_state = 1)"
   ]
  },
  {
   "cell_type": "markdown",
   "metadata": {},
   "source": [
    "В таблице `visitors` пропусков нет, но в столбце `date` неправильный тип данных. Исправим это."
   ]
  },
  {
   "cell_type": "code",
   "execution_count": 7,
   "metadata": {},
   "outputs": [],
   "source": [
    "visitors['date'] = visitors['date'].map(lambda x: dt.datetime.strptime(x, '%Y-%m-%d'))"
   ]
  },
  {
   "cell_type": "markdown",
   "metadata": {},
   "source": [
    "Всего в таблице 3 столбца. Типы данных: `int`, `date` и `object`. Согласно документации к данным:\n",
    "- `date` — дата;\n",
    "- `group` — группа A/B-теста;\n",
    "- `visitors` — количество пользователей в указанную дату в указанной группе A/B-теста."
   ]
  },
  {
   "cell_type": "markdown",
   "metadata": {},
   "source": [
    "**Вывод по шагу:**\n",
    "\n",
    "Мы загрузили необходимые файлы, ознакомились с данными в них и провели первичную предобработку там, где это было необходимо. Добавили описание из документации для понимания содержания в таблицах. Выяснили, что пропусков нет, а неправильные типы данных в двух таблицах заменили на правильные. Возможно, что неправильный тип данных образовался в результате какой-то технической ошибки при сохранении данных в исходный формат файла. \n",
    "\n",
    "Благодаря этим действиям мы подготовились к дальнейшем действиям в рамках проекта. "
   ]
  },
  {
   "cell_type": "markdown",
   "metadata": {},
   "source": [
    "### 2. Приоритизация гипотез"
   ]
  },
  {
   "cell_type": "markdown",
   "metadata": {},
   "source": [
    "В этом шаге мы выполним сразу 3 задачи:\n",
    "- применим фреймворк ICE для приоритизации гипотез и отсортируем их по убыванию приоритета;\n",
    "- применим фреймворк RICE для приоритизации гипотез отсортируем их по убыванию приоритета;\n",
    "- выясним и объясним в выводе, как изменилась приоритизация гипотез при применении RICE вместо ICE. "
   ]
  },
  {
   "cell_type": "code",
   "execution_count": 8,
   "metadata": {},
   "outputs": [
    {
     "data": {
      "text/html": [
       "<div>\n",
       "<style scoped>\n",
       "    .dataframe tbody tr th:only-of-type {\n",
       "        vertical-align: middle;\n",
       "    }\n",
       "\n",
       "    .dataframe tbody tr th {\n",
       "        vertical-align: top;\n",
       "    }\n",
       "\n",
       "    .dataframe thead th {\n",
       "        text-align: right;\n",
       "    }\n",
       "</style>\n",
       "<table border=\"1\" class=\"dataframe\">\n",
       "  <thead>\n",
       "    <tr style=\"text-align: right;\">\n",
       "      <th></th>\n",
       "      <th>Hypothesis</th>\n",
       "      <th>Reach</th>\n",
       "      <th>Impact</th>\n",
       "      <th>Confidence</th>\n",
       "      <th>Efforts</th>\n",
       "      <th>ICE</th>\n",
       "    </tr>\n",
       "  </thead>\n",
       "  <tbody>\n",
       "    <tr>\n",
       "      <th>8</th>\n",
       "      <td>Запустить акцию, дающую скидку на товар в день рождения</td>\n",
       "      <td>1</td>\n",
       "      <td>9</td>\n",
       "      <td>9</td>\n",
       "      <td>5</td>\n",
       "      <td>16.200000</td>\n",
       "    </tr>\n",
       "    <tr>\n",
       "      <th>0</th>\n",
       "      <td>Добавить два новых канала привлечения трафика, что позволит привлекать на 30% больше пользователей</td>\n",
       "      <td>3</td>\n",
       "      <td>10</td>\n",
       "      <td>8</td>\n",
       "      <td>6</td>\n",
       "      <td>13.333333</td>\n",
       "    </tr>\n",
       "    <tr>\n",
       "      <th>7</th>\n",
       "      <td>Добавить форму подписки на все основные страницы, чтобы собрать базу клиентов для email-рассылок</td>\n",
       "      <td>10</td>\n",
       "      <td>7</td>\n",
       "      <td>8</td>\n",
       "      <td>5</td>\n",
       "      <td>11.200000</td>\n",
       "    </tr>\n",
       "    <tr>\n",
       "      <th>6</th>\n",
       "      <td>Показать на главной странице баннеры с актуальными акциями и распродажами, чтобы увеличить конверсию</td>\n",
       "      <td>5</td>\n",
       "      <td>3</td>\n",
       "      <td>8</td>\n",
       "      <td>3</td>\n",
       "      <td>8.000000</td>\n",
       "    </tr>\n",
       "    <tr>\n",
       "      <th>2</th>\n",
       "      <td>Добавить блоки рекомендаций товаров на сайт интернет магазина, чтобы повысить конверсию и средний чек заказа</td>\n",
       "      <td>8</td>\n",
       "      <td>3</td>\n",
       "      <td>7</td>\n",
       "      <td>3</td>\n",
       "      <td>7.000000</td>\n",
       "    </tr>\n",
       "    <tr>\n",
       "      <th>1</th>\n",
       "      <td>Запустить собственную службу доставки, что сократит срок доставки заказов</td>\n",
       "      <td>2</td>\n",
       "      <td>5</td>\n",
       "      <td>4</td>\n",
       "      <td>10</td>\n",
       "      <td>2.000000</td>\n",
       "    </tr>\n",
       "    <tr>\n",
       "      <th>5</th>\n",
       "      <td>Добавить страницу отзывов клиентов о магазине, что позволит увеличить количество заказов</td>\n",
       "      <td>3</td>\n",
       "      <td>2</td>\n",
       "      <td>2</td>\n",
       "      <td>3</td>\n",
       "      <td>1.333333</td>\n",
       "    </tr>\n",
       "    <tr>\n",
       "      <th>3</th>\n",
       "      <td>Изменить структура категорий, что увеличит конверсию, т.к. пользователи быстрее найдут нужный товар</td>\n",
       "      <td>8</td>\n",
       "      <td>3</td>\n",
       "      <td>3</td>\n",
       "      <td>8</td>\n",
       "      <td>1.125000</td>\n",
       "    </tr>\n",
       "    <tr>\n",
       "      <th>4</th>\n",
       "      <td>Изменить цвет фона главной страницы, чтобы увеличить вовлеченность пользователей</td>\n",
       "      <td>3</td>\n",
       "      <td>1</td>\n",
       "      <td>1</td>\n",
       "      <td>1</td>\n",
       "      <td>1.000000</td>\n",
       "    </tr>\n",
       "  </tbody>\n",
       "</table>\n",
       "</div>"
      ],
      "text/plain": [
       "                                                                                                     Hypothesis  \\\n",
       "8                                                       Запустить акцию, дающую скидку на товар в день рождения   \n",
       "0            Добавить два новых канала привлечения трафика, что позволит привлекать на 30% больше пользователей   \n",
       "7              Добавить форму подписки на все основные страницы, чтобы собрать базу клиентов для email-рассылок   \n",
       "6          Показать на главной странице баннеры с актуальными акциями и распродажами, чтобы увеличить конверсию   \n",
       "2  Добавить блоки рекомендаций товаров на сайт интернет магазина, чтобы повысить конверсию и средний чек заказа   \n",
       "1                                     Запустить собственную службу доставки, что сократит срок доставки заказов   \n",
       "5                      Добавить страницу отзывов клиентов о магазине, что позволит увеличить количество заказов   \n",
       "3           Изменить структура категорий, что увеличит конверсию, т.к. пользователи быстрее найдут нужный товар   \n",
       "4                              Изменить цвет фона главной страницы, чтобы увеличить вовлеченность пользователей   \n",
       "\n",
       "   Reach  Impact  Confidence  Efforts        ICE  \n",
       "8      1       9           9        5  16.200000  \n",
       "0      3      10           8        6  13.333333  \n",
       "7     10       7           8        5  11.200000  \n",
       "6      5       3           8        3   8.000000  \n",
       "2      8       3           7        3   7.000000  \n",
       "1      2       5           4       10   2.000000  \n",
       "5      3       2           2        3   1.333333  \n",
       "3      8       3           3        8   1.125000  \n",
       "4      3       1           1        1   1.000000  "
      ]
     },
     "execution_count": 8,
     "metadata": {},
     "output_type": "execute_result"
    }
   ],
   "source": [
    "hypothesis['ICE'] = hypothesis['Impact'] * hypothesis['Confidence'] / hypothesis['Efforts']\n",
    "hypothesis.sort_values(by = 'ICE', ascending = False)"
   ]
  },
  {
   "cell_type": "code",
   "execution_count": 9,
   "metadata": {},
   "outputs": [
    {
     "data": {
      "text/html": [
       "<div>\n",
       "<style scoped>\n",
       "    .dataframe tbody tr th:only-of-type {\n",
       "        vertical-align: middle;\n",
       "    }\n",
       "\n",
       "    .dataframe tbody tr th {\n",
       "        vertical-align: top;\n",
       "    }\n",
       "\n",
       "    .dataframe thead th {\n",
       "        text-align: right;\n",
       "    }\n",
       "</style>\n",
       "<table border=\"1\" class=\"dataframe\">\n",
       "  <thead>\n",
       "    <tr style=\"text-align: right;\">\n",
       "      <th></th>\n",
       "      <th>Hypothesis</th>\n",
       "      <th>Reach</th>\n",
       "      <th>Impact</th>\n",
       "      <th>Confidence</th>\n",
       "      <th>Efforts</th>\n",
       "      <th>ICE</th>\n",
       "      <th>RICE</th>\n",
       "    </tr>\n",
       "  </thead>\n",
       "  <tbody>\n",
       "    <tr>\n",
       "      <th>7</th>\n",
       "      <td>Добавить форму подписки на все основные страницы, чтобы собрать базу клиентов для email-рассылок</td>\n",
       "      <td>10</td>\n",
       "      <td>7</td>\n",
       "      <td>8</td>\n",
       "      <td>5</td>\n",
       "      <td>11.200000</td>\n",
       "      <td>112.0</td>\n",
       "    </tr>\n",
       "    <tr>\n",
       "      <th>2</th>\n",
       "      <td>Добавить блоки рекомендаций товаров на сайт интернет магазина, чтобы повысить конверсию и средний чек заказа</td>\n",
       "      <td>8</td>\n",
       "      <td>3</td>\n",
       "      <td>7</td>\n",
       "      <td>3</td>\n",
       "      <td>7.000000</td>\n",
       "      <td>56.0</td>\n",
       "    </tr>\n",
       "    <tr>\n",
       "      <th>0</th>\n",
       "      <td>Добавить два новых канала привлечения трафика, что позволит привлекать на 30% больше пользователей</td>\n",
       "      <td>3</td>\n",
       "      <td>10</td>\n",
       "      <td>8</td>\n",
       "      <td>6</td>\n",
       "      <td>13.333333</td>\n",
       "      <td>40.0</td>\n",
       "    </tr>\n",
       "    <tr>\n",
       "      <th>6</th>\n",
       "      <td>Показать на главной странице баннеры с актуальными акциями и распродажами, чтобы увеличить конверсию</td>\n",
       "      <td>5</td>\n",
       "      <td>3</td>\n",
       "      <td>8</td>\n",
       "      <td>3</td>\n",
       "      <td>8.000000</td>\n",
       "      <td>40.0</td>\n",
       "    </tr>\n",
       "    <tr>\n",
       "      <th>8</th>\n",
       "      <td>Запустить акцию, дающую скидку на товар в день рождения</td>\n",
       "      <td>1</td>\n",
       "      <td>9</td>\n",
       "      <td>9</td>\n",
       "      <td>5</td>\n",
       "      <td>16.200000</td>\n",
       "      <td>16.2</td>\n",
       "    </tr>\n",
       "    <tr>\n",
       "      <th>3</th>\n",
       "      <td>Изменить структура категорий, что увеличит конверсию, т.к. пользователи быстрее найдут нужный товар</td>\n",
       "      <td>8</td>\n",
       "      <td>3</td>\n",
       "      <td>3</td>\n",
       "      <td>8</td>\n",
       "      <td>1.125000</td>\n",
       "      <td>9.0</td>\n",
       "    </tr>\n",
       "    <tr>\n",
       "      <th>1</th>\n",
       "      <td>Запустить собственную службу доставки, что сократит срок доставки заказов</td>\n",
       "      <td>2</td>\n",
       "      <td>5</td>\n",
       "      <td>4</td>\n",
       "      <td>10</td>\n",
       "      <td>2.000000</td>\n",
       "      <td>4.0</td>\n",
       "    </tr>\n",
       "    <tr>\n",
       "      <th>5</th>\n",
       "      <td>Добавить страницу отзывов клиентов о магазине, что позволит увеличить количество заказов</td>\n",
       "      <td>3</td>\n",
       "      <td>2</td>\n",
       "      <td>2</td>\n",
       "      <td>3</td>\n",
       "      <td>1.333333</td>\n",
       "      <td>4.0</td>\n",
       "    </tr>\n",
       "    <tr>\n",
       "      <th>4</th>\n",
       "      <td>Изменить цвет фона главной страницы, чтобы увеличить вовлеченность пользователей</td>\n",
       "      <td>3</td>\n",
       "      <td>1</td>\n",
       "      <td>1</td>\n",
       "      <td>1</td>\n",
       "      <td>1.000000</td>\n",
       "      <td>3.0</td>\n",
       "    </tr>\n",
       "  </tbody>\n",
       "</table>\n",
       "</div>"
      ],
      "text/plain": [
       "                                                                                                     Hypothesis  \\\n",
       "7              Добавить форму подписки на все основные страницы, чтобы собрать базу клиентов для email-рассылок   \n",
       "2  Добавить блоки рекомендаций товаров на сайт интернет магазина, чтобы повысить конверсию и средний чек заказа   \n",
       "0            Добавить два новых канала привлечения трафика, что позволит привлекать на 30% больше пользователей   \n",
       "6          Показать на главной странице баннеры с актуальными акциями и распродажами, чтобы увеличить конверсию   \n",
       "8                                                       Запустить акцию, дающую скидку на товар в день рождения   \n",
       "3           Изменить структура категорий, что увеличит конверсию, т.к. пользователи быстрее найдут нужный товар   \n",
       "1                                     Запустить собственную службу доставки, что сократит срок доставки заказов   \n",
       "5                      Добавить страницу отзывов клиентов о магазине, что позволит увеличить количество заказов   \n",
       "4                              Изменить цвет фона главной страницы, чтобы увеличить вовлеченность пользователей   \n",
       "\n",
       "   Reach  Impact  Confidence  Efforts        ICE   RICE  \n",
       "7     10       7           8        5  11.200000  112.0  \n",
       "2      8       3           7        3   7.000000   56.0  \n",
       "0      3      10           8        6  13.333333   40.0  \n",
       "6      5       3           8        3   8.000000   40.0  \n",
       "8      1       9           9        5  16.200000   16.2  \n",
       "3      8       3           3        8   1.125000    9.0  \n",
       "1      2       5           4       10   2.000000    4.0  \n",
       "5      3       2           2        3   1.333333    4.0  \n",
       "4      3       1           1        1   1.000000    3.0  "
      ]
     },
     "execution_count": 9,
     "metadata": {},
     "output_type": "execute_result"
    }
   ],
   "source": [
    "hypothesis['RICE'] = hypothesis['Reach'] * hypothesis['Impact'] * hypothesis['Confidence'] / hypothesis['Efforts']\n",
    "hypothesis.sort_values(by = 'RICE', ascending = False)"
   ]
  },
  {
   "cell_type": "markdown",
   "metadata": {},
   "source": [
    "**Вывод по шагу:**\n",
    "\n",
    "Есть различия в обеих таблицах, но какие-то гипотезы находятся примерно в одном месте. К примеру, гипотезы 1, 4 и 5 на обеих таблицах в нижней части, а 6 и 7 на обеих таблицах в верхей части.\n",
    "\n",
    "По фреймворку ICE в лидерах гипотезы - 8, 0 и 7, а по фреймворку RICE - 7, 2 и 0. Разница серьезная. Это связано с тем, что по фреймворку ICE мы не учитываем Reach, то есть скольких пользователей затронет изменение, которое мы хотим внести. Параметр очень важный для оценки гипотез, поэтому на него обязательно нужно ориентироваться. \n",
    "\n",
    "В связи с этим, наиболее приоритетными гипотезами для нас будут - 7 и 2. Именно в этих гипотезах Reach составляет 10 и 8 баллов соответственно. "
   ]
  },
  {
   "cell_type": "markdown",
   "metadata": {},
   "source": [
    "### 3. Анализ A/B-теста"
   ]
  },
  {
   "cell_type": "markdown",
   "metadata": {},
   "source": [
    "Теперь мы приступим к анализу A/B-теста, результаты которого хранятся в файлах `orders.csv` и `visitors.csv`. В рамках анализа будем строить различные графики и производить расчеты."
   ]
  },
  {
   "cell_type": "markdown",
   "metadata": {},
   "source": [
    "Проверим пользователей, которые могут находиться в обеих группах одновременно. "
   ]
  },
  {
   "cell_type": "code",
   "execution_count": 10,
   "metadata": {
    "scrolled": false
   },
   "outputs": [
    {
     "name": "stdout",
     "output_type": "stream",
     "text": [
      "Количество пользователей, которые находятся в обеих группах: 58\n"
     ]
    }
   ],
   "source": [
    "duplicated_users = orders.groupby('visitorId').agg({'group': ['nunique', 'unique']})\n",
    "duplicated_users.columns = ['groups', 'group_names']\n",
    "duplicated_users = duplicated_users.query('groups > 1')\n",
    "print('Количество пользователей, которые находятся в обеих группах:', duplicated_users['groups'].count())"
   ]
  },
  {
   "cell_type": "markdown",
   "metadata": {},
   "source": [
    "В идеале подобной ситуации не должно быть, так как файл уже должен содержать в себе правильные выборки. В этом случае доля пересекающихся пользователей менее 5%, поэтому делать с ними ничего не будем."
   ]
  },
  {
   "cell_type": "markdown",
   "metadata": {},
   "source": [
    "#### 3.1 График кумулятивной выручки по группам"
   ]
  },
  {
   "cell_type": "markdown",
   "metadata": {},
   "source": [
    "Посчитаем усредненную выручку за день в каждой группе, чтобы иметь представление о том, какая выручка за день."
   ]
  },
  {
   "cell_type": "code",
   "execution_count": 11,
   "metadata": {
    "scrolled": true
   },
   "outputs": [
    {
     "data": {
      "text/plain": [
       "group\n",
       "A    112473\n",
       "B    147274\n",
       "Name: revenue, dtype: int64"
      ]
     },
     "execution_count": 11,
     "metadata": {},
     "output_type": "execute_result"
    }
   ],
   "source": [
    "orders.groupby(['date', 'group'])['revenue'].sum().groupby('group').median()"
   ]
  },
  {
   "cell_type": "markdown",
   "metadata": {},
   "source": [
    "Создадим таблицу `cumulativeData` с куммулятивными данными по обеим таблицам."
   ]
  },
  {
   "cell_type": "code",
   "execution_count": 12,
   "metadata": {
    "scrolled": true
   },
   "outputs": [
    {
     "data": {
      "text/html": [
       "<div>\n",
       "<style scoped>\n",
       "    .dataframe tbody tr th:only-of-type {\n",
       "        vertical-align: middle;\n",
       "    }\n",
       "\n",
       "    .dataframe tbody tr th {\n",
       "        vertical-align: top;\n",
       "    }\n",
       "\n",
       "    .dataframe thead th {\n",
       "        text-align: right;\n",
       "    }\n",
       "</style>\n",
       "<table border=\"1\" class=\"dataframe\">\n",
       "  <thead>\n",
       "    <tr style=\"text-align: right;\">\n",
       "      <th></th>\n",
       "      <th>date</th>\n",
       "      <th>group</th>\n",
       "      <th>orders</th>\n",
       "      <th>buyers</th>\n",
       "      <th>revenue</th>\n",
       "      <th>visitors</th>\n",
       "    </tr>\n",
       "  </thead>\n",
       "  <tbody>\n",
       "    <tr>\n",
       "      <th>21</th>\n",
       "      <td>2019-08-11</td>\n",
       "      <td>B</td>\n",
       "      <td>241</td>\n",
       "      <td>228</td>\n",
       "      <td>1592513</td>\n",
       "      <td>6998</td>\n",
       "    </tr>\n",
       "    <tr>\n",
       "      <th>52</th>\n",
       "      <td>2019-08-27</td>\n",
       "      <td>A</td>\n",
       "      <td>495</td>\n",
       "      <td>449</td>\n",
       "      <td>3514698</td>\n",
       "      <td>16376</td>\n",
       "    </tr>\n",
       "    <tr>\n",
       "      <th>38</th>\n",
       "      <td>2019-08-20</td>\n",
       "      <td>A</td>\n",
       "      <td>362</td>\n",
       "      <td>330</td>\n",
       "      <td>2469529</td>\n",
       "      <td>12204</td>\n",
       "    </tr>\n",
       "    <tr>\n",
       "      <th>24</th>\n",
       "      <td>2019-08-13</td>\n",
       "      <td>A</td>\n",
       "      <td>244</td>\n",
       "      <td>223</td>\n",
       "      <td>1826511</td>\n",
       "      <td>8323</td>\n",
       "    </tr>\n",
       "    <tr>\n",
       "      <th>2</th>\n",
       "      <td>2019-08-02</td>\n",
       "      <td>A</td>\n",
       "      <td>44</td>\n",
       "      <td>38</td>\n",
       "      <td>242401</td>\n",
       "      <td>1338</td>\n",
       "    </tr>\n",
       "  </tbody>\n",
       "</table>\n",
       "</div>"
      ],
      "text/plain": [
       "         date group  orders  buyers  revenue  visitors\n",
       "21 2019-08-11     B     241     228  1592513      6998\n",
       "52 2019-08-27     A     495     449  3514698     16376\n",
       "38 2019-08-20     A     362     330  2469529     12204\n",
       "24 2019-08-13     A     244     223  1826511      8323\n",
       "2  2019-08-02     A      44      38   242401      1338"
      ]
     },
     "execution_count": 12,
     "metadata": {},
     "output_type": "execute_result"
    }
   ],
   "source": [
    "datesGroups = orders[['date', 'group']].drop_duplicates()\n",
    "\n",
    "ordersAggregated = datesGroups.apply(lambda x: orders[np.logical_and(orders['date'] <= x['date'],\n",
    "                                                                     orders['group'] == x['group'])]. \\\n",
    "                                     agg({'date' : 'max', \n",
    "                                          'group' : 'max', \n",
    "                                          'transactionId' : pd.Series.nunique, \n",
    "                                          'visitorId' : pd.Series.nunique, \n",
    "                                          'revenue' : 'sum'}), axis = 1).sort_values(by = ['date', 'group'])\n",
    "\n",
    "visitorsAggregated = datesGroups.apply(lambda x: visitors[np.logical_and(visitors['date'] <= x['date'],\n",
    "                                                                         visitors['group'] == x['group'])]. \\\n",
    "                                       agg({'date' : 'max', \n",
    "                                            'group' : 'max', \n",
    "                                            'visitors' : 'sum'}), axis = 1).sort_values(by = ['date', 'group'])\n",
    "\n",
    "cumulativeData = ordersAggregated.merge(visitorsAggregated, left_on = ['date', 'group'], right_on = ['date', 'group'])\n",
    "cumulativeData.columns = ['date', 'group', 'orders', 'buyers', 'revenue', 'visitors']\n",
    "\n",
    "cumulativeData.sample(n = 5, random_state = 1)"
   ]
  },
  {
   "cell_type": "markdown",
   "metadata": {},
   "source": [
    "Построим график кумулятивной выручки по группам."
   ]
  },
  {
   "cell_type": "code",
   "execution_count": 13,
   "metadata": {
    "scrolled": true
   },
   "outputs": [
    {
     "data": {
      "image/png": "[encoded data removed]",
      "text/plain": [
       "<Figure size 1080x288 with 1 Axes>"
      ]
     },
     "metadata": {
      "needs_background": "light"
     },
     "output_type": "display_data"
    }
   ],
   "source": [
    "cumulativeRevenueA = cumulativeData[cumulativeData['group'] == 'A'][['date', 'revenue', 'orders']]\n",
    "cumulativeRevenueB = cumulativeData[cumulativeData['group'] == 'B'][['date', 'revenue', 'orders']]\n",
    "plt.figure(figsize = (15,4))\n",
    "plt.plot(cumulativeRevenueA['date'], cumulativeRevenueA['revenue'], label = 'Кумулятивная выручка группы A')\n",
    "plt.plot(cumulativeRevenueB['date'], cumulativeRevenueB['revenue'], label = 'Кумулятивная выручка группы B')\n",
    "plt.legend()\n",
    "plt.grid()\n",
    "plt.show()"
   ]
  },
  {
   "cell_type": "markdown",
   "metadata": {},
   "source": [
    "Группа B стабильно показывает бОльшую выручку, чем группа А. По началу выручка не так сильно различалась, но во второй половине месяца выручка группы B резко подскочила и имела большой отрыв от группы А. \n",
    "\n",
    "19 августа скорее всего был крупный заказ, хотя по графику однозначно сказать нельзя, может это просто увеличилось количество заказов. Посмотрим на заказы между 17 и 21 августа. "
   ]
  },
  {
   "cell_type": "code",
   "execution_count": 14,
   "metadata": {
    "scrolled": false
   },
   "outputs": [
    {
     "data": {
      "text/html": [
       "<div>\n",
       "<style scoped>\n",
       "    .dataframe tbody tr th:only-of-type {\n",
       "        vertical-align: middle;\n",
       "    }\n",
       "\n",
       "    .dataframe tbody tr th {\n",
       "        vertical-align: top;\n",
       "    }\n",
       "\n",
       "    .dataframe thead th {\n",
       "        text-align: right;\n",
       "    }\n",
       "</style>\n",
       "<table border=\"1\" class=\"dataframe\">\n",
       "  <thead>\n",
       "    <tr style=\"text-align: right;\">\n",
       "      <th></th>\n",
       "      <th>date</th>\n",
       "      <th>revenue</th>\n",
       "      <th>orders</th>\n",
       "    </tr>\n",
       "  </thead>\n",
       "  <tbody>\n",
       "    <tr>\n",
       "      <th>33</th>\n",
       "      <td>2019-08-17</td>\n",
       "      <td>2620790</td>\n",
       "      <td>373</td>\n",
       "    </tr>\n",
       "    <tr>\n",
       "      <th>35</th>\n",
       "      <td>2019-08-18</td>\n",
       "      <td>2686621</td>\n",
       "      <td>382</td>\n",
       "    </tr>\n",
       "    <tr>\n",
       "      <th>37</th>\n",
       "      <td>2019-08-19</td>\n",
       "      <td>4116541</td>\n",
       "      <td>403</td>\n",
       "    </tr>\n",
       "    <tr>\n",
       "      <th>39</th>\n",
       "      <td>2019-08-20</td>\n",
       "      <td>4263815</td>\n",
       "      <td>423</td>\n",
       "    </tr>\n",
       "    <tr>\n",
       "      <th>41</th>\n",
       "      <td>2019-08-21</td>\n",
       "      <td>4426892</td>\n",
       "      <td>437</td>\n",
       "    </tr>\n",
       "  </tbody>\n",
       "</table>\n",
       "</div>"
      ],
      "text/plain": [
       "         date  revenue  orders\n",
       "33 2019-08-17  2620790     373\n",
       "35 2019-08-18  2686621     382\n",
       "37 2019-08-19  4116541     403\n",
       "39 2019-08-20  4263815     423\n",
       "41 2019-08-21  4426892     437"
      ]
     },
     "execution_count": 14,
     "metadata": {},
     "output_type": "execute_result"
    }
   ],
   "source": [
    "cumulativeRevenueB.query('\"2019-08-17\" <= date <= \"2019-08-21\"')"
   ]
  },
  {
   "cell_type": "markdown",
   "metadata": {},
   "source": [
    "Предположение с резко возросшим количеством заказов не подтвердилось, ибо их количество умеренно растет изо дня в день. Тогда отсортируем заказы от 19 августа по убыванию."
   ]
  },
  {
   "cell_type": "code",
   "execution_count": 15,
   "metadata": {
    "scrolled": true
   },
   "outputs": [
    {
     "data": {
      "text/html": [
       "<div>\n",
       "<style scoped>\n",
       "    .dataframe tbody tr th:only-of-type {\n",
       "        vertical-align: middle;\n",
       "    }\n",
       "\n",
       "    .dataframe tbody tr th {\n",
       "        vertical-align: top;\n",
       "    }\n",
       "\n",
       "    .dataframe thead th {\n",
       "        text-align: right;\n",
       "    }\n",
       "</style>\n",
       "<table border=\"1\" class=\"dataframe\">\n",
       "  <thead>\n",
       "    <tr style=\"text-align: right;\">\n",
       "      <th></th>\n",
       "      <th>transactionId</th>\n",
       "      <th>visitorId</th>\n",
       "      <th>date</th>\n",
       "      <th>revenue</th>\n",
       "      <th>group</th>\n",
       "    </tr>\n",
       "  </thead>\n",
       "  <tbody>\n",
       "    <tr>\n",
       "      <th>425</th>\n",
       "      <td>590470918</td>\n",
       "      <td>1920142716</td>\n",
       "      <td>2019-08-19</td>\n",
       "      <td>1294500</td>\n",
       "      <td>B</td>\n",
       "    </tr>\n",
       "    <tr>\n",
       "      <th>530</th>\n",
       "      <td>3970235543</td>\n",
       "      <td>2912540959</td>\n",
       "      <td>2019-08-19</td>\n",
       "      <td>43990</td>\n",
       "      <td>A</td>\n",
       "    </tr>\n",
       "    <tr>\n",
       "      <th>527</th>\n",
       "      <td>1570513684</td>\n",
       "      <td>2837914161</td>\n",
       "      <td>2019-08-19</td>\n",
       "      <td>33405</td>\n",
       "      <td>B</td>\n",
       "    </tr>\n",
       "    <tr>\n",
       "      <th>421</th>\n",
       "      <td>3765974140</td>\n",
       "      <td>1357170471</td>\n",
       "      <td>2019-08-19</td>\n",
       "      <td>31680</td>\n",
       "      <td>A</td>\n",
       "    </tr>\n",
       "    <tr>\n",
       "      <th>461</th>\n",
       "      <td>2683113224</td>\n",
       "      <td>154576532</td>\n",
       "      <td>2019-08-19</td>\n",
       "      <td>26550</td>\n",
       "      <td>B</td>\n",
       "    </tr>\n",
       "  </tbody>\n",
       "</table>\n",
       "</div>"
      ],
      "text/plain": [
       "     transactionId   visitorId       date  revenue group\n",
       "425      590470918  1920142716 2019-08-19  1294500     B\n",
       "530     3970235543  2912540959 2019-08-19    43990     A\n",
       "527     1570513684  2837914161 2019-08-19    33405     B\n",
       "421     3765974140  1357170471 2019-08-19    31680     A\n",
       "461     2683113224   154576532 2019-08-19    26550     B"
      ]
     },
     "execution_count": 15,
     "metadata": {},
     "output_type": "execute_result"
    }
   ],
   "source": [
    "orders.query('date == \"2019-08-19\"').sort_values(by = 'revenue', ascending = False).head()"
   ]
  },
  {
   "cell_type": "markdown",
   "metadata": {},
   "source": [
    "Действительно, есть всего один заказ почти на 1.3 млн., который резко выбивается от остальных, поэтому его можно считать выбросом и учитывать это при дальнейшем анализе. "
   ]
  },
  {
   "cell_type": "markdown",
   "metadata": {},
   "source": [
    "#### 3.2 График кумулятивного среднего чека по группам"
   ]
  },
  {
   "cell_type": "markdown",
   "metadata": {},
   "source": [
    "Построим график кумулятивного среднего чека по группам, разделив кумулятивную выручку на кумулятивное число заказов."
   ]
  },
  {
   "cell_type": "code",
   "execution_count": 16,
   "metadata": {
    "scrolled": true
   },
   "outputs": [
    {
     "data": {
      "image/png": "[encoded data removed]",
      "text/plain": [
       "<Figure size 1080x288 with 1 Axes>"
      ]
     },
     "metadata": {
      "needs_background": "light"
     },
     "output_type": "display_data"
    }
   ],
   "source": [
    "plt.figure(figsize=(15,4))\n",
    "plt.grid()\n",
    "plt.plot(cumulativeRevenueA['date'], cumulativeRevenueA['revenue'] / cumulativeRevenueA['orders'],\n",
    "         label = 'Кумулятивный средний чек группы A')\n",
    "plt.plot(cumulativeRevenueB['date'], cumulativeRevenueB['revenue'] / cumulativeRevenueB['orders'],\n",
    "         label = 'Кумулятивный средний чек группы B')\n",
    "plt.legend()\n",
    "plt.grid()\n",
    "plt.show()"
   ]
  },
  {
   "cell_type": "markdown",
   "metadata": {},
   "source": [
    "Есть некоторая схожесть с графиком кумулятивной выручки, так как во второй половине месяца группа B снова резко вырывается вперед, но только уже по кумулятивному среднему чеку. Интересно то, что после большого заказа кумулятивный средний чек группы B начал постепенно снижаться, в то время как у группы А стабильно расти. "
   ]
  },
  {
   "cell_type": "markdown",
   "metadata": {},
   "source": [
    "#### 3.3 График относительного изменения кумулятивного среднего чека группы B к группе A"
   ]
  },
  {
   "cell_type": "markdown",
   "metadata": {},
   "source": [
    "Построим график относительного изменения кумулятивного среднего чека группы B к группе A."
   ]
  },
  {
   "cell_type": "code",
   "execution_count": 17,
   "metadata": {
    "scrolled": false
   },
   "outputs": [
    {
     "data": {
      "image/png": "[encoded data removed]",
      "text/plain": [
       "<Figure size 1080x288 with 1 Axes>"
      ]
     },
     "metadata": {
      "needs_background": "light"
     },
     "output_type": "display_data"
    }
   ],
   "source": [
    "mergedCumulativeRevenue = cumulativeRevenueA.merge(cumulativeRevenueB,\n",
    "                                                   left_on = 'date', right_on = 'date', how = 'left', suffixes = ['A', 'B'])\n",
    "\n",
    "plt.figure(figsize = (15,4))\n",
    "plt.grid()\n",
    "plt.plot(mergedCumulativeRevenue['date'], (mergedCumulativeRevenue['revenueB'] / mergedCumulativeRevenue['ordersB']) / \\\n",
    "         (mergedCumulativeRevenue['revenueA'] / mergedCumulativeRevenue['ordersA']) - 1)\n",
    "plt.title('Относительное изменение кумулятивного среднего чека группы B к группе A')\n",
    "plt.axhline(y = 0, color = 'black', linestyle = '--')\n",
    "plt.show()"
   ]
  },
  {
   "cell_type": "markdown",
   "metadata": {},
   "source": [
    "Посколько этот график является производным от предыдущего, то и вывод в бОльшей степени будет таким же. Во второй половине месяца группа B резко вырывается вперед по кумулятивному среднему чеку. После большого заказа кумулятивный средний чек группы B начал постепенно снижаться, в то время как у группы А стабильно расти, поэтому со временем они могли бы пересечься. "
   ]
  },
  {
   "cell_type": "markdown",
   "metadata": {},
   "source": [
    "#### 3.4 График кумулятивной конверсии по группам"
   ]
  },
  {
   "cell_type": "markdown",
   "metadata": {},
   "source": [
    "Построим и проанализируем график кумулятивной конверсии по группам. "
   ]
  },
  {
   "cell_type": "code",
   "execution_count": 18,
   "metadata": {
    "scrolled": true
   },
   "outputs": [
    {
     "data": {
      "image/png": "[encoded data removed]",
      "text/plain": [
       "<Figure size 1080x360 with 1 Axes>"
      ]
     },
     "metadata": {
      "needs_background": "light"
     },
     "output_type": "display_data"
    }
   ],
   "source": [
    "cumulativeData['conversion'] = cumulativeData['orders'] / cumulativeData['visitors']\n",
    "cumulativeDataA = cumulativeData[cumulativeData['group'] == 'A']\n",
    "cumulativeDataB = cumulativeData[cumulativeData['group'] == 'B']\n",
    "plt.figure(figsize=(15,5))\n",
    "plt.plot(cumulativeDataA['date'], cumulativeDataA['conversion'], label = 'Кумулятивная конверсия группы A')\n",
    "plt.plot(cumulativeDataB['date'], cumulativeDataB['conversion'], label = 'Кумулятивная конверсия группы B')\n",
    "plt.title('Кумулятивная конверсия')\n",
    "plt.legend()\n",
    "plt.grid()\n",
    "plt.show()"
   ]
  },
  {
   "cell_type": "markdown",
   "metadata": {},
   "source": [
    "В начале месяца конверсия группы А была больше группы B, почти постоянно с 1 по 5 августа. 3 августа была максимальной за весь период наблюдения. Затем началось резкое падение и после 9 августа волантильность конверсии была вполне стабильной и примерно на одном уровне - 0.025 - 0.31. \n",
    "\n",
    "Конверсия группы B с 4 августа резко пошла вверх и уже 6 августа обогнала конверсию группы A. Рост был вплоть до 10 августа, затем также возникла вполне стабильная волантильность примерно на одном уровне - 0.033 - 0.036. \n",
    "\n",
    "Можно сделать вывод, что конверсия группы B в целом значительно больше конверсии группы А."
   ]
  },
  {
   "cell_type": "markdown",
   "metadata": {},
   "source": [
    "#### 3.5 График относительного изменения кумулятивной конверсии группы B к группе A"
   ]
  },
  {
   "cell_type": "markdown",
   "metadata": {},
   "source": [
    "Построим график относительного изменения кумулятивной конверсии группы B к группе A."
   ]
  },
  {
   "cell_type": "code",
   "execution_count": 19,
   "metadata": {},
   "outputs": [
    {
     "data": {
      "image/png": "[encoded data removed]",
      "text/plain": [
       "<Figure size 1080x288 with 1 Axes>"
      ]
     },
     "metadata": {
      "needs_background": "light"
     },
     "output_type": "display_data"
    }
   ],
   "source": [
    "mergedCumulativeConversions = cumulativeDataA[['date','conversion']].merge(cumulativeDataB[['date','conversion']], \\\n",
    "                                                    left_on = 'date', right_on = 'date', how = 'left', suffixes = ['A', 'B'])\n",
    "plt.figure(figsize = (15,4))\n",
    "plt.grid()\n",
    "plt.plot(mergedCumulativeConversions['date'],\n",
    "         mergedCumulativeConversions['conversionB'] / mergedCumulativeConversions['conversionA'] - 1)\n",
    "plt.title('Относительное изменение кумулятивной конверсии группы B к группе A')\n",
    "plt.axhline(y = 0, color = 'black', linestyle = '--') \n",
    "plt.show()"
   ]
  },
  {
   "cell_type": "markdown",
   "metadata": {},
   "source": [
    "Посколько этот график является производным от предыдущего, то и вывод в бОльшей степени будет таким же. В начале месяца конверсия группы А была больше группы B, почти постоянно с 1 по 5 августа. Затем началось резкое падение и после 9 августа волантильность конверсии была вполне стабильной.\n",
    "\n",
    "Конверсия группы B с 4 августа резко пошла вверх и уже 6 августа обогнала конверсию группы A. Рост был вплоть до 10 августа, затем также возникла вполне стабильная волантильность.\n",
    "\n",
    "Вывод такой же - конверсия группы B в целом значительно больше конверсии группы А."
   ]
  },
  {
   "cell_type": "markdown",
   "metadata": {},
   "source": [
    "#### 3.6 Точечный график количества заказов по пользователям"
   ]
  },
  {
   "cell_type": "markdown",
   "metadata": {},
   "source": [
    "Построим точечный график количества заказов по пользователям. "
   ]
  },
  {
   "cell_type": "code",
   "execution_count": 20,
   "metadata": {
    "scrolled": true
   },
   "outputs": [
    {
     "data": {
      "text/html": [
       "<div>\n",
       "<style scoped>\n",
       "    .dataframe tbody tr th:only-of-type {\n",
       "        vertical-align: middle;\n",
       "    }\n",
       "\n",
       "    .dataframe tbody tr th {\n",
       "        vertical-align: top;\n",
       "    }\n",
       "\n",
       "    .dataframe thead th {\n",
       "        text-align: right;\n",
       "    }\n",
       "</style>\n",
       "<table border=\"1\" class=\"dataframe\">\n",
       "  <thead>\n",
       "    <tr style=\"text-align: right;\">\n",
       "      <th></th>\n",
       "      <th>user_id</th>\n",
       "      <th>orders</th>\n",
       "    </tr>\n",
       "  </thead>\n",
       "  <tbody>\n",
       "    <tr>\n",
       "      <th>1023</th>\n",
       "      <td>4256040402</td>\n",
       "      <td>11</td>\n",
       "    </tr>\n",
       "    <tr>\n",
       "      <th>591</th>\n",
       "      <td>2458001652</td>\n",
       "      <td>11</td>\n",
       "    </tr>\n",
       "    <tr>\n",
       "      <th>569</th>\n",
       "      <td>2378935119</td>\n",
       "      <td>9</td>\n",
       "    </tr>\n",
       "    <tr>\n",
       "      <th>487</th>\n",
       "      <td>2038680547</td>\n",
       "      <td>8</td>\n",
       "    </tr>\n",
       "    <tr>\n",
       "      <th>44</th>\n",
       "      <td>199603092</td>\n",
       "      <td>5</td>\n",
       "    </tr>\n",
       "    <tr>\n",
       "      <th>744</th>\n",
       "      <td>3062433592</td>\n",
       "      <td>5</td>\n",
       "    </tr>\n",
       "    <tr>\n",
       "      <th>55</th>\n",
       "      <td>237748145</td>\n",
       "      <td>5</td>\n",
       "    </tr>\n",
       "    <tr>\n",
       "      <th>917</th>\n",
       "      <td>3803269165</td>\n",
       "      <td>5</td>\n",
       "    </tr>\n",
       "    <tr>\n",
       "      <th>299</th>\n",
       "      <td>1230306981</td>\n",
       "      <td>5</td>\n",
       "    </tr>\n",
       "    <tr>\n",
       "      <th>897</th>\n",
       "      <td>3717692402</td>\n",
       "      <td>5</td>\n",
       "    </tr>\n",
       "  </tbody>\n",
       "</table>\n",
       "</div>"
      ],
      "text/plain": [
       "         user_id  orders\n",
       "1023  4256040402      11\n",
       "591   2458001652      11\n",
       "569   2378935119       9\n",
       "487   2038680547       8\n",
       "44     199603092       5\n",
       "744   3062433592       5\n",
       "55     237748145       5\n",
       "917   3803269165       5\n",
       "299   1230306981       5\n",
       "897   3717692402       5"
      ]
     },
     "execution_count": 20,
     "metadata": {},
     "output_type": "execute_result"
    }
   ],
   "source": [
    "ordersByUsers = orders.drop(['group', 'revenue', 'date'], axis = 1).groupby('visitorId', as_index = False). \\\n",
    "                                                                        agg({'transactionId' : pd.Series.nunique})\n",
    "\n",
    "ordersByUsers.columns = ['user_id','orders']\n",
    "\n",
    "ordersByUsers.sort_values(by = 'orders', ascending = False).head(10)"
   ]
  },
  {
   "cell_type": "code",
   "execution_count": 21,
   "metadata": {
    "scrolled": true
   },
   "outputs": [
    {
     "data": {
      "image/png": "[encoded data removed]",
      "text/plain": [
       "<Figure size 1080x288 with 1 Axes>"
      ]
     },
     "metadata": {
      "needs_background": "light"
     },
     "output_type": "display_data"
    }
   ],
   "source": [
    "x_values = pd.Series(range(0, len(ordersByUsers)))\n",
    "plt.figure(figsize = (15,4))\n",
    "plt.grid()\n",
    "plt.title('Точечный график количества заказов по пользователям')\n",
    "plt.scatter(x_values, ordersByUsers['orders'], alpha = 0.5)\n",
    "plt.show()"
   ]
  },
  {
   "cell_type": "markdown",
   "metadata": {},
   "source": [
    "Подавляющее число пользователей сделали всего 1 заказ, а тех, кто совершил 2 заказа, уже намного меньше, это явно прослеживается на графике. Совсем мало тех, кто совершил 3 заказа, но пока непонятно, стоит ли это считать выбросами. Явно стоит считать выбросами тех, кто совершил более 4 заказов. Необходимо посчитать процентили, чтобы решить окончательно. "
   ]
  },
  {
   "cell_type": "markdown",
   "metadata": {},
   "source": [
    "#### 3.7 Граница для определения аномальных пользователей "
   ]
  },
  {
   "cell_type": "markdown",
   "metadata": {},
   "source": [
    "Посчитаем 95-й и 99-й перцентили количества заказов на пользователя. Затем выберем границу для определения аномальных пользователей."
   ]
  },
  {
   "cell_type": "code",
   "execution_count": 22,
   "metadata": {},
   "outputs": [
    {
     "name": "stdout",
     "output_type": "stream",
     "text": [
      "Перцентили:\n",
      "95: 2.0\n",
      "99: 4.0\n"
     ]
    }
   ],
   "source": [
    "percentiles = np.percentile(ordersByUsers['orders'], [95, 99])\n",
    "print('Перцентили:\\n95: {}\\n99: {}'.format(percentiles[0], percentiles[1]))"
   ]
  },
  {
   "cell_type": "markdown",
   "metadata": {},
   "source": [
    "Теперь окончательно понятно, что больше 2-х заказов совершают всего 5% пользователей, поэтому их можно считать аномалией. Это и будет границей."
   ]
  },
  {
   "cell_type": "markdown",
   "metadata": {},
   "source": [
    "#### 3.8 Точечный график стоимостей заказов"
   ]
  },
  {
   "cell_type": "markdown",
   "metadata": {},
   "source": [
    "Построим точечный график стоимостей заказов."
   ]
  },
  {
   "cell_type": "code",
   "execution_count": 23,
   "metadata": {},
   "outputs": [
    {
     "data": {
      "image/png": "[encoded data removed]",
      "text/plain": [
       "<Figure size 1080x288 with 1 Axes>"
      ]
     },
     "metadata": {
      "needs_background": "light"
     },
     "output_type": "display_data"
    }
   ],
   "source": [
    "x_values = pd.Series(range(0, len(orders['revenue'])))\n",
    "plt.figure(figsize = (15,4))\n",
    "plt.grid()\n",
    "plt.title('Точечный график стоимостей заказов')\n",
    "plt.scatter(x_values, orders['revenue'], alpha = 0.5)\n",
    "plt.show()"
   ]
  },
  {
   "cell_type": "markdown",
   "metadata": {},
   "source": [
    "Большой выброс мешает наглядно посмотреть на график, поэтому уберем все, что выше 100 000. "
   ]
  },
  {
   "cell_type": "code",
   "execution_count": 24,
   "metadata": {
    "scrolled": true
   },
   "outputs": [
    {
     "data": {
      "image/png": "[encoded data removed]",
      "text/plain": [
       "<Figure size 1080x288 with 1 Axes>"
      ]
     },
     "metadata": {
      "needs_background": "light"
     },
     "output_type": "display_data"
    }
   ],
   "source": [
    "orders_n = orders[orders['revenue'] <= 200000]['revenue']\n",
    "x_n_values = pd.Series(range(0, len(orders_n)))\n",
    "plt.figure(figsize = (15,4))\n",
    "plt.grid()\n",
    "plt.title('Точечный график стоимостей заказов')\n",
    "plt.scatter(x_n_values, orders_n, alpha = 0.5)\n",
    "plt.show()"
   ]
  },
  {
   "cell_type": "markdown",
   "metadata": {},
   "source": [
    "Есть аномальные стоимости заказов, но большинство не более 100 тыс. Необходимо определить точную границу, для этого снова обратимся к расчету процентилей. "
   ]
  },
  {
   "cell_type": "markdown",
   "metadata": {},
   "source": [
    "#### 3.9 Граница для определения аномальных заказов"
   ]
  },
  {
   "cell_type": "markdown",
   "metadata": {},
   "source": [
    "Посчитаем 95-й и 99-й перцентили сумм заказов на пользователя. Затем выберем границу для определения аномальных пользователей."
   ]
  },
  {
   "cell_type": "code",
   "execution_count": 25,
   "metadata": {},
   "outputs": [
    {
     "name": "stdout",
     "output_type": "stream",
     "text": [
      "Перцентили:\n",
      "95: 28000\n",
      "99: 58233\n"
     ]
    }
   ],
   "source": [
    "percentiles = np.percentile(orders['revenue'], [95, 99])\n",
    "print('Перцентили:\\n95: {:.0f}\\n99: {:.0f}'.format(percentiles[0], percentiles[1]))"
   ]
  },
  {
   "cell_type": "markdown",
   "metadata": {},
   "source": [
    "Теперь окончательно понятно, что заказы стоимостью свыше 58 233 совершают всего 1% пользователей, поэтому их можно считать аномалией. Это и будет границей."
   ]
  },
  {
   "cell_type": "markdown",
   "metadata": {},
   "source": [
    "#### 3.10 Статистическая значимость различий в конверсии между группами по «сырым» данным"
   ]
  },
  {
   "cell_type": "markdown",
   "metadata": {},
   "source": [
    "Посчитаем статистическую значимость различий в конверсии между группами по «сырым» данным. Соберем все данные по заказам и визитам, а также кумулятивные показатели в одну таблицу. Для этого создадим несколько таблиц и затем объединим их."
   ]
  },
  {
   "cell_type": "code",
   "execution_count": 26,
   "metadata": {},
   "outputs": [],
   "source": [
    "visitorsADaily = visitors[visitors['group'] == 'A'][['date', 'visitors']]\n",
    "visitorsADaily.columns = ['date', 'visitorsPerDateA']\n",
    "visitorsACummulative = visitorsADaily.apply(lambda x: visitorsADaily[visitorsADaily['date'] <= x['date']]. \\\n",
    "                                            agg({'date' : 'max', 'visitorsPerDateA' : 'sum'}), axis = 1)\n",
    "visitorsACummulative.columns = ['date', 'visitorsCummulativeA']\n",
    "\n",
    "visitorsBDaily = visitors[visitors['group'] == 'B'][['date', 'visitors']]\n",
    "visitorsBDaily.columns = ['date', 'visitorsPerDateB']\n",
    "visitorsBCummulative = visitorsBDaily.apply(lambda x: visitorsBDaily[visitorsBDaily['date'] <= x['date']]. \\\n",
    "                                            agg({'date' : 'max', 'visitorsPerDateB' : 'sum'}), axis = 1)\n",
    "visitorsBCummulative.columns = ['date', 'visitorsCummulativeB']\n",
    "\n",
    "\n",
    "ordersADaily = orders[orders['group'] == 'A'][['date', 'transactionId', 'visitorId', 'revenue']]\\\n",
    "    .groupby('date', as_index = False)\\\n",
    "    .agg({'transactionId' : pd.Series.nunique, 'revenue' : 'sum'})\n",
    "ordersADaily.columns = ['date', 'ordersPerDateA', 'revenuePerDateA']\n",
    "ordersACummulative = ordersADaily.apply(\n",
    "    lambda x: \\\n",
    "        ordersADaily[ordersADaily['date'] <= x['date']]\\\n",
    "            .agg({\n",
    "                'date' : 'max',\n",
    "                'ordersPerDateA' : 'sum',\n",
    "                'revenuePerDateA' : 'sum'}), axis=1).sort_values(by=['date'])\n",
    "ordersACummulative.columns = ['date', 'ordersCummulativeA', 'revenueCummulativeA']\n",
    "\n",
    "ordersBDaily = orders[orders['group'] == 'B'][['date', 'transactionId', 'visitorId', 'revenue']]\\\n",
    "    .groupby('date', as_index = False)\\\n",
    "    .agg({'transactionId' : pd.Series.nunique, 'revenue' : 'sum'})\n",
    "ordersBDaily.columns = ['date', 'ordersPerDateB', 'revenuePerDateB']\n",
    "ordersBCummulative = ordersBDaily.apply(\n",
    "    lambda x: \\\n",
    "        ordersBDaily[ordersBDaily['date'] <= x['date']]\\\n",
    "            .agg({\n",
    "                'date' : 'max',\n",
    "                'ordersPerDateB' : 'sum',\n",
    "                'revenuePerDateB' : 'sum'}), axis = 1).sort_values(by = ['date'])\n",
    "ordersBCummulative.columns = ['date', 'ordersCummulativeB', 'revenueCummulativeB']"
   ]
  },
  {
   "cell_type": "code",
   "execution_count": 27,
   "metadata": {
    "scrolled": true
   },
   "outputs": [
    {
     "data": {
      "text/html": [
       "<div>\n",
       "<style scoped>\n",
       "    .dataframe tbody tr th:only-of-type {\n",
       "        vertical-align: middle;\n",
       "    }\n",
       "\n",
       "    .dataframe tbody tr th {\n",
       "        vertical-align: top;\n",
       "    }\n",
       "\n",
       "    .dataframe thead th {\n",
       "        text-align: right;\n",
       "    }\n",
       "</style>\n",
       "<table border=\"1\" class=\"dataframe\">\n",
       "  <thead>\n",
       "    <tr style=\"text-align: right;\">\n",
       "      <th></th>\n",
       "      <th>date</th>\n",
       "      <th>ordersPerDateA</th>\n",
       "      <th>revenuePerDateA</th>\n",
       "      <th>ordersPerDateB</th>\n",
       "      <th>revenuePerDateB</th>\n",
       "      <th>ordersCummulativeA</th>\n",
       "      <th>revenueCummulativeA</th>\n",
       "      <th>ordersCummulativeB</th>\n",
       "      <th>revenueCummulativeB</th>\n",
       "      <th>visitorsPerDateA</th>\n",
       "      <th>visitorsPerDateB</th>\n",
       "      <th>visitorsCummulativeA</th>\n",
       "      <th>visitorsCummulativeB</th>\n",
       "    </tr>\n",
       "  </thead>\n",
       "  <tbody>\n",
       "    <tr>\n",
       "      <th>27</th>\n",
       "      <td>2019-08-28</td>\n",
       "      <td>17</td>\n",
       "      <td>101122</td>\n",
       "      <td>28</td>\n",
       "      <td>96008</td>\n",
       "      <td>512</td>\n",
       "      <td>3615820</td>\n",
       "      <td>576</td>\n",
       "      <td>5328268</td>\n",
       "      <td>594</td>\n",
       "      <td>654</td>\n",
       "      <td>16970</td>\n",
       "      <td>17177</td>\n",
       "    </tr>\n",
       "    <tr>\n",
       "      <th>3</th>\n",
       "      <td>2019-08-04</td>\n",
       "      <td>16</td>\n",
       "      <td>70825</td>\n",
       "      <td>17</td>\n",
       "      <td>108571</td>\n",
       "      <td>84</td>\n",
       "      <td>425699</td>\n",
       "      <td>78</td>\n",
       "      <td>489567</td>\n",
       "      <td>717</td>\n",
       "      <td>770</td>\n",
       "      <td>2562</td>\n",
       "      <td>2573</td>\n",
       "    </tr>\n",
       "    <tr>\n",
       "      <th>19</th>\n",
       "      <td>2019-08-20</td>\n",
       "      <td>12</td>\n",
       "      <td>77619</td>\n",
       "      <td>20</td>\n",
       "      <td>147274</td>\n",
       "      <td>362</td>\n",
       "      <td>2469529</td>\n",
       "      <td>423</td>\n",
       "      <td>4263815</td>\n",
       "      <td>575</td>\n",
       "      <td>560</td>\n",
       "      <td>12204</td>\n",
       "      <td>12218</td>\n",
       "    </tr>\n",
       "    <tr>\n",
       "      <th>23</th>\n",
       "      <td>2019-08-24</td>\n",
       "      <td>15</td>\n",
       "      <td>127703</td>\n",
       "      <td>16</td>\n",
       "      <td>95506</td>\n",
       "      <td>441</td>\n",
       "      <td>3002070</td>\n",
       "      <td>493</td>\n",
       "      <td>4798722</td>\n",
       "      <td>395</td>\n",
       "      <td>378</td>\n",
       "      <td>14322</td>\n",
       "      <td>14448</td>\n",
       "    </tr>\n",
       "    <tr>\n",
       "      <th>22</th>\n",
       "      <td>2019-08-23</td>\n",
       "      <td>25</td>\n",
       "      <td>117788</td>\n",
       "      <td>15</td>\n",
       "      <td>113969</td>\n",
       "      <td>426</td>\n",
       "      <td>2874367</td>\n",
       "      <td>477</td>\n",
       "      <td>4703216</td>\n",
       "      <td>468</td>\n",
       "      <td>546</td>\n",
       "      <td>13927</td>\n",
       "      <td>14070</td>\n",
       "    </tr>\n",
       "  </tbody>\n",
       "</table>\n",
       "</div>"
      ],
      "text/plain": [
       "         date  ordersPerDateA  revenuePerDateA  ordersPerDateB  \\\n",
       "27 2019-08-28              17           101122              28   \n",
       "3  2019-08-04              16            70825              17   \n",
       "19 2019-08-20              12            77619              20   \n",
       "23 2019-08-24              15           127703              16   \n",
       "22 2019-08-23              25           117788              15   \n",
       "\n",
       "    revenuePerDateB  ordersCummulativeA  revenueCummulativeA  \\\n",
       "27            96008                 512              3615820   \n",
       "3            108571                  84               425699   \n",
       "19           147274                 362              2469529   \n",
       "23            95506                 441              3002070   \n",
       "22           113969                 426              2874367   \n",
       "\n",
       "    ordersCummulativeB  revenueCummulativeB  visitorsPerDateA  \\\n",
       "27                 576              5328268               594   \n",
       "3                   78               489567               717   \n",
       "19                 423              4263815               575   \n",
       "23                 493              4798722               395   \n",
       "22                 477              4703216               468   \n",
       "\n",
       "    visitorsPerDateB  visitorsCummulativeA  visitorsCummulativeB  \n",
       "27               654                 16970                 17177  \n",
       "3                770                  2562                  2573  \n",
       "19               560                 12204                 12218  \n",
       "23               378                 14322                 14448  \n",
       "22               546                 13927                 14070  "
      ]
     },
     "execution_count": 27,
     "metadata": {},
     "output_type": "execute_result"
    }
   ],
   "source": [
    "data = ordersADaily.merge(ordersBDaily, left_on = 'date', right_on = 'date', how = 'left')\\\n",
    "    .merge(ordersACummulative, left_on = 'date', right_on = 'date', how = 'left')\\\n",
    "    .merge(ordersBCummulative, left_on = 'date', right_on = 'date', how = 'left')\\\n",
    "    .merge(visitorsADaily, left_on = 'date', right_on = 'date', how = 'left')\\\n",
    "    .merge(visitorsBDaily, left_on = 'date', right_on = 'date', how = 'left')\\\n",
    "    .merge(visitorsACummulative, left_on = 'date', right_on = 'date', how = 'left')\\\n",
    "    .merge(visitorsBCummulative, left_on = 'date', right_on = 'date', how = 'left')\n",
    "data.sample(n = 5, random_state = 1)"
   ]
  },
  {
   "cell_type": "markdown",
   "metadata": {},
   "source": [
    "Применим «U-критерий Манна-Уитни». \n",
    "\n",
    "Формируем гипотезы:\n",
    "- H0 — статистически значимых различий в конверсии между группами по «сырым» данным нет;\n",
    "- H1 — статистически значимые различия в конверсии между группами по «сырым» данным есть."
   ]
  },
  {
   "cell_type": "code",
   "execution_count": 28,
   "metadata": {
    "scrolled": true
   },
   "outputs": [
    {
     "name": "stdout",
     "output_type": "stream",
     "text": [
      "alpha = 0.05\n",
      "p-value = 0.017\n",
      "Относительный показатель B и A = 0.138\n"
     ]
    }
   ],
   "source": [
    "ordersByUsersA = orders[orders['group'] == 'A'].groupby('visitorId',\n",
    "                                                        as_index = False).agg({'transactionId' : pd.Series.nunique})\n",
    "ordersByUsersA.columns = ['userId', 'orders']\n",
    "\n",
    "ordersByUsersB = orders[orders['group'] == 'B'].groupby('visitorId',\n",
    "                                                        as_index = False).agg({'transactionId' : pd.Series.nunique})\n",
    "ordersByUsersB.columns = ['userId', 'orders']\n",
    "\n",
    "sampleA = pd.concat([ordersByUsersA['orders'],\n",
    "                     pd.Series(0, index = np.arange(data['visitorsPerDateA'].sum() - len(ordersByUsersA['orders'])),\n",
    "                               name = 'orders')], axis = 0)\n",
    "\n",
    "sampleB = pd.concat([ordersByUsersB['orders'],\n",
    "                     pd.Series(0, index = np.arange(data['visitorsPerDateB'].sum() - len(ordersByUsersB['orders'])),\n",
    "                               name = 'orders')], axis = 0)\n",
    "\n",
    "print('alpha =', 0.05)\n",
    "print('p-value = {0:.3f}'.format(stats.mannwhitneyu(sampleA, sampleB, alternative = 'two-sided')[1]))\n",
    "print('Относительный показатель B и A = {0:.3f}'.format(sampleB.mean() / sampleA.mean() - 1)) "
   ]
  },
  {
   "cell_type": "markdown",
   "metadata": {},
   "source": [
    "Нулевую гипотезу отвергаем, так как p-value = 0.017, что меньше 0.05. Различия в конверсии между группами по «сырым» данным есть, а относительный выигрыш группы B над A = 13.8%."
   ]
  },
  {
   "cell_type": "markdown",
   "metadata": {},
   "source": [
    "#### 3.11 Статистическая значимость различий в среднем чеке заказа между группами по «сырым» данным"
   ]
  },
  {
   "cell_type": "markdown",
   "metadata": {},
   "source": [
    "Посчитаем статистическую значимость различий в среднем чеке заказа между группами по «сырым» данным. Применим «U-критерий Манна-Уитни». \n",
    "\n",
    "Формируем гипотезы:\n",
    "- H0 — статистически значимых различий в средних чеках между группами по «сырым» данным нет;\n",
    "- H1 — статистически значимые различия в средних чеках между группами по «сырым» данным есть."
   ]
  },
  {
   "cell_type": "code",
   "execution_count": 29,
   "metadata": {
    "scrolled": true
   },
   "outputs": [
    {
     "name": "stdout",
     "output_type": "stream",
     "text": [
      "alpha = 0.05\n",
      "p-value = 0.729\n",
      "Относительный показатель B и A = 0.259\n"
     ]
    }
   ],
   "source": [
    "print('alpha =', 0.05)\n",
    "print('p-value = {0:.3f}'.format(stats.mannwhitneyu(orders[orders['group'] == 'A']['revenue'],\n",
    "                                                    orders[orders['group'] == 'B']['revenue'], alternative = 'two-sided')[1]))\n",
    "print('Относительный показатель B и A = {0:.3f}'.format(orders[orders['group'] == 'B']['revenue'].mean() /\n",
    "                                                        orders[orders['group'] == 'A']['revenue'].mean() - 1)) "
   ]
  },
  {
   "cell_type": "markdown",
   "metadata": {},
   "source": [
    "Нулевую гипотезу не отвергаем, так как p-value = 0.729, что значительно больше 0.05. Различий в средних чеках между группами по «сырым» данным нет, а средний чек группы B значительно выше среднего чека группы A, примерно на 26%. "
   ]
  },
  {
   "cell_type": "markdown",
   "metadata": {},
   "source": [
    "#### 3.12 Статистическая значимость различий в конверсии между группами по «очищенным» данным"
   ]
  },
  {
   "cell_type": "markdown",
   "metadata": {},
   "source": [
    "Ранее мы определили границы аномальных пользователей:\n",
    "- кто совершил больше 2-х заказов;\n",
    "- кто совершил заказ дороже 58233."
   ]
  },
  {
   "cell_type": "code",
   "execution_count": 30,
   "metadata": {
    "scrolled": false
   },
   "outputs": [
    {
     "name": "stdout",
     "output_type": "stream",
     "text": [
      "Всего аномальных пользователей: 31\n"
     ]
    }
   ],
   "source": [
    "usersWithManyOrders = pd.concat([ordersByUsersA[ordersByUsersA['orders'] > 2]['userId'],\n",
    "                                 ordersByUsersB[ordersByUsersB['orders'] > 2]['userId']], axis = 0)\n",
    "usersWithExpensiveOrders = orders[orders['revenue'] > 58233]['visitorId']\n",
    "abnormalUsers = pd.concat([usersWithManyOrders, usersWithExpensiveOrders], axis = 0).drop_duplicates().sort_values()\n",
    "print('Всего аномальных пользователей:', abnormalUsers.count())"
   ]
  },
  {
   "cell_type": "markdown",
   "metadata": {},
   "source": [
    "Подготовим выборки количества заказов по пользователям по группам теста:"
   ]
  },
  {
   "cell_type": "code",
   "execution_count": 31,
   "metadata": {},
   "outputs": [],
   "source": [
    "sampleAFiltered = pd.concat([ordersByUsersA[np.logical_not(ordersByUsersA['userId'].isin(abnormalUsers))]['orders'], \\\n",
    "                             pd.Series(0, index = np.arange(data['visitorsPerDateA'].sum() - len(ordersByUsersA['orders'])), \\\n",
    "                                       name = 'orders')], axis = 0)\n",
    "\n",
    "sampleBFiltered = pd.concat([ordersByUsersB[np.logical_not(ordersByUsersB['userId'].isin(abnormalUsers))]['orders'], \\\n",
    "                             pd.Series(0, index = np.arange(data['visitorsPerDateB'].sum() - len(ordersByUsersB['orders'])), \\\n",
    "                                       name = 'orders')], axis = 0) "
   ]
  },
  {
   "cell_type": "markdown",
   "metadata": {},
   "source": [
    "Посчитаем статистическую значимость различий в конверсии между группами по «очищенным» данным. Применим «U-критерий Манна-Уитни». \n",
    "\n",
    "Формируем гипотезы:\n",
    "- H0 — статистически значимых различий в конверсии между группами по «очищенным» данным нет;\n",
    "- H1 — статистически значимые различия в конверсии между группами по «очищенным» данным есть."
   ]
  },
  {
   "cell_type": "code",
   "execution_count": 32,
   "metadata": {
    "scrolled": true
   },
   "outputs": [
    {
     "name": "stdout",
     "output_type": "stream",
     "text": [
      "alpha = 0.05\n",
      "p-value = 0.010\n",
      "Относительный показатель B и A = 0.174\n"
     ]
    }
   ],
   "source": [
    "print('alpha =',0.05)\n",
    "print('p-value = {0:.3f}'.format(stats.mannwhitneyu(sampleAFiltered, sampleBFiltered, alternative = 'two-sided')[1]))\n",
    "print('Относительный показатель B и A = {0:.3f}'.format(sampleBFiltered.mean() / sampleAFiltered.mean()-1))"
   ]
  },
  {
   "cell_type": "markdown",
   "metadata": {},
   "source": [
    "Нулевую гипотезу отвергаем, так как p-value = 0.010, что меньше 0.05. Различия в конверсии между группами по «очищенным» данным есть, а относительный выигрыш группы B над A = 17,4%. Выше, чем по «сырым» данным - 13.8%."
   ]
  },
  {
   "cell_type": "markdown",
   "metadata": {},
   "source": [
    "#### 3.13 Статистическая значимость различий в среднем чеке заказа между группами по «очищенным» данным"
   ]
  },
  {
   "cell_type": "markdown",
   "metadata": {},
   "source": [
    "Посчитаем статистическую значимость различий в среднем чеке заказа между группами по «очищенным» данным. Применим «U-критерий Манна-Уитни». \n",
    "\n",
    "Формируем гипотезы:\n",
    "- H0 — статистически значимых различий в средних чеках между группами по «очищенным» данным нет;\n",
    "- H1 — статистически значимые различия в средних чеках между группами по «очищенным» данным есть."
   ]
  },
  {
   "cell_type": "code",
   "execution_count": 33,
   "metadata": {
    "scrolled": true
   },
   "outputs": [
    {
     "name": "stdout",
     "output_type": "stream",
     "text": [
      "alpha = 0.05\n",
      "p-value = 0.798\n",
      "Относительный показатель B и A = -0.020\n"
     ]
    }
   ],
   "source": [
    "print('alpha =',0.05)\n",
    "print('p-value = {0:.3f}'.format(stats.mannwhitneyu(\n",
    "    orders[np.logical_and(\n",
    "        orders['group'] == 'A',\n",
    "        np.logical_not(orders['visitorId'].isin(abnormalUsers)))]['revenue'],\n",
    "    orders[np.logical_and(\n",
    "        orders['group'] == 'B',\n",
    "        np.logical_not(orders['visitorId'].isin(abnormalUsers)))]['revenue'], alternative = 'two-sided')[1]))\n",
    "print('Относительный показатель B и A = {0:.3f}'.format(\n",
    "    orders[np.logical_and(orders['group'] == 'B',np.logical_not(orders['visitorId'].isin(abnormalUsers)))]['revenue'].mean() / \n",
    "    orders[np.logical_and(\n",
    "        orders['group'] == 'A',\n",
    "        np.logical_not(orders['visitorId'].isin(abnormalUsers)))]['revenue'].mean() - 1))"
   ]
  },
  {
   "cell_type": "markdown",
   "metadata": {},
   "source": [
    "Нулевую гипотезу не отвергаем, так как p-value = 0.798, что значительно больше 0.05. Различий в средних чеках между группами по «очищенным» данным нет, как и по «сырым» данным. При этом теперь средний чек группы B оказался незначительно ниже среднего чека группы A, а именно на 2%. Напомним, что по «сырым» данным он был больше примерно на 26%. Все из-за того аномального заказа на 1.3 млн. "
   ]
  },
  {
   "cell_type": "markdown",
   "metadata": {},
   "source": [
    "**Вывод по шагу:**\n",
    "\n",
    "По результатам анализа выявили:\n",
    "- по «сырым» и по «очищенным» данным различия в конверсии групп B и A есть;\n",
    "- относительный выигрыш группы B над равен 13.8% по «сырым» данным и 17,4% «очищенным»;\n",
    "- по «сырым» и по «очищенным» данным различия в средних чеках групп B и A отсутствуют, несмотря на то, что средний чек группы B оказался на 2% ниже среднего чека группы A по «очищенным» данным, в то время как по «сырым» данным он был больше примерно на 26%. Все из-за того аномального заказа на 1.3 млн. \n",
    "\n",
    "Результат вполне однозначен. Мы можем принять решение об остановке теста и зафиксировать победу группы B, так как она лучше группы A по конверсии, хоть и по среднему чеку они примерно равны. "
   ]
  },
  {
   "cell_type": "markdown",
   "metadata": {},
   "source": [
    "### 4. Общий вывод"
   ]
  },
  {
   "cell_type": "markdown",
   "metadata": {},
   "source": [
    "Мы закончили проект, соблюдая ход проекта и выполнив его цель:\n",
    "- загрузили данные, ознакомились с ними и проверили предобработку;\n",
    "- приоритизировали гипотезы фреймворками ICE и RICE, определив по итогу наиболее приоритетные гипотезы;\n",
    "- тщательно проанализировали A/B-тест, прибегая к помощи графиков, расчетов и «U-критерию Манна-Уитни».\n",
    "\n",
    "По итогу мы выдвинули рекомендацию о завершении теста, что лишь подтвердили результаты работы над проектом и анализа A/B-теста. \n",
    "\n"
   ]
  }
 ],
 "metadata": {
  "ExecuteTimeLog": [
   {
    "duration": 50,
    "start_time": "2022-04-02T19:00:45.050Z"
   },
   {
    "duration": 1494,
    "start_time": "2022-04-02T19:00:47.909Z"
   },
   {
    "duration": 66,
    "start_time": "2022-04-02T19:00:50.031Z"
   },
   {
    "duration": 24,
    "start_time": "2022-04-02T19:02:46.929Z"
   },
   {
    "duration": 180,
    "start_time": "2022-04-02T19:04:04.941Z"
   },
   {
    "duration": 23,
    "start_time": "2022-04-02T19:05:27.719Z"
   },
   {
    "duration": 1193,
    "start_time": "2022-04-02T19:51:22.780Z"
   },
   {
    "duration": 65,
    "start_time": "2022-04-02T19:51:23.975Z"
   },
   {
    "duration": 20,
    "start_time": "2022-04-02T19:51:24.041Z"
   },
   {
    "duration": 26,
    "start_time": "2022-04-02T19:51:24.063Z"
   },
   {
    "duration": 14,
    "start_time": "2022-04-02T19:54:46.922Z"
   },
   {
    "duration": 8,
    "start_time": "2022-04-02T19:54:52.868Z"
   },
   {
    "duration": 11,
    "start_time": "2022-04-02T19:54:56.311Z"
   },
   {
    "duration": 6,
    "start_time": "2022-04-02T19:55:39.449Z"
   },
   {
    "duration": 11,
    "start_time": "2022-04-02T19:55:48.910Z"
   },
   {
    "duration": 17,
    "start_time": "2022-04-02T19:58:11.240Z"
   },
   {
    "duration": 5,
    "start_time": "2022-04-02T19:59:16.586Z"
   },
   {
    "duration": 12,
    "start_time": "2022-04-02T19:59:19.833Z"
   },
   {
    "duration": 11,
    "start_time": "2022-04-02T19:59:23.719Z"
   },
   {
    "duration": 17,
    "start_time": "2022-04-02T20:18:24.337Z"
   },
   {
    "duration": 16,
    "start_time": "2022-04-02T20:18:34.197Z"
   },
   {
    "duration": 16,
    "start_time": "2022-04-02T20:18:38.468Z"
   },
   {
    "duration": 16,
    "start_time": "2022-04-02T20:18:43.087Z"
   },
   {
    "duration": 17,
    "start_time": "2022-04-02T20:18:47.447Z"
   },
   {
    "duration": 16,
    "start_time": "2022-04-02T20:18:52.287Z"
   },
   {
    "duration": 18,
    "start_time": "2022-04-02T20:18:55.747Z"
   },
   {
    "duration": 16,
    "start_time": "2022-04-02T20:18:59.033Z"
   },
   {
    "duration": 6,
    "start_time": "2022-04-02T20:25:10.622Z"
   },
   {
    "duration": 4,
    "start_time": "2022-04-02T20:25:33.132Z"
   },
   {
    "duration": 104,
    "start_time": "2022-04-02T20:26:06.485Z"
   },
   {
    "duration": 14,
    "start_time": "2022-04-02T20:26:16.842Z"
   },
   {
    "duration": 15,
    "start_time": "2022-04-02T20:26:35.610Z"
   },
   {
    "duration": 14,
    "start_time": "2022-04-02T20:26:47.301Z"
   },
   {
    "duration": 1193,
    "start_time": "2022-04-02T21:14:57.186Z"
   },
   {
    "duration": 74,
    "start_time": "2022-04-02T21:14:58.381Z"
   },
   {
    "duration": 20,
    "start_time": "2022-04-02T21:14:58.457Z"
   },
   {
    "duration": 16,
    "start_time": "2022-04-02T21:14:58.479Z"
   },
   {
    "duration": 17,
    "start_time": "2022-04-02T21:14:58.497Z"
   },
   {
    "duration": 22,
    "start_time": "2022-04-02T21:14:58.516Z"
   },
   {
    "duration": 4,
    "start_time": "2022-04-02T21:14:58.539Z"
   },
   {
    "duration": 17,
    "start_time": "2022-04-02T21:14:58.545Z"
   },
   {
    "duration": 14,
    "start_time": "2022-04-02T21:14:58.563Z"
   },
   {
    "duration": 12,
    "start_time": "2022-04-02T21:21:27.776Z"
   },
   {
    "duration": 17,
    "start_time": "2022-04-02T21:23:16.792Z"
   },
   {
    "duration": 306,
    "start_time": "2022-04-02T21:27:08.970Z"
   },
   {
    "duration": 306,
    "start_time": "2022-04-02T21:27:30.286Z"
   },
   {
    "duration": 308,
    "start_time": "2022-04-02T21:28:08.278Z"
   },
   {
    "duration": 309,
    "start_time": "2022-04-02T21:30:56.410Z"
   },
   {
    "duration": 228,
    "start_time": "2022-04-02T21:31:26.269Z"
   },
   {
    "duration": 218,
    "start_time": "2022-04-02T21:31:47.617Z"
   },
   {
    "duration": 212,
    "start_time": "2022-04-02T21:32:33.539Z"
   },
   {
    "duration": 224,
    "start_time": "2022-04-02T21:32:41.836Z"
   },
   {
    "duration": 217,
    "start_time": "2022-04-02T21:33:25.948Z"
   },
   {
    "duration": 213,
    "start_time": "2022-04-02T21:33:41.600Z"
   },
   {
    "duration": 296,
    "start_time": "2022-04-02T21:33:45.029Z"
   },
   {
    "duration": 191,
    "start_time": "2022-04-02T21:33:50.684Z"
   },
   {
    "duration": 199,
    "start_time": "2022-04-02T21:33:58.621Z"
   },
   {
    "duration": 218,
    "start_time": "2022-04-02T21:34:05.837Z"
   },
   {
    "duration": 12,
    "start_time": "2022-04-02T21:45:15.632Z"
   },
   {
    "duration": 12,
    "start_time": "2022-04-02T21:49:36.597Z"
   },
   {
    "duration": 12,
    "start_time": "2022-04-02T21:50:53.805Z"
   },
   {
    "duration": 202,
    "start_time": "2022-04-02T21:57:50.457Z"
   },
   {
    "duration": 333,
    "start_time": "2022-04-02T22:05:53.807Z"
   },
   {
    "duration": 314,
    "start_time": "2022-04-02T22:06:06.848Z"
   },
   {
    "duration": 275,
    "start_time": "2022-04-02T22:06:14.479Z"
   },
   {
    "duration": 310,
    "start_time": "2022-04-02T22:06:23.394Z"
   },
   {
    "duration": 227,
    "start_time": "2022-04-02T22:11:22.466Z"
   },
   {
    "duration": 237,
    "start_time": "2022-04-02T22:11:25.946Z"
   },
   {
    "duration": 321,
    "start_time": "2022-04-02T22:11:48.826Z"
   },
   {
    "duration": 233,
    "start_time": "2022-04-02T22:12:08.237Z"
   },
   {
    "duration": 349,
    "start_time": "2022-04-02T22:22:25.517Z"
   },
   {
    "duration": 353,
    "start_time": "2022-04-02T22:22:48.110Z"
   },
   {
    "duration": 327,
    "start_time": "2022-04-02T22:25:06.524Z"
   },
   {
    "duration": 136,
    "start_time": "2022-04-02T22:27:14.991Z"
   },
   {
    "duration": 136,
    "start_time": "2022-04-02T22:27:23.895Z"
   },
   {
    "duration": 129,
    "start_time": "2022-04-02T22:27:31.191Z"
   },
   {
    "duration": 128,
    "start_time": "2022-04-02T22:27:36.292Z"
   },
   {
    "duration": 141,
    "start_time": "2022-04-02T22:28:46.163Z"
   },
   {
    "duration": 6,
    "start_time": "2022-04-02T22:33:12.953Z"
   },
   {
    "duration": 4,
    "start_time": "2022-04-02T22:34:37.420Z"
   },
   {
    "duration": 6,
    "start_time": "2022-04-02T22:34:40.607Z"
   },
   {
    "duration": 157,
    "start_time": "2022-04-02T22:39:52.531Z"
   },
   {
    "duration": 157,
    "start_time": "2022-04-02T22:43:22.171Z"
   },
   {
    "duration": 160,
    "start_time": "2022-04-02T22:43:31.232Z"
   },
   {
    "duration": 168,
    "start_time": "2022-04-02T22:45:15.141Z"
   },
   {
    "duration": 5,
    "start_time": "2022-04-02T22:47:44.931Z"
   },
   {
    "duration": 100,
    "start_time": "2022-04-02T22:55:24.841Z"
   },
   {
    "duration": 188,
    "start_time": "2022-04-02T22:55:27.681Z"
   },
   {
    "duration": 31,
    "start_time": "2022-04-02T22:55:29.631Z"
   },
   {
    "duration": 163,
    "start_time": "2022-04-02T23:08:47.515Z"
   },
   {
    "duration": 149,
    "start_time": "2022-04-02T23:09:37.743Z"
   },
   {
    "duration": 162,
    "start_time": "2022-04-02T23:21:59.744Z"
   },
   {
    "duration": 166,
    "start_time": "2022-04-02T23:22:51.538Z"
   },
   {
    "duration": 13,
    "start_time": "2022-04-02T23:23:15.668Z"
   },
   {
    "duration": 10,
    "start_time": "2022-04-02T23:30:51.255Z"
   },
   {
    "duration": 10,
    "start_time": "2022-04-02T23:31:42.989Z"
   },
   {
    "duration": 9,
    "start_time": "2022-04-02T23:31:53.082Z"
   },
   {
    "duration": 9,
    "start_time": "2022-04-02T23:32:03.393Z"
   },
   {
    "duration": 8,
    "start_time": "2022-04-02T23:32:32.486Z"
   },
   {
    "duration": 9,
    "start_time": "2022-04-02T23:32:43.873Z"
   },
   {
    "duration": 8,
    "start_time": "2022-04-02T23:35:44.303Z"
   },
   {
    "duration": 24,
    "start_time": "2022-04-02T23:38:05.883Z"
   },
   {
    "duration": 24,
    "start_time": "2022-04-02T23:38:16.645Z"
   },
   {
    "duration": 25,
    "start_time": "2022-04-02T23:38:46.393Z"
   },
   {
    "duration": 15,
    "start_time": "2022-04-02T23:46:16.644Z"
   },
   {
    "duration": 1193,
    "start_time": "2022-04-02T23:51:40.904Z"
   },
   {
    "duration": 64,
    "start_time": "2022-04-02T23:51:42.099Z"
   },
   {
    "duration": 21,
    "start_time": "2022-04-02T23:51:42.165Z"
   },
   {
    "duration": 16,
    "start_time": "2022-04-02T23:51:42.188Z"
   },
   {
    "duration": 24,
    "start_time": "2022-04-02T23:51:42.207Z"
   },
   {
    "duration": 24,
    "start_time": "2022-04-02T23:51:42.233Z"
   },
   {
    "duration": 5,
    "start_time": "2022-04-02T23:51:42.259Z"
   },
   {
    "duration": 21,
    "start_time": "2022-04-02T23:51:42.265Z"
   },
   {
    "duration": 13,
    "start_time": "2022-04-02T23:51:42.287Z"
   },
   {
    "duration": 13,
    "start_time": "2022-04-02T23:51:42.302Z"
   },
   {
    "duration": 327,
    "start_time": "2022-04-02T23:51:42.317Z"
   },
   {
    "duration": 299,
    "start_time": "2022-04-02T23:51:42.646Z"
   },
   {
    "duration": 10,
    "start_time": "2022-04-02T23:51:42.947Z"
   },
   {
    "duration": 14,
    "start_time": "2022-04-02T23:51:42.960Z"
   },
   {
    "duration": 221,
    "start_time": "2022-04-02T23:51:42.975Z"
   },
   {
    "duration": 356,
    "start_time": "2022-04-02T23:51:43.198Z"
   },
   {
    "duration": 477,
    "start_time": "2022-04-02T23:51:43.555Z"
   },
   {
    "duration": 438,
    "start_time": "2022-04-02T23:51:44.034Z"
   },
   {
    "duration": 279,
    "start_time": "2022-04-02T23:51:44.474Z"
   },
   {
    "duration": 303,
    "start_time": "2022-04-02T23:51:44.755Z"
   },
   {
    "duration": 5,
    "start_time": "2022-04-02T23:51:45.060Z"
   },
   {
    "duration": 283,
    "start_time": "2022-04-02T23:51:45.067Z"
   },
   {
    "duration": 175,
    "start_time": "2022-04-02T23:51:45.352Z"
   },
   {
    "duration": 5,
    "start_time": "2022-04-02T23:51:45.529Z"
   },
   {
    "duration": 223,
    "start_time": "2022-04-02T23:51:45.536Z"
   },
   {
    "duration": 30,
    "start_time": "2022-04-02T23:51:45.761Z"
   },
   {
    "duration": 176,
    "start_time": "2022-04-02T23:51:45.792Z"
   },
   {
    "duration": 11,
    "start_time": "2022-04-02T23:51:45.970Z"
   },
   {
    "duration": 9,
    "start_time": "2022-04-02T23:51:45.983Z"
   },
   {
    "duration": 22,
    "start_time": "2022-04-02T23:51:45.993Z"
   },
   {
    "duration": 37,
    "start_time": "2022-04-02T23:51:46.017Z"
   },
   {
    "duration": 15,
    "start_time": "2022-04-02T23:51:46.056Z"
   },
   {
    "duration": 267,
    "start_time": "2022-04-03T10:25:01.317Z"
   },
   {
    "duration": 62,
    "start_time": "2022-04-03T10:25:21.894Z"
   },
   {
    "duration": 1719,
    "start_time": "2022-04-03T10:25:29.775Z"
   },
   {
    "duration": 79,
    "start_time": "2022-04-03T10:25:31.497Z"
   },
   {
    "duration": 28,
    "start_time": "2022-04-03T10:25:31.578Z"
   },
   {
    "duration": 25,
    "start_time": "2022-04-03T10:25:31.608Z"
   },
   {
    "duration": 23,
    "start_time": "2022-04-03T10:25:31.636Z"
   },
   {
    "duration": 29,
    "start_time": "2022-04-03T10:25:31.661Z"
   },
   {
    "duration": 9,
    "start_time": "2022-04-03T10:25:31.692Z"
   },
   {
    "duration": 26,
    "start_time": "2022-04-03T10:25:31.704Z"
   },
   {
    "duration": 18,
    "start_time": "2022-04-03T10:25:31.743Z"
   },
   {
    "duration": 143,
    "start_time": "2022-04-03T10:25:31.763Z"
   },
   {
    "duration": 15,
    "start_time": "2022-04-03T10:25:31.909Z"
   },
   {
    "duration": 481,
    "start_time": "2022-04-03T10:25:31.943Z"
   },
   {
    "duration": 460,
    "start_time": "2022-04-03T10:25:32.426Z"
   },
   {
    "duration": 14,
    "start_time": "2022-04-03T10:25:32.890Z"
   },
   {
    "duration": 40,
    "start_time": "2022-04-03T10:25:32.906Z"
   },
   {
    "duration": 292,
    "start_time": "2022-04-03T10:25:32.948Z"
   },
   {
    "duration": 441,
    "start_time": "2022-04-03T10:25:33.243Z"
   },
   {
    "duration": 357,
    "start_time": "2022-04-03T10:25:33.686Z"
   },
   {
    "duration": 390,
    "start_time": "2022-04-03T10:25:34.046Z"
   },
   {
    "duration": 240,
    "start_time": "2022-04-03T10:25:34.442Z"
   },
   {
    "duration": 229,
    "start_time": "2022-04-03T10:25:34.685Z"
   },
   {
    "duration": 6,
    "start_time": "2022-04-03T10:25:34.917Z"
   },
   {
    "duration": 246,
    "start_time": "2022-04-03T10:25:34.926Z"
   },
   {
    "duration": 256,
    "start_time": "2022-04-03T10:25:35.175Z"
   },
   {
    "duration": 8,
    "start_time": "2022-04-03T10:25:35.434Z"
   },
   {
    "duration": 423,
    "start_time": "2022-04-03T10:25:35.446Z"
   },
   {
    "duration": 44,
    "start_time": "2022-04-03T10:25:35.872Z"
   },
   {
    "duration": 333,
    "start_time": "2022-04-03T10:25:35.919Z"
   },
   {
    "duration": 16,
    "start_time": "2022-04-03T10:25:36.255Z"
   },
   {
    "duration": 14,
    "start_time": "2022-04-03T10:25:36.273Z"
   },
   {
    "duration": 11,
    "start_time": "2022-04-03T10:25:36.289Z"
   },
   {
    "duration": 67,
    "start_time": "2022-04-03T10:25:36.302Z"
   },
   {
    "duration": 20,
    "start_time": "2022-04-03T10:25:36.371Z"
   },
   {
    "duration": 151,
    "start_time": "2022-04-03T10:26:24.935Z"
   },
   {
    "duration": 264,
    "start_time": "2022-04-03T10:29:20.477Z"
   },
   {
    "duration": 231,
    "start_time": "2022-04-03T10:30:50.066Z"
   },
   {
    "duration": 114,
    "start_time": "2022-04-03T10:31:09.795Z"
   },
   {
    "duration": 129,
    "start_time": "2022-04-03T10:31:15.194Z"
   },
   {
    "duration": 110,
    "start_time": "2022-04-03T10:32:11.732Z"
   },
   {
    "duration": 134,
    "start_time": "2022-04-03T10:32:18.466Z"
   },
   {
    "duration": 119,
    "start_time": "2022-04-03T10:40:05.456Z"
   },
   {
    "duration": 134,
    "start_time": "2022-04-03T10:40:11.207Z"
   },
   {
    "duration": 140,
    "start_time": "2022-04-03T10:40:19.755Z"
   },
   {
    "duration": 0,
    "start_time": "2022-04-03T10:43:33.033Z"
   },
   {
    "duration": 3481,
    "start_time": "2022-04-03T10:43:53.006Z"
   },
   {
    "duration": 135,
    "start_time": "2022-04-03T10:44:13.296Z"
   },
   {
    "duration": 116,
    "start_time": "2022-04-03T10:44:35.519Z"
   },
   {
    "duration": 20,
    "start_time": "2022-04-03T10:45:14.532Z"
   },
   {
    "duration": 8,
    "start_time": "2022-04-03T10:45:29.254Z"
   },
   {
    "duration": 6,
    "start_time": "2022-04-03T10:45:34.484Z"
   },
   {
    "duration": 1387,
    "start_time": "2022-04-03T10:51:47.876Z"
   },
   {
    "duration": 78,
    "start_time": "2022-04-03T10:51:49.267Z"
   },
   {
    "duration": 32,
    "start_time": "2022-04-03T10:51:49.347Z"
   },
   {
    "duration": 26,
    "start_time": "2022-04-03T10:51:49.381Z"
   },
   {
    "duration": 50,
    "start_time": "2022-04-03T10:51:49.411Z"
   },
   {
    "duration": 28,
    "start_time": "2022-04-03T10:51:49.464Z"
   },
   {
    "duration": 6,
    "start_time": "2022-04-03T10:51:49.494Z"
   },
   {
    "duration": 46,
    "start_time": "2022-04-03T10:51:49.502Z"
   },
   {
    "duration": 18,
    "start_time": "2022-04-03T10:51:49.550Z"
   },
   {
    "duration": 140,
    "start_time": "2022-04-03T10:51:49.570Z"
   },
   {
    "duration": 31,
    "start_time": "2022-04-03T10:51:49.712Z"
   },
   {
    "duration": 463,
    "start_time": "2022-04-03T10:51:49.745Z"
   },
   {
    "duration": 439,
    "start_time": "2022-04-03T10:51:50.211Z"
   },
   {
    "duration": 14,
    "start_time": "2022-04-03T10:51:50.656Z"
   },
   {
    "duration": 24,
    "start_time": "2022-04-03T10:51:50.673Z"
   },
   {
    "duration": 307,
    "start_time": "2022-04-03T10:51:50.699Z"
   },
   {
    "duration": 443,
    "start_time": "2022-04-03T10:51:51.009Z"
   },
   {
    "duration": 353,
    "start_time": "2022-04-03T10:51:51.454Z"
   },
   {
    "duration": 440,
    "start_time": "2022-04-03T10:51:51.809Z"
   },
   {
    "duration": 250,
    "start_time": "2022-04-03T10:51:52.251Z"
   },
   {
    "duration": 217,
    "start_time": "2022-04-03T10:51:52.503Z"
   },
   {
    "duration": 6,
    "start_time": "2022-04-03T10:51:52.722Z"
   },
   {
    "duration": 249,
    "start_time": "2022-04-03T10:51:52.730Z"
   },
   {
    "duration": 238,
    "start_time": "2022-04-03T10:51:52.981Z"
   },
   {
    "duration": 5,
    "start_time": "2022-04-03T10:51:53.221Z"
   },
   {
    "duration": 406,
    "start_time": "2022-04-03T10:51:53.229Z"
   },
   {
    "duration": 53,
    "start_time": "2022-04-03T10:51:53.637Z"
   },
   {
    "duration": 303,
    "start_time": "2022-04-03T10:51:53.693Z"
   },
   {
    "duration": 15,
    "start_time": "2022-04-03T10:51:53.998Z"
   },
   {
    "duration": 32,
    "start_time": "2022-04-03T10:51:54.016Z"
   },
   {
    "duration": 19,
    "start_time": "2022-04-03T10:51:54.050Z"
   },
   {
    "duration": 31,
    "start_time": "2022-04-03T10:51:54.071Z"
   },
   {
    "duration": 39,
    "start_time": "2022-04-03T10:51:54.104Z"
   }
  ],
  "kernelspec": {
   "display_name": "Python 3 (ipykernel)",
   "language": "python",
   "name": "python3"
  },
  "language_info": {
   "codemirror_mode": {
    "name": "ipython",
    "version": 3
   },
   "file_extension": ".py",
   "mimetype": "text/x-python",
   "name": "python",
   "nbconvert_exporter": "python",
   "pygments_lexer": "ipython3",
   "version": "3.9.5"
  },
  "toc": {
   "base_numbering": 1,
   "nav_menu": {
    "height": "213px",
    "width": "321px"
   },
   "number_sections": false,
   "sideBar": true,
   "skip_h1_title": true,
   "title_cell": "Содержание",
   "title_sidebar": "Contents",
   "toc_cell": false,
   "toc_position": {
    "height": "calc(100% - 180px)",
    "left": "10px",
    "top": "150px",
    "width": "397.594px"
   },
   "toc_section_display": true,
   "toc_window_display": true
  }
 },
 "nbformat": 4,
 "nbformat_minor": 2
}
